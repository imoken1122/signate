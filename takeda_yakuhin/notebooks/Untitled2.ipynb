{
 "cells": [
  {
   "cell_type": "code",
   "execution_count": 8,
   "metadata": {},
   "outputs": [],
   "source": [
    "kbest =['col5', 'col10', 'col15', 'col22', 'col29', 'col38', 'col46',\n",
    "       'col48', 'col56', 'col68', 'col71', 'col87', 'col99', 'col104',\n",
    "       'col107', 'col113', 'col115', 'col118', 'col119', 'col121',\n",
    "       'col124', 'col130', 'col134', 'col168', 'col176', 'col182',\n",
    "       'col208', 'col209', 'col218', 'col226', 'col232', 'col237',\n",
    "       'col240', 'col248', 'col253', 'col255', 'col256', 'col269',\n",
    "       'col281', 'col305', 'col306', 'col312', 'col329', 'col340',\n",
    "       'col342', 'col352', 'col357', 'col359', 'col381', 'col413',\n",
    "       'col420', 'col441', 'col453', 'col454', 'col514', 'col524',\n",
    "       'col525', 'col533', 'col552', 'col554', 'col567', 'col571',\n",
    "       'col590', 'col598', 'col620', 'col624', 'col654', 'col670',\n",
    "       'col679', 'col690', 'col699', 'col723', 'col730', 'col744',\n",
    "       'col766', 'col767', 'col768', 'col775', 'col791', 'col803',\n",
    "       'col816', 'col820', 'col900', 'col965', 'col1008', 'col1032',\n",
    "       'col1038', 'col1050', 'col1071', 'col1118', 'col1139', 'col1174',\n",
    "       'col1242', 'col1252', 'col1273', 'col1279', 'col1292', 'col1315',\n",
    "       'col1318', 'col1323', 'col1337', 'col1382', 'col1532', 'col1535',\n",
    "       'col1540', 'col1545', 'col1555', 'col1557', 'col1563', 'col1587',\n",
    "       'col1601', 'col1632', 'col1669', 'col1687', 'col1698', 'col1731',\n",
    "       'col1768', 'col1770', 'col1796', 'col1815', 'col1844', 'col1855',\n",
    "       'col1873', 'col1938', 'col1960', 'col2074', 'col2077', 'col2101',\n",
    "       'col2147', 'col2219', 'col2236', 'col2306', 'col2365', 'col2391',\n",
    "       'col2413', 'col2431', 'col2439', 'col2518', 'col2537', 'col2560',\n",
    "       'col2614', 'col2616', 'col2621', 'col2669', 'col2699', 'col2722',\n",
    "       'col2744', 'col2789', 'col2834', 'col2867', 'col2885', 'col2888',\n",
    "       'col2902', 'col2914', 'col2921', 'col2925', 'col2963', 'col2989',\n",
    "       'col3051', 'col3058', 'col3139', 'col3194', 'col3275', 'col3277',\n",
    "       'col3300', 'col3353', 'col3379', 'col3431', 'col3472', 'col3477',\n",
    "       'col3521', 'col3531', 'col3552', 'col3590', 'col3642', 'col3653',\n",
    "       'col3661', 'col3698', 'col3699', 'col3711', 'col3725', 'col70',\n",
    "       'col88', 'col142', 'col153', 'col161', 'col162', 'col195',\n",
    "       'col286', 'col458', 'col463', 'col537', 'col569', 'col588',\n",
    "       'col635', 'col680', 'col746', 'col753', 'col777', 'col793',\n",
    "       'col821', 'col879', 'col887', 'col925', 'col975', 'col986',\n",
    "       'col1006', 'col1039', 'col1040', 'col1053', 'col1095', 'col1096',\n",
    "       'col1138', 'col1170', 'col1184', 'col1185', 'col1195', 'col1223',\n",
    "       'col1229', 'col1232', 'col1235', 'col1287', 'col1329', 'col1444',\n",
    "       'col1447', 'col1459', 'col1517', 'col1541', 'col1704', 'col1725',\n",
    "       'col1741', 'col1857', 'col1862', 'col1991', 'col2062', 'col2117',\n",
    "       'col2143', 'col2180', 'col2185', 'col2230', 'col2241', 'col2258',\n",
    "       'col2261', 'col2275', 'col2349', 'col2360', 'col2387', 'col2399',\n",
    "       'col2410', 'col2414', 'col2433', 'col2486', 'col2514', 'col2565',\n",
    "       'col2584', 'col2677', 'col2693', 'col2818', 'col2845', 'col2981',\n",
    "       'col2992', 'col2998', 'col3023', 'col3075', 'col3094', 'col3203',\n",
    "       'col3215', 'col3312', 'col3330', 'col3331', 'col3364', 'col3372',\n",
    "       'col3423', 'col3529', 'col3535', 'col3540', 'col3607', 'col3640',\n",
    "       'col3684', 'col3723', 'col3727', 'col3741', 'col3751', 'col3769',\n",
    "       'col3775', 'col3797', 'col3805', 'col9', 'col35', 'col117',\n",
    "       'col146', 'col147', 'col166', 'col193', 'col225', 'col244',\n",
    "       'col277', 'col363', 'col384', 'col388', 'col395', 'col408',\n",
    "       'col438', 'col459', 'col473', 'col485', 'col486', 'col498',\n",
    "       'col500', 'col510', 'col540', 'col557', 'col579', 'col596',\n",
    "       'col609', 'col633', 'col638', 'col745', 'col750', 'col751',\n",
    "       'col763', 'col801', 'col805', 'col826', 'col850', 'col924',\n",
    "       'col928', 'col950', 'col985', 'col990', 'col1015', 'col1019',\n",
    "       'col1027', 'col1074', 'col1087', 'col1132', 'col1135', 'col1143',\n",
    "       'col1160', 'col1167', 'col1182', 'col1193', 'col1231', 'col1254',\n",
    "       'col1278', 'col1288', 'col1317', 'col1343', 'col1359', 'col1376',\n",
    "       'col1401', 'col1413', 'col1414', 'col1417', 'col1424', 'col1430',\n",
    "       'col1450', 'col1453', 'col1458', 'col1488', 'col1489', 'col1491',\n",
    "       'col1506', 'col1509', 'col1526', 'col1566', 'col1575', 'col1605',\n",
    "       'col1610', 'col1621', 'col1633', 'col1693', 'col1710', 'col1711',\n",
    "       'col1717', 'col1733', 'col1738', 'col1767', 'col1780', 'col1787',\n",
    "       'col1816', 'col1864', 'col1883', 'col1894', 'col1918', 'col1931',\n",
    "       'col1944', 'col1964', 'col1975', 'col1976', 'col2003', 'col2024',\n",
    "       'col2081', 'col2092', 'col2111', 'col2116', 'col2120', 'col2132',\n",
    "       'col2135', 'col2138', 'col2150', 'col2204', 'col2225', 'col2228',\n",
    "       'col2304', 'col2335', 'col2336', 'col2369', 'col2372', 'col2393',\n",
    "       'col2395', 'col2402', 'col2405', 'col2446', 'col2460', 'col2463',\n",
    "       'col2475', 'col2494', 'col2533', 'col2579', 'col2607', 'col2609',\n",
    "       'col2617', 'col2630', 'col2639', 'col2663', 'col2680', 'col2724',\n",
    "       'col2752', 'col2769', 'col2836', 'col2853', 'col2865', 'col2873',\n",
    "       'col2894', 'col2895', 'col2936', 'col2937', 'col2939', 'col2964',\n",
    "       'col2973', 'col2977', 'col3005', 'col3056', 'col3065', 'col3097',\n",
    "       'col3110', 'col3114', 'col3117', 'col3183', 'col3185', 'col3199',\n",
    "       'col3213', 'col3248', 'col3268', 'col3289', 'col3290', 'col3291',\n",
    "       'col3308', 'col3310', 'col3340', 'col3349', 'col3358', 'col3405',\n",
    "       'col3433', 'col3434', 'col3466', 'col3469', 'col3498', 'col3519',\n",
    "       'col3543', 'col3548', 'col3560', 'col3591', 'col3619', 'col3626',\n",
    "       'col3637', 'col3639', 'col3683', 'col3689', 'col3696', 'col3716',\n",
    "       'col3736', 'col3743', 'col3754', 'col3768']\n",
    "import json\n",
    "import numpy as np\n",
    "with open('../configs/Kbest_FE.json') as f:\n",
    "    df = json.load(f)\n",
    "fl_score = np.array(df[\"FE_score\"][\"float_score\"])\n",
    "int_score = np.array(df[\"FE_score\"][\"int_score\"])\n",
    "cate_score = np.array(df[\"FE_score\"][\"cate_score\"])"
   ]
  },
  {
   "cell_type": "code",
   "execution_count": 364,
   "metadata": {},
   "outputs": [],
   "source": [
    "cate_c = df[\"kbest_feature\"][\"cate\"]"
   ]
  },
  {
   "cell_type": "code",
   "execution_count": 4,
   "metadata": {},
   "outputs": [
    {
     "ename": "NameError",
     "evalue": "name 'kbest' is not defined",
     "output_type": "error",
     "traceback": [
      "\u001b[0;31m---------------------------------------------------------------------------\u001b[0m",
      "\u001b[0;31mNameError\u001b[0m                                 Traceback (most recent call last)",
      "\u001b[0;32m<ipython-input-4-af1fa769558e>\u001b[0m in \u001b[0;36m<module>\u001b[0;34m()\u001b[0m\n\u001b[1;32m      6\u001b[0m \u001b[0mscore\u001b[0m \u001b[0;34m=\u001b[0m \u001b[0mtrain\u001b[0m\u001b[0;34m[\u001b[0m\u001b[0;34m\"Score\"\u001b[0m\u001b[0;34m]\u001b[0m\u001b[0;34m\u001b[0m\u001b[0m\n\u001b[1;32m      7\u001b[0m \u001b[0mID\u001b[0m \u001b[0;34m=\u001b[0m \u001b[0mtest\u001b[0m\u001b[0;34m[\u001b[0m\u001b[0;34m\"ID\"\u001b[0m\u001b[0;34m]\u001b[0m\u001b[0;34m\u001b[0m\u001b[0m\n\u001b[0;32m----> 8\u001b[0;31m \u001b[0mtr\u001b[0m\u001b[0;34m,\u001b[0m\u001b[0mte\u001b[0m \u001b[0;34m=\u001b[0m \u001b[0mtrain\u001b[0m\u001b[0;34m[\u001b[0m\u001b[0mkbest\u001b[0m\u001b[0;34m]\u001b[0m\u001b[0;34m.\u001b[0m\u001b[0mreset_index\u001b[0m\u001b[0;34m(\u001b[0m\u001b[0;34m)\u001b[0m\u001b[0;34m,\u001b[0m\u001b[0mtest\u001b[0m\u001b[0;34m[\u001b[0m\u001b[0mkbest\u001b[0m\u001b[0;34m]\u001b[0m\u001b[0;34m\u001b[0m\u001b[0m\n\u001b[0m",
      "\u001b[0;31mNameError\u001b[0m: name 'kbest' is not defined"
     ]
    }
   ],
   "source": [
    "import pandas as pd\n",
    "import numpy as np\n",
    "import feather\n",
    "train = feather.read_dataframe(\"../data/input/train.feather\")\n",
    "test = feather.read_dataframe(\"../data/input/test.feather\")\n",
    "score = train[\"Score\"]\n",
    "ID = test[\"ID\"]\n",
    "tr,te = train[kbest].reset_index(),test[kbest]\n"
   ]
  },
  {
   "cell_type": "code",
   "execution_count": 113,
   "metadata": {},
   "outputs": [],
   "source": [
    "tr[\"Score\"] = score\n",
    "\n",
    "high_freq_tr = (1. < score) and (score <3.1)\n",
    "low_freq_tr =  tr[(1. > score) |  (score >3.1)]"
   ]
  },
  {
   "cell_type": "code",
   "execution_count": null,
   "metadata": {},
   "outputs": [],
   "source": [
    "high_freq_te = te[(1. < score) &  (score <3.1)]\n",
    "low_freq_te =  te[(1. > score) |  (score >3.1)]"
   ]
  },
  {
   "cell_type": "code",
   "execution_count": 39,
   "metadata": {},
   "outputs": [
    {
     "data": {
      "text/plain": [
       "<matplotlib.axes._subplots.AxesSubplot at 0x128c57b70>"
      ]
     },
     "execution_count": 39,
     "metadata": {},
     "output_type": "execute_result"
    },
    {
     "name": "stderr",
     "output_type": "stream",
     "text": [
      "/usr/local/lib/python3.7/site-packages/matplotlib/font_manager.py:1331: UserWarning: findfont: Font family ['IPAexGothic'] not found. Falling back to DejaVu Sans\n",
      "  (prop.get_family(), self.defaultFamily[fontext]))\n"
     ]
    },
    {
     "data": {
      "image/png": "[encoded data removed]",
      "text/plain": [
       "<Figure size 432x288 with 1 Axes>"
      ]
     },
     "metadata": {
      "needs_background": "light"
     },
     "output_type": "display_data"
    }
   ],
   "source": [
    "low_freq_tr.Score.hist()"
   ]
  },
  {
   "cell_type": "code",
   "execution_count": 114,
   "metadata": {},
   "outputs": [],
   "source": [
    "ss = low_freq_tr.Score"
   ]
  },
  {
   "cell_type": "code",
   "execution_count": 41,
   "metadata": {},
   "outputs": [
    {
     "data": {
      "text/plain": [
       "<matplotlib.axes._subplots.AxesSubplot at 0x128d0ceb8>"
      ]
     },
     "execution_count": 41,
     "metadata": {},
     "output_type": "execute_result"
    },
    {
     "name": "stderr",
     "output_type": "stream",
     "text": [
      "/usr/local/lib/python3.7/site-packages/matplotlib/font_manager.py:1331: UserWarning: findfont: Font family ['IPAexGothic'] not found. Falling back to DejaVu Sans\n",
      "  (prop.get_family(), self.defaultFamily[fontext]))\n"
     ]
    },
    {
     "data": {
      "image/png": "[encoded data removed]",
      "text/plain": [
       "<Figure size 432x288 with 1 Axes>"
      ]
     },
     "metadata": {
      "needs_background": "light"
     },
     "output_type": "display_data"
    }
   ],
   "source": [
    "std_score = (ss - min(ss))/(max(ss)-min(ss))\n",
    "std_score.hist()"
   ]
  },
  {
   "cell_type": "code",
   "execution_count": 42,
   "metadata": {},
   "outputs": [],
   "source": [
    "label = np.where(std_score > 0.5,1,0)"
   ]
  },
  {
   "cell_type": "code",
   "execution_count": 45,
   "metadata": {},
   "outputs": [
    {
     "data": {
      "text/plain": [
       "1895"
      ]
     },
     "execution_count": 45,
     "metadata": {},
     "output_type": "execute_result"
    }
   ],
   "source": [
    "sum(label == 0)"
   ]
  },
  {
   "cell_type": "code",
   "execution_count": null,
   "metadata": {},
   "outputs": [],
   "source": [
    "from sklearn.ensemble import RandomForestRegressor\n",
    "model = RandomForestRegressor(criterion=\"mse\")\n",
    "model.fit(tr,score)"
   ]
  },
  {
   "cell_type": "code",
   "execution_count": 123,
   "metadata": {},
   "outputs": [
    {
     "name": "stderr",
     "output_type": "stream",
     "text": [
      "/usr/local/lib/python3.7/site-packages/pandas/core/series.py:842: FutureWarning: \n",
      "Passing list-likes to .loc or [] with any missing label will raise\n",
      "KeyError in the future, you can use .reindex() as an alternative.\n",
      "\n",
      "See the documentation here:\n",
      "https://pandas.pydata.org/pandas-docs/stable/indexing.html#deprecate-loc-reindex-listlike\n",
      "  return self.loc[key]\n"
     ]
    },
    {
     "name": "stdout",
     "output_type": "stream",
     "text": [
      "0.6696986036906833\n",
      "0.6530646613287365\n",
      "0.6297526566159789\n",
      "0.6596128552736618\n",
      "0.6354467157838946\n",
      "0.6081025982595125\n",
      "0.6107292387537242\n",
      "0.5790751988345418\n",
      "0.6482781785423376\n",
      "0.5848189376968631\n"
     ]
    }
   ],
   "source": [
    "from sklearn.model_selection import cross_val_score,KFold\n",
    "from sklearn.metrics import r2_score,log_loss\n",
    "from sklearn.neural_network import MLPRegressor\n",
    "from sklearn.ensemble import ExtraTreesRegressor\n",
    "from sklearn.neighbors import KNeighborsRegressor\n",
    "from sklearn.linear_model import BayesianRidge\n",
    "l_tr = low_freq_tr.drop([\"index\",\"Score\"],axis = 1).values\n",
    "y =ss.values\n",
    "stdsc = StandardScaler()\n",
    "\n",
    "l_tr = stdsc.fit_transform(l_tr)\n",
    "kf = KFold(n_splits =10,random_state=1103)\n",
    "predd = []\n",
    "for i,(tr_idx,val_idx) in enumerate(kf.split(l_tr)):\n",
    "    train,valid = (l_tr[tr_idx,:],y[tr_idx]), (l_tr[val_idx,:],y[val_idx])\n",
    "    tr_s,val_s = std_score[tr_idx],std_score[val_idx]\n",
    "\n",
    "    #model = ExtraTreesRegressor()\n",
    "    model = BayesianRidge()\n",
    "    model.fit(train[0],train[1])\n",
    "    pred = model.predict(valid[0])\n",
    "    \n",
    "    print(r2_score(valid[1],pred))\n",
    "    #print(log_loss(valid[1],pred))"
   ]
  },
  {
   "cell_type": "code",
   "execution_count": 98,
   "metadata": {},
   "outputs": [
    {
     "data": {
      "text/plain": [
       "(array([107.,  32.,  19.,  12.,  12.,   9.,  11.,  11.,  23., 126.]),\n",
       " array([-1.       , -0.4326795,  0.134641 ,  0.7019615,  1.269282 ,\n",
       "         1.8366025,  2.403923 ,  2.9712435,  3.538564 ,  4.1058845,\n",
       "         4.673205 ]),\n",
       " <a list of 10 Patch objects>)"
      ]
     },
     "execution_count": 98,
     "metadata": {},
     "output_type": "execute_result"
    },
    {
     "data": {
      "image/png": "[encoded data removed]",
      "text/plain": [
       "<Figure size 432x288 with 1 Axes>"
      ]
     },
     "metadata": {},
     "output_type": "display_data"
    }
   ],
   "source": [
    "plt.hist((pred * (max(ss)-min(ss))) + min(ss))"
   ]
  },
  {
   "cell_type": "code",
   "execution_count": 126,
   "metadata": {},
   "outputs": [
    {
     "name": "stdout",
     "output_type": "stream",
     "text": [
      "0.9999999982310233\n",
      "0.9999999761798484\n",
      "0.9999999986279914\n",
      "0.9999999988079639\n",
      "0.9999999989014057\n",
      "0.999999994844423\n",
      "0.9999999828730763\n",
      "0.9999999975003742\n",
      "0.9999999997460677\n",
      "0.9999999961297803\n"
     ]
    }
   ],
   "source": [
    "from sklearn.model_selection import cross_val_score,KFold\n",
    "from sklearn.metrics import r2_score,log_loss\n",
    "from sklearn.neural_network import MLPRegressor\n",
    "from sklearn.ensemble import ExtraTreesRegressor\n",
    "from sklearn.linear_model import BayesianRidge\n",
    "l_tr = high_freq_tr.values\n",
    "y = high_freq_tr.Score.values\n",
    "\n",
    "kf = KFold(n_splits =10,random_state=1103)\n",
    "for i,(tr_idx,val_idx) in enumerate(kf.split(l_tr)):\n",
    "    train,valid = (l_tr[tr_idx,:],y[tr_idx]), (l_tr[val_idx,:],y[val_idx])\n",
    "    \n",
    "\n",
    "    model = BayesianRidge()\n",
    "    model.fit(train[0],train[1])\n",
    "    pred = model.predict(valid[0])\n",
    "    print(r2_score(valid[1],pred))\n",
    "    #print(log_loss(valid[1],pred))"
   ]
  },
  {
   "cell_type": "code",
   "execution_count": 18,
   "metadata": {},
   "outputs": [],
   "source": [
    "score = train[\"Score\"]\n",
    "a = np.where( (0.5 > score),1,0)\n",
    "b = np.where( score > 3.5,1,0)"
   ]
  },
  {
   "cell_type": "code",
   "execution_count": 20,
   "metadata": {},
   "outputs": [],
   "source": [
    "tail_label = a | b"
   ]
  },
  {
   "cell_type": "code",
   "execution_count": 25,
   "metadata": {},
   "outputs": [
    {
     "data": {
      "text/plain": [
       "<matplotlib.axes._subplots.AxesSubplot at 0x126d73f28>"
      ]
     },
     "execution_count": 25,
     "metadata": {},
     "output_type": "execute_result"
    },
    {
     "name": "stderr",
     "output_type": "stream",
     "text": [
      "/usr/local/lib/python3.7/site-packages/matplotlib/font_manager.py:1331: UserWarning: findfont: Font family ['IPAexGothic'] not found. Falling back to DejaVu Sans\n",
      "  (prop.get_family(), self.defaultFamily[fontext]))\n"
     ]
    },
    {
     "data": {
      "image/png": "[encoded data removed]",
      "text/plain": [
       "<Figure size 432x288 with 1 Axes>"
      ]
     },
     "metadata": {
      "needs_background": "light"
     },
     "output_type": "display_data"
    }
   ],
   "source": [
    "score.hist(bins = 50)"
   ]
  },
  {
   "cell_type": "code",
   "execution_count": 23,
   "metadata": {},
   "outputs": [],
   "source": [
    "del tr[\"index\"]"
   ]
  },
  {
   "cell_type": "code",
   "execution_count": 580,
   "metadata": {},
   "outputs": [],
   "source": [
    "aa = pd.read_csv(\"../pred.csv\",header=None)"
   ]
  },
  {
   "cell_type": "code",
   "execution_count": 581,
   "metadata": {},
   "outputs": [],
   "source": [
    "aa = pd.read_csv(\"../pred.csv\",header=None)\n",
    "new = pd.DataFrame()\n",
    "new[\"score\"] = score\n",
    "new[\"pred\"] = aa"
   ]
  },
  {
   "cell_type": "code",
   "execution_count": 54,
   "metadata": {},
   "outputs": [],
   "source": [
    "df = new.reset_index()"
   ]
  },
  {
   "cell_type": "code",
   "execution_count": 88,
   "metadata": {},
   "outputs": [],
   "source": [
    "l = df.iloc[df[score > 3].index.values,:]"
   ]
  },
  {
   "cell_type": "code",
   "execution_count": 89,
   "metadata": {},
   "outputs": [
    {
     "data": {
      "text/plain": [
       "0.06604568533466648"
      ]
     },
     "execution_count": 89,
     "metadata": {},
     "output_type": "execute_result"
    }
   ],
   "source": [
    "sum((l[\"score\"] - l[\"pred\"]) ** 2)/len(l)"
   ]
  },
  {
   "cell_type": "code",
   "execution_count": 81,
   "metadata": {},
   "outputs": [
    {
     "data": {
      "text/plain": [
       "0.30274565878681226"
      ]
     },
     "execution_count": 81,
     "metadata": {},
     "output_type": "execute_result"
    }
   ],
   "source": [
    "sum((k[\"score\"] - k[\"pred\"]) ** 2)/len(k)"
   ]
  },
  {
   "cell_type": "code",
   "execution_count": 90,
   "metadata": {},
   "outputs": [],
   "source": [
    "label = np.where(score <0,1,0)"
   ]
  },
  {
   "cell_type": "code",
   "execution_count": 215,
   "metadata": {},
   "outputs": [],
   "source": [
    "import feather\n",
    "train_c = feather.read_dataframe(\"../data/input/tr_best_class.feather\")\n",
    "test_c = feather.read_dataframe(\"../data/input/te_best_class.feather\")"
   ]
  },
  {
   "cell_type": "code",
   "execution_count": 508,
   "metadata": {},
   "outputs": [],
   "source": [
    "train = train.loc[:,:'col3768']"
   ]
  },
  {
   "cell_type": "code",
   "execution_count": 511,
   "metadata": {},
   "outputs": [],
   "source": [
    "train.to_feather(\"../data/input/tr_best_class.feather\")\n",
    "test[train.columns.values[:-1]].to_feather(\"../data/input/te_best_class.feather\")"
   ]
  },
  {
   "cell_type": "code",
   "execution_count": 101,
   "metadata": {},
   "outputs": [],
   "source": [
    "aa = pd.read_csv(\"../data/output/submit_0.8079.csv\",header=None)"
   ]
  },
  {
   "cell_type": "code",
   "execution_count": 103,
   "metadata": {},
   "outputs": [],
   "source": [
    "aa[\"score\"] = score"
   ]
  },
  {
   "cell_type": "code",
   "execution_count": 434,
   "metadata": {},
   "outputs": [
    {
     "data": {
      "text/plain": [
       "0.9898769208360644"
      ]
     },
     "execution_count": 434,
     "metadata": {},
     "output_type": "execute_result"
    }
   ],
   "source": [
    "len(label[label == 0])/len(label)"
   ]
  },
  {
   "cell_type": "code",
   "execution_count": 112,
   "metadata": {},
   "outputs": [
    {
     "data": {
      "text/plain": [
       "0.01012307916393562"
      ]
     },
     "execution_count": 112,
     "metadata": {},
     "output_type": "execute_result"
    }
   ],
   "source": [
    "len(label[label == 1])/len(label)"
   ]
  },
  {
   "cell_type": "code",
   "execution_count": 116,
   "metadata": {},
   "outputs": [],
   "source": [
    "from sklearn.svm import OneClassSVM\n",
    "clf = OneClassSVM(nu=0.003, kernel='rbf', gamma='auto')\n",
    "clf.fit(train)\n",
    "pred = clf.predict(test)"
   ]
  },
  {
   "cell_type": "code",
   "execution_count": 680,
   "metadata": {},
   "outputs": [],
   "source": [
    "aa = pd.read_csv(\"../pred.csv\",header=None)\n",
    "new = pd.DataFrame()\n",
    "new[\"score\"] = score\n",
    "new[\"pred\"] = aa"
   ]
  },
  {
   "cell_type": "code",
   "execution_count": 675,
   "metadata": {},
   "outputs": [],
   "source": [
    "new[\"label\"] = np.where(new.pred >=0.6139406234286955,1,0)"
   ]
  },
  {
   "cell_type": "code",
   "execution_count": 676,
   "metadata": {},
   "outputs": [],
   "source": [
    "new[\"score_label\"] = np.where(score < 0,1,0)"
   ]
  },
  {
   "cell_type": "code",
   "execution_count": 677,
   "metadata": {},
   "outputs": [
    {
     "data": {
      "text/plain": [
       "array([[13588,     4],\n",
       "       [    0,   139]])"
      ]
     },
     "execution_count": 677,
     "metadata": {},
     "output_type": "execute_result"
    }
   ],
   "source": [
    "from sklearn.metrics import confusion_matrix\n",
    "confusion_matrix(new.score_label,new.label)"
   ]
  },
  {
   "cell_type": "code",
   "execution_count": 678,
   "metadata": {},
   "outputs": [
    {
     "data": {
      "text/plain": [
       "0.6139406234286955"
      ]
     },
     "execution_count": 678,
     "metadata": {},
     "output_type": "execute_result"
    }
   ],
   "source": [
    "min(new[score < 0].pred)"
   ]
  },
  {
   "cell_type": "code",
   "execution_count": 579,
   "metadata": {},
   "outputs": [
    {
     "data": {
      "text/plain": [
       "0.5925486576928579"
      ]
     },
     "execution_count": 579,
     "metadata": {},
     "output_type": "execute_result"
    }
   ],
   "source": [
    "new[new.score> 0].pred.max()"
   ]
  },
  {
   "cell_type": "code",
   "execution_count": 679,
   "metadata": {},
   "outputs": [
    {
     "data": {
      "text/plain": [
       "<matplotlib.axes._subplots.AxesSubplot at 0x11adcae48>"
      ]
     },
     "execution_count": 679,
     "metadata": {},
     "output_type": "execute_result"
    },
    {
     "name": "stderr",
     "output_type": "stream",
     "text": [
      "/usr/local/lib/python3.7/site-packages/matplotlib/font_manager.py:1331: UserWarning: findfont: Font family ['IPAexGothic'] not found. Falling back to DejaVu Sans\n",
      "  (prop.get_family(), self.defaultFamily[fontext]))\n"
     ]
    },
    {
     "data": {
      "image/png": "[encoded data removed]",
      "text/plain": [
       "<Figure size 432x288 with 1 Axes>"
      ]
     },
     "metadata": {
      "needs_background": "light"
     },
     "output_type": "display_data"
    }
   ],
   "source": [
    "new.pred.hist(bins = 100)"
   ]
  },
  {
   "cell_type": "code",
   "execution_count": 600,
   "metadata": {},
   "outputs": [
    {
     "data": {
      "text/plain": [
       "0.4325529477209932"
      ]
     },
     "execution_count": 600,
     "metadata": {},
     "output_type": "execute_result"
    }
   ],
   "source": [
    "new[new.score < 0].pred.mean()\n"
   ]
  },
  {
   "cell_type": "code",
   "execution_count": 599,
   "metadata": {},
   "outputs": [
    {
     "data": {
      "text/plain": [
       "0.43352394904301705"
      ]
     },
     "execution_count": 599,
     "metadata": {},
     "output_type": "execute_result"
    }
   ],
   "source": [
    "new[(new.score > 0) & (new.label == 1)].pred\n"
   ]
  },
  {
   "cell_type": "code",
   "execution_count": 276,
   "metadata": {},
   "outputs": [
    {
     "name": "stderr",
     "output_type": "stream",
     "text": [
      "/usr/local/lib/python3.7/site-packages/matplotlib/font_manager.py:1331: UserWarning: findfont: Font family ['IPAexGothic'] not found. Falling back to DejaVu Sans\n",
      "  (prop.get_family(), self.defaultFamily[fontext]))\n"
     ]
    },
    {
     "data": {
      "image/png": "[encoded data removed]",
      "text/plain": [
       "<Figure size 432x288 with 1 Axes>"
      ]
     },
     "metadata": {
      "needs_background": "light"
     },
     "output_type": "display_data"
    }
   ],
   "source": [
    "import matplotlib.pyplot as plt\n",
    "plt.hist(new[\"pred\"],bins =1000)\n",
    "plt.show()"
   ]
  },
  {
   "cell_type": "code",
   "execution_count": 258,
   "metadata": {},
   "outputs": [],
   "source": [
    "#train = feather.read_dataframe(\"../data/input/tr_best_pca__.feather\")\n",
    "#test = feather.read_dataframe(\"../data/input/te_best_pca__.feather\")\n",
    "tr.reset_index(inplace=True)\n",
    "te.reset_index(inplace=True)\n",
    "tr.to_feather(\"../data/input/tr_best_class.feather\")\n",
    "te.to_feather(\"../data/input/te_best_class.feather\")"
   ]
  },
  {
   "cell_type": "code",
   "execution_count": 88,
   "metadata": {},
   "outputs": [],
   "source": [
    "train[\"Score\"]=np.where(((train.Score < 0)),1,0)"
   ]
  },
  {
   "cell_type": "code",
   "execution_count": 87,
   "metadata": {},
   "outputs": [],
   "source": [
    "train[\"Score\"] = score"
   ]
  },
  {
   "cell_type": "code",
   "execution_count": 81,
   "metadata": {},
   "outputs": [],
   "source": [
    "del tr[\"level_0\"],te[\"level_0\"]"
   ]
  },
  {
   "cell_type": "code",
   "execution_count": 64,
   "metadata": {},
   "outputs": [
    {
     "name": "stderr",
     "output_type": "stream",
     "text": [
      "/usr/local/lib/python3.7/site-packages/pandas/core/frame.py:6211: FutureWarning: Sorting because non-concatenation axis is not aligned. A future version\n",
      "of pandas will change to not sort by default.\n",
      "\n",
      "To accept the future behavior, pass 'sort=False'.\n",
      "\n",
      "To retain the current behavior and silence the warning, pass 'sort=True'.\n",
      "\n",
      "  sort=sort)\n"
     ]
    }
   ],
   "source": [
    "data = df_concat([train.append(test),FE_c])"
   ]
  },
  {
   "cell_type": "code",
   "execution_count": 72,
   "metadata": {},
   "outputs": [],
   "source": [
    "tr.reset_index(inplace=True)\n",
    "te.reset_index(inplace=True)"
   ]
  },
  {
   "cell_type": "code",
   "execution_count": 248,
   "metadata": {},
   "outputs": [],
   "source": [
    "tr= feather.read_dataframe(\"../data/input/tr_best_pca_ifa.feather\")\n",
    "te= feather.read_dataframe(\"../data/input/te_best_pca_ifa.feather\")"
   ]
  },
  {
   "cell_type": "code",
   "execution_count": 254,
   "metadata": {},
   "outputs": [],
   "source": [
    "tr,te = data.iloc[:13731,:],data.iloc[13731:,:]"
   ]
  },
  {
   "cell_type": "code",
   "execution_count": 249,
   "metadata": {},
   "outputs": [],
   "source": [
    "FE = feather.read_dataframe(\"../features/add_Alltype.feather\")"
   ]
  },
  {
   "cell_type": "code",
   "execution_count": 252,
   "metadata": {},
   "outputs": [
    {
     "name": "stderr",
     "output_type": "stream",
     "text": [
      "/usr/local/lib/python3.7/site-packages/pandas/core/frame.py:6211: FutureWarning: Sorting because non-concatenation axis is not aligned. A future version\n",
      "of pandas will change to not sort by default.\n",
      "\n",
      "To accept the future behavior, pass 'sort=False'.\n",
      "\n",
      "To retain the current behavior and silence the warning, pass 'sort=True'.\n",
      "\n",
      "  sort=sort)\n"
     ]
    }
   ],
   "source": [
    "data = df_concat([tr.append(te),FE])"
   ]
  },
  {
   "cell_type": "code",
   "execution_count": 255,
   "metadata": {},
   "outputs": [
    {
     "name": "stderr",
     "output_type": "stream",
     "text": [
      "/usr/local/lib/python3.7/site-packages/ipykernel_launcher.py:1: SettingWithCopyWarning: \n",
      "A value is trying to be set on a copy of a slice from a DataFrame.\n",
      "Try using .loc[row_indexer,col_indexer] = value instead\n",
      "\n",
      "See the caveats in the documentation: http://pandas.pydata.org/pandas-docs/stable/indexing.html#indexing-view-versus-copy\n",
      "  \"\"\"Entry point for launching an IPython kernel.\n"
     ]
    }
   ],
   "source": [
    "tr[\"Score\"] = np.where(((train.Score < 0)),1,0)"
   ]
  },
  {
   "cell_type": "code",
   "execution_count": 256,
   "metadata": {},
   "outputs": [],
   "source": [
    "del te[\"Score\"]"
   ]
  },
  {
   "cell_type": "code",
   "execution_count": 262,
   "metadata": {},
   "outputs": [],
   "source": [
    "FE_c = feather.read_dataframe(\"../features/\")"
   ]
  },
  {
   "cell_type": "code",
   "execution_count": 370,
   "metadata": {},
   "outputs": [
    {
     "name": "stderr",
     "output_type": "stream",
     "text": [
      "100%|██████████| 199/199 [04:24<00:00,  1.48s/it]\n",
      "100%|██████████| 199/199 [00:21<00:00,  6.96it/s]\n"
     ]
    }
   ],
   "source": [
    "from sklearn import base\n",
    "from tqdm import tqdm\n",
    "from sklearn.model_selection import KFold\n",
    "class KFoldTargetEncoderTrain(base.BaseEstimator, base.TransformerMixin):\n",
    "\n",
    "    def __init__(self, colnames,targetName,n_fold=3,k =5,verbosity=True,discardOriginal_col=False):\n",
    "\n",
    "        self.colnames = colnames\n",
    "        self.targetName = targetName\n",
    "        self.n_fold = n_fold\n",
    "        self.verbosity = verbosity\n",
    "        self.discardOriginal_col = discardOriginal_col\n",
    "        self.k = k\n",
    "    def fit(self, X, y=None):\n",
    "        return self\n",
    "    def transform(self,X):\n",
    "\n",
    "        assert(type(self.targetName) == str)\n",
    "        assert(type(self.colnames) == str)\n",
    "        assert(self.colnames in X.columns)\n",
    "        assert(self.targetName in X.columns)\n",
    "\n",
    "        mean_of_target = X[self.targetName].mean()\n",
    "        target = X[self.targetName]\n",
    "        kf = KFold(n_splits = self.n_fold, shuffle = False, random_state=1103)\n",
    "        col_mean_name = self.colnames + '_' + 'Kfold_Target_Enc'\n",
    "        X[col_mean_name] = np.nan\n",
    "\n",
    "        for tr_ind, val_ind in kf.split(X):\n",
    "            X_tr, X_val = X.iloc[tr_ind], X.iloc[val_ind]\n",
    "#             print(tr_ind,val_ind)\n",
    "        #X.loc[X.index[val_ind], col_mean_name] = X_val[self.colnames].map(X_tr.groupby(self.colnames)[self.targetName].mean())\n",
    "            X.loc[X.index[val_ind], col_mean_name] = X_val[self.colnames].map(self.fit_smoothing(X_tr, self.colnames))\n",
    "        X[col_mean_name].fillna(mean_of_target, inplace = True)\n",
    "\n",
    "        if self.verbosity:\n",
    "            encoded_feature = X[col_mean_name].values\n",
    "            print('Correlation between the new feature, {} and, {} is {}.'.format(col_mean_name,\n",
    "                                                                                      self.targetName,\n",
    "                                                                                      np.corrcoef(X[self.targetName].values, encoded_feature)[0][1]))\n",
    "        if self.discardOriginal_col:\n",
    "            X = X.drop(self.targetName, axis=1)\n",
    "            \n",
    "        return X[col_mean_name]\n",
    "    def fit_smoothing(self,df,col):\n",
    "        \"\"\"\n",
    "        一つの変数に対するTarget_Encoding\n",
    "        col : TargetEncodingしたい変数名\n",
    "        \"\"\"\n",
    "\n",
    "        k = self.k\n",
    "        n_i = df.groupby(col).count()[self.targetName]\n",
    "\n",
    "        lambda_n_i = self.sigmoid(n_i, k)\n",
    "        uni_map = df.groupby(col).mean()[self.targetName]\n",
    "\n",
    "        return lambda_n_i * df.loc[:, self.targetName].mean() + (1 - lambda_n_i) * uni_map\n",
    "    \n",
    "    def sigmoid(self, x, k):\n",
    "        return 1 / (1 + np.exp(- x / k))\n",
    "\n",
    "class KFoldTargetEncoderTest(base.BaseEstimator, base.TransformerMixin):\n",
    "    \n",
    "    def __init__(self,train,colNames,encodedName):\n",
    "        \n",
    "        self.train = train\n",
    "        self.colNames = colNames\n",
    "        self.encodedName = encodedName\n",
    "        \n",
    "    def fit(self, X, y=None):\n",
    "        return self\n",
    "    def transform(self,X):\n",
    "        mean =  self.train[[self.colNames,\n",
    "                self.encodedName]].groupby(\n",
    "                                self.colNames).mean().reset_index() \n",
    "        dd = {}\n",
    "        for index, row in mean.iterrows():\n",
    "            dd[row[self.colNames]] = row[self.encodedName]\n",
    "        X[self.encodedName] = X[self.colNames]\n",
    "        X = X.replace({self.encodedName: dd})\n",
    "        return X[self.encodedName]\n",
    "def train_target_encoding(data,int_c):\n",
    "    new = pd.DataFrame()\n",
    "    \n",
    "    for i in tqdm(int_c):\n",
    "        targetc = KFoldTargetEncoderTrain(i,\"score_label\",n_fold=10,k= 1,verbosity=False)\n",
    "        new[i+'_Kfold_Target_Enc'] = targetc.fit_transform(data)\n",
    "    return new\n",
    "def test_target_encoding(tr,te,int_c):\n",
    "    new = pd.DataFrame()\n",
    "    for i in tqdm(int_c):\n",
    "        test_targetc = KFoldTargetEncoderTest(tr,i,i + '_Kfold_Target_Enc')\n",
    "        new[i + '_Kfold_Target_Enc'] = test_targetc.fit_transform(te)\n",
    "    return new\n",
    "                  \n",
    "\n",
    "tgt_c = cate_c\n",
    "tr_tgenc_f = train_target_encoding(tr,tgt_c)\n",
    "te_tgenc_f = test_target_encoding(tr,te,tgt_c)\n",
    "FE10_c = tr_tgenc_f.append(te_tgenc_f)"
   ]
  },
  {
   "cell_type": "code",
   "execution_count": 375,
   "metadata": {},
   "outputs": [],
   "source": [
    "tr[\"score_label\"] = new[\"score_label\"]"
   ]
  },
  {
   "cell_type": "code",
   "execution_count": 83,
   "metadata": {},
   "outputs": [],
   "source": [
    "def df_concat(flist):\n",
    "    add_columns = flist[0].columns.values.tolist()\n",
    "    add_df = flist[0].values\n",
    "    for i in flist[1:]:\n",
    "        add_columns += i.columns.values.tolist()\n",
    "        add_df = np.c_[add_df,i.values]\n",
    "    return pd.DataFrame(add_df,columns=add_columns)"
   ]
  },
  {
   "cell_type": "code",
   "execution_count": 382,
   "metadata": {},
   "outputs": [],
   "source": [
    "tr[\"Score\"] = new[\"score_label\"]"
   ]
  },
  {
   "cell_type": "code",
   "execution_count": 384,
   "metadata": {},
   "outputs": [],
   "source": [
    "tr.to_feather(\"../data/input/tr_best_class.feather\")\n",
    "te.to_feather(\"../data/input/te_best_class.feather\")"
   ]
  },
  {
   "cell_type": "code",
   "execution_count": 735,
   "metadata": {},
   "outputs": [
    {
     "ename": "KeyError",
     "evalue": "'col12'",
     "output_type": "error",
     "traceback": [
      "\u001b[0;31m---------------------------------------------------------------------------\u001b[0m",
      "\u001b[0;31mKeyError\u001b[0m                                  Traceback (most recent call last)",
      "\u001b[0;32m/usr/local/lib/python3.7/site-packages/pandas/core/indexes/base.py\u001b[0m in \u001b[0;36mget_loc\u001b[0;34m(self, key, method, tolerance)\u001b[0m\n\u001b[1;32m   3077\u001b[0m             \u001b[0;32mtry\u001b[0m\u001b[0;34m:\u001b[0m\u001b[0;34m\u001b[0m\u001b[0m\n\u001b[0;32m-> 3078\u001b[0;31m                 \u001b[0;32mreturn\u001b[0m \u001b[0mself\u001b[0m\u001b[0;34m.\u001b[0m\u001b[0m_engine\u001b[0m\u001b[0;34m.\u001b[0m\u001b[0mget_loc\u001b[0m\u001b[0;34m(\u001b[0m\u001b[0mkey\u001b[0m\u001b[0;34m)\u001b[0m\u001b[0;34m\u001b[0m\u001b[0m\n\u001b[0m\u001b[1;32m   3079\u001b[0m             \u001b[0;32mexcept\u001b[0m \u001b[0mKeyError\u001b[0m\u001b[0;34m:\u001b[0m\u001b[0;34m\u001b[0m\u001b[0m\n",
      "\u001b[0;32mpandas/_libs/index.pyx\u001b[0m in \u001b[0;36mpandas._libs.index.IndexEngine.get_loc\u001b[0;34m()\u001b[0m\n",
      "\u001b[0;32mpandas/_libs/index.pyx\u001b[0m in \u001b[0;36mpandas._libs.index.IndexEngine.get_loc\u001b[0;34m()\u001b[0m\n",
      "\u001b[0;32mpandas/_libs/hashtable_class_helper.pxi\u001b[0m in \u001b[0;36mpandas._libs.hashtable.PyObjectHashTable.get_item\u001b[0;34m()\u001b[0m\n",
      "\u001b[0;32mpandas/_libs/hashtable_class_helper.pxi\u001b[0m in \u001b[0;36mpandas._libs.hashtable.PyObjectHashTable.get_item\u001b[0;34m()\u001b[0m\n",
      "\u001b[0;31mKeyError\u001b[0m: 'col12'",
      "\nDuring handling of the above exception, another exception occurred:\n",
      "\u001b[0;31mKeyError\u001b[0m                                  Traceback (most recent call last)",
      "\u001b[0;32m<ipython-input-735-6f9bb5e1c4eb>\u001b[0m in \u001b[0;36m<module>\u001b[0;34m()\u001b[0m\n\u001b[0;32m----> 1\u001b[0;31m \u001b[0mplt\u001b[0m\u001b[0;34m.\u001b[0m\u001b[0mscatter\u001b[0m\u001b[0;34m(\u001b[0m\u001b[0mscore\u001b[0m\u001b[0;34m,\u001b[0m\u001b[0mtrain\u001b[0m\u001b[0;34m[\u001b[0m\u001b[0;34m\"col12\"\u001b[0m\u001b[0;34m]\u001b[0m\u001b[0;34m)\u001b[0m\u001b[0;34m\u001b[0m\u001b[0m\n\u001b[0m",
      "\u001b[0;32m/usr/local/lib/python3.7/site-packages/pandas/core/frame.py\u001b[0m in \u001b[0;36m__getitem__\u001b[0;34m(self, key)\u001b[0m\n\u001b[1;32m   2686\u001b[0m             \u001b[0;32mreturn\u001b[0m \u001b[0mself\u001b[0m\u001b[0;34m.\u001b[0m\u001b[0m_getitem_multilevel\u001b[0m\u001b[0;34m(\u001b[0m\u001b[0mkey\u001b[0m\u001b[0;34m)\u001b[0m\u001b[0;34m\u001b[0m\u001b[0m\n\u001b[1;32m   2687\u001b[0m         \u001b[0;32melse\u001b[0m\u001b[0;34m:\u001b[0m\u001b[0;34m\u001b[0m\u001b[0m\n\u001b[0;32m-> 2688\u001b[0;31m             \u001b[0;32mreturn\u001b[0m \u001b[0mself\u001b[0m\u001b[0;34m.\u001b[0m\u001b[0m_getitem_column\u001b[0m\u001b[0;34m(\u001b[0m\u001b[0mkey\u001b[0m\u001b[0;34m)\u001b[0m\u001b[0;34m\u001b[0m\u001b[0m\n\u001b[0m\u001b[1;32m   2689\u001b[0m \u001b[0;34m\u001b[0m\u001b[0m\n\u001b[1;32m   2690\u001b[0m     \u001b[0;32mdef\u001b[0m \u001b[0m_getitem_column\u001b[0m\u001b[0;34m(\u001b[0m\u001b[0mself\u001b[0m\u001b[0;34m,\u001b[0m \u001b[0mkey\u001b[0m\u001b[0;34m)\u001b[0m\u001b[0;34m:\u001b[0m\u001b[0;34m\u001b[0m\u001b[0m\n",
      "\u001b[0;32m/usr/local/lib/python3.7/site-packages/pandas/core/frame.py\u001b[0m in \u001b[0;36m_getitem_column\u001b[0;34m(self, key)\u001b[0m\n\u001b[1;32m   2693\u001b[0m         \u001b[0;31m# get column\u001b[0m\u001b[0;34m\u001b[0m\u001b[0;34m\u001b[0m\u001b[0m\n\u001b[1;32m   2694\u001b[0m         \u001b[0;32mif\u001b[0m \u001b[0mself\u001b[0m\u001b[0;34m.\u001b[0m\u001b[0mcolumns\u001b[0m\u001b[0;34m.\u001b[0m\u001b[0mis_unique\u001b[0m\u001b[0;34m:\u001b[0m\u001b[0;34m\u001b[0m\u001b[0m\n\u001b[0;32m-> 2695\u001b[0;31m             \u001b[0;32mreturn\u001b[0m \u001b[0mself\u001b[0m\u001b[0;34m.\u001b[0m\u001b[0m_get_item_cache\u001b[0m\u001b[0;34m(\u001b[0m\u001b[0mkey\u001b[0m\u001b[0;34m)\u001b[0m\u001b[0;34m\u001b[0m\u001b[0m\n\u001b[0m\u001b[1;32m   2696\u001b[0m \u001b[0;34m\u001b[0m\u001b[0m\n\u001b[1;32m   2697\u001b[0m         \u001b[0;31m# duplicate columns & possible reduce dimensionality\u001b[0m\u001b[0;34m\u001b[0m\u001b[0;34m\u001b[0m\u001b[0m\n",
      "\u001b[0;32m/usr/local/lib/python3.7/site-packages/pandas/core/generic.py\u001b[0m in \u001b[0;36m_get_item_cache\u001b[0;34m(self, item)\u001b[0m\n\u001b[1;32m   2487\u001b[0m         \u001b[0mres\u001b[0m \u001b[0;34m=\u001b[0m \u001b[0mcache\u001b[0m\u001b[0;34m.\u001b[0m\u001b[0mget\u001b[0m\u001b[0;34m(\u001b[0m\u001b[0mitem\u001b[0m\u001b[0;34m)\u001b[0m\u001b[0;34m\u001b[0m\u001b[0m\n\u001b[1;32m   2488\u001b[0m         \u001b[0;32mif\u001b[0m \u001b[0mres\u001b[0m \u001b[0;32mis\u001b[0m \u001b[0;32mNone\u001b[0m\u001b[0;34m:\u001b[0m\u001b[0;34m\u001b[0m\u001b[0m\n\u001b[0;32m-> 2489\u001b[0;31m             \u001b[0mvalues\u001b[0m \u001b[0;34m=\u001b[0m \u001b[0mself\u001b[0m\u001b[0;34m.\u001b[0m\u001b[0m_data\u001b[0m\u001b[0;34m.\u001b[0m\u001b[0mget\u001b[0m\u001b[0;34m(\u001b[0m\u001b[0mitem\u001b[0m\u001b[0;34m)\u001b[0m\u001b[0;34m\u001b[0m\u001b[0m\n\u001b[0m\u001b[1;32m   2490\u001b[0m             \u001b[0mres\u001b[0m \u001b[0;34m=\u001b[0m \u001b[0mself\u001b[0m\u001b[0;34m.\u001b[0m\u001b[0m_box_item_values\u001b[0m\u001b[0;34m(\u001b[0m\u001b[0mitem\u001b[0m\u001b[0;34m,\u001b[0m \u001b[0mvalues\u001b[0m\u001b[0;34m)\u001b[0m\u001b[0;34m\u001b[0m\u001b[0m\n\u001b[1;32m   2491\u001b[0m             \u001b[0mcache\u001b[0m\u001b[0;34m[\u001b[0m\u001b[0mitem\u001b[0m\u001b[0;34m]\u001b[0m \u001b[0;34m=\u001b[0m \u001b[0mres\u001b[0m\u001b[0;34m\u001b[0m\u001b[0m\n",
      "\u001b[0;32m/usr/local/lib/python3.7/site-packages/pandas/core/internals.py\u001b[0m in \u001b[0;36mget\u001b[0;34m(self, item, fastpath)\u001b[0m\n\u001b[1;32m   4113\u001b[0m \u001b[0;34m\u001b[0m\u001b[0m\n\u001b[1;32m   4114\u001b[0m             \u001b[0;32mif\u001b[0m \u001b[0;32mnot\u001b[0m \u001b[0misna\u001b[0m\u001b[0;34m(\u001b[0m\u001b[0mitem\u001b[0m\u001b[0;34m)\u001b[0m\u001b[0;34m:\u001b[0m\u001b[0;34m\u001b[0m\u001b[0m\n\u001b[0;32m-> 4115\u001b[0;31m                 \u001b[0mloc\u001b[0m \u001b[0;34m=\u001b[0m \u001b[0mself\u001b[0m\u001b[0;34m.\u001b[0m\u001b[0mitems\u001b[0m\u001b[0;34m.\u001b[0m\u001b[0mget_loc\u001b[0m\u001b[0;34m(\u001b[0m\u001b[0mitem\u001b[0m\u001b[0;34m)\u001b[0m\u001b[0;34m\u001b[0m\u001b[0m\n\u001b[0m\u001b[1;32m   4116\u001b[0m             \u001b[0;32melse\u001b[0m\u001b[0;34m:\u001b[0m\u001b[0;34m\u001b[0m\u001b[0m\n\u001b[1;32m   4117\u001b[0m                 \u001b[0mindexer\u001b[0m \u001b[0;34m=\u001b[0m \u001b[0mnp\u001b[0m\u001b[0;34m.\u001b[0m\u001b[0marange\u001b[0m\u001b[0;34m(\u001b[0m\u001b[0mlen\u001b[0m\u001b[0;34m(\u001b[0m\u001b[0mself\u001b[0m\u001b[0;34m.\u001b[0m\u001b[0mitems\u001b[0m\u001b[0;34m)\u001b[0m\u001b[0;34m)\u001b[0m\u001b[0;34m[\u001b[0m\u001b[0misna\u001b[0m\u001b[0;34m(\u001b[0m\u001b[0mself\u001b[0m\u001b[0;34m.\u001b[0m\u001b[0mitems\u001b[0m\u001b[0;34m)\u001b[0m\u001b[0;34m]\u001b[0m\u001b[0;34m\u001b[0m\u001b[0m\n",
      "\u001b[0;32m/usr/local/lib/python3.7/site-packages/pandas/core/indexes/base.py\u001b[0m in \u001b[0;36mget_loc\u001b[0;34m(self, key, method, tolerance)\u001b[0m\n\u001b[1;32m   3078\u001b[0m                 \u001b[0;32mreturn\u001b[0m \u001b[0mself\u001b[0m\u001b[0;34m.\u001b[0m\u001b[0m_engine\u001b[0m\u001b[0;34m.\u001b[0m\u001b[0mget_loc\u001b[0m\u001b[0;34m(\u001b[0m\u001b[0mkey\u001b[0m\u001b[0;34m)\u001b[0m\u001b[0;34m\u001b[0m\u001b[0m\n\u001b[1;32m   3079\u001b[0m             \u001b[0;32mexcept\u001b[0m \u001b[0mKeyError\u001b[0m\u001b[0;34m:\u001b[0m\u001b[0;34m\u001b[0m\u001b[0m\n\u001b[0;32m-> 3080\u001b[0;31m                 \u001b[0;32mreturn\u001b[0m \u001b[0mself\u001b[0m\u001b[0;34m.\u001b[0m\u001b[0m_engine\u001b[0m\u001b[0;34m.\u001b[0m\u001b[0mget_loc\u001b[0m\u001b[0;34m(\u001b[0m\u001b[0mself\u001b[0m\u001b[0;34m.\u001b[0m\u001b[0m_maybe_cast_indexer\u001b[0m\u001b[0;34m(\u001b[0m\u001b[0mkey\u001b[0m\u001b[0;34m)\u001b[0m\u001b[0;34m)\u001b[0m\u001b[0;34m\u001b[0m\u001b[0m\n\u001b[0m\u001b[1;32m   3081\u001b[0m \u001b[0;34m\u001b[0m\u001b[0m\n\u001b[1;32m   3082\u001b[0m         \u001b[0mindexer\u001b[0m \u001b[0;34m=\u001b[0m \u001b[0mself\u001b[0m\u001b[0;34m.\u001b[0m\u001b[0mget_indexer\u001b[0m\u001b[0;34m(\u001b[0m\u001b[0;34m[\u001b[0m\u001b[0mkey\u001b[0m\u001b[0;34m]\u001b[0m\u001b[0;34m,\u001b[0m \u001b[0mmethod\u001b[0m\u001b[0;34m=\u001b[0m\u001b[0mmethod\u001b[0m\u001b[0;34m,\u001b[0m \u001b[0mtolerance\u001b[0m\u001b[0;34m=\u001b[0m\u001b[0mtolerance\u001b[0m\u001b[0;34m)\u001b[0m\u001b[0;34m\u001b[0m\u001b[0m\n",
      "\u001b[0;32mpandas/_libs/index.pyx\u001b[0m in \u001b[0;36mpandas._libs.index.IndexEngine.get_loc\u001b[0;34m()\u001b[0m\n",
      "\u001b[0;32mpandas/_libs/index.pyx\u001b[0m in \u001b[0;36mpandas._libs.index.IndexEngine.get_loc\u001b[0;34m()\u001b[0m\n",
      "\u001b[0;32mpandas/_libs/hashtable_class_helper.pxi\u001b[0m in \u001b[0;36mpandas._libs.hashtable.PyObjectHashTable.get_item\u001b[0;34m()\u001b[0m\n",
      "\u001b[0;32mpandas/_libs/hashtable_class_helper.pxi\u001b[0m in \u001b[0;36mpandas._libs.hashtable.PyObjectHashTable.get_item\u001b[0;34m()\u001b[0m\n",
      "\u001b[0;31mKeyError\u001b[0m: 'col12'"
     ]
    }
   ],
   "source": []
  },
  {
   "cell_type": "code",
   "execution_count": 1,
   "metadata": {},
   "outputs": [
    {
     "name": "stdout",
     "output_type": "stream",
     "text": [
      "Requirement already up-to-date: imbalanced-learn in /usr/local/miniconda3/lib/python3.7/site-packages (0.5.0)\n",
      "Requirement already satisfied, skipping upgrade: numpy>=1.11 in /usr/local/miniconda3/lib/python3.7/site-packages (from imbalanced-learn) (1.16.5)\n",
      "Requirement already satisfied, skipping upgrade: scipy>=0.17 in /usr/local/miniconda3/lib/python3.7/site-packages (from imbalanced-learn) (1.3.1)\n",
      "Requirement already satisfied, skipping upgrade: scikit-learn>=0.21 in /usr/local/miniconda3/lib/python3.7/site-packages (from imbalanced-learn) (0.21.2)\n",
      "Requirement already satisfied, skipping upgrade: joblib>=0.11 in /usr/local/miniconda3/lib/python3.7/site-packages (from imbalanced-learn) (0.13.2)\n"
     ]
    }
   ],
   "source": [
    "!pip3 install -U imbalanced-learn\n"
   ]
  },
  {
   "cell_type": "code",
   "execution_count": 681,
   "metadata": {},
   "outputs": [],
   "source": [
    "test_label = new[\"pred\"]"
   ]
  },
  {
   "cell_type": "code",
   "execution_count": 151,
   "metadata": {},
   "outputs": [
    {
     "data": {
      "text/plain": [
       "9"
      ]
     },
     "execution_count": 151,
     "metadata": {},
     "output_type": "execute_result"
    }
   ],
   "source": [
    "sum(test_label > 0.5)"
   ]
  },
  {
   "cell_type": "code",
   "execution_count": 198,
   "metadata": {},
   "outputs": [
    {
     "data": {
      "text/plain": [
       "(0, 20)"
      ]
     },
     "execution_count": 198,
     "metadata": {},
     "output_type": "execute_result"
    },
    {
     "name": "stderr",
     "output_type": "stream",
     "text": [
      "/usr/local/lib/python3.7/site-packages/matplotlib/font_manager.py:1331: UserWarning: findfont: Font family ['IPAexGothic'] not found. Falling back to DejaVu Sans\n",
      "  (prop.get_family(), self.defaultFamily[fontext]))\n"
     ]
    },
    {
     "data": {
      "image/png": "[encoded data removed]",
      "text/plain": [
       "<Figure size 432x288 with 1 Axes>"
      ]
     },
     "metadata": {
      "needs_background": "light"
     },
     "output_type": "display_data"
    }
   ],
   "source": [
    "new[\"pred\"].hist(bins = 1000)\n",
    "plt.ylim([0,20])"
   ]
  },
  {
   "cell_type": "code",
   "execution_count": 663,
   "metadata": {},
   "outputs": [
    {
     "data": {
      "text/plain": [
       "label\n",
       "0    13592\n",
       "1      139\n",
       "Name: col88, dtype: int64"
      ]
     },
     "execution_count": 663,
     "metadata": {},
     "output_type": "execute_result"
    }
   ],
   "source": [
    "train[\"label\"] = np.where(((train.Score < 0)),1,0)\n",
    "train.groupby(\"label\")[\"col88\"].count()"
   ]
  },
  {
   "cell_type": "code",
   "execution_count": 686,
   "metadata": {},
   "outputs": [
    {
     "data": {
      "text/plain": [
       "<matplotlib.axes._subplots.AxesSubplot at 0x1183e0dd8>"
      ]
     },
     "execution_count": 686,
     "metadata": {},
     "output_type": "execute_result"
    },
    {
     "name": "stderr",
     "output_type": "stream",
     "text": [
      "/usr/local/lib/python3.7/site-packages/matplotlib/font_manager.py:1331: UserWarning: findfont: Font family ['IPAexGothic'] not found. Falling back to DejaVu Sans\n",
      "  (prop.get_family(), self.defaultFamily[fontext]))\n"
     ]
    },
    {
     "data": {
      "image/png": "[encoded data removed]",
      "text/plain": [
       "<Figure size 432x288 with 1 Axes>"
      ]
     },
     "metadata": {
      "needs_background": "light"
     },
     "output_type": "display_data"
    }
   ],
   "source": [
    "test_label.hist(bins =100)"
   ]
  },
  {
   "cell_type": "code",
   "execution_count": 698,
   "metadata": {},
   "outputs": [],
   "source": [
    "negative_idx = np.where(test_label >0.60)"
   ]
  },
  {
   "cell_type": "code",
   "execution_count": 726,
   "metadata": {},
   "outputs": [],
   "source": [
    "tr= feather.read_dataframe(\"../data/input/tr_best_pca_ifa.feather\")\n",
    "te= feather.read_dataframe(\"../data/input/te_best_pca_ifa.feather\")"
   ]
  },
  {
   "cell_type": "code",
   "execution_count": 728,
   "metadata": {},
   "outputs": [],
   "source": [
    "del tr[\"index\"],te[\"index\"],te[\"ID\"]"
   ]
  },
  {
   "cell_type": "code",
   "execution_count": 729,
   "metadata": {},
   "outputs": [],
   "source": [
    "high_tr = tr[tr.Score < 0]\n",
    "high_y = high_tr[\"Score\"]"
   ]
  },
  {
   "cell_type": "code",
   "execution_count": 730,
   "metadata": {},
   "outputs": [],
   "source": [
    "del high_tr[\"Score\"]"
   ]
  },
  {
   "cell_type": "code",
   "execution_count": 722,
   "metadata": {},
   "outputs": [],
   "source": [
    "high_te = te.iloc[negative_idx[0],:]"
   ]
  },
  {
   "cell_type": "code",
   "execution_count": 717,
   "metadata": {},
   "outputs": [
    {
     "data": {
      "text/plain": [
       "(array([ 3720,  4126,  4489,  7037,  7272,  7396,  9813, 11770, 11888,\n",
       "        12626, 12813]),)"
      ]
     },
     "execution_count": 717,
     "metadata": {},
     "output_type": "execute_result"
    }
   ],
   "source": [
    "negative_idx"
   ]
  },
  {
   "cell_type": "code",
   "execution_count": 842,
   "metadata": {},
   "outputs": [],
   "source": [
    "FE1=new.iloc[negative_idx[0],:][\"pred\"].values"
   ]
  },
  {
   "cell_type": "code",
   "execution_count": 843,
   "metadata": {},
   "outputs": [],
   "source": [
    "FE2 = sub.iloc[negative_idx[0],1].values"
   ]
  },
  {
   "cell_type": "code",
   "execution_count": 731,
   "metadata": {},
   "outputs": [],
   "source": [
    "high_tr,high_y = high_tr.values,high_y.values"
   ]
  },
  {
   "cell_type": "code",
   "execution_count": 801,
   "metadata": {},
   "outputs": [
    {
     "name": "stdout",
     "output_type": "stream",
     "text": [
      "[0]\ttrain-rmse:0.869279\tval-rmse:0.936875\ttrain-r2:11.003\tval-r2:7.21432\n",
      "Multiple eval metrics have been passed: 'val-r2' will be used for early stopping.\n",
      "\n",
      "Will train until val-r2 hasn't improved in 200 rounds.\n",
      "[150]\ttrain-rmse:0.289219\tval-rmse:0.41314\ttrain-r2:0.328691\tval-r2:0.597363\n",
      "[300]\ttrain-rmse:0.196862\tval-rmse:0.347619\ttrain-r2:-0.384405\tval-r2:0.130876\n",
      "[450]\ttrain-rmse:0.173976\tval-rmse:0.343486\ttrain-r2:-0.519215\tval-r2:0.104145\n",
      "[600]\ttrain-rmse:0.158244\tval-rmse:0.345715\ttrain-r2:-0.602236\tval-r2:0.118521\n",
      "Stopping. Best iteration:\n",
      "[495]\ttrain-rmse:0.169337\tval-rmse:0.341876\ttrain-r2:-0.544513\tval-r2:0.093819\n",
      "\n",
      "[0]\ttrain-rmse:0.892759\tval-rmse:0.708395\ttrain-r2:10.3156\tval-r2:24.7217\n",
      "Multiple eval metrics have been passed: 'val-r2' will be used for early stopping.\n",
      "\n",
      "Will train until val-r2 hasn't improved in 200 rounds.\n",
      "[150]\ttrain-rmse:0.305431\tval-rmse:0.146311\ttrain-r2:0.324448\tval-r2:0.097238\n",
      "[300]\ttrain-rmse:0.213928\tval-rmse:0.148705\ttrain-r2:-0.350253\tval-r2:0.133442\n",
      "Stopping. Best iteration:\n",
      "[200]\ttrain-rmse:0.255501\tval-rmse:0.128223\ttrain-r2:-0.073181\tval-r2:-0.157289\n",
      "\n",
      "[0]\ttrain-rmse:0.888595\tval-rmse:0.760558\ttrain-r2:10.2156\tval-r2:17.2479\n",
      "Multiple eval metrics have been passed: 'val-r2' will be used for early stopping.\n",
      "\n",
      "Will train until val-r2 hasn't improved in 200 rounds.\n",
      "[150]\ttrain-rmse:0.302338\tval-rmse:0.209261\ttrain-r2:0.298374\tval-r2:0.381417\n",
      "[300]\ttrain-rmse:0.20898\tval-rmse:0.203886\ttrain-r2:-0.379669\tval-r2:0.311358\n",
      "Stopping. Best iteration:\n",
      "[218]\ttrain-rmse:0.239816\tval-rmse:0.190961\ttrain-r2:-0.183095\tval-r2:0.150369\n",
      "\n",
      "[0]\ttrain-rmse:0.882979\tval-rmse:0.812406\ttrain-r2:10.0785\tval-r2:15.5784\n",
      "Multiple eval metrics have been passed: 'val-r2' will be used for early stopping.\n",
      "\n",
      "Will train until val-r2 hasn't improved in 200 rounds.\n",
      "[150]\ttrain-rmse:0.299772\tval-rmse:0.230755\ttrain-r2:0.276918\tval-r2:0.337517\n",
      "[300]\ttrain-rmse:0.208404\tval-rmse:0.198041\ttrain-r2:-0.382845\tval-r2:-0.014834\n",
      "Stopping. Best iteration:\n",
      "[224]\ttrain-rmse:0.235663\tval-rmse:0.191895\ttrain-r2:-0.210844\tval-r2:-0.075034\n",
      "\n",
      "[0]\ttrain-rmse:0.875845\tval-rmse:0.8821\ttrain-r2:10.263\tval-r2:11.4192\n",
      "Multiple eval metrics have been passed: 'val-r2' will be used for early stopping.\n",
      "\n",
      "Will train until val-r2 hasn't improved in 200 rounds.\n",
      "[150]\ttrain-rmse:0.296494\tval-rmse:0.322305\ttrain-r2:0.290719\tval-r2:0.658031\n",
      "[300]\ttrain-rmse:0.205566\tval-rmse:0.257128\ttrain-r2:-0.379554\tval-r2:0.055253\n",
      "[450]\ttrain-rmse:0.183438\tval-rmse:0.252473\ttrain-r2:-0.505942\tval-r2:0.017396\n",
      "[600]\ttrain-rmse:0.167971\tval-rmse:0.248303\ttrain-r2:-0.585744\tval-r2:-0.015941\n",
      "[750]\ttrain-rmse:0.154661\tval-rmse:0.244311\ttrain-r2:-0.648794\tval-r2:-0.047328\n",
      "[900]\ttrain-rmse:0.143461\tval-rmse:0.242919\ttrain-r2:-0.697818\tval-r2:-0.058154\n",
      "[1050]\ttrain-rmse:0.13378\tval-rmse:0.244133\ttrain-r2:-0.737226\tval-r2:-0.048714\n",
      "[1200]\ttrain-rmse:0.124078\tval-rmse:0.239772\ttrain-r2:-0.773956\tval-r2:-0.082396\n",
      "[1350]\ttrain-rmse:0.116059\tval-rmse:0.237422\ttrain-r2:-0.802231\tval-r2:-0.100294\n",
      "[1500]\ttrain-rmse:0.108663\tval-rmse:0.234773\ttrain-r2:-0.826634\tval-r2:-0.120257\n",
      "[1650]\ttrain-rmse:0.101967\tval-rmse:0.234842\ttrain-r2:-0.847342\tval-r2:-0.119741\n",
      "Stopping. Best iteration:\n",
      "[1579]\ttrain-rmse:0.104864\tval-rmse:0.233959\ttrain-r2:-0.838545\tval-r2:-0.126345\n",
      "\n",
      "[0]\ttrain-rmse:0.860654\tval-rmse:1.00361\ttrain-r2:10.7684\tval-r2:9.83155\n",
      "Multiple eval metrics have been passed: 'val-r2' will be used for early stopping.\n",
      "\n",
      "Will train until val-r2 hasn't improved in 200 rounds.\n",
      "[150]\ttrain-rmse:0.292893\tval-rmse:0.423799\ttrain-r2:0.362952\tval-r2:0.931459\n",
      "[300]\ttrain-rmse:0.202463\tval-rmse:0.321356\ttrain-r2:-0.348743\tval-r2:0.110551\n",
      "[450]\ttrain-rmse:0.180074\tval-rmse:0.299873\ttrain-r2:-0.484813\tval-r2:-0.032969\n",
      "[600]\ttrain-rmse:0.163954\tval-rmse:0.29052\ttrain-r2:-0.572921\tval-r2:-0.092352\n",
      "[750]\ttrain-rmse:0.150783\tval-rmse:0.289816\ttrain-r2:-0.638787\tval-r2:-0.096748\n",
      "[900]\ttrain-rmse:0.13929\tval-rmse:0.289083\ttrain-r2:-0.69175\tval-r2:-0.101313\n",
      "Stopping. Best iteration:\n",
      "[845]\ttrain-rmse:0.143411\tval-rmse:0.28683\ttrain-r2:-0.673242\tval-r2:-0.115261\n",
      "\n",
      "[0]\ttrain-rmse:0.863085\tval-rmse:0.988152\ttrain-r2:10.7956\tval-r2:9.21523\n",
      "Multiple eval metrics have been passed: 'val-r2' will be used for early stopping.\n",
      "\n",
      "Will train until val-r2 hasn't improved in 200 rounds.\n",
      "[150]\ttrain-rmse:0.287672\tval-rmse:0.423854\ttrain-r2:0.310408\tval-r2:0.87946\n",
      "[300]\ttrain-rmse:0.197056\tval-rmse:0.338253\ttrain-r2:-0.385118\tval-r2:0.196974\n",
      "[450]\ttrain-rmse:0.17552\tval-rmse:0.329352\ttrain-r2:-0.512175\tval-r2:0.134804\n",
      "[600]\ttrain-rmse:0.16096\tval-rmse:0.32733\ttrain-r2:-0.58975\tval-r2:0.120916\n",
      "[750]\ttrain-rmse:0.148367\tval-rmse:0.327703\ttrain-r2:-0.651435\tval-r2:0.123473\n",
      "[900]\ttrain-rmse:0.136999\tval-rmse:0.326492\ttrain-r2:-0.702803\tval-r2:0.115182\n",
      "Stopping. Best iteration:\n",
      "[824]\ttrain-rmse:0.142561\tval-rmse:0.325054\ttrain-r2:-0.678178\tval-r2:0.105381\n",
      "\n",
      "[0]\ttrain-rmse:0.884289\tval-rmse:0.799111\ttrain-r2:10.0891\tval-r2:16.2285\n",
      "Multiple eval metrics have been passed: 'val-r2' will be used for early stopping.\n",
      "\n",
      "Will train until val-r2 hasn't improved in 200 rounds.\n",
      "[150]\ttrain-rmse:0.302953\tval-rmse:0.213827\ttrain-r2:0.301542\tval-r2:0.233558\n",
      "[300]\ttrain-rmse:0.210266\tval-rmse:0.166316\ttrain-r2:-0.373033\tval-r2:-0.253718\n",
      "[450]\ttrain-rmse:0.186515\tval-rmse:0.178669\ttrain-r2:-0.506676\tval-r2:-0.138749\n",
      "Stopping. Best iteration:\n",
      "[252]\ttrain-rmse:0.224399\tval-rmse:0.164432\ttrain-r2:-0.285919\tval-r2:-0.270535\n",
      "\n",
      "[0]\ttrain-rmse:0.868723\tval-rmse:0.941896\ttrain-r2:10.38\tval-r2:10.9776\n",
      "Multiple eval metrics have been passed: 'val-r2' will be used for early stopping.\n",
      "\n",
      "Will train until val-r2 hasn't improved in 200 rounds.\n",
      "[150]\ttrain-rmse:0.292879\tval-rmse:0.383328\ttrain-r2:0.293472\tval-r2:0.983829\n",
      "[300]\ttrain-rmse:0.201599\tval-rmse:0.30101\ttrain-r2:-0.38715\tval-r2:0.22328\n",
      "[450]\ttrain-rmse:0.177893\tval-rmse:0.286843\ttrain-r2:-0.522802\tval-r2:0.110837\n",
      "[600]\ttrain-rmse:0.162547\tval-rmse:0.287331\ttrain-r2:-0.601584\tval-r2:0.114622\n",
      "Stopping. Best iteration:\n",
      "[507]\ttrain-rmse:0.171113\tval-rmse:0.285254\ttrain-r2:-0.558486\tval-r2:0.098571\n",
      "\n",
      "[0]\ttrain-rmse:0.875246\tval-rmse:0.879457\ttrain-r2:10.0036\tval-r2:15.3106\n",
      "Multiple eval metrics have been passed: 'val-r2' will be used for early stopping.\n",
      "\n",
      "Will train until val-r2 hasn't improved in 200 rounds.\n",
      "[150]\ttrain-rmse:0.299537\tval-rmse:0.304512\ttrain-r2:0.288762\tval-r2:0.955462\n",
      "[300]\ttrain-rmse:0.2076\tval-rmse:0.230724\ttrain-r2:-0.38095\tval-r2:0.122606\n",
      "[450]\ttrain-rmse:0.183529\tval-rmse:0.228578\ttrain-r2:-0.516181\tval-r2:0.101821\n",
      "Stopping. Best iteration:\n",
      "[399]\ttrain-rmse:0.190116\tval-rmse:0.22526\ttrain-r2:-0.480829\tval-r2:0.07006\n",
      "\n"
     ]
    }
   ],
   "source": [
    "cv_tr_preds,cv_preds,cv_scores,cv_logs=[],[],[],[]\n",
    "from sklearn.metrics import r2_score\n",
    "from sklearn.model_selection import cross_val_score,KFold\n",
    "from sklearn.neighbors import KNeighborsRegressor\n",
    "import xgboost as xgb\n",
    "def r2_coef(pred,train):\n",
    "    return \"r2\", -r2_score(train.get_label(),pred)\n",
    "param = {\n",
    "        \"objective\": \"reg:linear\", \n",
    "        \"eval_metric\": \"rmse\",\n",
    "        \"eta\":0.01,\n",
    "        \"subsample\": 0.5, \n",
    "    \"max_depth\":3,\n",
    "    \"bagging_fraction\":0.7,\n",
    "    \"feature_fraction\":0.3,\n",
    "     \"min_child_weight\":20,\n",
    "        \"random_state\": 1103, \n",
    "    \"lambda_l1\":30,\n",
    "    \"lambda_l2\":30,\n",
    "        \"silent\": 1,\n",
    "        \"seed\":1103\n",
    "       }\n",
    "kf = KFold(n_splits = 10,random_state=1103,shuffle=True)\n",
    "preds,sc = [],[]\n",
    "for i,(tr_idx,val_idx) in enumerate(kf.split(high_tr)):\n",
    "    tr_,val = (high_tr[tr_idx,:],high_y[tr_idx]), (high_tr[val_idx,:],high_y[val_idx])\n",
    "    #model = KNeighborsRegressor()\n",
    "    #model.fit(tr_[0],tr_[1])\n",
    "    xgb_tr = xgb.DMatrix(tr_[0],label = tr_[1])\n",
    "    xgb_val = xgb.DMatrix(val[0],label = val[1])\n",
    "    #xgb_test = xgb.DMatrix(test)\n",
    "    evals_result = {}\n",
    "    model = xgb.train(\n",
    "        param,\n",
    "        xgb_tr,\n",
    "        evals = [(xgb_tr,\"train\"),(xgb_val, \"val\")],\n",
    "        maximize=False,\n",
    "        feval=r2_coef,\n",
    "        evals_result= evals_result,\n",
    "        num_boost_round=10000,\n",
    "        early_stopping_rounds=200,\n",
    "        verbose_eval = 150,\n",
    "    )\n",
    "    sc.append(np.min(evals_result[\"val\"][\"r2\"]))\n",
    "    xgb_te = xgb.DMatrix(high_te.values)\n",
    "    pred = model.predict(xgb_te,ntree_limit=model.best_iteration)\n",
    "    preds.append(pred)"
   ]
  },
  {
   "cell_type": "code",
   "execution_count": 802,
   "metadata": {},
   "outputs": [
    {
     "data": {
      "text/plain": [
       "-0.022626399999999998"
      ]
     },
     "execution_count": 802,
     "metadata": {},
     "output_type": "execute_result"
    }
   ],
   "source": [
    "np.mean(sc)"
   ]
  },
  {
   "cell_type": "code",
   "execution_count": 812,
   "metadata": {},
   "outputs": [],
   "source": [
    "final = np.sum(preds,axis= 0)/10"
   ]
  },
  {
   "cell_type": "code",
   "execution_count": 839,
   "metadata": {},
   "outputs": [],
   "source": [
    "sub = pd.read_csv(\"../submit_3_1ensmble.csv\",header = None)"
   ]
  },
  {
   "cell_type": "code",
   "execution_count": 821,
   "metadata": {},
   "outputs": [],
   "source": [
    "sub.iloc[negative_idx[0],1] = sub.iloc[negative_idx[0],1].values *0.2 +  final * 0.8"
   ]
  },
  {
   "cell_type": "code",
   "execution_count": 827,
   "metadata": {},
   "outputs": [
    {
     "data": {
      "text/plain": [
       "array([ 0.02028739, -0.16666111, -0.05301028, -0.09874469, -0.09418109,\n",
       "       -0.03980854,  0.00348143, -0.26737626, -0.18483623,  0.0461715 ,\n",
       "       -0.1060172 ])"
      ]
     },
     "execution_count": 827,
     "metadata": {},
     "output_type": "execute_result"
    }
   ],
   "source": [
    "sub.iloc[negative_idx[0],1].values * 0.3 + final * 0.7"
   ]
  },
  {
   "cell_type": "code",
   "execution_count": 865,
   "metadata": {},
   "outputs": [],
   "source": [
    "sub.to_csv(\"../submit_neg.csv\",index = None,header = None)"
   ]
  },
  {
   "cell_type": "code",
   "execution_count": 824,
   "metadata": {},
   "outputs": [
    {
     "data": {
      "text/plain": [
       "3720     0.679019\n",
       "4126     0.221718\n",
       "4489     0.224908\n",
       "7037     0.321493\n",
       "7272     0.233097\n",
       "7396     0.625913\n",
       "9813     0.540100\n",
       "11770   -0.067123\n",
       "11888    0.318862\n",
       "12626    0.680450\n",
       "12813    0.282107\n",
       "Name: 1, dtype: float64"
      ]
     },
     "execution_count": 824,
     "metadata": {},
     "output_type": "execute_result"
    }
   ],
   "source": [
    "sub.iloc[negative_idx[0],1]"
   ]
  },
  {
   "cell_type": "code",
   "execution_count": 829,
   "metadata": {},
   "outputs": [],
   "source": [
    "tr = feather.read_dataframe(\"../data/input/tr_best_pca_ifa.feather\")\n",
    "te = feather.read_dataframe(\"../data/input/te_best_pca_ifa.feather\")"
   ]
  },
  {
   "cell_type": "code",
   "execution_count": 831,
   "metadata": {},
   "outputs": [],
   "source": [
    "tr = tr[tr[\"Score\"] > 0]"
   ]
  },
  {
   "cell_type": "code",
   "execution_count": 835,
   "metadata": {},
   "outputs": [],
   "source": [
    "#tr.reset_index(inplace=True)\n",
    "#te.reset_index(inplace=True)\n",
    "tr.to_feather(\"../data/input/tr_best_pos.feather\")\n",
    "te.to_feather(\"../data/input/te_best_pos.feather\")"
   ]
  },
  {
   "cell_type": "code",
   "execution_count": 848,
   "metadata": {},
   "outputs": [],
   "source": [
    "pos = pd.read_csv(\"../data/output/submit_0.6166.csv\",header = None)\n",
    "sub = pd.read_csv(\"../submit_3_1ensmble.csv\",header = None)\n"
   ]
  },
  {
   "cell_type": "code",
   "execution_count": 849,
   "metadata": {},
   "outputs": [
    {
     "data": {
      "text/plain": [
       "array([-0.28073   , -0.36140245, -0.19079512, -0.30944735, -0.25764197,\n",
       "       -0.35672534, -0.24493903, -0.3778516 , -0.41013288, -0.2628708 ,\n",
       "       -0.27253103], dtype=float32)"
      ]
     },
     "execution_count": 849,
     "metadata": {},
     "output_type": "execute_result"
    }
   ],
   "source": [
    "sub.iloc[negative_idx[0],1].values "
   ]
  },
  {
   "cell_type": "code",
   "execution_count": 854,
   "metadata": {},
   "outputs": [],
   "source": [
    "a = sub.iloc[:,1] * 0.3 + pos.iloc[:,1] *0.7"
   ]
  },
  {
   "cell_type": "code",
   "execution_count": 858,
   "metadata": {},
   "outputs": [],
   "source": [
    "a.values[negative_idx[0]] = a.values[negative_idx[0]]*0.2 + pred * 0.8"
   ]
  },
  {
   "cell_type": "code",
   "execution_count": 859,
   "metadata": {},
   "outputs": [
    {
     "data": {
      "text/plain": [
       "array([-0.04748541, -0.16266434,  0.05723597, -0.11080608, -0.085189  ,\n",
       "       -0.09835047, -0.02782101, -0.21048182, -0.16691692, -0.05409402,\n",
       "       -0.1122116 ])"
      ]
     },
     "execution_count": 859,
     "metadata": {},
     "output_type": "execute_result"
    }
   ],
   "source": [
    "a.values[negative_idx[0]]"
   ]
  },
  {
   "cell_type": "code",
   "execution_count": 862,
   "metadata": {},
   "outputs": [],
   "source": [
    "sub.iloc[:,1] = a"
   ]
  },
  {
   "cell_type": "code",
   "execution_count": 864,
   "metadata": {},
   "outputs": [
    {
     "data": {
      "text/plain": [
       "0        1.370427\n",
       "1        2.680936\n",
       "2        2.405560\n",
       "3        1.708295\n",
       "4        2.848008\n",
       "5        2.361618\n",
       "6        1.817262\n",
       "7        2.862373\n",
       "8        2.004113\n",
       "9        2.194508\n",
       "10       2.578700\n",
       "11       2.157305\n",
       "12       2.085441\n",
       "13       1.686756\n",
       "14       1.578164\n",
       "15       2.497438\n",
       "16       1.248511\n",
       "17       2.629468\n",
       "18       2.365830\n",
       "19       2.182367\n",
       "20       1.175400\n",
       "21       1.332977\n",
       "22       1.135187\n",
       "23       1.607074\n",
       "24       1.327560\n",
       "25       1.500692\n",
       "26       1.471183\n",
       "27       2.874707\n",
       "28       1.936910\n",
       "29       2.505683\n",
       "           ...   \n",
       "13702    1.537045\n",
       "13703    2.044660\n",
       "13704    2.773612\n",
       "13705    2.408350\n",
       "13706    1.882298\n",
       "13707    3.398713\n",
       "13708    2.404404\n",
       "13709    2.888912\n",
       "13710    2.618644\n",
       "13711    3.466800\n",
       "13712    2.026315\n",
       "13713    1.613631\n",
       "13714    2.555591\n",
       "13715    1.488336\n",
       "13716    1.253423\n",
       "13717    1.710562\n",
       "13718    1.927711\n",
       "13719    1.051755\n",
       "13720    1.445021\n",
       "13721    2.247219\n",
       "13722    2.614749\n",
       "13723    1.515100\n",
       "13724    2.326637\n",
       "13725    1.507127\n",
       "13726    0.842623\n",
       "13727    1.425999\n",
       "13728    1.325319\n",
       "13729    2.416251\n",
       "13730    1.824970\n",
       "13731    2.761293\n",
       "Name: 1, Length: 13732, dtype: float64"
      ]
     },
     "execution_count": 864,
     "metadata": {},
     "output_type": "execute_result"
    }
   ],
   "source": [
    "a"
   ]
  },
  {
   "cell_type": "code",
   "execution_count": 866,
   "metadata": {},
   "outputs": [
    {
     "data": {
      "text/plain": [
       "array([ 1,  8, 27])"
      ]
     },
     "execution_count": 866,
     "metadata": {},
     "output_type": "execute_result"
    }
   ],
   "source": [
    "np.array([1,2,3]) ** 3"
   ]
  },
  {
   "cell_type": "code",
   "execution_count": 870,
   "metadata": {},
   "outputs": [
    {
     "data": {
      "text/plain": [
       "(array([    0,     1,     2, ..., 13727, 13729, 13730]),)"
      ]
     },
     "execution_count": 870,
     "metadata": {},
     "output_type": "execute_result"
    }
   ],
   "source": [
    "np.where((0<score) & (score<4))"
   ]
  },
  {
   "cell_type": "code",
   "execution_count": 36,
   "metadata": {},
   "outputs": [],
   "source": [
    "import pandas as pd\n",
    "sub = pd.read_csv(\"../tr_pred.csv\",header = None)"
   ]
  },
  {
   "cell_type": "code",
   "execution_count": 37,
   "metadata": {},
   "outputs": [],
   "source": [
    "sub[\"score\"] = score"
   ]
  },
  {
   "cell_type": "code",
   "execution_count": 6,
   "metadata": {},
   "outputs": [],
   "source": [
    "sub[0] = ((max(score) - min(score))*sub[0]) + min(score)"
   ]
  },
  {
   "cell_type": "code",
   "execution_count": 38,
   "metadata": {},
   "outputs": [
    {
     "data": {
      "text/plain": [
       "100.37587826656141"
      ]
     },
     "execution_count": 38,
     "metadata": {},
     "output_type": "execute_result"
    }
   ],
   "source": [
    "sum(abs(sub[sub[\"score\"] < 0][0] - sub[sub[\"score\"] < 0][\"score\"]))"
   ]
  },
  {
   "cell_type": "code",
   "execution_count": 881,
   "metadata": {},
   "outputs": [
    {
     "data": {
      "text/html": [
       "<div>\n",
       "<style scoped>\n",
       "    .dataframe tbody tr th:only-of-type {\n",
       "        vertical-align: middle;\n",
       "    }\n",
       "\n",
       "    .dataframe tbody tr th {\n",
       "        vertical-align: top;\n",
       "    }\n",
       "\n",
       "    .dataframe thead th {\n",
       "        text-align: right;\n",
       "    }\n",
       "</style>\n",
       "<table border=\"1\" class=\"dataframe\">\n",
       "  <thead>\n",
       "    <tr style=\"text-align: right;\">\n",
       "      <th></th>\n",
       "      <th>0</th>\n",
       "      <th>score</th>\n",
       "    </tr>\n",
       "  </thead>\n",
       "  <tbody>\n",
       "    <tr>\n",
       "      <th>119</th>\n",
       "      <td>0.283803</td>\n",
       "      <td>-0.221849</td>\n",
       "    </tr>\n",
       "    <tr>\n",
       "      <th>125</th>\n",
       "      <td>0.030353</td>\n",
       "      <td>-0.397940</td>\n",
       "    </tr>\n",
       "    <tr>\n",
       "      <th>232</th>\n",
       "      <td>0.113936</td>\n",
       "      <td>-0.698970</td>\n",
       "    </tr>\n",
       "    <tr>\n",
       "      <th>459</th>\n",
       "      <td>0.233700</td>\n",
       "      <td>-0.301030</td>\n",
       "    </tr>\n",
       "    <tr>\n",
       "      <th>661</th>\n",
       "      <td>0.173861</td>\n",
       "      <td>-0.154902</td>\n",
       "    </tr>\n",
       "    <tr>\n",
       "      <th>816</th>\n",
       "      <td>-0.239363</td>\n",
       "      <td>-0.397940</td>\n",
       "    </tr>\n",
       "    <tr>\n",
       "      <th>921</th>\n",
       "      <td>0.300633</td>\n",
       "      <td>-0.154902</td>\n",
       "    </tr>\n",
       "    <tr>\n",
       "      <th>955</th>\n",
       "      <td>0.526588</td>\n",
       "      <td>-0.221849</td>\n",
       "    </tr>\n",
       "    <tr>\n",
       "      <th>1039</th>\n",
       "      <td>-0.291387</td>\n",
       "      <td>-0.522879</td>\n",
       "    </tr>\n",
       "    <tr>\n",
       "      <th>1049</th>\n",
       "      <td>-0.261980</td>\n",
       "      <td>-0.698970</td>\n",
       "    </tr>\n",
       "    <tr>\n",
       "      <th>1286</th>\n",
       "      <td>-0.001264</td>\n",
       "      <td>-0.522879</td>\n",
       "    </tr>\n",
       "    <tr>\n",
       "      <th>1410</th>\n",
       "      <td>-0.078503</td>\n",
       "      <td>-0.698970</td>\n",
       "    </tr>\n",
       "    <tr>\n",
       "      <th>1624</th>\n",
       "      <td>0.236197</td>\n",
       "      <td>-1.000000</td>\n",
       "    </tr>\n",
       "    <tr>\n",
       "      <th>1639</th>\n",
       "      <td>-0.034649</td>\n",
       "      <td>-0.522879</td>\n",
       "    </tr>\n",
       "    <tr>\n",
       "      <th>1711</th>\n",
       "      <td>0.599664</td>\n",
       "      <td>-0.221849</td>\n",
       "    </tr>\n",
       "    <tr>\n",
       "      <th>2029</th>\n",
       "      <td>0.081496</td>\n",
       "      <td>-0.522879</td>\n",
       "    </tr>\n",
       "    <tr>\n",
       "      <th>2063</th>\n",
       "      <td>0.061364</td>\n",
       "      <td>-0.397940</td>\n",
       "    </tr>\n",
       "    <tr>\n",
       "      <th>2142</th>\n",
       "      <td>0.242806</td>\n",
       "      <td>-0.154902</td>\n",
       "    </tr>\n",
       "    <tr>\n",
       "      <th>2218</th>\n",
       "      <td>0.233120</td>\n",
       "      <td>-0.397940</td>\n",
       "    </tr>\n",
       "    <tr>\n",
       "      <th>2315</th>\n",
       "      <td>0.221383</td>\n",
       "      <td>-0.096910</td>\n",
       "    </tr>\n",
       "    <tr>\n",
       "      <th>2363</th>\n",
       "      <td>0.071484</td>\n",
       "      <td>-0.397940</td>\n",
       "    </tr>\n",
       "    <tr>\n",
       "      <th>2491</th>\n",
       "      <td>0.405110</td>\n",
       "      <td>-0.045757</td>\n",
       "    </tr>\n",
       "    <tr>\n",
       "      <th>2508</th>\n",
       "      <td>0.210019</td>\n",
       "      <td>-0.096910</td>\n",
       "    </tr>\n",
       "    <tr>\n",
       "      <th>2696</th>\n",
       "      <td>-0.150133</td>\n",
       "      <td>-0.522879</td>\n",
       "    </tr>\n",
       "    <tr>\n",
       "      <th>2703</th>\n",
       "      <td>0.017035</td>\n",
       "      <td>-0.397940</td>\n",
       "    </tr>\n",
       "    <tr>\n",
       "      <th>2715</th>\n",
       "      <td>0.471048</td>\n",
       "      <td>-0.522879</td>\n",
       "    </tr>\n",
       "    <tr>\n",
       "      <th>2967</th>\n",
       "      <td>0.255595</td>\n",
       "      <td>-0.045757</td>\n",
       "    </tr>\n",
       "    <tr>\n",
       "      <th>3213</th>\n",
       "      <td>0.190315</td>\n",
       "      <td>-0.096910</td>\n",
       "    </tr>\n",
       "    <tr>\n",
       "      <th>3224</th>\n",
       "      <td>0.182706</td>\n",
       "      <td>-0.221849</td>\n",
       "    </tr>\n",
       "    <tr>\n",
       "      <th>3268</th>\n",
       "      <td>0.432711</td>\n",
       "      <td>-0.045757</td>\n",
       "    </tr>\n",
       "    <tr>\n",
       "      <th>...</th>\n",
       "      <td>...</td>\n",
       "      <td>...</td>\n",
       "    </tr>\n",
       "    <tr>\n",
       "      <th>10700</th>\n",
       "      <td>0.258493</td>\n",
       "      <td>-0.154902</td>\n",
       "    </tr>\n",
       "    <tr>\n",
       "      <th>10761</th>\n",
       "      <td>0.498609</td>\n",
       "      <td>-0.154902</td>\n",
       "    </tr>\n",
       "    <tr>\n",
       "      <th>11083</th>\n",
       "      <td>0.149560</td>\n",
       "      <td>-0.154902</td>\n",
       "    </tr>\n",
       "    <tr>\n",
       "      <th>11093</th>\n",
       "      <td>0.183848</td>\n",
       "      <td>-0.096910</td>\n",
       "    </tr>\n",
       "    <tr>\n",
       "      <th>11132</th>\n",
       "      <td>0.011502</td>\n",
       "      <td>-0.698970</td>\n",
       "    </tr>\n",
       "    <tr>\n",
       "      <th>11138</th>\n",
       "      <td>0.454986</td>\n",
       "      <td>-0.096910</td>\n",
       "    </tr>\n",
       "    <tr>\n",
       "      <th>11175</th>\n",
       "      <td>-0.142340</td>\n",
       "      <td>-0.698970</td>\n",
       "    </tr>\n",
       "    <tr>\n",
       "      <th>11204</th>\n",
       "      <td>0.068103</td>\n",
       "      <td>-0.154902</td>\n",
       "    </tr>\n",
       "    <tr>\n",
       "      <th>11290</th>\n",
       "      <td>0.219125</td>\n",
       "      <td>-0.397940</td>\n",
       "    </tr>\n",
       "    <tr>\n",
       "      <th>11764</th>\n",
       "      <td>-0.425858</td>\n",
       "      <td>-1.000000</td>\n",
       "    </tr>\n",
       "    <tr>\n",
       "      <th>11769</th>\n",
       "      <td>0.228131</td>\n",
       "      <td>-0.301030</td>\n",
       "    </tr>\n",
       "    <tr>\n",
       "      <th>11806</th>\n",
       "      <td>-0.379356</td>\n",
       "      <td>-1.000000</td>\n",
       "    </tr>\n",
       "    <tr>\n",
       "      <th>11835</th>\n",
       "      <td>-0.308117</td>\n",
       "      <td>-0.698970</td>\n",
       "    </tr>\n",
       "    <tr>\n",
       "      <th>11920</th>\n",
       "      <td>0.073589</td>\n",
       "      <td>-0.698970</td>\n",
       "    </tr>\n",
       "    <tr>\n",
       "      <th>12021</th>\n",
       "      <td>-0.425473</td>\n",
       "      <td>-1.000000</td>\n",
       "    </tr>\n",
       "    <tr>\n",
       "      <th>12045</th>\n",
       "      <td>0.396071</td>\n",
       "      <td>-0.045757</td>\n",
       "    </tr>\n",
       "    <tr>\n",
       "      <th>12059</th>\n",
       "      <td>0.291301</td>\n",
       "      <td>-0.096910</td>\n",
       "    </tr>\n",
       "    <tr>\n",
       "      <th>12122</th>\n",
       "      <td>0.040554</td>\n",
       "      <td>-0.698970</td>\n",
       "    </tr>\n",
       "    <tr>\n",
       "      <th>12201</th>\n",
       "      <td>0.291780</td>\n",
       "      <td>-0.522879</td>\n",
       "    </tr>\n",
       "    <tr>\n",
       "      <th>12367</th>\n",
       "      <td>-0.240382</td>\n",
       "      <td>-1.000000</td>\n",
       "    </tr>\n",
       "    <tr>\n",
       "      <th>12394</th>\n",
       "      <td>0.208166</td>\n",
       "      <td>-0.096910</td>\n",
       "    </tr>\n",
       "    <tr>\n",
       "      <th>12433</th>\n",
       "      <td>0.050119</td>\n",
       "      <td>-0.221849</td>\n",
       "    </tr>\n",
       "    <tr>\n",
       "      <th>12860</th>\n",
       "      <td>-0.336665</td>\n",
       "      <td>-0.522879</td>\n",
       "    </tr>\n",
       "    <tr>\n",
       "      <th>13001</th>\n",
       "      <td>0.218860</td>\n",
       "      <td>-0.221849</td>\n",
       "    </tr>\n",
       "    <tr>\n",
       "      <th>13057</th>\n",
       "      <td>0.157128</td>\n",
       "      <td>-0.301030</td>\n",
       "    </tr>\n",
       "    <tr>\n",
       "      <th>13152</th>\n",
       "      <td>0.279230</td>\n",
       "      <td>-0.045757</td>\n",
       "    </tr>\n",
       "    <tr>\n",
       "      <th>13212</th>\n",
       "      <td>0.177557</td>\n",
       "      <td>-0.522879</td>\n",
       "    </tr>\n",
       "    <tr>\n",
       "      <th>13310</th>\n",
       "      <td>0.368027</td>\n",
       "      <td>-0.221849</td>\n",
       "    </tr>\n",
       "    <tr>\n",
       "      <th>13324</th>\n",
       "      <td>0.422103</td>\n",
       "      <td>-0.154902</td>\n",
       "    </tr>\n",
       "    <tr>\n",
       "      <th>13336</th>\n",
       "      <td>0.195306</td>\n",
       "      <td>-0.522879</td>\n",
       "    </tr>\n",
       "  </tbody>\n",
       "</table>\n",
       "<p>139 rows × 2 columns</p>\n",
       "</div>"
      ],
      "text/plain": [
       "              0     score\n",
       "119    0.283803 -0.221849\n",
       "125    0.030353 -0.397940\n",
       "232    0.113936 -0.698970\n",
       "459    0.233700 -0.301030\n",
       "661    0.173861 -0.154902\n",
       "816   -0.239363 -0.397940\n",
       "921    0.300633 -0.154902\n",
       "955    0.526588 -0.221849\n",
       "1039  -0.291387 -0.522879\n",
       "1049  -0.261980 -0.698970\n",
       "1286  -0.001264 -0.522879\n",
       "1410  -0.078503 -0.698970\n",
       "1624   0.236197 -1.000000\n",
       "1639  -0.034649 -0.522879\n",
       "1711   0.599664 -0.221849\n",
       "2029   0.081496 -0.522879\n",
       "2063   0.061364 -0.397940\n",
       "2142   0.242806 -0.154902\n",
       "2218   0.233120 -0.397940\n",
       "2315   0.221383 -0.096910\n",
       "2363   0.071484 -0.397940\n",
       "2491   0.405110 -0.045757\n",
       "2508   0.210019 -0.096910\n",
       "2696  -0.150133 -0.522879\n",
       "2703   0.017035 -0.397940\n",
       "2715   0.471048 -0.522879\n",
       "2967   0.255595 -0.045757\n",
       "3213   0.190315 -0.096910\n",
       "3224   0.182706 -0.221849\n",
       "3268   0.432711 -0.045757\n",
       "...         ...       ...\n",
       "10700  0.258493 -0.154902\n",
       "10761  0.498609 -0.154902\n",
       "11083  0.149560 -0.154902\n",
       "11093  0.183848 -0.096910\n",
       "11132  0.011502 -0.698970\n",
       "11138  0.454986 -0.096910\n",
       "11175 -0.142340 -0.698970\n",
       "11204  0.068103 -0.154902\n",
       "11290  0.219125 -0.397940\n",
       "11764 -0.425858 -1.000000\n",
       "11769  0.228131 -0.301030\n",
       "11806 -0.379356 -1.000000\n",
       "11835 -0.308117 -0.698970\n",
       "11920  0.073589 -0.698970\n",
       "12021 -0.425473 -1.000000\n",
       "12045  0.396071 -0.045757\n",
       "12059  0.291301 -0.096910\n",
       "12122  0.040554 -0.698970\n",
       "12201  0.291780 -0.522879\n",
       "12367 -0.240382 -1.000000\n",
       "12394  0.208166 -0.096910\n",
       "12433  0.050119 -0.221849\n",
       "12860 -0.336665 -0.522879\n",
       "13001  0.218860 -0.221849\n",
       "13057  0.157128 -0.301030\n",
       "13152  0.279230 -0.045757\n",
       "13212  0.177557 -0.522879\n",
       "13310  0.368027 -0.221849\n",
       "13324  0.422103 -0.154902\n",
       "13336  0.195306 -0.522879\n",
       "\n",
       "[139 rows x 2 columns]"
      ]
     },
     "execution_count": 881,
     "metadata": {},
     "output_type": "execute_result"
    }
   ],
   "source": [
    "sub[sub[\"score\"] < 0]"
   ]
  },
  {
   "cell_type": "code",
   "execution_count": 884,
   "metadata": {},
   "outputs": [
    {
     "data": {
      "text/html": [
       "<div>\n",
       "<style scoped>\n",
       "    .dataframe tbody tr th:only-of-type {\n",
       "        vertical-align: middle;\n",
       "    }\n",
       "\n",
       "    .dataframe tbody tr th {\n",
       "        vertical-align: top;\n",
       "    }\n",
       "\n",
       "    .dataframe thead th {\n",
       "        text-align: right;\n",
       "    }\n",
       "</style>\n",
       "<table border=\"1\" class=\"dataframe\">\n",
       "  <thead>\n",
       "    <tr style=\"text-align: right;\">\n",
       "      <th></th>\n",
       "      <th>0</th>\n",
       "      <th>score</th>\n",
       "    </tr>\n",
       "  </thead>\n",
       "  <tbody>\n",
       "    <tr>\n",
       "      <th>119</th>\n",
       "      <td>0.518169</td>\n",
       "      <td>-0.221849</td>\n",
       "    </tr>\n",
       "    <tr>\n",
       "      <th>125</th>\n",
       "      <td>0.299389</td>\n",
       "      <td>-0.397940</td>\n",
       "    </tr>\n",
       "    <tr>\n",
       "      <th>232</th>\n",
       "      <td>0.432394</td>\n",
       "      <td>-0.698970</td>\n",
       "    </tr>\n",
       "    <tr>\n",
       "      <th>459</th>\n",
       "      <td>0.586575</td>\n",
       "      <td>-0.301030</td>\n",
       "    </tr>\n",
       "    <tr>\n",
       "      <th>661</th>\n",
       "      <td>0.409409</td>\n",
       "      <td>-0.154902</td>\n",
       "    </tr>\n",
       "    <tr>\n",
       "      <th>816</th>\n",
       "      <td>-0.047624</td>\n",
       "      <td>-0.397940</td>\n",
       "    </tr>\n",
       "    <tr>\n",
       "      <th>921</th>\n",
       "      <td>0.544513</td>\n",
       "      <td>-0.154902</td>\n",
       "    </tr>\n",
       "    <tr>\n",
       "      <th>955</th>\n",
       "      <td>0.790518</td>\n",
       "      <td>-0.221849</td>\n",
       "    </tr>\n",
       "    <tr>\n",
       "      <th>1039</th>\n",
       "      <td>-0.069707</td>\n",
       "      <td>-0.522879</td>\n",
       "    </tr>\n",
       "    <tr>\n",
       "      <th>1049</th>\n",
       "      <td>-0.001898</td>\n",
       "      <td>-0.698970</td>\n",
       "    </tr>\n",
       "    <tr>\n",
       "      <th>1286</th>\n",
       "      <td>0.173958</td>\n",
       "      <td>-0.522879</td>\n",
       "    </tr>\n",
       "    <tr>\n",
       "      <th>1410</th>\n",
       "      <td>0.139206</td>\n",
       "      <td>-0.698970</td>\n",
       "    </tr>\n",
       "    <tr>\n",
       "      <th>1624</th>\n",
       "      <td>0.562135</td>\n",
       "      <td>-1.000000</td>\n",
       "    </tr>\n",
       "    <tr>\n",
       "      <th>1639</th>\n",
       "      <td>0.173902</td>\n",
       "      <td>-0.522879</td>\n",
       "    </tr>\n",
       "    <tr>\n",
       "      <th>1711</th>\n",
       "      <td>0.789022</td>\n",
       "      <td>-0.221849</td>\n",
       "    </tr>\n",
       "    <tr>\n",
       "      <th>2029</th>\n",
       "      <td>0.313839</td>\n",
       "      <td>-0.522879</td>\n",
       "    </tr>\n",
       "    <tr>\n",
       "      <th>2063</th>\n",
       "      <td>0.256026</td>\n",
       "      <td>-0.397940</td>\n",
       "    </tr>\n",
       "    <tr>\n",
       "      <th>2142</th>\n",
       "      <td>0.462290</td>\n",
       "      <td>-0.154902</td>\n",
       "    </tr>\n",
       "    <tr>\n",
       "      <th>2218</th>\n",
       "      <td>0.447929</td>\n",
       "      <td>-0.397940</td>\n",
       "    </tr>\n",
       "    <tr>\n",
       "      <th>2315</th>\n",
       "      <td>0.402826</td>\n",
       "      <td>-0.096910</td>\n",
       "    </tr>\n",
       "    <tr>\n",
       "      <th>2363</th>\n",
       "      <td>0.248936</td>\n",
       "      <td>-0.397940</td>\n",
       "    </tr>\n",
       "    <tr>\n",
       "      <th>2491</th>\n",
       "      <td>0.697776</td>\n",
       "      <td>-0.045757</td>\n",
       "    </tr>\n",
       "    <tr>\n",
       "      <th>2508</th>\n",
       "      <td>0.414640</td>\n",
       "      <td>-0.096910</td>\n",
       "    </tr>\n",
       "    <tr>\n",
       "      <th>2696</th>\n",
       "      <td>0.050577</td>\n",
       "      <td>-0.522879</td>\n",
       "    </tr>\n",
       "    <tr>\n",
       "      <th>2703</th>\n",
       "      <td>0.191706</td>\n",
       "      <td>-0.397940</td>\n",
       "    </tr>\n",
       "    <tr>\n",
       "      <th>2715</th>\n",
       "      <td>0.655980</td>\n",
       "      <td>-0.522879</td>\n",
       "    </tr>\n",
       "    <tr>\n",
       "      <th>2967</th>\n",
       "      <td>0.409816</td>\n",
       "      <td>-0.045757</td>\n",
       "    </tr>\n",
       "    <tr>\n",
       "      <th>3213</th>\n",
       "      <td>0.352363</td>\n",
       "      <td>-0.096910</td>\n",
       "    </tr>\n",
       "    <tr>\n",
       "      <th>3224</th>\n",
       "      <td>0.324525</td>\n",
       "      <td>-0.221849</td>\n",
       "    </tr>\n",
       "    <tr>\n",
       "      <th>3268</th>\n",
       "      <td>0.595416</td>\n",
       "      <td>-0.045757</td>\n",
       "    </tr>\n",
       "    <tr>\n",
       "      <th>...</th>\n",
       "      <td>...</td>\n",
       "      <td>...</td>\n",
       "    </tr>\n",
       "    <tr>\n",
       "      <th>10700</th>\n",
       "      <td>0.457901</td>\n",
       "      <td>-0.154902</td>\n",
       "    </tr>\n",
       "    <tr>\n",
       "      <th>10761</th>\n",
       "      <td>0.776322</td>\n",
       "      <td>-0.154902</td>\n",
       "    </tr>\n",
       "    <tr>\n",
       "      <th>11083</th>\n",
       "      <td>0.356380</td>\n",
       "      <td>-0.154902</td>\n",
       "    </tr>\n",
       "    <tr>\n",
       "      <th>11093</th>\n",
       "      <td>0.472147</td>\n",
       "      <td>-0.096910</td>\n",
       "    </tr>\n",
       "    <tr>\n",
       "      <th>11132</th>\n",
       "      <td>0.304184</td>\n",
       "      <td>-0.698970</td>\n",
       "    </tr>\n",
       "    <tr>\n",
       "      <th>11138</th>\n",
       "      <td>0.764068</td>\n",
       "      <td>-0.096910</td>\n",
       "    </tr>\n",
       "    <tr>\n",
       "      <th>11175</th>\n",
       "      <td>0.158541</td>\n",
       "      <td>-0.698970</td>\n",
       "    </tr>\n",
       "    <tr>\n",
       "      <th>11204</th>\n",
       "      <td>0.280896</td>\n",
       "      <td>-0.154902</td>\n",
       "    </tr>\n",
       "    <tr>\n",
       "      <th>11290</th>\n",
       "      <td>0.491777</td>\n",
       "      <td>-0.397940</td>\n",
       "    </tr>\n",
       "    <tr>\n",
       "      <th>11764</th>\n",
       "      <td>-0.151620</td>\n",
       "      <td>-1.000000</td>\n",
       "    </tr>\n",
       "    <tr>\n",
       "      <th>11769</th>\n",
       "      <td>0.503970</td>\n",
       "      <td>-0.301030</td>\n",
       "    </tr>\n",
       "    <tr>\n",
       "      <th>11806</th>\n",
       "      <td>-0.012776</td>\n",
       "      <td>-1.000000</td>\n",
       "    </tr>\n",
       "    <tr>\n",
       "      <th>11835</th>\n",
       "      <td>-0.014335</td>\n",
       "      <td>-0.698970</td>\n",
       "    </tr>\n",
       "    <tr>\n",
       "      <th>11920</th>\n",
       "      <td>0.468166</td>\n",
       "      <td>-0.698970</td>\n",
       "    </tr>\n",
       "    <tr>\n",
       "      <th>12021</th>\n",
       "      <td>0.003852</td>\n",
       "      <td>-1.000000</td>\n",
       "    </tr>\n",
       "    <tr>\n",
       "      <th>12045</th>\n",
       "      <td>0.617299</td>\n",
       "      <td>-0.045757</td>\n",
       "    </tr>\n",
       "    <tr>\n",
       "      <th>12059</th>\n",
       "      <td>0.524864</td>\n",
       "      <td>-0.096910</td>\n",
       "    </tr>\n",
       "    <tr>\n",
       "      <th>12122</th>\n",
       "      <td>0.306924</td>\n",
       "      <td>-0.698970</td>\n",
       "    </tr>\n",
       "    <tr>\n",
       "      <th>12201</th>\n",
       "      <td>0.604968</td>\n",
       "      <td>-0.522879</td>\n",
       "    </tr>\n",
       "    <tr>\n",
       "      <th>12367</th>\n",
       "      <td>0.059343</td>\n",
       "      <td>-1.000000</td>\n",
       "    </tr>\n",
       "    <tr>\n",
       "      <th>12394</th>\n",
       "      <td>0.356176</td>\n",
       "      <td>-0.096910</td>\n",
       "    </tr>\n",
       "    <tr>\n",
       "      <th>12433</th>\n",
       "      <td>0.274244</td>\n",
       "      <td>-0.221849</td>\n",
       "    </tr>\n",
       "    <tr>\n",
       "      <th>12860</th>\n",
       "      <td>-0.126781</td>\n",
       "      <td>-0.522879</td>\n",
       "    </tr>\n",
       "    <tr>\n",
       "      <th>13001</th>\n",
       "      <td>0.382803</td>\n",
       "      <td>-0.221849</td>\n",
       "    </tr>\n",
       "    <tr>\n",
       "      <th>13057</th>\n",
       "      <td>0.376560</td>\n",
       "      <td>-0.301030</td>\n",
       "    </tr>\n",
       "    <tr>\n",
       "      <th>13152</th>\n",
       "      <td>0.447912</td>\n",
       "      <td>-0.045757</td>\n",
       "    </tr>\n",
       "    <tr>\n",
       "      <th>13212</th>\n",
       "      <td>0.447991</td>\n",
       "      <td>-0.522879</td>\n",
       "    </tr>\n",
       "    <tr>\n",
       "      <th>13310</th>\n",
       "      <td>0.598764</td>\n",
       "      <td>-0.221849</td>\n",
       "    </tr>\n",
       "    <tr>\n",
       "      <th>13324</th>\n",
       "      <td>0.592681</td>\n",
       "      <td>-0.154902</td>\n",
       "    </tr>\n",
       "    <tr>\n",
       "      <th>13336</th>\n",
       "      <td>0.583327</td>\n",
       "      <td>-0.522879</td>\n",
       "    </tr>\n",
       "  </tbody>\n",
       "</table>\n",
       "<p>139 rows × 2 columns</p>\n",
       "</div>"
      ],
      "text/plain": [
       "              0     score\n",
       "119    0.518169 -0.221849\n",
       "125    0.299389 -0.397940\n",
       "232    0.432394 -0.698970\n",
       "459    0.586575 -0.301030\n",
       "661    0.409409 -0.154902\n",
       "816   -0.047624 -0.397940\n",
       "921    0.544513 -0.154902\n",
       "955    0.790518 -0.221849\n",
       "1039  -0.069707 -0.522879\n",
       "1049  -0.001898 -0.698970\n",
       "1286   0.173958 -0.522879\n",
       "1410   0.139206 -0.698970\n",
       "1624   0.562135 -1.000000\n",
       "1639   0.173902 -0.522879\n",
       "1711   0.789022 -0.221849\n",
       "2029   0.313839 -0.522879\n",
       "2063   0.256026 -0.397940\n",
       "2142   0.462290 -0.154902\n",
       "2218   0.447929 -0.397940\n",
       "2315   0.402826 -0.096910\n",
       "2363   0.248936 -0.397940\n",
       "2491   0.697776 -0.045757\n",
       "2508   0.414640 -0.096910\n",
       "2696   0.050577 -0.522879\n",
       "2703   0.191706 -0.397940\n",
       "2715   0.655980 -0.522879\n",
       "2967   0.409816 -0.045757\n",
       "3213   0.352363 -0.096910\n",
       "3224   0.324525 -0.221849\n",
       "3268   0.595416 -0.045757\n",
       "...         ...       ...\n",
       "10700  0.457901 -0.154902\n",
       "10761  0.776322 -0.154902\n",
       "11083  0.356380 -0.154902\n",
       "11093  0.472147 -0.096910\n",
       "11132  0.304184 -0.698970\n",
       "11138  0.764068 -0.096910\n",
       "11175  0.158541 -0.698970\n",
       "11204  0.280896 -0.154902\n",
       "11290  0.491777 -0.397940\n",
       "11764 -0.151620 -1.000000\n",
       "11769  0.503970 -0.301030\n",
       "11806 -0.012776 -1.000000\n",
       "11835 -0.014335 -0.698970\n",
       "11920  0.468166 -0.698970\n",
       "12021  0.003852 -1.000000\n",
       "12045  0.617299 -0.045757\n",
       "12059  0.524864 -0.096910\n",
       "12122  0.306924 -0.698970\n",
       "12201  0.604968 -0.522879\n",
       "12367  0.059343 -1.000000\n",
       "12394  0.356176 -0.096910\n",
       "12433  0.274244 -0.221849\n",
       "12860 -0.126781 -0.522879\n",
       "13001  0.382803 -0.221849\n",
       "13057  0.376560 -0.301030\n",
       "13152  0.447912 -0.045757\n",
       "13212  0.447991 -0.522879\n",
       "13310  0.598764 -0.221849\n",
       "13324  0.592681 -0.154902\n",
       "13336  0.583327 -0.522879\n",
       "\n",
       "[139 rows x 2 columns]"
      ]
     },
     "execution_count": 884,
     "metadata": {},
     "output_type": "execute_result"
    }
   ],
   "source": [
    "sub[sub[\"score\"] < 0]"
   ]
  },
  {
   "cell_type": "code",
   "execution_count": 39,
   "metadata": {},
   "outputs": [
    {
     "data": {
      "text/html": [
       "<div>\n",
       "<style scoped>\n",
       "    .dataframe tbody tr th:only-of-type {\n",
       "        vertical-align: middle;\n",
       "    }\n",
       "\n",
       "    .dataframe tbody tr th {\n",
       "        vertical-align: top;\n",
       "    }\n",
       "\n",
       "    .dataframe thead th {\n",
       "        text-align: right;\n",
       "    }\n",
       "</style>\n",
       "<table border=\"1\" class=\"dataframe\">\n",
       "  <thead>\n",
       "    <tr style=\"text-align: right;\">\n",
       "      <th></th>\n",
       "      <th>0</th>\n",
       "      <th>score</th>\n",
       "    </tr>\n",
       "  </thead>\n",
       "  <tbody>\n",
       "    <tr>\n",
       "      <th>119</th>\n",
       "      <td>0.493657</td>\n",
       "      <td>-0.221849</td>\n",
       "    </tr>\n",
       "    <tr>\n",
       "      <th>125</th>\n",
       "      <td>0.312575</td>\n",
       "      <td>-0.397940</td>\n",
       "    </tr>\n",
       "    <tr>\n",
       "      <th>232</th>\n",
       "      <td>0.473044</td>\n",
       "      <td>-0.698970</td>\n",
       "    </tr>\n",
       "    <tr>\n",
       "      <th>459</th>\n",
       "      <td>0.540625</td>\n",
       "      <td>-0.301030</td>\n",
       "    </tr>\n",
       "    <tr>\n",
       "      <th>661</th>\n",
       "      <td>0.232448</td>\n",
       "      <td>-0.154902</td>\n",
       "    </tr>\n",
       "    <tr>\n",
       "      <th>816</th>\n",
       "      <td>0.045601</td>\n",
       "      <td>-0.397940</td>\n",
       "    </tr>\n",
       "    <tr>\n",
       "      <th>921</th>\n",
       "      <td>0.581561</td>\n",
       "      <td>-0.154902</td>\n",
       "    </tr>\n",
       "    <tr>\n",
       "      <th>955</th>\n",
       "      <td>0.909707</td>\n",
       "      <td>-0.221849</td>\n",
       "    </tr>\n",
       "    <tr>\n",
       "      <th>1039</th>\n",
       "      <td>-0.101250</td>\n",
       "      <td>-0.522879</td>\n",
       "    </tr>\n",
       "    <tr>\n",
       "      <th>1049</th>\n",
       "      <td>-0.064001</td>\n",
       "      <td>-0.698970</td>\n",
       "    </tr>\n",
       "    <tr>\n",
       "      <th>1286</th>\n",
       "      <td>0.289845</td>\n",
       "      <td>-0.522879</td>\n",
       "    </tr>\n",
       "    <tr>\n",
       "      <th>1410</th>\n",
       "      <td>0.240011</td>\n",
       "      <td>-0.698970</td>\n",
       "    </tr>\n",
       "    <tr>\n",
       "      <th>1624</th>\n",
       "      <td>0.667215</td>\n",
       "      <td>-1.000000</td>\n",
       "    </tr>\n",
       "    <tr>\n",
       "      <th>1639</th>\n",
       "      <td>0.257257</td>\n",
       "      <td>-0.522879</td>\n",
       "    </tr>\n",
       "    <tr>\n",
       "      <th>1711</th>\n",
       "      <td>0.754193</td>\n",
       "      <td>-0.221849</td>\n",
       "    </tr>\n",
       "    <tr>\n",
       "      <th>2029</th>\n",
       "      <td>0.325217</td>\n",
       "      <td>-0.522879</td>\n",
       "    </tr>\n",
       "    <tr>\n",
       "      <th>2063</th>\n",
       "      <td>0.367476</td>\n",
       "      <td>-0.397940</td>\n",
       "    </tr>\n",
       "    <tr>\n",
       "      <th>2142</th>\n",
       "      <td>0.594354</td>\n",
       "      <td>-0.154902</td>\n",
       "    </tr>\n",
       "    <tr>\n",
       "      <th>2218</th>\n",
       "      <td>0.527143</td>\n",
       "      <td>-0.397940</td>\n",
       "    </tr>\n",
       "    <tr>\n",
       "      <th>2315</th>\n",
       "      <td>0.481233</td>\n",
       "      <td>-0.096910</td>\n",
       "    </tr>\n",
       "    <tr>\n",
       "      <th>2363</th>\n",
       "      <td>0.405890</td>\n",
       "      <td>-0.397940</td>\n",
       "    </tr>\n",
       "    <tr>\n",
       "      <th>2491</th>\n",
       "      <td>0.745989</td>\n",
       "      <td>-0.045757</td>\n",
       "    </tr>\n",
       "    <tr>\n",
       "      <th>2508</th>\n",
       "      <td>0.567204</td>\n",
       "      <td>-0.096910</td>\n",
       "    </tr>\n",
       "    <tr>\n",
       "      <th>2696</th>\n",
       "      <td>0.222012</td>\n",
       "      <td>-0.522879</td>\n",
       "    </tr>\n",
       "    <tr>\n",
       "      <th>2703</th>\n",
       "      <td>0.353504</td>\n",
       "      <td>-0.397940</td>\n",
       "    </tr>\n",
       "    <tr>\n",
       "      <th>2715</th>\n",
       "      <td>0.637337</td>\n",
       "      <td>-0.522879</td>\n",
       "    </tr>\n",
       "    <tr>\n",
       "      <th>2967</th>\n",
       "      <td>0.497228</td>\n",
       "      <td>-0.045757</td>\n",
       "    </tr>\n",
       "    <tr>\n",
       "      <th>3213</th>\n",
       "      <td>0.413559</td>\n",
       "      <td>-0.096910</td>\n",
       "    </tr>\n",
       "    <tr>\n",
       "      <th>3224</th>\n",
       "      <td>0.372440</td>\n",
       "      <td>-0.221849</td>\n",
       "    </tr>\n",
       "    <tr>\n",
       "      <th>3268</th>\n",
       "      <td>0.678194</td>\n",
       "      <td>-0.045757</td>\n",
       "    </tr>\n",
       "    <tr>\n",
       "      <th>...</th>\n",
       "      <td>...</td>\n",
       "      <td>...</td>\n",
       "    </tr>\n",
       "    <tr>\n",
       "      <th>10700</th>\n",
       "      <td>0.645643</td>\n",
       "      <td>-0.154902</td>\n",
       "    </tr>\n",
       "    <tr>\n",
       "      <th>10761</th>\n",
       "      <td>0.831209</td>\n",
       "      <td>-0.154902</td>\n",
       "    </tr>\n",
       "    <tr>\n",
       "      <th>11083</th>\n",
       "      <td>0.484834</td>\n",
       "      <td>-0.154902</td>\n",
       "    </tr>\n",
       "    <tr>\n",
       "      <th>11093</th>\n",
       "      <td>0.445479</td>\n",
       "      <td>-0.096910</td>\n",
       "    </tr>\n",
       "    <tr>\n",
       "      <th>11132</th>\n",
       "      <td>0.191267</td>\n",
       "      <td>-0.698970</td>\n",
       "    </tr>\n",
       "    <tr>\n",
       "      <th>11138</th>\n",
       "      <td>0.674421</td>\n",
       "      <td>-0.096910</td>\n",
       "    </tr>\n",
       "    <tr>\n",
       "      <th>11175</th>\n",
       "      <td>0.118924</td>\n",
       "      <td>-0.698970</td>\n",
       "    </tr>\n",
       "    <tr>\n",
       "      <th>11204</th>\n",
       "      <td>0.415538</td>\n",
       "      <td>-0.154902</td>\n",
       "    </tr>\n",
       "    <tr>\n",
       "      <th>11290</th>\n",
       "      <td>0.500575</td>\n",
       "      <td>-0.397940</td>\n",
       "    </tr>\n",
       "    <tr>\n",
       "      <th>11764</th>\n",
       "      <td>-0.099355</td>\n",
       "      <td>-1.000000</td>\n",
       "    </tr>\n",
       "    <tr>\n",
       "      <th>11769</th>\n",
       "      <td>0.381165</td>\n",
       "      <td>-0.301030</td>\n",
       "    </tr>\n",
       "    <tr>\n",
       "      <th>11806</th>\n",
       "      <td>-0.265761</td>\n",
       "      <td>-1.000000</td>\n",
       "    </tr>\n",
       "    <tr>\n",
       "      <th>11835</th>\n",
       "      <td>0.029510</td>\n",
       "      <td>-0.698970</td>\n",
       "    </tr>\n",
       "    <tr>\n",
       "      <th>11920</th>\n",
       "      <td>0.007518</td>\n",
       "      <td>-0.698970</td>\n",
       "    </tr>\n",
       "    <tr>\n",
       "      <th>12021</th>\n",
       "      <td>-0.244544</td>\n",
       "      <td>-1.000000</td>\n",
       "    </tr>\n",
       "    <tr>\n",
       "      <th>12045</th>\n",
       "      <td>0.647203</td>\n",
       "      <td>-0.045757</td>\n",
       "    </tr>\n",
       "    <tr>\n",
       "      <th>12059</th>\n",
       "      <td>0.499727</td>\n",
       "      <td>-0.096910</td>\n",
       "    </tr>\n",
       "    <tr>\n",
       "      <th>12122</th>\n",
       "      <td>0.303962</td>\n",
       "      <td>-0.698970</td>\n",
       "    </tr>\n",
       "    <tr>\n",
       "      <th>12201</th>\n",
       "      <td>0.594770</td>\n",
       "      <td>-0.522879</td>\n",
       "    </tr>\n",
       "    <tr>\n",
       "      <th>12367</th>\n",
       "      <td>0.013856</td>\n",
       "      <td>-1.000000</td>\n",
       "    </tr>\n",
       "    <tr>\n",
       "      <th>12394</th>\n",
       "      <td>0.444311</td>\n",
       "      <td>-0.096910</td>\n",
       "    </tr>\n",
       "    <tr>\n",
       "      <th>12433</th>\n",
       "      <td>0.201836</td>\n",
       "      <td>-0.221849</td>\n",
       "    </tr>\n",
       "    <tr>\n",
       "      <th>12860</th>\n",
       "      <td>-0.270949</td>\n",
       "      <td>-0.522879</td>\n",
       "    </tr>\n",
       "    <tr>\n",
       "      <th>13001</th>\n",
       "      <td>0.435391</td>\n",
       "      <td>-0.221849</td>\n",
       "    </tr>\n",
       "    <tr>\n",
       "      <th>13057</th>\n",
       "      <td>0.610193</td>\n",
       "      <td>-0.301030</td>\n",
       "    </tr>\n",
       "    <tr>\n",
       "      <th>13152</th>\n",
       "      <td>0.543343</td>\n",
       "      <td>-0.045757</td>\n",
       "    </tr>\n",
       "    <tr>\n",
       "      <th>13212</th>\n",
       "      <td>0.457466</td>\n",
       "      <td>-0.522879</td>\n",
       "    </tr>\n",
       "    <tr>\n",
       "      <th>13310</th>\n",
       "      <td>0.728161</td>\n",
       "      <td>-0.221849</td>\n",
       "    </tr>\n",
       "    <tr>\n",
       "      <th>13324</th>\n",
       "      <td>0.706993</td>\n",
       "      <td>-0.154902</td>\n",
       "    </tr>\n",
       "    <tr>\n",
       "      <th>13336</th>\n",
       "      <td>0.444498</td>\n",
       "      <td>-0.522879</td>\n",
       "    </tr>\n",
       "  </tbody>\n",
       "</table>\n",
       "<p>139 rows × 2 columns</p>\n",
       "</div>"
      ],
      "text/plain": [
       "              0     score\n",
       "119    0.493657 -0.221849\n",
       "125    0.312575 -0.397940\n",
       "232    0.473044 -0.698970\n",
       "459    0.540625 -0.301030\n",
       "661    0.232448 -0.154902\n",
       "816    0.045601 -0.397940\n",
       "921    0.581561 -0.154902\n",
       "955    0.909707 -0.221849\n",
       "1039  -0.101250 -0.522879\n",
       "1049  -0.064001 -0.698970\n",
       "1286   0.289845 -0.522879\n",
       "1410   0.240011 -0.698970\n",
       "1624   0.667215 -1.000000\n",
       "1639   0.257257 -0.522879\n",
       "1711   0.754193 -0.221849\n",
       "2029   0.325217 -0.522879\n",
       "2063   0.367476 -0.397940\n",
       "2142   0.594354 -0.154902\n",
       "2218   0.527143 -0.397940\n",
       "2315   0.481233 -0.096910\n",
       "2363   0.405890 -0.397940\n",
       "2491   0.745989 -0.045757\n",
       "2508   0.567204 -0.096910\n",
       "2696   0.222012 -0.522879\n",
       "2703   0.353504 -0.397940\n",
       "2715   0.637337 -0.522879\n",
       "2967   0.497228 -0.045757\n",
       "3213   0.413559 -0.096910\n",
       "3224   0.372440 -0.221849\n",
       "3268   0.678194 -0.045757\n",
       "...         ...       ...\n",
       "10700  0.645643 -0.154902\n",
       "10761  0.831209 -0.154902\n",
       "11083  0.484834 -0.154902\n",
       "11093  0.445479 -0.096910\n",
       "11132  0.191267 -0.698970\n",
       "11138  0.674421 -0.096910\n",
       "11175  0.118924 -0.698970\n",
       "11204  0.415538 -0.154902\n",
       "11290  0.500575 -0.397940\n",
       "11764 -0.099355 -1.000000\n",
       "11769  0.381165 -0.301030\n",
       "11806 -0.265761 -1.000000\n",
       "11835  0.029510 -0.698970\n",
       "11920  0.007518 -0.698970\n",
       "12021 -0.244544 -1.000000\n",
       "12045  0.647203 -0.045757\n",
       "12059  0.499727 -0.096910\n",
       "12122  0.303962 -0.698970\n",
       "12201  0.594770 -0.522879\n",
       "12367  0.013856 -1.000000\n",
       "12394  0.444311 -0.096910\n",
       "12433  0.201836 -0.221849\n",
       "12860 -0.270949 -0.522879\n",
       "13001  0.435391 -0.221849\n",
       "13057  0.610193 -0.301030\n",
       "13152  0.543343 -0.045757\n",
       "13212  0.457466 -0.522879\n",
       "13310  0.728161 -0.221849\n",
       "13324  0.706993 -0.154902\n",
       "13336  0.444498 -0.522879\n",
       "\n",
       "[139 rows x 2 columns]"
      ]
     },
     "execution_count": 39,
     "metadata": {},
     "output_type": "execute_result"
    }
   ],
   "source": [
    "sub[sub[\"score\"] < 0]"
   ]
  },
  {
   "cell_type": "code",
   "execution_count": 35,
   "metadata": {},
   "outputs": [
    {
     "data": {
      "text/html": [
       "<div>\n",
       "<style scoped>\n",
       "    .dataframe tbody tr th:only-of-type {\n",
       "        vertical-align: middle;\n",
       "    }\n",
       "\n",
       "    .dataframe tbody tr th {\n",
       "        vertical-align: top;\n",
       "    }\n",
       "\n",
       "    .dataframe thead th {\n",
       "        text-align: right;\n",
       "    }\n",
       "</style>\n",
       "<table border=\"1\" class=\"dataframe\">\n",
       "  <thead>\n",
       "    <tr style=\"text-align: right;\">\n",
       "      <th></th>\n",
       "      <th>0</th>\n",
       "      <th>score</th>\n",
       "    </tr>\n",
       "  </thead>\n",
       "  <tbody>\n",
       "    <tr>\n",
       "      <th>119</th>\n",
       "      <td>0.725394</td>\n",
       "      <td>-0.221849</td>\n",
       "    </tr>\n",
       "    <tr>\n",
       "      <th>125</th>\n",
       "      <td>0.145300</td>\n",
       "      <td>-0.397940</td>\n",
       "    </tr>\n",
       "    <tr>\n",
       "      <th>232</th>\n",
       "      <td>0.237259</td>\n",
       "      <td>-0.698970</td>\n",
       "    </tr>\n",
       "    <tr>\n",
       "      <th>459</th>\n",
       "      <td>0.487594</td>\n",
       "      <td>-0.301030</td>\n",
       "    </tr>\n",
       "    <tr>\n",
       "      <th>661</th>\n",
       "      <td>0.445438</td>\n",
       "      <td>-0.154902</td>\n",
       "    </tr>\n",
       "    <tr>\n",
       "      <th>816</th>\n",
       "      <td>-0.053280</td>\n",
       "      <td>-0.397940</td>\n",
       "    </tr>\n",
       "    <tr>\n",
       "      <th>921</th>\n",
       "      <td>0.455493</td>\n",
       "      <td>-0.154902</td>\n",
       "    </tr>\n",
       "    <tr>\n",
       "      <th>955</th>\n",
       "      <td>0.889227</td>\n",
       "      <td>-0.221849</td>\n",
       "    </tr>\n",
       "    <tr>\n",
       "      <th>1039</th>\n",
       "      <td>-0.001027</td>\n",
       "      <td>-0.522879</td>\n",
       "    </tr>\n",
       "    <tr>\n",
       "      <th>1049</th>\n",
       "      <td>-0.047808</td>\n",
       "      <td>-0.698970</td>\n",
       "    </tr>\n",
       "    <tr>\n",
       "      <th>1286</th>\n",
       "      <td>0.037316</td>\n",
       "      <td>-0.522879</td>\n",
       "    </tr>\n",
       "    <tr>\n",
       "      <th>1410</th>\n",
       "      <td>0.020939</td>\n",
       "      <td>-0.698970</td>\n",
       "    </tr>\n",
       "    <tr>\n",
       "      <th>1624</th>\n",
       "      <td>0.375726</td>\n",
       "      <td>-1.000000</td>\n",
       "    </tr>\n",
       "    <tr>\n",
       "      <th>1639</th>\n",
       "      <td>0.219712</td>\n",
       "      <td>-0.522879</td>\n",
       "    </tr>\n",
       "    <tr>\n",
       "      <th>1711</th>\n",
       "      <td>0.903538</td>\n",
       "      <td>-0.221849</td>\n",
       "    </tr>\n",
       "    <tr>\n",
       "      <th>2029</th>\n",
       "      <td>0.245257</td>\n",
       "      <td>-0.522879</td>\n",
       "    </tr>\n",
       "    <tr>\n",
       "      <th>2063</th>\n",
       "      <td>0.207675</td>\n",
       "      <td>-0.397940</td>\n",
       "    </tr>\n",
       "    <tr>\n",
       "      <th>2142</th>\n",
       "      <td>0.568068</td>\n",
       "      <td>-0.154902</td>\n",
       "    </tr>\n",
       "    <tr>\n",
       "      <th>2218</th>\n",
       "      <td>0.470033</td>\n",
       "      <td>-0.397940</td>\n",
       "    </tr>\n",
       "    <tr>\n",
       "      <th>2315</th>\n",
       "      <td>0.385540</td>\n",
       "      <td>-0.096910</td>\n",
       "    </tr>\n",
       "    <tr>\n",
       "      <th>2363</th>\n",
       "      <td>0.333407</td>\n",
       "      <td>-0.397940</td>\n",
       "    </tr>\n",
       "    <tr>\n",
       "      <th>2491</th>\n",
       "      <td>0.776311</td>\n",
       "      <td>-0.045757</td>\n",
       "    </tr>\n",
       "    <tr>\n",
       "      <th>2508</th>\n",
       "      <td>0.386652</td>\n",
       "      <td>-0.096910</td>\n",
       "    </tr>\n",
       "    <tr>\n",
       "      <th>2696</th>\n",
       "      <td>0.026260</td>\n",
       "      <td>-0.522879</td>\n",
       "    </tr>\n",
       "    <tr>\n",
       "      <th>2703</th>\n",
       "      <td>0.245431</td>\n",
       "      <td>-0.397940</td>\n",
       "    </tr>\n",
       "    <tr>\n",
       "      <th>2715</th>\n",
       "      <td>0.666083</td>\n",
       "      <td>-0.522879</td>\n",
       "    </tr>\n",
       "    <tr>\n",
       "      <th>2967</th>\n",
       "      <td>0.400268</td>\n",
       "      <td>-0.045757</td>\n",
       "    </tr>\n",
       "    <tr>\n",
       "      <th>3213</th>\n",
       "      <td>0.408674</td>\n",
       "      <td>-0.096910</td>\n",
       "    </tr>\n",
       "    <tr>\n",
       "      <th>3224</th>\n",
       "      <td>0.385005</td>\n",
       "      <td>-0.221849</td>\n",
       "    </tr>\n",
       "    <tr>\n",
       "      <th>3268</th>\n",
       "      <td>0.661063</td>\n",
       "      <td>-0.045757</td>\n",
       "    </tr>\n",
       "    <tr>\n",
       "      <th>...</th>\n",
       "      <td>...</td>\n",
       "      <td>...</td>\n",
       "    </tr>\n",
       "    <tr>\n",
       "      <th>10700</th>\n",
       "      <td>0.423988</td>\n",
       "      <td>-0.154902</td>\n",
       "    </tr>\n",
       "    <tr>\n",
       "      <th>10761</th>\n",
       "      <td>0.681689</td>\n",
       "      <td>-0.154902</td>\n",
       "    </tr>\n",
       "    <tr>\n",
       "      <th>11083</th>\n",
       "      <td>0.199672</td>\n",
       "      <td>-0.154902</td>\n",
       "    </tr>\n",
       "    <tr>\n",
       "      <th>11093</th>\n",
       "      <td>0.468459</td>\n",
       "      <td>-0.096910</td>\n",
       "    </tr>\n",
       "    <tr>\n",
       "      <th>11132</th>\n",
       "      <td>0.336507</td>\n",
       "      <td>-0.698970</td>\n",
       "    </tr>\n",
       "    <tr>\n",
       "      <th>11138</th>\n",
       "      <td>0.705427</td>\n",
       "      <td>-0.096910</td>\n",
       "    </tr>\n",
       "    <tr>\n",
       "      <th>11175</th>\n",
       "      <td>-0.025565</td>\n",
       "      <td>-0.698970</td>\n",
       "    </tr>\n",
       "    <tr>\n",
       "      <th>11204</th>\n",
       "      <td>0.423544</td>\n",
       "      <td>-0.154902</td>\n",
       "    </tr>\n",
       "    <tr>\n",
       "      <th>11290</th>\n",
       "      <td>0.302460</td>\n",
       "      <td>-0.397940</td>\n",
       "    </tr>\n",
       "    <tr>\n",
       "      <th>11764</th>\n",
       "      <td>-0.237997</td>\n",
       "      <td>-1.000000</td>\n",
       "    </tr>\n",
       "    <tr>\n",
       "      <th>11769</th>\n",
       "      <td>0.716117</td>\n",
       "      <td>-0.301030</td>\n",
       "    </tr>\n",
       "    <tr>\n",
       "      <th>11806</th>\n",
       "      <td>-0.093497</td>\n",
       "      <td>-1.000000</td>\n",
       "    </tr>\n",
       "    <tr>\n",
       "      <th>11835</th>\n",
       "      <td>-0.103768</td>\n",
       "      <td>-0.698970</td>\n",
       "    </tr>\n",
       "    <tr>\n",
       "      <th>11920</th>\n",
       "      <td>0.498719</td>\n",
       "      <td>-0.698970</td>\n",
       "    </tr>\n",
       "    <tr>\n",
       "      <th>12021</th>\n",
       "      <td>-0.037988</td>\n",
       "      <td>-1.000000</td>\n",
       "    </tr>\n",
       "    <tr>\n",
       "      <th>12045</th>\n",
       "      <td>0.670457</td>\n",
       "      <td>-0.045757</td>\n",
       "    </tr>\n",
       "    <tr>\n",
       "      <th>12059</th>\n",
       "      <td>0.486791</td>\n",
       "      <td>-0.096910</td>\n",
       "    </tr>\n",
       "    <tr>\n",
       "      <th>12122</th>\n",
       "      <td>0.408244</td>\n",
       "      <td>-0.698970</td>\n",
       "    </tr>\n",
       "    <tr>\n",
       "      <th>12201</th>\n",
       "      <td>0.490127</td>\n",
       "      <td>-0.522879</td>\n",
       "    </tr>\n",
       "    <tr>\n",
       "      <th>12367</th>\n",
       "      <td>0.242796</td>\n",
       "      <td>-1.000000</td>\n",
       "    </tr>\n",
       "    <tr>\n",
       "      <th>12394</th>\n",
       "      <td>0.362172</td>\n",
       "      <td>-0.096910</td>\n",
       "    </tr>\n",
       "    <tr>\n",
       "      <th>12433</th>\n",
       "      <td>0.359289</td>\n",
       "      <td>-0.221849</td>\n",
       "    </tr>\n",
       "    <tr>\n",
       "      <th>12860</th>\n",
       "      <td>0.074005</td>\n",
       "      <td>-0.522879</td>\n",
       "    </tr>\n",
       "    <tr>\n",
       "      <th>13001</th>\n",
       "      <td>0.389825</td>\n",
       "      <td>-0.221849</td>\n",
       "    </tr>\n",
       "    <tr>\n",
       "      <th>13057</th>\n",
       "      <td>0.510307</td>\n",
       "      <td>-0.301030</td>\n",
       "    </tr>\n",
       "    <tr>\n",
       "      <th>13152</th>\n",
       "      <td>0.434654</td>\n",
       "      <td>-0.045757</td>\n",
       "    </tr>\n",
       "    <tr>\n",
       "      <th>13212</th>\n",
       "      <td>0.343589</td>\n",
       "      <td>-0.522879</td>\n",
       "    </tr>\n",
       "    <tr>\n",
       "      <th>13310</th>\n",
       "      <td>0.574537</td>\n",
       "      <td>-0.221849</td>\n",
       "    </tr>\n",
       "    <tr>\n",
       "      <th>13324</th>\n",
       "      <td>0.511906</td>\n",
       "      <td>-0.154902</td>\n",
       "    </tr>\n",
       "    <tr>\n",
       "      <th>13336</th>\n",
       "      <td>0.401511</td>\n",
       "      <td>-0.522879</td>\n",
       "    </tr>\n",
       "  </tbody>\n",
       "</table>\n",
       "<p>139 rows × 2 columns</p>\n",
       "</div>"
      ],
      "text/plain": [
       "              0     score\n",
       "119    0.725394 -0.221849\n",
       "125    0.145300 -0.397940\n",
       "232    0.237259 -0.698970\n",
       "459    0.487594 -0.301030\n",
       "661    0.445438 -0.154902\n",
       "816   -0.053280 -0.397940\n",
       "921    0.455493 -0.154902\n",
       "955    0.889227 -0.221849\n",
       "1039  -0.001027 -0.522879\n",
       "1049  -0.047808 -0.698970\n",
       "1286   0.037316 -0.522879\n",
       "1410   0.020939 -0.698970\n",
       "1624   0.375726 -1.000000\n",
       "1639   0.219712 -0.522879\n",
       "1711   0.903538 -0.221849\n",
       "2029   0.245257 -0.522879\n",
       "2063   0.207675 -0.397940\n",
       "2142   0.568068 -0.154902\n",
       "2218   0.470033 -0.397940\n",
       "2315   0.385540 -0.096910\n",
       "2363   0.333407 -0.397940\n",
       "2491   0.776311 -0.045757\n",
       "2508   0.386652 -0.096910\n",
       "2696   0.026260 -0.522879\n",
       "2703   0.245431 -0.397940\n",
       "2715   0.666083 -0.522879\n",
       "2967   0.400268 -0.045757\n",
       "3213   0.408674 -0.096910\n",
       "3224   0.385005 -0.221849\n",
       "3268   0.661063 -0.045757\n",
       "...         ...       ...\n",
       "10700  0.423988 -0.154902\n",
       "10761  0.681689 -0.154902\n",
       "11083  0.199672 -0.154902\n",
       "11093  0.468459 -0.096910\n",
       "11132  0.336507 -0.698970\n",
       "11138  0.705427 -0.096910\n",
       "11175 -0.025565 -0.698970\n",
       "11204  0.423544 -0.154902\n",
       "11290  0.302460 -0.397940\n",
       "11764 -0.237997 -1.000000\n",
       "11769  0.716117 -0.301030\n",
       "11806 -0.093497 -1.000000\n",
       "11835 -0.103768 -0.698970\n",
       "11920  0.498719 -0.698970\n",
       "12021 -0.037988 -1.000000\n",
       "12045  0.670457 -0.045757\n",
       "12059  0.486791 -0.096910\n",
       "12122  0.408244 -0.698970\n",
       "12201  0.490127 -0.522879\n",
       "12367  0.242796 -1.000000\n",
       "12394  0.362172 -0.096910\n",
       "12433  0.359289 -0.221849\n",
       "12860  0.074005 -0.522879\n",
       "13001  0.389825 -0.221849\n",
       "13057  0.510307 -0.301030\n",
       "13152  0.434654 -0.045757\n",
       "13212  0.343589 -0.522879\n",
       "13310  0.574537 -0.221849\n",
       "13324  0.511906 -0.154902\n",
       "13336  0.401511 -0.522879\n",
       "\n",
       "[139 rows x 2 columns]"
      ]
     },
     "execution_count": 35,
     "metadata": {},
     "output_type": "execute_result"
    }
   ],
   "source": [
    "sub[sub[\"score\"] < 0]"
   ]
  },
  {
   "cell_type": "code",
   "execution_count": 31,
   "metadata": {},
   "outputs": [
    {
     "data": {
      "text/plain": [
       "-0.154902    23\n",
       "-0.522879    19\n",
       "-0.096910    19\n",
       "-0.698970    16\n",
       "-0.221849    14\n",
       "-0.397940    14\n",
       "-0.301030    14\n",
       "-0.045757    12\n",
       "-1.000000     8\n",
       "Name: score, dtype: int64"
      ]
     },
     "execution_count": 31,
     "metadata": {},
     "output_type": "execute_result"
    }
   ],
   "source": [
    "sub[sub[\"score\"] < 0][\"score\"].value_counts()"
   ]
  },
  {
   "cell_type": "code",
   "execution_count": 58,
   "metadata": {},
   "outputs": [
    {
     "name": "stderr",
     "output_type": "stream",
     "text": [
      "/usr/local/lib/python3.7/site-packages/ipykernel_launcher.py:1: RuntimeWarning: divide by zero encountered in log1p\n",
      "  \"\"\"Entry point for launching an IPython kernel.\n"
     ]
    },
    {
     "ename": "ValueError",
     "evalue": "supplied range of [-inf, 1.7357542137747388] is not finite",
     "output_type": "error",
     "traceback": [
      "\u001b[0;31m---------------------------------------------------------------------------\u001b[0m",
      "\u001b[0;31mValueError\u001b[0m                                Traceback (most recent call last)",
      "\u001b[0;32m<ipython-input-58-240ee84bf6bd>\u001b[0m in \u001b[0;36m<module>\u001b[0;34m()\u001b[0m\n\u001b[0;32m----> 1\u001b[0;31m \u001b[0mnp\u001b[0m\u001b[0;34m.\u001b[0m\u001b[0mlog1p\u001b[0m\u001b[0;34m(\u001b[0m\u001b[0msub\u001b[0m\u001b[0;34m[\u001b[0m\u001b[0;34m\"score\"\u001b[0m\u001b[0;34m]\u001b[0m\u001b[0;34m)\u001b[0m\u001b[0;34m.\u001b[0m\u001b[0mhist\u001b[0m\u001b[0;34m(\u001b[0m\u001b[0mbins\u001b[0m \u001b[0;34m=\u001b[0m \u001b[0;36m500\u001b[0m\u001b[0;34m)\u001b[0m\u001b[0;34m\u001b[0m\u001b[0m\n\u001b[0m",
      "\u001b[0;32m/usr/local/lib/python3.7/site-packages/pandas/plotting/_core.py\u001b[0m in \u001b[0;36mhist_series\u001b[0;34m(self, by, ax, grid, xlabelsize, xrot, ylabelsize, yrot, figsize, bins, **kwds)\u001b[0m\n\u001b[1;32m   2479\u001b[0m         \u001b[0mvalues\u001b[0m \u001b[0;34m=\u001b[0m \u001b[0mself\u001b[0m\u001b[0;34m.\u001b[0m\u001b[0mdropna\u001b[0m\u001b[0;34m(\u001b[0m\u001b[0;34m)\u001b[0m\u001b[0;34m.\u001b[0m\u001b[0mvalues\u001b[0m\u001b[0;34m\u001b[0m\u001b[0m\n\u001b[1;32m   2480\u001b[0m \u001b[0;34m\u001b[0m\u001b[0m\n\u001b[0;32m-> 2481\u001b[0;31m         \u001b[0max\u001b[0m\u001b[0;34m.\u001b[0m\u001b[0mhist\u001b[0m\u001b[0;34m(\u001b[0m\u001b[0mvalues\u001b[0m\u001b[0;34m,\u001b[0m \u001b[0mbins\u001b[0m\u001b[0;34m=\u001b[0m\u001b[0mbins\u001b[0m\u001b[0;34m,\u001b[0m \u001b[0;34m**\u001b[0m\u001b[0mkwds\u001b[0m\u001b[0;34m)\u001b[0m\u001b[0;34m\u001b[0m\u001b[0m\n\u001b[0m\u001b[1;32m   2482\u001b[0m         \u001b[0max\u001b[0m\u001b[0;34m.\u001b[0m\u001b[0mgrid\u001b[0m\u001b[0;34m(\u001b[0m\u001b[0mgrid\u001b[0m\u001b[0;34m)\u001b[0m\u001b[0;34m\u001b[0m\u001b[0m\n\u001b[1;32m   2483\u001b[0m         \u001b[0maxes\u001b[0m \u001b[0;34m=\u001b[0m \u001b[0mnp\u001b[0m\u001b[0;34m.\u001b[0m\u001b[0marray\u001b[0m\u001b[0;34m(\u001b[0m\u001b[0;34m[\u001b[0m\u001b[0max\u001b[0m\u001b[0;34m]\u001b[0m\u001b[0;34m)\u001b[0m\u001b[0;34m\u001b[0m\u001b[0m\n",
      "\u001b[0;32m/usr/local/lib/python3.7/site-packages/matplotlib/__init__.py\u001b[0m in \u001b[0;36minner\u001b[0;34m(ax, *args, **kwargs)\u001b[0m\n\u001b[1;32m   1865\u001b[0m                         \u001b[0;34m\"the Matplotlib list!)\"\u001b[0m \u001b[0;34m%\u001b[0m \u001b[0;34m(\u001b[0m\u001b[0mlabel_namer\u001b[0m\u001b[0;34m,\u001b[0m \u001b[0mfunc\u001b[0m\u001b[0;34m.\u001b[0m\u001b[0m__name__\u001b[0m\u001b[0;34m)\u001b[0m\u001b[0;34m,\u001b[0m\u001b[0;34m\u001b[0m\u001b[0m\n\u001b[1;32m   1866\u001b[0m                         RuntimeWarning, stacklevel=2)\n\u001b[0;32m-> 1867\u001b[0;31m             \u001b[0;32mreturn\u001b[0m \u001b[0mfunc\u001b[0m\u001b[0;34m(\u001b[0m\u001b[0max\u001b[0m\u001b[0;34m,\u001b[0m \u001b[0;34m*\u001b[0m\u001b[0margs\u001b[0m\u001b[0;34m,\u001b[0m \u001b[0;34m**\u001b[0m\u001b[0mkwargs\u001b[0m\u001b[0;34m)\u001b[0m\u001b[0;34m\u001b[0m\u001b[0m\n\u001b[0m\u001b[1;32m   1868\u001b[0m \u001b[0;34m\u001b[0m\u001b[0m\n\u001b[1;32m   1869\u001b[0m         inner.__doc__ = _add_data_doc(inner.__doc__,\n",
      "\u001b[0;32m/usr/local/lib/python3.7/site-packages/matplotlib/axes/_axes.py\u001b[0m in \u001b[0;36mhist\u001b[0;34m(***failed resolving arguments***)\u001b[0m\n\u001b[1;32m   6637\u001b[0m             \u001b[0;31m# this will automatically overwrite bins,\u001b[0m\u001b[0;34m\u001b[0m\u001b[0;34m\u001b[0m\u001b[0m\n\u001b[1;32m   6638\u001b[0m             \u001b[0;31m# so that each histogram uses the same bins\u001b[0m\u001b[0;34m\u001b[0m\u001b[0;34m\u001b[0m\u001b[0m\n\u001b[0;32m-> 6639\u001b[0;31m             \u001b[0mm\u001b[0m\u001b[0;34m,\u001b[0m \u001b[0mbins\u001b[0m \u001b[0;34m=\u001b[0m \u001b[0mnp\u001b[0m\u001b[0;34m.\u001b[0m\u001b[0mhistogram\u001b[0m\u001b[0;34m(\u001b[0m\u001b[0mx\u001b[0m\u001b[0;34m[\u001b[0m\u001b[0mi\u001b[0m\u001b[0;34m]\u001b[0m\u001b[0;34m,\u001b[0m \u001b[0mbins\u001b[0m\u001b[0;34m,\u001b[0m \u001b[0mweights\u001b[0m\u001b[0;34m=\u001b[0m\u001b[0mw\u001b[0m\u001b[0;34m[\u001b[0m\u001b[0mi\u001b[0m\u001b[0;34m]\u001b[0m\u001b[0;34m,\u001b[0m \u001b[0;34m**\u001b[0m\u001b[0mhist_kwargs\u001b[0m\u001b[0;34m)\u001b[0m\u001b[0;34m\u001b[0m\u001b[0m\n\u001b[0m\u001b[1;32m   6640\u001b[0m             \u001b[0mm\u001b[0m \u001b[0;34m=\u001b[0m \u001b[0mm\u001b[0m\u001b[0;34m.\u001b[0m\u001b[0mastype\u001b[0m\u001b[0;34m(\u001b[0m\u001b[0mfloat\u001b[0m\u001b[0;34m)\u001b[0m  \u001b[0;31m# causes problems later if it's an int\u001b[0m\u001b[0;34m\u001b[0m\u001b[0m\n\u001b[1;32m   6641\u001b[0m             \u001b[0;32mif\u001b[0m \u001b[0mmlast\u001b[0m \u001b[0;32mis\u001b[0m \u001b[0;32mNone\u001b[0m\u001b[0;34m:\u001b[0m\u001b[0;34m\u001b[0m\u001b[0m\n",
      "\u001b[0;32m/usr/local/lib/python3.7/site-packages/numpy/lib/histograms.py\u001b[0m in \u001b[0;36mhistogram\u001b[0;34m(a, bins, range, normed, weights, density)\u001b[0m\n\u001b[1;32m    700\u001b[0m     \u001b[0ma\u001b[0m\u001b[0;34m,\u001b[0m \u001b[0mweights\u001b[0m \u001b[0;34m=\u001b[0m \u001b[0m_ravel_and_check_weights\u001b[0m\u001b[0;34m(\u001b[0m\u001b[0ma\u001b[0m\u001b[0;34m,\u001b[0m \u001b[0mweights\u001b[0m\u001b[0;34m)\u001b[0m\u001b[0;34m\u001b[0m\u001b[0m\n\u001b[1;32m    701\u001b[0m \u001b[0;34m\u001b[0m\u001b[0m\n\u001b[0;32m--> 702\u001b[0;31m     \u001b[0mbin_edges\u001b[0m\u001b[0;34m,\u001b[0m \u001b[0muniform_bins\u001b[0m \u001b[0;34m=\u001b[0m \u001b[0m_get_bin_edges\u001b[0m\u001b[0;34m(\u001b[0m\u001b[0ma\u001b[0m\u001b[0;34m,\u001b[0m \u001b[0mbins\u001b[0m\u001b[0;34m,\u001b[0m \u001b[0mrange\u001b[0m\u001b[0;34m,\u001b[0m \u001b[0mweights\u001b[0m\u001b[0;34m)\u001b[0m\u001b[0;34m\u001b[0m\u001b[0m\n\u001b[0m\u001b[1;32m    703\u001b[0m \u001b[0;34m\u001b[0m\u001b[0m\n\u001b[1;32m    704\u001b[0m     \u001b[0;31m# Histogram is an integer or a float array depending on the weights.\u001b[0m\u001b[0;34m\u001b[0m\u001b[0;34m\u001b[0m\u001b[0m\n",
      "\u001b[0;32m/usr/local/lib/python3.7/site-packages/numpy/lib/histograms.py\u001b[0m in \u001b[0;36m_get_bin_edges\u001b[0;34m(a, bins, range, weights)\u001b[0m\n\u001b[1;32m    353\u001b[0m             \u001b[0;32mraise\u001b[0m \u001b[0mValueError\u001b[0m\u001b[0;34m(\u001b[0m\u001b[0;34m'`bins` must be positive, when an integer'\u001b[0m\u001b[0;34m)\u001b[0m\u001b[0;34m\u001b[0m\u001b[0m\n\u001b[1;32m    354\u001b[0m \u001b[0;34m\u001b[0m\u001b[0m\n\u001b[0;32m--> 355\u001b[0;31m         \u001b[0mfirst_edge\u001b[0m\u001b[0;34m,\u001b[0m \u001b[0mlast_edge\u001b[0m \u001b[0;34m=\u001b[0m \u001b[0m_get_outer_edges\u001b[0m\u001b[0;34m(\u001b[0m\u001b[0ma\u001b[0m\u001b[0;34m,\u001b[0m \u001b[0mrange\u001b[0m\u001b[0;34m)\u001b[0m\u001b[0;34m\u001b[0m\u001b[0m\n\u001b[0m\u001b[1;32m    356\u001b[0m \u001b[0;34m\u001b[0m\u001b[0m\n\u001b[1;32m    357\u001b[0m     \u001b[0;32melif\u001b[0m \u001b[0mnp\u001b[0m\u001b[0;34m.\u001b[0m\u001b[0mndim\u001b[0m\u001b[0;34m(\u001b[0m\u001b[0mbins\u001b[0m\u001b[0;34m)\u001b[0m \u001b[0;34m==\u001b[0m \u001b[0;36m1\u001b[0m\u001b[0;34m:\u001b[0m\u001b[0;34m\u001b[0m\u001b[0m\n",
      "\u001b[0;32m/usr/local/lib/python3.7/site-packages/numpy/lib/histograms.py\u001b[0m in \u001b[0;36m_get_outer_edges\u001b[0;34m(a, range)\u001b[0m\n\u001b[1;32m    243\u001b[0m         \u001b[0;32mif\u001b[0m \u001b[0;32mnot\u001b[0m \u001b[0;34m(\u001b[0m\u001b[0mnp\u001b[0m\u001b[0;34m.\u001b[0m\u001b[0misfinite\u001b[0m\u001b[0;34m(\u001b[0m\u001b[0mfirst_edge\u001b[0m\u001b[0;34m)\u001b[0m \u001b[0;32mand\u001b[0m \u001b[0mnp\u001b[0m\u001b[0;34m.\u001b[0m\u001b[0misfinite\u001b[0m\u001b[0;34m(\u001b[0m\u001b[0mlast_edge\u001b[0m\u001b[0;34m)\u001b[0m\u001b[0;34m)\u001b[0m\u001b[0;34m:\u001b[0m\u001b[0;34m\u001b[0m\u001b[0m\n\u001b[1;32m    244\u001b[0m             raise ValueError(\n\u001b[0;32m--> 245\u001b[0;31m                 \"supplied range of [{}, {}] is not finite\".format(first_edge, last_edge))\n\u001b[0m\u001b[1;32m    246\u001b[0m     \u001b[0;32melif\u001b[0m \u001b[0ma\u001b[0m\u001b[0;34m.\u001b[0m\u001b[0msize\u001b[0m \u001b[0;34m==\u001b[0m \u001b[0;36m0\u001b[0m\u001b[0;34m:\u001b[0m\u001b[0;34m\u001b[0m\u001b[0m\n\u001b[1;32m    247\u001b[0m         \u001b[0;31m# handle empty arrays. Can't determine range, so use 0-1.\u001b[0m\u001b[0;34m\u001b[0m\u001b[0;34m\u001b[0m\u001b[0m\n",
      "\u001b[0;31mValueError\u001b[0m: supplied range of [-inf, 1.7357542137747388] is not finite"
     ]
    },
    {
     "name": "stderr",
     "output_type": "stream",
     "text": [
      "/usr/local/lib/python3.7/site-packages/matplotlib/font_manager.py:1331: UserWarning: findfont: Font family ['IPAexGothic'] not found. Falling back to DejaVu Sans\n",
      "  (prop.get_family(), self.defaultFamily[fontext]))\n"
     ]
    },
    {
     "data": {
      "image/png": "[encoded data removed]",
      "text/plain": [
       "<Figure size 432x288 with 1 Axes>"
      ]
     },
     "metadata": {
      "needs_background": "light"
     },
     "output_type": "display_data"
    }
   ],
   "source": [
    "sub[\"score\"].hist(bins = 000)"
   ]
  },
  {
   "cell_type": "code",
   "execution_count": 15,
   "metadata": {},
   "outputs": [],
   "source": [
    "a = ddtuple(np.array([1,2,3,4,4]))"
   ]
  },
  {
   "cell_type": "code",
   "execution_count": 40,
   "metadata": {},
   "outputs": [
    {
     "data": {
      "text/plain": [
       "<matplotlib.axes._subplots.AxesSubplot at 0x117c17e10>"
      ]
     },
     "execution_count": 40,
     "metadata": {},
     "output_type": "execute_result"
    },
    {
     "name": "stderr",
     "output_type": "stream",
     "text": [
      "/usr/local/lib/python3.7/site-packages/matplotlib/font_manager.py:1331: UserWarning: findfont: Font family ['IPAexGothic'] not found. Falling back to DejaVu Sans\n",
      "  (prop.get_family(), self.defaultFamily[fontext]))\n"
     ]
    },
    {
     "data": {
      "image/png": "[encoded data removed]",
      "text/plain": [
       "<Figure size 432x288 with 1 Axes>"
      ]
     },
     "metadata": {
      "needs_background": "light"
     },
     "output_type": "display_data"
    }
   ],
   "source": [
    "sub[0].hist(bins = 1000)"
   ]
  },
  {
   "cell_type": "code",
   "execution_count": 45,
   "metadata": {},
   "outputs": [],
   "source": [
    "s = pd.read_csv(\"../submit_3_1ensmble.csv\",header= None)\n",
    "ss = pd.read_csv(\"../data/output/submit_0.351.csv\",header = None)"
   ]
  },
  {
   "cell_type": "code",
   "execution_count": 49,
   "metadata": {},
   "outputs": [
    {
     "data": {
      "text/plain": [
       "<matplotlib.axes._subplots.AxesSubplot at 0x11142f8d0>"
      ]
     },
     "execution_count": 49,
     "metadata": {},
     "output_type": "execute_result"
    },
    {
     "name": "stderr",
     "output_type": "stream",
     "text": [
      "/usr/local/lib/python3.7/site-packages/matplotlib/font_manager.py:1331: UserWarning: findfont: Font family ['IPAexGothic'] not found. Falling back to DejaVu Sans\n",
      "  (prop.get_family(), self.defaultFamily[fontext]))\n"
     ]
    },
    {
     "data": {
      "image/png": "[encoded data removed]",
      "text/plain": [
       "<Figure size 432x288 with 1 Axes>"
      ]
     },
     "metadata": {
      "needs_background": "light"
     },
     "output_type": "display_data"
    }
   ],
   "source": [
    "s[1].hist(bins = 1000,)\n",
    "ss[1].hist(bins = 1000,alpha = 0.5)"
   ]
  },
  {
   "cell_type": "code",
   "execution_count": 52,
   "metadata": {},
   "outputs": [
    {
     "data": {
      "text/plain": [
       "1895"
      ]
     },
     "execution_count": 52,
     "metadata": {},
     "output_type": "execute_result"
    }
   ],
   "source": [
    "sum(score < 0.5)"
   ]
  },
  {
   "cell_type": "code",
   "execution_count": 61,
   "metadata": {},
   "outputs": [],
   "source": [
    "import pandas as pd\n",
    "ss = pd.read_csv(\"../data/output/submit_0.6194.csv\",header = None)\n",
    "s = pd.read_csv(\"../data/output/submit_0.3409.csv\",header = None)\n",
    "sss = pd.read_csv(\"../data/output/stack_submit.csv\",header = None)\n",
    "ssss = pd.read_csv(\"../data/output/submit_0.3247.csv\",header = None)\n"
   ]
  },
  {
   "cell_type": "code",
   "execution_count": 12,
   "metadata": {},
   "outputs": [],
   "source": [
    "sub = pd.read_csv(\"../data/input/sample_submit.csv\",header = None)"
   ]
  },
  {
   "cell_type": "code",
   "execution_count": 45,
   "metadata": {},
   "outputs": [],
   "source": [
    "sub.iloc[:,1] = (s.iloc[:,1] * 0.7 + sss.iloc[:,1]*0.3)*0.5 + (ss.iloc[:,1] * 0.3 + ssss.iloc[:,1]*0.7)*0.5"
   ]
  },
  {
   "cell_type": "code",
   "execution_count": 48,
   "metadata": {},
   "outputs": [],
   "source": [
    "sub.to_csv(\"../data/output/ensmble/ensmble4.csv\",index = None,header = None)"
   ]
  },
  {
   "cell_type": "code",
   "execution_count": 62,
   "metadata": {},
   "outputs": [
    {
     "data": {
      "text/plain": [
       "<matplotlib.axes._subplots.AxesSubplot at 0x11c2476d8>"
      ]
     },
     "execution_count": 62,
     "metadata": {},
     "output_type": "execute_result"
    },
    {
     "name": "stderr",
     "output_type": "stream",
     "text": [
      "/usr/local/lib/python3.7/site-packages/matplotlib/font_manager.py:1331: UserWarning: findfont: Font family ['IPAexGothic'] not found. Falling back to DejaVu Sans\n",
      "  (prop.get_family(), self.defaultFamily[fontext]))\n"
     ]
    },
    {
     "data": {
      "image/png": "[encoded data removed]",
      "text/plain": [
       "<Figure size 432x288 with 1 Axes>"
      ]
     },
     "metadata": {
      "needs_background": "light"
     },
     "output_type": "display_data"
    }
   ],
   "source": [
    "#s[1].hist(bins = 100,alpha = 0.4)\n",
    "sssss[1].hist(bins = 100,alpha = 0.8)\n",
    "#a.hist(bins = 10,alpha = 0.8)\n",
    "#ss[1].hist(bins = 100,alpha = 0.5)\n",
    "#sss[1].hist(bins = 100,alpha = 0.4)\n",
    "sub[1].hist(bins = 100,alpha = 0.4)"
   ]
  },
  {
   "cell_type": "code",
   "execution_count": 83,
   "metadata": {},
   "outputs": [],
   "source": [
    "sub.iloc[:,1] = sss.iloc[:,1] *0.6+ s.iloc[:,1]*0.4"
   ]
  },
  {
   "cell_type": "code",
   "execution_count": 47,
   "metadata": {},
   "outputs": [
    {
     "data": {
      "text/plain": [
       "1"
      ]
     },
     "execution_count": 47,
     "metadata": {},
     "output_type": "execute_result"
    }
   ],
   "source": [
    "sum(sub[1]<0)"
   ]
  },
  {
   "cell_type": "code",
   "execution_count": 57,
   "metadata": {},
   "outputs": [],
   "source": [
    "a = feather.read_dataframe(\"../features/stack_feature/test_MLPRegressor2.feather\")\n",
    "b = feather.read_dataframe(\"../features/stack_feature/test_MLPRegressor1.feather\")"
   ]
  },
  {
   "cell_type": "code",
   "execution_count": 60,
   "metadata": {},
   "outputs": [
    {
     "data": {
      "text/plain": [
       "<matplotlib.axes._subplots.AxesSubplot at 0x11bfafe10>"
      ]
     },
     "execution_count": 60,
     "metadata": {},
     "output_type": "execute_result"
    },
    {
     "name": "stderr",
     "output_type": "stream",
     "text": [
      "/usr/local/lib/python3.7/site-packages/matplotlib/font_manager.py:1331: UserWarning: findfont: Font family ['IPAexGothic'] not found. Falling back to DejaVu Sans\n",
      "  (prop.get_family(), self.defaultFamily[fontext]))\n"
     ]
    },
    {
     "data": {
      "image/png": "[encoded data removed]",
      "text/plain": [
       "<Figure size 432x288 with 1 Axes>"
      ]
     },
     "metadata": {
      "needs_background": "light"
     },
     "output_type": "display_data"
    }
   ],
   "source": [
    "a[\"MLPRegressor2\"].hist(bins = 100,alpha = 0.5)\n",
    "b[\"MLPRegressor1\"].hist(bins = 100,alpha = 0.5)"
   ]
  },
  {
   "cell_type": "code",
   "execution_count": 16,
   "metadata": {},
   "outputs": [],
   "source": [
    "import feather\n",
    "t = feather.read_dataframe(\"../data/input/tr_stack.feather\")\n",
    "tt = feather.read_dataframe(\"../data/input/te_stack.feather\")"
   ]
  },
  {
   "cell_type": "code",
   "execution_count": 22,
   "metadata": {},
   "outputs": [],
   "source": [
    "del tr[\"index\"],tr[\"Score\"],te[\"index\"]"
   ]
  },
  {
   "cell_type": "code",
   "execution_count": 21,
   "metadata": {},
   "outputs": [],
   "source": [
    "score = tr.Score"
   ]
  },
  {
   "cell_type": "code",
   "execution_count": 19,
   "metadata": {},
   "outputs": [],
   "source": [
    "tr = feather.read_dataframe(\"../data/input/tr_best.feather\")\n",
    "te = feather.read_dataframe(\"../data/input/te_best.feather\")"
   ]
  },
  {
   "cell_type": "code",
   "execution_count": 20,
   "metadata": {},
   "outputs": [],
   "source": [
    "def df_concat(flist):\n",
    "    add_columns = flist[0].columns.values.tolist()\n",
    "    add_df = flist[0].values\n",
    "    for i in flist[1:]:\n",
    "        add_columns += i.columns.values.tolist()\n",
    "        add_df = np.c_[add_df,i.values]\n",
    "    return pd.DataFrame(add_df,columns=add_columns)"
   ]
  },
  {
   "cell_type": "code",
   "execution_count": 25,
   "metadata": {},
   "outputs": [
    {
     "name": "stderr",
     "output_type": "stream",
     "text": [
      "/usr/local/lib/python3.7/site-packages/pandas/core/frame.py:6211: FutureWarning: Sorting because non-concatenation axis is not aligned. A future version\n",
      "of pandas will change to not sort by default.\n",
      "\n",
      "To accept the future behavior, pass 'sort=False'.\n",
      "\n",
      "To retain the current behavior and silence the warning, pass 'sort=True'.\n",
      "\n",
      "  sort=sort)\n"
     ]
    }
   ],
   "source": [
    "import numpy as np\n",
    "data = df_concat([t.append(tt),tr.append(te)])"
   ]
  },
  {
   "cell_type": "code",
   "execution_count": 93,
   "metadata": {},
   "outputs": [],
   "source": [
    "i = 27463//2\n",
    "tr,te = data.iloc[:i,:],data.iloc[i:,:]\n",
    "\n",
    "del te[\"Score\"]\n",
    "tr.reset_index(inplace = True)\n",
    "te.reset_index(inplace = True)\n",
    "tr.to_feather(\"../data/input/tr_meta.feather\")\n",
    "te.to_feather(\"../data/input/te_meta.feather\")\n",
    "import json\n",
    "del tr[\"index\"],tr[\"Score\"]\n",
    "ff = tr.columns.values.tolist()\n",
    "\n",
    "features = {\"features\":ff, \"target_name\":\"Score\"}\n",
    "\n",
    "with open(\"../configs/config_kbest_meta.json\",\"w\") as f:\n",
    "    json.dump(features,f)"
   ]
  },
  {
   "cell_type": "code",
   "execution_count": 31,
   "metadata": {},
   "outputs": [],
   "source": [
    "from sklearn.neural_network import MLPRegressor\n",
    "model = MLPRegressor(hidden_layer_sizes=(1024,1024,),random_state=42)"
   ]
  },
  {
   "cell_type": "code",
   "execution_count": 34,
   "metadata": {},
   "outputs": [
    {
     "data": {
      "text/plain": [
       "MLPRegressor(activation='relu', alpha=0.0001, batch_size='auto', beta_1=0.9,\n",
       "       beta_2=0.999, early_stopping=False, epsilon=1e-08,\n",
       "       hidden_layer_sizes=(1024, 1024), learning_rate='constant',\n",
       "       learning_rate_init=0.001, max_iter=200, momentum=0.9,\n",
       "       nesterovs_momentum=True, power_t=0.5, random_state=42, shuffle=True,\n",
       "       solver='adam', tol=0.0001, validation_fraction=0.1, verbose=False,\n",
       "       warm_start=False)"
      ]
     },
     "execution_count": 34,
     "metadata": {},
     "output_type": "execute_result"
    }
   ],
   "source": [
    "from sklearn.model_selection import train_test_split\n",
    "\n",
    "model.fit(t,score)"
   ]
  },
  {
   "cell_type": "code",
   "execution_count": 36,
   "metadata": {},
   "outputs": [],
   "source": [
    "pred = model.predict(tt)"
   ]
  },
  {
   "cell_type": "code",
   "execution_count": 43,
   "metadata": {},
   "outputs": [],
   "source": [
    "s = \"type(model).__name__1\""
   ]
  },
  {
   "cell_type": "code",
   "execution_count": 46,
   "metadata": {},
   "outputs": [
    {
     "data": {
      "text/plain": [
       "'type(model).__name__2'"
      ]
     },
     "execution_count": 46,
     "metadata": {},
     "output_type": "execute_result"
    }
   ],
   "source": [
    "s[:-1] + str(int(s[-1]) + 1)"
   ]
  },
  {
   "cell_type": "code",
   "execution_count": 6,
   "metadata": {},
   "outputs": [],
   "source": [
    "import feather\n",
    "trmlp1 = feather.read_dataframe(\"../../../../../Desktop/stack_feature/train_MLPRegressor1.feather\")\n",
    "trmlp2 = feather.read_dataframe(\"../../../../../Desktop/stack_feature/train_MLPRegressor2.feather\")\n",
    "temlp1 = feather.read_dataframe(\"../../../../../Desktop/stack_feature/test_MLPRegressor1.feather\")\n",
    "temlp2 = feather.read_dataframe(\"../../../../../Desktop/stack_feature/test_MLPRegressor2.feather\")"
   ]
  },
  {
   "cell_type": "code",
   "execution_count": 82,
   "metadata": {},
   "outputs": [],
   "source": [
    "te = feather.read_dataframe(\"../data/input/te_best_prob.feather\")\n",
    "tr = feather.read_dataframe(\"../data/input/tr_best_prob.feather\")"
   ]
  },
  {
   "cell_type": "code",
   "execution_count": 89,
   "metadata": {},
   "outputs": [],
   "source": [
    "import numpy as np\n",
    "trr = df_concat([tr,trmlp1,trmlp2])\n",
    "tee = df_concat([te,temlp1,temlp2])"
   ]
  },
  {
   "cell_type": "code",
   "execution_count": 90,
   "metadata": {},
   "outputs": [
    {
     "name": "stderr",
     "output_type": "stream",
     "text": [
      "/usr/local/lib/python3.7/site-packages/pandas/core/frame.py:6211: FutureWarning: Sorting because non-concatenation axis is not aligned. A future version\n",
      "of pandas will change to not sort by default.\n",
      "\n",
      "To accept the future behavior, pass 'sort=False'.\n",
      "\n",
      "To retain the current behavior and silence the warning, pass 'sort=True'.\n",
      "\n",
      "  sort=sort)\n"
     ]
    }
   ],
   "source": [
    "data = trr.append(tee)"
   ]
  },
  {
   "cell_type": "code",
   "execution_count": 92,
   "metadata": {},
   "outputs": [
    {
     "data": {
      "text/plain": [
       "0        3.475628\n",
       "1        3.601332\n",
       "2        1.935003\n",
       "3        3.283663\n",
       "4        3.409121\n",
       "5        2.523486\n",
       "6        0.919078\n",
       "7        2.769820\n",
       "8        2.681964\n",
       "9        2.465977\n",
       "10       3.302547\n",
       "11       2.132580\n",
       "12       1.673021\n",
       "13       2.323046\n",
       "14       2.623353\n",
       "15       2.381656\n",
       "16       2.678609\n",
       "17       2.490520\n",
       "18       2.296446\n",
       "19       0.698970\n",
       "20       2.327359\n",
       "21       1.957128\n",
       "22       2.411956\n",
       "23       3.264605\n",
       "24       0.204120\n",
       "25       1.403121\n",
       "26       2.755722\n",
       "27       2.158362\n",
       "28       1.583199\n",
       "29       1.999565\n",
       "           ...   \n",
       "13702         NaN\n",
       "13703         NaN\n",
       "13704         NaN\n",
       "13705         NaN\n",
       "13706         NaN\n",
       "13707         NaN\n",
       "13708         NaN\n",
       "13709         NaN\n",
       "13710         NaN\n",
       "13711         NaN\n",
       "13712         NaN\n",
       "13713         NaN\n",
       "13714         NaN\n",
       "13715         NaN\n",
       "13716         NaN\n",
       "13717         NaN\n",
       "13718         NaN\n",
       "13719         NaN\n",
       "13720         NaN\n",
       "13721         NaN\n",
       "13722         NaN\n",
       "13723         NaN\n",
       "13724         NaN\n",
       "13725         NaN\n",
       "13726         NaN\n",
       "13727         NaN\n",
       "13728         NaN\n",
       "13729         NaN\n",
       "13730         NaN\n",
       "13731         NaN\n",
       "Name: Score, Length: 27463, dtype: float64"
      ]
     },
     "execution_count": 92,
     "metadata": {},
     "output_type": "execute_result"
    }
   ],
   "source": [
    "data[\"Score\"]from sklearn.cluster import KMeans\n",
    "def clustering_feature(X_train,X_test):\n",
    "    flist = [x for x in X_train.columns if not x in ['ID','Score']]\n",
    "    stdsc = StandardScaler()\n",
    "    X_train= stdsc.fit_transform(X_train)\n",
    "    X_test = stdsc.transform(X_test)\n",
    "    X_train = pd.DataFrame(X_train,columns=flist)\n",
    "    X_test= pd.DataFrame(X_test,columns=flist)\n",
    "    loss = []\n",
    "    flist_kmeans = []\n",
    "    for ncl in range(8,15):\n",
    "        cls = KMeans(n_clusters=ncl)\n",
    "        cls.fit_predict(X_train[flist].values)\n",
    "        loss.append(cls.inertia_)\n",
    "        X_train['kmeans_cluster_'+str(ncl)] = cls.predict(X_train[flist].values)\n",
    "        X_test['kmeans_cluster_'+str(ncl)] = cls.predict(X_test[flist].values)\n",
    "        flist_kmeans.append('kmeans_cluster_'+str(ncl))\n",
    "    return X_train,X_test,loss\n",
    "tr_pca,te_pca = yy.iloc[:13731,:],yy.iloc[13731:,:]\n",
    "\n",
    "a,b,loss = clustering_feature(tr_pca,te_pca)"
   ]
  },
  {
   "cell_type": "code",
   "execution_count": null,
   "metadata": {},
   "outputs": [],
   "source": []
  }
 ],
 "metadata": {
  "kernelspec": {
   "display_name": "Python 3",
   "language": "python",
   "name": "python3"
  },
  "language_info": {
   "codemirror_mode": {
    "name": "ipython",
    "version": 3
   },
   "file_extension": ".py",
   "mimetype": "text/x-python",
   "name": "python",
   "nbconvert_exporter": "python",
   "pygments_lexer": "ipython3",
   "version": "3.7.0"
  }
 },
 "nbformat": 4,
 "nbformat_minor": 2
}
