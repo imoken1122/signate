{
 "cells": [
  {
   "cell_type": "code",
   "execution_count": 1,
   "metadata": {},
   "outputs": [],
   "source": [
    "import pandas as pd\n",
    "import matplotlib.pyplot as plt\n",
    "import numpy as np\n"
   ]
  },
  {
   "cell_type": "code",
   "execution_count": 65,
   "metadata": {},
   "outputs": [],
   "source": [
    "train = pd.read_csv(\"../data/input/train.csv\")\n",
    "test = pd.read_csv(\"../data/input/test.csv\")"
   ]
  },
  {
   "cell_type": "code",
   "execution_count": 7,
   "metadata": {},
   "outputs": [],
   "source": [
    "r,rt = train.copy(),test.copy()"
   ]
  },
  {
   "cell_type": "code",
   "execution_count": 68,
   "metadata": {},
   "outputs": [],
   "source": [
    "Score = train[\"Score\"]\n",
    "test_id = test[\"ID\"]\n",
    "del train[\"ID\"],test[\"ID\"]\n",
    "#score = (score-score.min())/(score.max()-score.min())\n"
   ]
  },
  {
   "cell_type": "code",
   "execution_count": 24,
   "metadata": {},
   "outputs": [],
   "source": [
    "del train[\"Score\"]"
   ]
  },
  {
   "cell_type": "code",
   "execution_count": 26,
   "metadata": {},
   "outputs": [],
   "source": [
    "importance_f = ['col88', 'col329', 'col3277', 'col226', 'col2614', 'col2914', 'col119', 'col3290', 'col525', 'col420', 'col2349', 'col2431', 'col176', 'col745', 'col2621', 'col3215', 'col1050', 'col3653', 'col381', 'col3642', 'col2925', 'col744', 'col248', 'col168', 'col1174', 'col3372', 'col68', 'col10', 'col1252', 'col608', 'col15', 'col3058', 'col1413', 'col3051', 'col913', 'col766', 'col113', 'col1632', 'col441', 'col253', 'col44', 'col256', 'col3431', 'col46', 'col723', 'col552', 'col182', 'col2738', 'col1321', 'col2834', 'col510', 'col1011', 'col1555', 'col3194', 'col454', 'col821', 'col124', 'col1796', 'col1844', 'col2537', 'col130', 'col1193', 'col134', 'col71', 'col3139', 'col1094', 'col3275', 'col2989', 'col3474', 'col398', 'col816', 'col312', 'col1541', 'col3063', 'col945', 'col2469', 'col3466', 'col48', 'col342', 'col272', 'col1337', 'col1306', 'col1572', 'col1540', 'col209', 'col269', 'col1071', 'col3574', 'col777', 'col2902', 'col232', 'col2146', 'col1469', 'col654', 'col1768', 'col193', 'col985', 'col1526', 'col357', 'col3353', 'col2365', 'col413', 'col3590', 'col2921', 'col104', 'col540', 'col514', 'col1032', 'col99', 'col38', 'col904', 'col767', 'col1725', 'col208', 'col1038', 'col2101', 'col2304', 'col340', 'col1532', 'col624', 'col524', 'col359', 'col110', 'col218', 'col2147', 'col118', 'col1731', 'col305', 'col1931', 'col1323', 'col803', 'col3116', 'col56', 'col1938', 'col2885', 'col3768', 'col306', 'col3037', 'col972', 'col2219', 'col3379', 'col22', 'col1318', 'col3300', 'col3201', 'col255', 'col1292', 'col3483', 'col743', 'col1273', 'col1792', 'col2413', 'col3472', 'col428', 'col2560', 'col1698', 'col2789', 'col3575', 'col469', 'col1545', 'col280', 'col106', 'col3266', 'col1535', 'col1723', 'col1382', 'col1132', 'col2669', 'col453', 'col296', 'col1964', 'col2785', 'col2793', 'col900', 'col699', 'col533', 'col2744', 'col847', 'col1139', 'col102', 'col2418', 'col577', 'col620', 'col395', 'col1345', 'col2439', 'col3114', 'col107', 'col775', 'col72', 'col2725', 'col281', 'col762', 'col3395', 'col3769', 'col87', 'col5', 'col240', 'col2077', 'col459', 'col121', 'col1391', 'col1053', 'col730', 'col791', 'col335', 'col2391', 'col768', 'col2236', 'col965', 'col2442', 'col2865', 'col1557', 'col3775', 'col596', 'col2963', 'col2867', 'col1039', 'col3725', 'col1118', 'col1855', 'col9', 'col2616', 'col1223', 'col1459', 'col820', 'col1759', 'col2230', 'col115', 'col1232', 'col567', 'col1728', 'col713', 'col2405', 'col1770', 'col352', 'col680', 'col769', 'col554', 'col2258', 'col1715', 'col1414', 'col789', 'col29', 'col3498', 'col750', 'col153', 'col3788', 'col1231', 'col2000', 'col1352', 'col801', 'col2961', 'col1489', 'col2977', 'col1693', 'col516', 'col2663', 'col793', 'col277', 'col386', 'col1033', 'col746', 'col3178', 'col1941', 'col1138', 'col1506', 'col1135', 'col1242', 'col1587', 'col2859', 'col679', 'col1225', 'col95', 'col225', 'col870', 'col1342', 'col2120', 'col2895', 'col2433', 'col2807', 'col1188', 'col3065', 'col1621', 'col592', 'col1889', 'col3219', 'col3110', 'col922', 'col3632', 'col3513', 'col1566', 'col112', 'col313', 'col70', 'col755', 'col2336', 'col1738', 'col797', 'col1787', 'col635', 'col502', 'col2393', 'col2607', 'col3541', 'col3093', 'col63', 'col826', 'col3683', 'col1160', 'col3607', 'col2494', 'col363', 'col237', 'col925', 'col751', 'col2926', 'col3450', 'col2034', 'col2184', 'col3762', 'col3423', 'col3661', 'col498', 'col3619', 'col3718', 'col346', 'col2463', 'col3039', 'col2213', 'col3736', 'col879', 'col850', 'col1087', 'col2787', 'col1122', 'col336', 'col3186', 'col1370', 'col3669', 'col101', 'col1491', 'col950', 'col271', 'col162', 'col1254', 'col1959', 'col636', 'col1641', 'col2245', 'col244', 'col2402', 'col3626', 'col496', 'col215', 'col3340', 'col344', 'col2565', 'col3497', 'col3766', 'col470', 'col684', 'col754', 'col1424', 'col3364', 'col1278', 'col247', 'col2027', 'col591', 'col924', 'col2243', 'col486', 'col3164', 'col1779', 'col3253', 'col1515', 'col2340', 'col3493', 'col1563', 'col161', 'col2306', 'col2138', 'col2990', 'col411', 'col4', 'col871', 'col2998', 'col625', 'col403', 'col2204', 'col3118', 'col3783', 'col89', 'col1376', 'col1290', 'col3180', 'col2159', 'col2372', 'col586', 'col117', 'col55', 'col1673', 'col2839', 'col2852', 'col1857', 'col1800', 'col2264', 'col2096', 'col3616', 'col485', 'col1204', 'col69', 'col2630', 'col3149', 'col1371', 'col1732', 'col3308', 'col2954', 'col2947', 'col2875', 'col438', 'col220', 'col2810', 'col1096', 'col2081', 'col1709', 'col2505', 'col1202', 'col2105', 'col463', 'col957', 'col683', 'col1417', 'col598', 'col445', 'col343', 'col3720', 'col3185', 'col2713', 'col1610', 'col1015', 'col302', 'col147', 'col1099', 'col1280', 'col2297', 'col1143', 'col690', 'col1687', 'col2109', 'col3056', 'col657', 'col1458', 'col1452', 'col311', 'col2939', 'col830', 'col350', 'col2344', 'col638', 'col2474', 'col1838', 'col166', 'col418', 'col1575', 'col146', 'col1957', 'col571', 'col3236', 'col2486', 'col3534', 'col1816', 'col35', 'col85', 'col1480', 'col458', 'col1711', 'col1060', 'col978', 'col2446', 'col2803', 'col2974', 'col2855', 'col500', 'col1849', 'col3144', 'col2706', 'col1726', 'col3094', 'col3106', 'col594', 'col2870', 'col1359', 'col3439', 'col3117', 'col3488', 'col319', 'col1074', 'col3107', 'col318', 'col67', 'col569', 'col3223', 'col1781', 'col1482', 'col3005', 'col2460', 'col3325', 'col3284', 'col2501', 'col3344', 'col1051', 'col1970', 'col2352', 'col1048', 'col2544', 'col310', 'col3336', 'col1556', 'col1268', 'col3765', 'col868', 'col3311', 'col1607', 'col1542', 'col129', 'col2366', 'col2615', 'col1069', 'col3628', 'col2878', 'col239', 'col1092', 'col3681', 'col1675', 'col938', 'col3184', 'col279']\n",
    "score = [6572.05804988556, 5536.84542639181, 5407.002174984664, 5372.794892184436, 5101.168026374653, 5001.374103114009, 4559.52339633368, 4385.186293426901, 4294.566633813083, 4124.580888291821, 3995.9411784037948, 3959.3668829668313, 3897.0840562488884, 3600.0204379186034, 3457.9266206510365, 3175.3243036568165, 2977.603750264272, 2861.1764172483236, 2851.6653728652745, 2815.307400099933, 2770.1648824438453, 2678.683881908655, 2664.790760762058, 2590.455619711429, 2547.1254692859948, 2455.2834993749857, 2408.2255025170743, 2344.1342258751392, 2328.0817833235487, 2264.5670927725732, 2255.517125900835, 2177.102837007493, 2141.462515294552, 2133.2649144418538, 2112.663905447349, 2060.091055834666, 1980.744452394545, 1977.6737081892788, 1962.938613705337, 1937.5418198853731, 1918.6237402241677, 1896.0815830416977, 1895.3587309792638, 1875.6701162997633, 1850.515695316717, 1771.3310161493719, 1759.7935309037566, 1741.5397370792925, 1726.984688602388, 1722.0588537789881, 1720.8423551097512, 1701.385461045429, 1697.4215753283352, 1675.141697525978, 1674.085148870945, 1668.882670238614, 1659.3028671219945, 1655.3815747182816, 1651.6494586821645, 1619.9541101679206, 1612.4736771844327, 1608.4702506549656, 1602.9151039421558, 1558.6264177467674, 1547.2724602688104, 1544.1199008431286, 1537.5211988203228, 1519.7400878351182, 1511.2885297127068, 1510.4213976711035, 1509.9320657216012, 1508.169710174203, 1503.4087483026087, 1458.0031564980745, 1454.6262703035027, 1434.6843620054424, 1432.4438142105937, 1431.2876426279545, 1429.008602745831, 1418.3313990291208, 1399.1054206099361, 1392.7592326439917, 1387.6385924126953, 1375.5390458032489, 1373.372896131128, 1366.397099982947, 1340.298521053046, 1333.5639104936272, 1328.1545547377318, 1323.9677842780948, 1323.6850945902988, 1317.680498718284, 1315.9727863576263, 1307.294194586575, 1293.346890123561, 1287.3539761453867, 1281.690072312951, 1279.1571462191641, 1267.7927443021908, 1248.350490404293, 1246.7073113396764, 1244.0322470106184, 1223.963785934262, 1219.1562104467303, 1217.8210328426212, 1216.3874300075695, 1205.5351053308696, 1201.3334085587412, 1194.3275028280914, 1184.4701814260334, 1183.1008267365396, 1182.4486865382642, 1180.1950649358332, 1178.316874505952, 1167.1035313941538, 1165.2611223310232, 1164.3352563008666, 1155.3360806610435, 1154.934716058895, 1141.8028181381524, 1140.4817065186799, 1138.6446766834706, 1137.718788318336, 1136.55009836331, 1133.9311082717031, 1132.5331965349615, 1126.7255165595561, 1124.8454538024962, 1123.3228703290224, 1123.0130705796182, 1113.4678196515888, 1102.7310415543616, 1102.288979139179, 1101.8894606679678, 1101.3874074015766, 1087.9677981678396, 1083.0053796488792, 1079.6317500174046, 1069.2734270840883, 1067.8424122743309, 1064.9989739321172, 1058.7515417523682, 1057.5355222709477, 1057.399395979941, 1055.027820225805, 1048.2581271221861, 1046.7300485745072, 1043.4103936553001, 1039.9580539129674, 1037.3911664774641, 1036.1377189662308, 1033.6552193276584, 1029.0853106491268, 1021.9326619617641, 1012.1990359630436, 998.4973317719996, 995.4264754820615, 990.808901630342, 987.1229797694832, 979.9243237562478, 974.494206299074, 967.1941374093294, 964.5295372381806, 963.5061519630253, 962.655414590612, 957.6683789640665, 954.9313699528575, 952.120337722823, 946.4577352330089, 945.926333239302, 941.5856274664402, 938.5017224028707, 937.730924568139, 932.7094399863854, 930.6498144939542, 930.5969639290124, 927.0223006494343, 918.3814704567194, 915.9351273402572, 905.6179627813399, 904.3602853696793, 897.9547108709812, 888.8649163786322, 883.9912987500429, 881.4039295744151, 874.9800286423415, 869.9541696310043, 861.6064789965749, 858.6716723237187, 858.4968992061913, 852.0198029242456, 851.5635994523764, 847.8809292744845, 843.2903876621276, 840.8706489764154, 839.3393240403384, 838.0911514330655, 827.0545818470418, 825.6343555822968, 812.4189216941595, 810.560969075188, 807.098372798413, 806.524279916659, 805.6487654130906, 804.7941249907017, 803.7148404922336, 803.2712857797742, 784.0540588051081, 778.9775365460664, 773.9853901229799, 771.9304012730718, 762.7514017820358, 761.6683931723237, 755.7568653076887, 750.5467427391559, 747.2070154268295, 746.3174621202052, 745.5049044676125, 731.7077286262065, 727.0861408058554, 726.4224374815822, 726.0968222748488, 706.6781180389225, 702.2786230519414, 701.7321548126638, 701.556245887652, 690.2431850247085, 680.0299658849835, 676.4836363270879, 671.6304798722267, 668.6766271106899, 661.7415690012276, 654.6104258671403, 653.6312474384904, 646.8622632045299, 634.7042282447219, 619.108453784138, 615.8967482298613, 600.996689569205, 595.7966790832579, 581.1416792050004, 573.8499997146428, 568.1910071447492, 549.2321518212557, 547.3296011835337, 541.5643315948546, 538.6112676542252, 534.947649050504, 525.5526470001787, 524.1995204091072, 523.4659959562123, 521.527485370636, 512.7823064923286, 504.10568169504404, 501.60569025576115, 499.3218352422118, 498.1002261955291, 495.419346883893, 481.6387557350099, 464.67048209160566, 455.7875335831195, 452.4574761092663, 444.1860554628074, 444.126682812348, 443.4191480986774, 443.1106681227684, 438.588068343699, 435.14855670183897, 434.2327036820352, 427.3507256284356, 424.82309491187334, 424.2662213956937, 423.3283819705248, 423.22235661000013, 415.46646665781736, 402.73179151676595, 395.37173072993755, 393.3542511612177, 388.7634216658771, 385.1377117782831, 379.5123246759176, 376.8059053644538, 376.8035137690604, 365.9667714815587, 363.36749516427517, 361.9070917572826, 359.4979685805738, 354.7162557914853, 353.56898928433657, 349.9146129488945, 346.7812779471278, 344.61216654628515, 342.5563986301422, 341.3355238363147, 338.20331436023116, 331.720136474818, 331.370667681098, 329.4553861245513, 327.14678128808737, 327.1084124222398, 325.09360168874264, 318.96667695604265, 318.00967671722174, 313.4196825604886, 311.5325768813491, 309.168946955353, 305.2738604694605, 304.1158339083195, 303.28906001895666, 303.18212440237403, 302.52063870988786, 298.71814128011465, 296.5621558688581, 295.2483960138634, 291.8892637640238, 291.3047306165099, 290.91592990607023, 288.9848444201052, 288.8147010356188, 286.7859510369599, 285.30290603637695, 282.35067244432867, 279.7717571295798, 274.91115464270115, 272.35013899952173, 268.933000870049, 268.6986200455576, 263.7997296974063, 262.13188824802637, 259.36783967912197, 258.996663428843, 256.0135192144662, 241.69312643818557, 241.07110830023885, 238.68600299209356, 236.42188261449337, 233.85538343340158, 228.0332996994257, 225.77992521226406, 225.16459804400802, 224.4432159587741, 221.70776531100273, 221.14906827360392, 219.10011771321297, 215.79239700734615, 214.03572599589825, 211.3645201958716, 209.66639490425587, 198.8806826248765, 198.71815660223365, 197.95674899220467, 197.87244616821408, 197.2134063243866, 193.64595686644316, 190.2150510698557, 182.6721864119172, 179.1705160383135, 176.59835283085704, 174.19954765215516, 173.41321347653866, 172.500072799623, 172.16263053193688, 169.2718912512064, 168.01312260329723, 167.67394194751978, 166.50080859661102, 165.27192253619432, 160.9374560341239, 159.77016543783247, 158.54491044953465, 158.29331970214844, 155.9816021323204, 151.3530470058322, 145.00074163079262, 142.7885848581791, 141.87491001933813, 139.9899862036109, 139.27680759876966, 131.78428679704666, 128.95959826558828, 125.99181092903018, 123.37939511612058, 122.36428826674819, 121.87407762184739, 121.56644640862942, 117.34909820184112, 116.27943496406078, 115.14327827841043, 114.11848683655262, 113.48786496371031, 112.41913938522339, 110.96335025131702, 106.40102200955153, 104.86938931047916, 103.61016837134957, 103.03197949379683, 101.17037731409073, 100.25569545663893, 100.14017262682319, 98.45111541450024, 95.09051790367812, 93.92130603641272, 89.7601056098938, 88.16728866100311, 85.72628755494952, 85.48661910742521, 84.6842526961118, 83.96438003331423, 83.81005802750587, 82.43820882588625, 81.81017247587442, 81.70076497644186, 78.97455751150846, 76.24797993525863, 75.84646563977003, 75.02995510026813, 74.82651950418949, 74.15333549305797, 72.08683427423239, 71.17921164631844, 71.014210999012, 69.85511577129364, 68.73476717993617, 67.59112890064716, 66.69745334237814, 65.04452295601368, 64.7216762714088, 61.93579909577966, 61.9274175632745, 61.167535200715065, 56.726223044097424, 56.329108849167824, 56.081813775002956, 54.874092150479555, 54.82204883918166, 54.52672554552555, 54.26014986820519, 53.67964792251587, 53.57297134771943, 52.54074653983116, 52.3616312071681, 51.29948730021715, 51.113094091415405, 50.54898029565811, 49.841081177815795, 49.21175692975521, 48.541557878255844, 46.785201512277126, 46.585508823394775, 45.7573684155941, 45.38033752143383, 44.50086995959282, 44.070465095341206, 43.588667806237936, 42.68879293650389, 40.28326944261789, 40.07416512072086, 39.81027717143297, 38.47782823815942, 35.72778528928757, 35.55982172489166, 35.18768897652626, 35.01600603759289, 34.67570098489523, 34.201690681278706, 32.49985894933343, 30.452444061636925, 30.31477864086628, 29.50249781832099, 28.4724363964051, 28.450812458992004, 26.88943138718605, 26.27079665660858, 26.193672750145197, 22.94070056080818, 20.29629749432206, 19.902696952223778, 19.003188207745552, 18.248683359473944, 18.222962968051434, 17.49122393503785, 17.179040014743805, 15.84009276330471, 15.35859726369381, 14.798635102808475, 14.473223336040974, 14.177113447338343, 12.991686567664146, 12.598157033324242, 12.54189858585596, 11.643365614116192, 11.299864783883095, 11.276194635778666, 10.886500358581543, 10.10088524222374, 9.470183588564396, 9.355070114135742, 9.319273054599762, 9.17465215921402, 9.139363519847393, 8.029751069843769, 7.095246396958828, 6.931955210864544, 6.7907628528773785, 6.446681123226881, 6.013002872467041, 5.665612876415253, 5.247917041182518, 5.093478582799435, 4.369354002177715, 3.7507590651512146, 3.5938392244279385, 3.3902220390737057, 3.248987641185522, 2.6442201137542725, 2.6339530050754547,\n",
    "         2.457172006368637, 1.878849983215332, 1.6357200145721436, 0.3577069938182831, 0.04249409958720207, 0.0, 0.0, 0.0, 0.0, 0.0, 0.0, 0.0, 0.0, 0.0, 0.0, 0.0, 0.0, 0.0, 0.0, 0.0, 0.0, 0.0]\n",
    "\n",
    "\n",
    "df = pd.DataFrame({\"c\":importance_f,\"s\":score})"
   ]
  },
  {
   "cell_type": "code",
   "execution_count": 28,
   "metadata": {},
   "outputs": [
    {
     "name": "stderr",
     "output_type": "stream",
     "text": [
      "/usr/local/lib/python3.7/site-packages/matplotlib/font_manager.py:1331: UserWarning: findfont: Font family ['IPAexGothic'] not found. Falling back to DejaVu Sans\n",
      "  (prop.get_family(), self.defaultFamily[fontext]))\n"
     ]
    },
    {
     "data": {
      "image/png": "[encoded data removed]",
      "text/plain": [
       "<Figure size 432x288 with 1 Axes>"
      ]
     },
     "metadata": {
      "needs_background": "light"
     },
     "output_type": "display_data"
    }
   ],
   "source": [
    "import matplotlib.pyplot as plt\n",
    "plt.bar(importance_f,score)\n",
    "plt.bar(co,cum,alpha = 0.5)\n",
    "plt.yticks(np.arange(0,10000,500))\n",
    "plt.ylim([0,10000])\n",
    "plt.show()"
   ]
  },
  {
   "cell_type": "code",
   "execution_count": 27,
   "metadata": {},
   "outputs": [],
   "source": [
    "cum = []\n",
    "co = []\n",
    "s = 0\n",
    "#score.reverse()\n",
    "for c,i in zip(importance_f,score):\n",
    "    s += i\n",
    "    per = s/sum(score)\n",
    "    if per >= 0.60:\n",
    "        break\n",
    "    cum.append(i)\n",
    "    co.append(c)"
   ]
  },
  {
   "cell_type": "code",
   "execution_count": 66,
   "metadata": {},
   "outputs": [
    {
     "ename": "KeyError",
     "evalue": "\"['add_col2614_col88' 'dot_col608_col88' 'minus_col1252_col88'\\n 'dot_col3215_col88' 'dot_col88_col3215' 'minus_col2621_col88'\\n 'add_col88_col3215' 'add_col3215_col88' 'add_col226_col88'\\n 'add_col2349_col329' 'add_col3215_col176' 'add_col88_col1132'\\n 'dot_col3290_col88' 'add_col1413_col2349' 'add_col744_col3277'\\n 'add_col2349_col3277' 'dot_col176_col88' 'dot_col3051_col15'\\n 'add_col745_col2349' 'minus_col176_col329' 'minus_col3215_col2914'\\n 'minus_col1174_col2349' 'add_col68_col88' 'minus_col88_col1459'\\n 'add_col3372_col744' 'dot_col3290_col2614' 'dot_col88_col3290'\\n 'minus_col88_col821' 'add_col744_col745' 'add_col2914_col329'\\n 'minus_col15_col119' 'dot_col525_col2614' 'dot_col88_col3466'\\n 'add_col3372_col2349' 'dot_col88_col680' 'dot_col2614_col88'\\n 'minus_col15_col176' 'dot_col88_col1693' 'minus_col608_col2914'\\n 'add_col3372_col420' 'minus_col2914_col88' 'dot_col68_col525'\\n 'dot_col3290_col226' 'minus_col1050_col176' 'dot_col3215_col176'\\n 'minus_col1174_col329' 'minus_col226_col88' 'dot_col176_col525'\\n 'dot_col1050_col119' 'add_col68_col226' 'add_col15_col2349'\\n 'minus_col15_col3653' 'add_col3058_col3642' 'add_col15_col2914'\\n 'add_col420_col3277' 'add_col3290_col88' 'add_col2614_col226'\\n 'add_col3215_col525' 'add_col10_col68' 'minus_col1174_col119'\\n 'minus_col10_col3215' 'minus_col1050_col3290' 'minus_col3058_col3277'\\n 'minus_col1252_col226' 'dot_col608_col2614' 'add_col745_col420'\\n 'add_col176_col525' 'dot_col15_col68' 'dot_col88_col596'\\n 'dot_col68_col3215' 'dot_col226_col88' 'add_col1413_col744'\\n 'dot_col3051_col3277' 'minus_col88_col516' 'dot_col3215_col525'\\n 'col540_count_enc' 'minus_col913_col3653' 'dot_col168_col88'\\n 'add_col88_col777' 'minus_col1050_col525' 'add_col1174_col3642'\\n 'dot_col2925_col119' 'minus_col2349_col119' 'dot_col1174_col3642'\\n 'minus_col248_col3642' 'dot_col2614_col226' 'add_col2925_col3653'\\n 'add_col15_col3372' 'add_col744_col3642'] not in index\"",
     "output_type": "error",
     "traceback": [
      "\u001b[0;31m---------------------------------------------------------------------------\u001b[0m",
      "\u001b[0;31mKeyError\u001b[0m                                  Traceback (most recent call last)",
      "\u001b[0;32m<ipython-input-66-aaa87eb8b492>\u001b[0m in \u001b[0;36m<module>\u001b[0;34m()\u001b[0m\n\u001b[0;32m----> 1\u001b[0;31m \u001b[0mtrain1\u001b[0m\u001b[0;34m,\u001b[0m\u001b[0mtest1\u001b[0m \u001b[0;34m=\u001b[0m \u001b[0mtrain\u001b[0m\u001b[0;34m[\u001b[0m\u001b[0maa\u001b[0m\u001b[0;34m]\u001b[0m\u001b[0;34m,\u001b[0m\u001b[0mtest\u001b[0m\u001b[0;34m[\u001b[0m\u001b[0maa\u001b[0m\u001b[0;34m]\u001b[0m\u001b[0;34m\u001b[0m\u001b[0m\n\u001b[0m\u001b[1;32m      2\u001b[0m \u001b[0mdata\u001b[0m \u001b[0;34m=\u001b[0m \u001b[0mtrain1\u001b[0m\u001b[0;34m.\u001b[0m\u001b[0mappend\u001b[0m\u001b[0;34m(\u001b[0m\u001b[0mtest1\u001b[0m\u001b[0;34m)\u001b[0m\u001b[0;34m\u001b[0m\u001b[0m\n",
      "\u001b[0;32m/usr/local/lib/python3.7/site-packages/pandas/core/frame.py\u001b[0m in \u001b[0;36m__getitem__\u001b[0;34m(self, key)\u001b[0m\n\u001b[1;32m   2680\u001b[0m         \u001b[0;32mif\u001b[0m \u001b[0misinstance\u001b[0m\u001b[0;34m(\u001b[0m\u001b[0mkey\u001b[0m\u001b[0;34m,\u001b[0m \u001b[0;34m(\u001b[0m\u001b[0mSeries\u001b[0m\u001b[0;34m,\u001b[0m \u001b[0mnp\u001b[0m\u001b[0;34m.\u001b[0m\u001b[0mndarray\u001b[0m\u001b[0;34m,\u001b[0m \u001b[0mIndex\u001b[0m\u001b[0;34m,\u001b[0m \u001b[0mlist\u001b[0m\u001b[0;34m)\u001b[0m\u001b[0;34m)\u001b[0m\u001b[0;34m:\u001b[0m\u001b[0;34m\u001b[0m\u001b[0m\n\u001b[1;32m   2681\u001b[0m             \u001b[0;31m# either boolean or fancy integer index\u001b[0m\u001b[0;34m\u001b[0m\u001b[0;34m\u001b[0m\u001b[0m\n\u001b[0;32m-> 2682\u001b[0;31m             \u001b[0;32mreturn\u001b[0m \u001b[0mself\u001b[0m\u001b[0;34m.\u001b[0m\u001b[0m_getitem_array\u001b[0m\u001b[0;34m(\u001b[0m\u001b[0mkey\u001b[0m\u001b[0;34m)\u001b[0m\u001b[0;34m\u001b[0m\u001b[0m\n\u001b[0m\u001b[1;32m   2683\u001b[0m         \u001b[0;32melif\u001b[0m \u001b[0misinstance\u001b[0m\u001b[0;34m(\u001b[0m\u001b[0mkey\u001b[0m\u001b[0;34m,\u001b[0m \u001b[0mDataFrame\u001b[0m\u001b[0;34m)\u001b[0m\u001b[0;34m:\u001b[0m\u001b[0;34m\u001b[0m\u001b[0m\n\u001b[1;32m   2684\u001b[0m             \u001b[0;32mreturn\u001b[0m \u001b[0mself\u001b[0m\u001b[0;34m.\u001b[0m\u001b[0m_getitem_frame\u001b[0m\u001b[0;34m(\u001b[0m\u001b[0mkey\u001b[0m\u001b[0;34m)\u001b[0m\u001b[0;34m\u001b[0m\u001b[0m\n",
      "\u001b[0;32m/usr/local/lib/python3.7/site-packages/pandas/core/frame.py\u001b[0m in \u001b[0;36m_getitem_array\u001b[0;34m(self, key)\u001b[0m\n\u001b[1;32m   2724\u001b[0m             \u001b[0;32mreturn\u001b[0m \u001b[0mself\u001b[0m\u001b[0;34m.\u001b[0m\u001b[0m_take\u001b[0m\u001b[0;34m(\u001b[0m\u001b[0mindexer\u001b[0m\u001b[0;34m,\u001b[0m \u001b[0maxis\u001b[0m\u001b[0;34m=\u001b[0m\u001b[0;36m0\u001b[0m\u001b[0;34m)\u001b[0m\u001b[0;34m\u001b[0m\u001b[0m\n\u001b[1;32m   2725\u001b[0m         \u001b[0;32melse\u001b[0m\u001b[0;34m:\u001b[0m\u001b[0;34m\u001b[0m\u001b[0m\n\u001b[0;32m-> 2726\u001b[0;31m             \u001b[0mindexer\u001b[0m \u001b[0;34m=\u001b[0m \u001b[0mself\u001b[0m\u001b[0;34m.\u001b[0m\u001b[0mloc\u001b[0m\u001b[0;34m.\u001b[0m\u001b[0m_convert_to_indexer\u001b[0m\u001b[0;34m(\u001b[0m\u001b[0mkey\u001b[0m\u001b[0;34m,\u001b[0m \u001b[0maxis\u001b[0m\u001b[0;34m=\u001b[0m\u001b[0;36m1\u001b[0m\u001b[0;34m)\u001b[0m\u001b[0;34m\u001b[0m\u001b[0m\n\u001b[0m\u001b[1;32m   2727\u001b[0m             \u001b[0;32mreturn\u001b[0m \u001b[0mself\u001b[0m\u001b[0;34m.\u001b[0m\u001b[0m_take\u001b[0m\u001b[0;34m(\u001b[0m\u001b[0mindexer\u001b[0m\u001b[0;34m,\u001b[0m \u001b[0maxis\u001b[0m\u001b[0;34m=\u001b[0m\u001b[0;36m1\u001b[0m\u001b[0;34m)\u001b[0m\u001b[0;34m\u001b[0m\u001b[0m\n\u001b[1;32m   2728\u001b[0m \u001b[0;34m\u001b[0m\u001b[0m\n",
      "\u001b[0;32m/usr/local/lib/python3.7/site-packages/pandas/core/indexing.py\u001b[0m in \u001b[0;36m_convert_to_indexer\u001b[0;34m(self, obj, axis, is_setter)\u001b[0m\n\u001b[1;32m   1325\u001b[0m                 \u001b[0;32mif\u001b[0m \u001b[0mmask\u001b[0m\u001b[0;34m.\u001b[0m\u001b[0many\u001b[0m\u001b[0;34m(\u001b[0m\u001b[0;34m)\u001b[0m\u001b[0;34m:\u001b[0m\u001b[0;34m\u001b[0m\u001b[0m\n\u001b[1;32m   1326\u001b[0m                     raise KeyError('{mask} not in index'\n\u001b[0;32m-> 1327\u001b[0;31m                                    .format(mask=objarr[mask]))\n\u001b[0m\u001b[1;32m   1328\u001b[0m \u001b[0;34m\u001b[0m\u001b[0m\n\u001b[1;32m   1329\u001b[0m                 \u001b[0;32mreturn\u001b[0m \u001b[0mcom\u001b[0m\u001b[0;34m.\u001b[0m\u001b[0m_values_from_object\u001b[0m\u001b[0;34m(\u001b[0m\u001b[0mindexer\u001b[0m\u001b[0;34m)\u001b[0m\u001b[0;34m\u001b[0m\u001b[0m\n",
      "\u001b[0;31mKeyError\u001b[0m: \"['add_col2614_col88' 'dot_col608_col88' 'minus_col1252_col88'\\n 'dot_col3215_col88' 'dot_col88_col3215' 'minus_col2621_col88'\\n 'add_col88_col3215' 'add_col3215_col88' 'add_col226_col88'\\n 'add_col2349_col329' 'add_col3215_col176' 'add_col88_col1132'\\n 'dot_col3290_col88' 'add_col1413_col2349' 'add_col744_col3277'\\n 'add_col2349_col3277' 'dot_col176_col88' 'dot_col3051_col15'\\n 'add_col745_col2349' 'minus_col176_col329' 'minus_col3215_col2914'\\n 'minus_col1174_col2349' 'add_col68_col88' 'minus_col88_col1459'\\n 'add_col3372_col744' 'dot_col3290_col2614' 'dot_col88_col3290'\\n 'minus_col88_col821' 'add_col744_col745' 'add_col2914_col329'\\n 'minus_col15_col119' 'dot_col525_col2614' 'dot_col88_col3466'\\n 'add_col3372_col2349' 'dot_col88_col680' 'dot_col2614_col88'\\n 'minus_col15_col176' 'dot_col88_col1693' 'minus_col608_col2914'\\n 'add_col3372_col420' 'minus_col2914_col88' 'dot_col68_col525'\\n 'dot_col3290_col226' 'minus_col1050_col176' 'dot_col3215_col176'\\n 'minus_col1174_col329' 'minus_col226_col88' 'dot_col176_col525'\\n 'dot_col1050_col119' 'add_col68_col226' 'add_col15_col2349'\\n 'minus_col15_col3653' 'add_col3058_col3642' 'add_col15_col2914'\\n 'add_col420_col3277' 'add_col3290_col88' 'add_col2614_col226'\\n 'add_col3215_col525' 'add_col10_col68' 'minus_col1174_col119'\\n 'minus_col10_col3215' 'minus_col1050_col3290' 'minus_col3058_col3277'\\n 'minus_col1252_col226' 'dot_col608_col2614' 'add_col745_col420'\\n 'add_col176_col525' 'dot_col15_col68' 'dot_col88_col596'\\n 'dot_col68_col3215' 'dot_col226_col88' 'add_col1413_col744'\\n 'dot_col3051_col3277' 'minus_col88_col516' 'dot_col3215_col525'\\n 'col540_count_enc' 'minus_col913_col3653' 'dot_col168_col88'\\n 'add_col88_col777' 'minus_col1050_col525' 'add_col1174_col3642'\\n 'dot_col2925_col119' 'minus_col2349_col119' 'dot_col1174_col3642'\\n 'minus_col248_col3642' 'dot_col2614_col226' 'add_col2925_col3653'\\n 'add_col15_col3372' 'add_col744_col3642'] not in index\""
     ]
    }
   ],
   "source": [
    "train1,test1 = train[aa],test[aa]\n",
    "data = train1.append(test1)"
   ]
  },
  {
   "cell_type": "code",
   "execution_count": 84,
   "metadata": {},
   "outputs": [
    {
     "data": {
      "text/plain": [
       "903"
      ]
     },
     "execution_count": 84,
     "metadata": {},
     "output_type": "execute_result"
    }
   ],
   "source": [
    "len([x for x in train.columns if (train[x].dtypes == int) and (len(np.unique(train[x])) != 2) ])"
   ]
  },
  {
   "cell_type": "code",
   "execution_count": null,
   "metadata": {},
   "outputs": [],
   "source": []
  },
  {
   "cell_type": "code",
   "execution_count": 33,
   "metadata": {},
   "outputs": [
    {
     "name": "stderr",
     "output_type": "stream",
     "text": [
      "100%|██████████| 8/8 [00:00<00:00, 90.13it/s]\n"
     ]
    }
   ],
   "source": [
    "from tqdm import tqdm\n",
    "data = train1.append(test1)\n",
    "\n",
    "\n",
    "def interact_encoding(data,f):\n",
    "    new = pd.DataFrame()\n",
    "    for i in tqdm(range(len(f))):\n",
    "        for j in range(i):\n",
    "            c,cc = f[i],f[j]\n",
    "            new[\"add_\" + c +\"_\"+ cc ] = data[c].values + data[cc].values\n",
    "            new[\"minus_\" + c +\"_\"+ cc ] = data[c].values- data[cc].values\n",
    "            new[\"dot_\" + c +\"_\"+ cc ] = data[c].values*data[cc].values\n",
    "    return new\n",
    "# 15 %\n",
    "f = ['col88',\n",
    " 'col329',\n",
    " 'col3277',\n",
    " 'col226',\n",
    " 'col2614',\n",
    " 'col2914',\n",
    " 'col119',\n",
    " 'col3290']\n",
    "inter_f = interact_encoding(data,f)\n",
    "\n",
    "\n",
    "\n",
    "def best_importance_col(data,imp_c):\n",
    "    new = pd.DataFrame()\n",
    "    flist = [x for x in data.columns if (data[x].dtypes == int) and (len(np.unique(data[x])) != 2) ]\n",
    "    for c in tqdm(flist):\n",
    "        new[\"add_\" + imp_c +\"_\"+ c ] = data[imp_c]+ data[c]\n",
    "        new[\"minus_\" + imp_c +\"_\"+ c ] = data[imp_c]- data[c]\n",
    "        new[\"dot_\" + imp_c +\"_\"+ c ] = data[imp_c]*data[c]\n",
    "    return new\n",
    "imp_f = best_importance_col(data,\"col88\")\n",
    "\n",
    "def polynominal_encoding(data,f):\n",
    "    new = pd.DataFrame()\n",
    "    for i in tqdm(range(len(f))):\n",
    "        for j in range(i):            \n",
    "            new[f\"{f[i]}_{f[j]}_XOR\"] = np.logical_xor(data[f[i]], data[f[j]])  \n",
    "\n",
    "    return new\n",
    "flist = [x for x in data.columns if len(np.unique(data[x])) == 2 ]\n",
    "poly_f = polynominal_encoding(data,flist)\n",
    "\n",
    "\n",
    "l = len(data)\n",
    "zero_7,zero_not7 = [],[]\n",
    "for i in data.columns:\n",
    "    if sum(data[i] == 0)/l > 0.7:\n",
    "        zero_7.append(i)\n",
    "    else :\n",
    "        zero_not7.append(i)\n",
    "\n",
    "def add_zeroAgg(data, flist, c):\n",
    "    new = pd.DataFrame()\n",
    "    new[c + 'Mean']   = data[flist].mean(axis=1)\n",
    "    new[c + 'Median'] = data[flist].median(axis=1)\n",
    "    #data[c + 'Mode']   = data[flist].mode(axis=1)\n",
    "    new[c + 'Max']    = data[flist].max(axis=1)\n",
    "    new[c + 'Var']    = data[flist].var(axis=1)\n",
    "    new[c + 'Std']    = data[flist].std(axis=1)\n",
    "\n",
    "\n",
    "    return new\n",
    "zero_y_f = add_zeroAgg(data,zero_7, \"zero_70\")\n",
    "zero_n_f = add_zeroAgg(data,zero_not7, \"zero_not70\")\n",
    "\n",
    "\n",
    "\n",
    "def int_data_st(data):\n",
    "    new = pd.DataFrame()\n",
    "    c = data.columns[data.dtypes == int]\n",
    "\n",
    "    new[\"mean_int\"] = data[c].mean(axis = 1)\n",
    "    new[\"var_int\"] = data[c].var(axis = 1)\n",
    "    new[\"std_int\"] = data[c].std(axis = 1)\n",
    "    new[\"max_int\"] = data[c].max(axis = 1)\n",
    "    new[\"min_int\"] = data[c].min(axis = 1)\n",
    "\n",
    "    return new\n",
    "int_f = int_data_st(data)\n",
    "\n",
    "def float_data_st(data):\n",
    "    \n",
    "    new = pd.DataFrame()\n",
    "    c = data.columns[data.dtypes == float]\n",
    "\n",
    "    new[\"mean_float\"] = data[c].mean(axis = 1)\n",
    "    new[\"var_float\"] = data[c].var(axis = 1)\n",
    "    new[\"std_float\"] = data[c].std(axis = 1)\n",
    "    new[\"max_float\"] = data[c].max(axis = 1)\n",
    "    new[\"min_float\"] = data[c].min(axis = 1)\n",
    "\n",
    "    return new\n",
    "\n",
    "\n",
    "float_f = float_data_st(data)\n",
    "\n",
    "\n",
    "def add_AllAgg(data):\n",
    "    flist = data.columns\n",
    "    new = pd.DataFrame()\n",
    "    new['Mean']   = data[flist].mean(axis=1)\n",
    "    new['Median'] = data[flist].median(axis=1)\n",
    "    #data['Mode']   = data[flist].mode(axis=1)\n",
    "    new['Max']    = data[flist].max(axis=1)\n",
    "    new['Min']    = data[flist].min(axis=1)\n",
    "    new['Var']    = data[flist].var(axis=1)\n",
    "    new['Std']    = data[flist].std(axis=1)\n",
    "\n",
    "    return new\n",
    "allagg_f = add_AllAgg(data)\n",
    "\n",
    "\n",
    "def add_ZeroAgg(data):\n",
    "    flist = [x for x in data.columns if not x in ['ID','target']]\n",
    "    new = pd.DataFrame()\n",
    "    new['sum_Zeros'] = (data[flist] == 0).astype(int).sum(axis=1)\n",
    "    new['mean_Zeros'] = (data[flist] == 0).astype(int).mean(axis=1)\n",
    "    new['median_Zeros'] = (data[flist] == 0).astype(int).median(axis=1)\n",
    "    new['max_Zeros'] = (data[flist] == 0).astype(int).max(axis=1)\n",
    "    new['min_Zeros'] = (data[flist] == 0).astype(int).min(axis=1)\n",
    "    new['std_Zeros'] = (data[flist] == 0).astype(int).std(axis=1)\n",
    "    new['var_Zeros'] = (data[flist] == 0).astype(int).var(axis=1)\n",
    "    return new\n",
    "zeroagg_f = add_ZeroAgg(data)\n",
    "\n",
    "def add_NegAgg(data):\n",
    "    flist = [x for x in data.columns if not x in ['ID','target']]\n",
    "    new = pd.DataFrame()\n",
    "    new['sum_Neg'] = (data[flist] < 0).astype(int).sum(axis=1)\n",
    "    new['median_Neg'] = (data[flist] < 0).astype(int).median(axis=1)\n",
    "    new['mean_Neg'] = (data[flist] < 0).astype(int).mean(axis=1)\n",
    "    new['std_Neg'] = (data[flist] < 0).astype(int).std(axis=1)\n",
    "    new['var_Neg'] = (data[flist] < 0).astype(int).var(axis=1)\n",
    "    new['max_Neg'] = (data[flist] < 0).astype(int).min(axis=1)\n",
    "    new['min_Neg'] = (data[flist]< 0).astype(int).max(axis=1)\n",
    "    return new\n",
    "negagg_f = add_NegAgg(data)\n",
    "\n",
    "\n",
    "def add_IncAgg(data):\n",
    "    flist = [x for x in data.columns if not x in ['ID','target']]\n",
    "    new = pd.DataFrame()\n",
    "    new['sum_Inc'] = (data[flist] > 0).astype(int).sum(axis=1)\n",
    "    new['mean_Inc'] = (data[flist] > 0).astype(int).mean(axis=1)\n",
    "    new['median_Inc'] = (data[flist] > 0).astype(int).median(axis=1)\n",
    "    new['std_Inc'] = (data[flist] > 0).astype(int).std(axis=1)\n",
    "    new['var_Inc'] = (data[flist] > 0).astype(int).var(axis=1)\n",
    "    new['min_Inc'] = (data[flist] > 0).astype(int).min(axis=1)\n",
    "    new['max_Inc'] = (data[flist] > 0).astype(int).max(axis=1)\n",
    "    return new\n",
    "Incagg_f = add_IncAgg(data)\n",
    "\n",
    "def add_UniqAgg(data):\n",
    "\n",
    "    new = pd.DataFrame()\n",
    "    for i in tqdm(range(len(data))):\n",
    "        new.loc[i,'sum_Uniq'] = np.unique(data.iloc[i,:]).sum()\n",
    "        new.loc[i,'mean_Uniq'] = np.unique(data.iloc[i,:]).mean()\n",
    "        new.loc[i,'std_Uniq'] = np.unique(data.iloc[i,:]).std()\n",
    "        new.loc[i,'var_Uniq'] =  np.unique(data.iloc[i,:]).var()\n",
    "        new.loc[i,'min_Uniq'] =  np.unique(data.iloc[i,:]).max()\n",
    "        new.loc[i,'max_Uniq'] =  np.unique(data.iloc[i,:]).min()\n",
    "    return new\n",
    "uniqagg_f = add_UniqAgg(data)\n",
    "\n",
    "def count_encoding(data):\n",
    "    int_c = data.columns[data.dtypes == int]\n",
    "    new = pd.DataFrame()\n",
    "    for c in tqdm(int_c):\n",
    "        v_c = data[c].value_counts()\n",
    "        new[c + \"_count_enc\"] = data[c].map(v_c)\n",
    "    return new\n",
    "\n",
    "count_f= count_encoding(data)\n",
    "\n",
    "def countlabel_encoding(data,label):\n",
    "    new = pd.DataFrame()\n",
    "    int_c = data.columns[data.dtypes == int]\n",
    "    data[\"score_label\"] =np.r_[np.array(label),([np.nan] * (len(label)+1))]\n",
    "    for c in int_c:\n",
    "        count_rank = data.groupby(c)['score_label'].count().rank(ascending=False)\n",
    "        new[ c + '_CountRank'] = data[c].map(count_rank)\n",
    "    return new\n",
    "label = []\n",
    "for i in Score:\n",
    "    if i <= -1.:\n",
    "        label.append(0)\n",
    "    elif -1 < i <= 0:\n",
    "        label.append(1)\n",
    "    elif 0 < i <= 1:\n",
    "        label.append(2)\n",
    "    elif 1 < i <= 2:\n",
    "        label.append(3)\n",
    "    elif 2 < i <= 3:\n",
    "        label.append(4)\n",
    "    else:\n",
    "        label.append(5)\n",
    "countlabel_f = countlabel_encoding(data,label)\n",
    "#[imp_f,count_f,sumnum_f,allagg_f,int_f,zero_y_f,zero_n_f,poly_f]"
   ]
  },
  {
   "cell_type": "code",
   "execution_count": 34,
   "metadata": {},
   "outputs": [
    {
     "ename": "ValueError",
     "evalue": "all the input array dimensions except for the concatenation axis must match exactly",
     "output_type": "error",
     "traceback": [
      "\u001b[0;31m---------------------------------------------------------------------------\u001b[0m",
      "\u001b[0;31mValueError\u001b[0m                                Traceback (most recent call last)",
      "\u001b[0;32m<ipython-input-34-063105637024>\u001b[0m in \u001b[0;36m<module>\u001b[0;34m()\u001b[0m\n\u001b[1;32m     10\u001b[0m add_df = df_concat([inter_f,imp_f,count_f,allagg_f,int_f,float_f,\n\u001b[1;32m     11\u001b[0m                     \u001b[0mzero_y_f\u001b[0m\u001b[0;34m,\u001b[0m\u001b[0mzero_n_f\u001b[0m\u001b[0;34m,\u001b[0m\u001b[0mpoly_f\u001b[0m\u001b[0;34m,\u001b[0m\u001b[0mcountlabel_f\u001b[0m\u001b[0;34m,\u001b[0m\u001b[0;34m\u001b[0m\u001b[0m\n\u001b[0;32m---> 12\u001b[0;31m                     uniqagg_f,Incagg_f,negagg_f,zeroagg_f])\n\u001b[0m",
      "\u001b[0;32m<ipython-input-34-063105637024>\u001b[0m in \u001b[0;36mdf_concat\u001b[0;34m(flist)\u001b[0m\n\u001b[1;32m      4\u001b[0m     \u001b[0;32mfor\u001b[0m \u001b[0mi\u001b[0m \u001b[0;32min\u001b[0m \u001b[0mflist\u001b[0m\u001b[0;34m[\u001b[0m\u001b[0;36m1\u001b[0m\u001b[0;34m:\u001b[0m\u001b[0;34m]\u001b[0m\u001b[0;34m:\u001b[0m\u001b[0;34m\u001b[0m\u001b[0m\n\u001b[1;32m      5\u001b[0m         \u001b[0madd_columns\u001b[0m \u001b[0;34m+=\u001b[0m \u001b[0mi\u001b[0m\u001b[0;34m.\u001b[0m\u001b[0mcolumns\u001b[0m\u001b[0;34m.\u001b[0m\u001b[0mvalues\u001b[0m\u001b[0;34m.\u001b[0m\u001b[0mtolist\u001b[0m\u001b[0;34m(\u001b[0m\u001b[0;34m)\u001b[0m\u001b[0;34m\u001b[0m\u001b[0m\n\u001b[0;32m----> 6\u001b[0;31m         \u001b[0madd_df\u001b[0m \u001b[0;34m=\u001b[0m \u001b[0mnp\u001b[0m\u001b[0;34m.\u001b[0m\u001b[0mc_\u001b[0m\u001b[0;34m[\u001b[0m\u001b[0madd_df\u001b[0m\u001b[0;34m,\u001b[0m\u001b[0mi\u001b[0m\u001b[0;34m.\u001b[0m\u001b[0mvalues\u001b[0m\u001b[0;34m]\u001b[0m\u001b[0;34m\u001b[0m\u001b[0m\n\u001b[0m\u001b[1;32m      7\u001b[0m \u001b[0;34m\u001b[0m\u001b[0m\n\u001b[1;32m      8\u001b[0m     \u001b[0;32mreturn\u001b[0m \u001b[0mpd\u001b[0m\u001b[0;34m.\u001b[0m\u001b[0mDataFrame\u001b[0m\u001b[0;34m(\u001b[0m\u001b[0madd_df\u001b[0m\u001b[0;34m,\u001b[0m\u001b[0mcolumns\u001b[0m\u001b[0;34m=\u001b[0m\u001b[0madd_columns\u001b[0m\u001b[0;34m)\u001b[0m\u001b[0;34m\u001b[0m\u001b[0m\n",
      "\u001b[0;32m/usr/local/lib/python3.7/site-packages/numpy/lib/index_tricks.py\u001b[0m in \u001b[0;36m__getitem__\u001b[0;34m(self, key)\u001b[0m\n\u001b[1;32m    333\u001b[0m                 \u001b[0mobjs\u001b[0m\u001b[0;34m[\u001b[0m\u001b[0mk\u001b[0m\u001b[0;34m]\u001b[0m \u001b[0;34m=\u001b[0m \u001b[0mobjs\u001b[0m\u001b[0;34m[\u001b[0m\u001b[0mk\u001b[0m\u001b[0;34m]\u001b[0m\u001b[0;34m.\u001b[0m\u001b[0mastype\u001b[0m\u001b[0;34m(\u001b[0m\u001b[0mfinal_dtype\u001b[0m\u001b[0;34m)\u001b[0m\u001b[0;34m\u001b[0m\u001b[0m\n\u001b[1;32m    334\u001b[0m \u001b[0;34m\u001b[0m\u001b[0m\n\u001b[0;32m--> 335\u001b[0;31m         \u001b[0mres\u001b[0m \u001b[0;34m=\u001b[0m \u001b[0mself\u001b[0m\u001b[0;34m.\u001b[0m\u001b[0mconcatenate\u001b[0m\u001b[0;34m(\u001b[0m\u001b[0mtuple\u001b[0m\u001b[0;34m(\u001b[0m\u001b[0mobjs\u001b[0m\u001b[0;34m)\u001b[0m\u001b[0;34m,\u001b[0m \u001b[0maxis\u001b[0m\u001b[0;34m=\u001b[0m\u001b[0maxis\u001b[0m\u001b[0;34m)\u001b[0m\u001b[0;34m\u001b[0m\u001b[0m\n\u001b[0m\u001b[1;32m    336\u001b[0m \u001b[0;34m\u001b[0m\u001b[0m\n\u001b[1;32m    337\u001b[0m         \u001b[0;32mif\u001b[0m \u001b[0mmatrix\u001b[0m\u001b[0;34m:\u001b[0m\u001b[0;34m\u001b[0m\u001b[0m\n",
      "\u001b[0;31mValueError\u001b[0m: all the input array dimensions except for the concatenation axis must match exactly"
     ]
    }
   ],
   "source": [
    "def df_concat(flist):\n",
    "    add_columns = flist[0].columns.values.tolist()\n",
    "    add_df = flist[0].values\n",
    "    for i in flist[1:]:\n",
    "        add_columns += i.columns.values.tolist()\n",
    "        add_df = np.c_[add_df,i.values]\n",
    "\n",
    "    return pd.DataFrame(add_df,columns=add_columns)\n",
    "    \n",
    "add_df = df_concat([inter_f,imp_f,count_f,allagg_f,int_f,float_f,\n",
    "                    zero_y_f,zero_n_f,poly_f,countlabel_f,\n",
    "                    uniqagg_f,Incagg_f,negagg_f,zeroagg_f])"
   ]
  },
  {
   "cell_type": "code",
   "execution_count": 300,
   "metadata": {},
   "outputs": [],
   "source": [
    "finish = df_concat([finish,add_df])"
   ]
  },
  {
   "cell_type": "code",
   "execution_count": 198,
   "metadata": {},
   "outputs": [
    {
     "name": "stdout",
     "output_type": "stream",
     "text": [
      "(27463, 840)\n",
      "(27463, 81)\n",
      "(27463, 29)\n",
      "(27463, 6)\n",
      "(27463, 5)\n",
      "(27463, 5)\n",
      "(27463, 5)\n",
      "(27463, 5)\n",
      "(27463, 1)\n",
      "(27463, 29)\n",
      "(27463, 6)\n",
      "(27463, 7)\n",
      "(27463, 7)\n",
      "(27463, 7)\n"
     ]
    }
   ],
   "source": [
    "for i in [inter_f,imp_f,count_f,allagg_f,int_f,float_f,\n",
    "                    zero_y_f,zero_n_f,poly_f,countlabel_f,\n",
    "                    uniqagg_f,Incagg_f,negagg_f,zeroagg_f]:\n",
    "    print(i.shape)"
   ]
  },
  {
   "cell_type": "code",
   "execution_count": 288,
   "metadata": {},
   "outputs": [],
   "source": [
    "finish = train1.append(test1)"
   ]
  },
  {
   "cell_type": "code",
   "execution_count": 303,
   "metadata": {},
   "outputs": [
    {
     "name": "stderr",
     "output_type": "stream",
     "text": [
      "\n",
      "  0%|          | 0/685 [00:00<?, ?it/s]\u001b[A\n",
      "100%|██████████| 685/685 [00:00<00:00, 18711.77it/s]\u001b[A"
     ]
    }
   ],
   "source": [
    "constant = []\n",
    "for col in finish.columns:\n",
    "    if col != \"Score\" or col != \"ID\":\n",
    "        if finish[col].std() == 0:\n",
    "            constant.append(col)\n",
    "finish.drop(columns=constant,axis=1,inplace=True)\n",
    "#ダブり\n",
    "aa = []\n",
    "for i in tqdm(finish.columns):\n",
    "    if finish[i].dtype != \"object\":\n",
    "        aa.append(i)\n",
    "duplicate_f = finish[aa].T[finish[aa].T.duplicated()].index.values\n",
    "finish.drop(duplicate_f,axis=1,inplace=True)\n"
   ]
  },
  {
   "cell_type": "code",
   "execution_count": 304,
   "metadata": {},
   "outputs": [
    {
     "name": "stderr",
     "output_type": "stream",
     "text": [
      "\n",
      "  0%|          | 0/678 [00:00<?, ?it/s]\u001b[A\n",
      "  3%|▎         | 17/678 [00:00<00:03, 168.72it/s]\u001b[A\n",
      "  5%|▍         | 33/678 [00:00<00:03, 164.78it/s]\u001b[A\n",
      "  8%|▊         | 51/678 [00:00<00:03, 168.49it/s]\u001b[A\n",
      " 10%|▉         | 66/678 [00:00<00:03, 162.34it/s]\u001b[A\n",
      " 12%|█▏        | 83/678 [00:00<00:03, 162.12it/s]\u001b[A\n",
      " 15%|█▌        | 102/678 [00:00<00:03, 168.16it/s]\u001b[A\n",
      " 18%|█▊        | 121/678 [00:00<00:03, 172.00it/s]\u001b[A\n",
      " 21%|██        | 139/678 [00:00<00:03, 172.49it/s]\u001b[A\n",
      " 23%|██▎       | 156/678 [00:00<00:03, 171.04it/s]\u001b[A\n",
      " 26%|██▌       | 173/678 [00:01<00:02, 170.35it/s]\u001b[A\n",
      " 28%|██▊       | 193/678 [00:01<00:02, 175.51it/s]\u001b[A\n",
      " 32%|███▏      | 215/678 [00:01<00:02, 185.28it/s]\u001b[A\n",
      " 35%|███▍      | 234/678 [00:01<00:02, 183.41it/s]\u001b[A\n",
      " 37%|███▋      | 253/678 [00:01<00:02, 168.08it/s]\u001b[A\n",
      " 40%|███▉      | 271/678 [00:01<00:02, 159.10it/s]\u001b[A\n",
      " 42%|████▏     | 288/678 [00:01<00:02, 160.39it/s]\u001b[A\n",
      " 45%|████▌     | 306/678 [00:01<00:02, 164.77it/s]\u001b[A\n",
      " 48%|████▊     | 325/678 [00:01<00:02, 169.75it/s]\u001b[A\n",
      " 51%|█████     | 343/678 [00:02<00:01, 172.62it/s]\u001b[A\n",
      " 53%|█████▎    | 361/678 [00:02<00:01, 174.67it/s]\u001b[A\n",
      " 56%|█████▌    | 379/678 [00:02<00:01, 175.28it/s]\u001b[A\n",
      " 59%|█████▊    | 397/678 [00:02<00:01, 174.93it/s]\u001b[A\n",
      " 61%|██████▏   | 416/678 [00:02<00:01, 174.30it/s]\u001b[A\n",
      " 64%|██████▍   | 434/678 [00:02<00:01, 163.76it/s]\u001b[A\n",
      " 67%|██████▋   | 451/678 [00:02<00:01, 164.98it/s]\u001b[A\n",
      " 69%|██████▉   | 468/678 [00:02<00:01, 164.20it/s]\u001b[A\n",
      " 72%|███████▏  | 485/678 [00:02<00:01, 163.77it/s]\u001b[A\n",
      " 75%|███████▍  | 506/678 [00:02<00:00, 173.84it/s]\u001b[A\n",
      " 78%|███████▊  | 526/678 [00:03<00:00, 179.49it/s]\u001b[A\n",
      " 81%|████████  | 546/678 [00:03<00:00, 183.84it/s]\u001b[A\n",
      " 83%|████████▎ | 565/678 [00:03<00:00, 184.91it/s]\u001b[A\n",
      " 86%|████████▋ | 586/678 [00:03<00:00, 190.67it/s]\u001b[A\n",
      " 90%|████████▉ | 607/678 [00:03<00:00, 192.87it/s]\u001b[A\n",
      " 92%|█████████▏| 627/678 [00:03<00:00, 191.03it/s]\u001b[A\n",
      " 96%|█████████▌| 649/678 [00:03<00:00, 197.89it/s]\u001b[A\n",
      " 99%|█████████▉| 670/678 [00:03<00:00, 200.79it/s]\u001b[A\n",
      "100%|██████████| 678/678 [00:03<00:00, 176.65it/s]\u001b[A"
     ]
    }
   ],
   "source": [
    "from scipy.stats import ks_2samp\n",
    "list_p_value =[]\n",
    "\n",
    "for i in tqdm(finish.columns):\n",
    "    list_p_value.append(ks_2samp(finish.loc[13731:,i] , finish.loc[:13731,i])[1])\n",
    "\n",
    "Se = pd.Series(list_p_value, index = finish.columns).sort_values() \n",
    "list_discarded = list(Se[Se < .1].index)\n"
   ]
  },
  {
   "cell_type": "code",
   "execution_count": 295,
   "metadata": {},
   "outputs": [],
   "source": [
    "finish.drop(list_discarded,axis=1,inplace=True)"
   ]
  },
  {
   "cell_type": "code",
   "execution_count": 31,
   "metadata": {},
   "outputs": [
    {
     "name": "stderr",
     "output_type": "stream",
     "text": [
      "100%|██████████| 117/117 [00:00<00:00, 485.06it/s]\n",
      "100%|██████████| 117/117 [00:00<00:00, 23068.38it/s]\n",
      "100%|██████████| 117/117 [00:00<00:00, 239.68it/s]\n",
      "100%|██████████| 117/117 [00:00<00:00, 1343.72it/s]\n"
     ]
    }
   ],
   "source": [
    "import pandas as pd\n",
    "import matplotlib.pyplot as plt\n",
    "import numpy as np\n",
    "from tqdm import tqdm\n",
    "train,test = data.iloc[:13731,:],data.iloc[13731:,:]\n",
    "#分散＝０\n",
    "constant = []\n",
    "for col in train.columns:\n",
    "    if col != \"Score\" or col != \"ID\":\n",
    "        if train[col].std() == 0:\n",
    "            constant.append(col)\n",
    "train1 = train.drop(columns=constant,axis=1)\n",
    "test1 = test.drop(columns=constant,axis=1)\n",
    "\n",
    "\n",
    "# カテゴリ minが300以下なら排除\n",
    "col=[]\n",
    "for c in tqdm(train1.columns):\n",
    "    if len(np.unique(train1[c])) == 2:\n",
    "        if min(train1[c].value_counts()) <= 1000:\n",
    "            col.append(c)\n",
    "    if train1[c].dtypes == float and len(np.unique(train1[c])) < 3:\n",
    "        col.append(c)\n",
    "train1.drop(col,axis = 1, inplace=True)\n",
    "test1.drop(col,axis = 1, inplace=True)\n",
    "            \n",
    "#ダブり\n",
    "aa = []\n",
    "for i in tqdm(train1.columns):\n",
    "    if train1[i].dtype != \"object\":\n",
    "        aa.append(i)\n",
    "duplicate_f = train1[aa].T[train1[aa].T.duplicated()].index.values\n",
    "train1.drop(duplicate_f,axis=1,inplace=True)\n",
    "test1.drop(duplicate_f,axis=1,inplace=True)\n",
    "\n",
    "#分散\n",
    "from sklearn.feature_selection import VarianceThreshold\n",
    "sel = VarianceThreshold(threshold=0.1)\n",
    "sel.fit(train1)\n",
    "f = train1.columns[sel.get_support()].values\n",
    "train1 = train1[f]\n",
    "test1 = test[f]\n",
    "\n",
    "\n",
    "from scipy.stats import ks_2samp\n",
    "list_p_value =[]\n",
    "\n",
    "for i in tqdm(train1.columns):\n",
    "    list_p_value.append(ks_2samp(test1[i] , train1[i])[1])\n",
    "\n",
    "Se = pd.Series(list_p_value, index = train1.columns).sort_values() \n",
    "list_discarded = list(Se[Se < .1].index)\n",
    "train1.drop(list_discarded,axis=1,inplace=True)\n",
    "test1.drop(list_discarded,axis=1,inplace=True)\n",
    "\n",
    "#相関係数\n",
    "corr = set()\n",
    "corr_matrix = train1.corr()\n",
    "for i in tqdm(range(len(corr_matrix.columns))):\n",
    "    for j in range(i):\n",
    "        if abs(corr_matrix.iloc[i,j]) > 0.75:\n",
    "            corr.add(corr_matrix.columns[i])\n",
    "train1.drop(corr,axis=1,inplace=True)\n",
    "test1.drop(corr,axis=1,inplace=True)"
   ]
  },
  {
   "cell_type": "code",
   "execution_count": 308,
   "metadata": {},
   "outputs": [
    {
     "name": "stderr",
     "output_type": "stream",
     "text": [
      "/usr/local/lib/python3.7/site-packages/ipykernel_launcher.py:1: SettingWithCopyWarning: \n",
      "A value is trying to be set on a copy of a slice from a DataFrame.\n",
      "Try using .loc[row_indexer,col_indexer] = value instead\n",
      "\n",
      "See the caveats in the documentation: http://pandas.pydata.org/pandas-docs/stable/indexing.html#indexing-view-versus-copy\n",
      "  \"\"\"Entry point for launching an IPython kernel.\n",
      "/usr/local/lib/python3.7/site-packages/ipykernel_launcher.py:2: SettingWithCopyWarning: \n",
      "A value is trying to be set on a copy of a slice from a DataFrame.\n",
      "Try using .loc[row_indexer,col_indexer] = value instead\n",
      "\n",
      "See the caveats in the documentation: http://pandas.pydata.org/pandas-docs/stable/indexing.html#indexing-view-versus-copy\n",
      "  \n"
     ]
    }
   ],
   "source": [
    "train1[\"Score\"] = Score\n",
    "test1[\"ID\"] = test_id.values"
   ]
  },
  {
   "cell_type": "code",
   "execution_count": 41,
   "metadata": {},
   "outputs": [],
   "source": [
    "def df_concat(flist):\n",
    "    add_columns = flist[0].columns.values.tolist()\n",
    "    add_df = flist[0].values\n",
    "    for i in flist[1:]:\n",
    "        add_columns += i.columns.values.tolist()\n",
    "        add_df = np.c_[add_df,i.values]\n",
    "    return pd.DataFrame(add_df,columns=add_columns)\n",
    "    "
   ]
  },
  {
   "cell_type": "code",
   "execution_count": 48,
   "metadata": {},
   "outputs": [],
   "source": [
    "data = df_concat([data,add_df])"
   ]
  },
  {
   "cell_type": "code",
   "execution_count": 49,
   "metadata": {},
   "outputs": [],
   "source": [
    "data1 = df_concat([data,add_features])"
   ]
  },
  {
   "cell_type": "code",
   "execution_count": 306,
   "metadata": {},
   "outputs": [],
   "source": [
    "train1,test1 = finish.iloc[:13731,:],finish.iloc[13731:,:]"
   ]
  },
  {
   "cell_type": "code",
   "execution_count": 309,
   "metadata": {},
   "outputs": [],
   "source": [
    "\n",
    "\n",
    "upperbound, lowerbound = np.percentile(finish, [1, 99])\n",
    "finish = np.clip(finish, upperbound, lowerbound)"
   ]
  },
  {
   "cell_type": "code",
   "execution_count": 19,
   "metadata": {},
   "outputs": [],
   "source": [
    "del train1[\"Score\"],test1[\"ID\"]"
   ]
  },
  {
   "cell_type": "code",
   "execution_count": 310,
   "metadata": {},
   "outputs": [],
   "source": [
    "\n",
    "train1.to_csv(\"../data/input/train_try_tgt.csv\")\n",
    "test1.to_csv(\"../data/input/test_try_tgt.csv\")"
   ]
  },
  {
   "cell_type": "code",
   "execution_count": 67,
   "metadata": {},
   "outputs": [],
   "source": [
    "import json\n",
    "fff = train1.columns.values\n",
    "features = {\"features\":fff.tolist()[:-1], \"target_name\":\"Score\"}\n",
    "\n",
    "with open(\"../configs/config_try_tgt.json\",\"w\") as f:\n",
    "    json.dump(features,f)"
   ]
  },
  {
   "cell_type": "code",
   "execution_count": null,
   "metadata": {},
   "outputs": [],
   "source": [
    "data"
   ]
  },
  {
   "cell_type": "code",
   "execution_count": null,
   "metadata": {},
   "outputs": [],
   "source": [
    "import pyclustering\n",
    "from pyclustering.cluster import xmeans\n",
    "initializer = xmeans.kmeans_plusplus_initializer(data=data, amount_centers=2)\n",
    "initial_centers = initializer.initialize()\n",
    "xm = xmeans.xmeans(data=data, initial_centers=initial_centers)\n",
    "xm.process()\n",
    "clusters = xm.get_clusters()\n",
    "\n",
    "pyclustering.utils.draw_clusters(data=data, clusters=clusters)"
   ]
  },
  {
   "cell_type": "code",
   "execution_count": 175,
   "metadata": {},
   "outputs": [
    {
     "name": "stderr",
     "output_type": "stream",
     "text": [
      "/usr/local/lib/python3.7/site-packages/ipykernel_launcher.py:9: SettingWithCopyWarning: \n",
      "A value is trying to be set on a copy of a slice from a DataFrame.\n",
      "Try using .loc[row_indexer,col_indexer] = value instead\n",
      "\n",
      "See the caveats in the documentation: http://pandas.pydata.org/pandas-docs/stable/indexing.html#indexing-view-versus-copy\n",
      "  if __name__ == '__main__':\n",
      "/usr/local/lib/python3.7/site-packages/ipykernel_launcher.py:10: SettingWithCopyWarning: \n",
      "A value is trying to be set on a copy of a slice from a DataFrame.\n",
      "Try using .loc[row_indexer,col_indexer] = value instead\n",
      "\n",
      "See the caveats in the documentation: http://pandas.pydata.org/pandas-docs/stable/indexing.html#indexing-view-versus-copy\n",
      "  # Remove the CWD from sys.path while we load stuff.\n"
     ]
    }
   ],
   "source": [
    "from sklearn.cluster import KMeans\n",
    "def clustering_feature(X_train,X_test):\n",
    "    flist = [x for x in X_train.columns if not x in ['ID','Score']]\n",
    "\n",
    "    flist_kmeans = []\n",
    "    for ncl in range(2,11):\n",
    "        cls = KMeans(n_clusters=ncl)\n",
    "        cls.fit_predict(X_train[flist].values)\n",
    "        X_train['kmeans_cluster_'+str(ncl)] = cls.predict(X_train[flist].values)\n",
    "        X_test['kmeans_cluster_'+str(ncl)] = cls.predict(X_test[flist].values)\n",
    "        flist_kmeans.append('kmeans_cluster_'+str(ncl))\n",
    "    return X_train,X_test\n",
    "\n",
    "train1,test1 = clustering_feature(train1,test1)"
   ]
  },
  {
   "cell_type": "code",
   "execution_count": 56,
   "metadata": {},
   "outputs": [],
   "source": [
    "from sklearn.decomposition import PCA\n",
    "from sklearn.preprocessing import normalize\n",
    "\n",
    "def PCA_feature(X_train,X_test):\n",
    "    flist = [x for x in X_train.columns if not x in ['ID','target']]\n",
    "\n",
    "    n_components = 20\n",
    "    flist_pca = []\n",
    "    pca = PCA(n_components=n_components)\n",
    "    x_train_projected = pca.fit_transform(normalize(X_train[flist], axis=0))\n",
    "    x_test_projected = pca.transform(normalize(X_test[flist], axis=0))\n",
    "    for npca in range(0, n_components):\n",
    "        X_train.insert(1, 'PCA_'+str(npca+1), x_train_projected[:, npca])\n",
    "        X_test.insert(1, 'PCA_'+str(npca+1), x_test_projected[:, npca])\n",
    "        flist_pca.append('PCA_'+str(npca+1))\n",
    "    return X_train, X_test\n",
    "train1,test1 = PCA_feature(train1,test1)"
   ]
  },
  {
   "cell_type": "code",
   "execution_count": 55,
   "metadata": {},
   "outputs": [],
   "source": [
    "del test1[\"ID\"]"
   ]
  },
  {
   "cell_type": "code",
   "execution_count": 177,
   "metadata": {},
   "outputs": [
    {
     "name": "stderr",
     "output_type": "stream",
     "text": [
      "/usr/local/lib/python3.7/site-packages/ipykernel_launcher.py:1: SettingWithCopyWarning: \n",
      "A value is trying to be set on a copy of a slice from a DataFrame.\n",
      "Try using .loc[row_indexer,col_indexer] = value instead\n",
      "\n",
      "See the caveats in the documentation: http://pandas.pydata.org/pandas-docs/stable/indexing.html#indexing-view-versus-copy\n",
      "  \"\"\"Entry point for launching an IPython kernel.\n",
      "/usr/local/lib/python3.7/site-packages/ipykernel_launcher.py:2: SettingWithCopyWarning: \n",
      "A value is trying to be set on a copy of a slice from a DataFrame.\n",
      "Try using .loc[row_indexer,col_indexer] = value instead\n",
      "\n",
      "See the caveats in the documentation: http://pandas.pydata.org/pandas-docs/stable/indexing.html#indexing-view-versus-copy\n",
      "  \n"
     ]
    }
   ],
   "source": [
    "train1[\"Score\"] = train[\"Score\"]\n",
    "test1[\"ID\"] = test[\"ID\"]\n",
    "train1.to_csv(\"../data/input/train_imp_.csv\")\n",
    "test1.to_csv(\"../data/input/test_imp_.csv\")"
   ]
  },
  {
   "cell_type": "code",
   "execution_count": 41,
   "metadata": {},
   "outputs": [],
   "source": [
    "int_c = train1.columns[train1.dtypes == int]"
   ]
  },
  {
   "cell_type": "code",
   "execution_count": 42,
   "metadata": {},
   "outputs": [
    {
     "name": "stderr",
     "output_type": "stream",
     "text": [
      "/usr/local/lib/python3.7/site-packages/pandas/core/frame.py:3697: SettingWithCopyWarning: \n",
      "A value is trying to be set on a copy of a slice from a DataFrame\n",
      "\n",
      "See the caveats in the documentation: http://pandas.pydata.org/pandas-docs/stable/indexing.html#indexing-view-versus-copy\n",
      "  errors=errors)\n"
     ]
    }
   ],
   "source": [
    "f = []\n",
    "int_c = train1.columns[train1.dtypes == int]\n",
    "for i in int_c:\n",
    "    if train1[i].value_counts().max()/len(train1) < 0.5:\n",
    "        f.append(i)\n",
    "train1.drop(f,axis = 1,inplace=True)\n",
    "test1.drop(f,axis = 1,inplace=True)"
   ]
  },
  {
   "cell_type": "code",
   "execution_count": 123,
   "metadata": {},
   "outputs": [],
   "source": [
    "\n",
    "fff = train.columns.values"
   ]
  },
  {
   "cell_type": "code",
   "execution_count": 125,
   "metadata": {},
   "outputs": [],
   "source": [
    "import json\n",
    "\n",
    "features = {\"features\":fff.tolist()[1:], \"target_name\":\"Score\"}\n",
    "\n",
    "with open(\"../configs/config_enc_add.json\",\"w\") as f:\n",
    "    json.dump(features,f)"
   ]
  },
  {
   "cell_type": "code",
   "execution_count": 16,
   "metadata": {},
   "outputs": [],
   "source": [
    "df = pd.DataFrame({\"col\":f,\"value\":v})"
   ]
  },
  {
   "cell_type": "code",
   "execution_count": 148,
   "metadata": {},
   "outputs": [],
   "source": [
    "fff = df[df[\"value\"] >= 300].col.values"
   ]
  },
  {
   "cell_type": "code",
   "execution_count": 229,
   "metadata": {},
   "outputs": [],
   "source": [
    "from sklearn import base\n",
    "from sklearn.model_selection import KFold\n",
    "class KFoldTargetEncoderTrain(base.BaseEstimator, base.TransformerMixin):\n",
    "\n",
    "    def __init__(self, colnames,targetName,n_fold=3,k =5,verbosity=True,discardOriginal_col=False):\n",
    "\n",
    "        self.colnames = colnames\n",
    "        self.targetName = targetName\n",
    "        self.n_fold = n_fold\n",
    "        self.verbosity = verbosity\n",
    "        self.discardOriginal_col = discardOriginal_col\n",
    "        self.k = k\n",
    "    def fit(self, X, y=None):\n",
    "        return self\n",
    "\n",
    "\n",
    "    def transform(self,X):\n",
    "\n",
    "        assert(type(self.targetName) == str)\n",
    "        assert(type(self.colnames) == str)\n",
    "        assert(self.colnames in X.columns)\n",
    "        assert(self.targetName in X.columns)\n",
    "\n",
    "        mean_of_target = X[self.targetName].mean()\n",
    "        target = X[self.targetName]\n",
    "        kf = KFold(n_splits = self.n_fold, shuffle = False, random_state=1103)\n",
    "        col_mean_name = self.colnames + '_' + 'Kfold_Target_Enc'\n",
    "        X[col_mean_name] = np.nan\n",
    "\n",
    "        for tr_ind, val_ind in kf.split(X):\n",
    "            X_tr, X_val = X.iloc[tr_ind], X.iloc[val_ind]\n",
    "#             print(tr_ind,val_ind)\n",
    "           # X.loc[X.index[val_ind], col_mean_name] = X_val[self.colnames].map(X_tr.groupby(self.colnames)[self.targetName].mean())\n",
    "            X.loc[X.index[val_ind], col_mean_name] = X_val[self.colnames].map(self.fit_smoothing(X_tr, self.colnames))\n",
    "        X[col_mean_name].fillna(mean_of_target, inplace = True)\n",
    "\n",
    "        if self.verbosity:\n",
    "            encoded_feature = X[col_mean_name].values\n",
    "            print('Correlation between the new feature, {} and, {} is {}.'.format(col_mean_name,\n",
    "                                                                                      self.targetName,\n",
    "                                                                                      np.corrcoef(X[self.targetName].values, encoded_feature)[0][1]))\n",
    "        if self.discardOriginal_col:\n",
    "            X = X.drop(self.targetName, axis=1)\n",
    "            \n",
    "        return X[col_mean_name]\n",
    "    def fit_smoothing(self,df,col):\n",
    "        \"\"\"\n",
    "        一つの変数に対するTarget_Encoding\n",
    "        col : TargetEncodingしたい変数名\n",
    "        \"\"\"\n",
    "\n",
    "        k = self.k\n",
    "        n_i = df.groupby(col).count()[self.targetName]\n",
    "\n",
    "        lambda_n_i = self.sigmoid(n_i, k)\n",
    "        uni_map = df.groupby(col).mean()[self.targetName]\n",
    "\n",
    "        return lambda_n_i * df.loc[:, self.targetName].mean() + (1 - lambda_n_i) * uni_map\n",
    "    \n",
    "    def sigmoid(self, x, k):\n",
    "        return 1 / (1 + np.exp(- x / k))\n",
    "\n",
    "class KFoldTargetEncoderTest(base.BaseEstimator, base.TransformerMixin):\n",
    "    \n",
    "    def __init__(self,train,colNames,encodedName):\n",
    "        \n",
    "        self.train = train\n",
    "        self.colNames = colNames\n",
    "        self.encodedName = encodedName\n",
    "        \n",
    "    def fit(self, X, y=None):\n",
    "        return self\n",
    "    def transform(self,X):\n",
    "        mean =  self.train[[self.colNames,\n",
    "                self.encodedName]].groupby(\n",
    "                                self.colNames).mean().reset_index() \n",
    "        dd = {}\n",
    "        for index, row in mean.iterrows():\n",
    "            dd[row[self.colNames]] = row[self.encodedName]\n",
    "        X[self.encodedName] = X[self.colNames]\n",
    "        X = X.replace({self.encodedName: dd})\n",
    "        return X[self.encodedName]"
   ]
  },
  {
   "cell_type": "code",
   "execution_count": 276,
   "metadata": {},
   "outputs": [],
   "source": [
    "#data[\"Score\"] = score.values\n",
    "train1,test1 = data.iloc[:13731,:],data.iloc[13731:,:]\n",
    "\n"
   ]
  },
  {
   "cell_type": "code",
   "execution_count": 270,
   "metadata": {},
   "outputs": [
    {
     "name": "stderr",
     "output_type": "stream",
     "text": [
      "\n",
      "  0%|          | 0/31 [00:00<?, ?it/s]\u001b[A/usr/local/lib/python3.7/site-packages/ipykernel_launcher.py:28: SettingWithCopyWarning: \n",
      "A value is trying to be set on a copy of a slice from a DataFrame.\n",
      "Try using .loc[row_indexer,col_indexer] = value instead\n",
      "\n",
      "See the caveats in the documentation: http://pandas.pydata.org/pandas-docs/stable/indexing.html#indexing-view-versus-copy\n",
      "/usr/local/lib/python3.7/site-packages/pandas/core/indexing.py:543: SettingWithCopyWarning: \n",
      "A value is trying to be set on a copy of a slice from a DataFrame.\n",
      "Try using .loc[row_indexer,col_indexer] = value instead\n",
      "\n",
      "See the caveats in the documentation: http://pandas.pydata.org/pandas-docs/stable/indexing.html#indexing-view-versus-copy\n",
      "  self.obj[item] = s\n",
      "/usr/local/lib/python3.7/site-packages/pandas/core/generic.py:5434: SettingWithCopyWarning: \n",
      "A value is trying to be set on a copy of a slice from a DataFrame\n",
      "\n",
      "See the caveats in the documentation: http://pandas.pydata.org/pandas-docs/stable/indexing.html#indexing-view-versus-copy\n",
      "  self._update_inplace(new_data)\n",
      "\n",
      "  3%|▎         | 1/31 [00:01<00:55,  1.85s/it]\u001b[A\n",
      "  6%|▋         | 2/31 [00:03<00:49,  1.71s/it]\u001b[A\n",
      " 10%|▉         | 3/31 [00:04<00:44,  1.58s/it]\u001b[A\n",
      " 13%|█▎        | 4/31 [00:06<00:41,  1.56s/it]\u001b[A\n",
      " 16%|█▌        | 5/31 [00:07<00:38,  1.47s/it]\u001b[A\n",
      " 19%|█▉        | 6/31 [00:08<00:38,  1.53s/it]\u001b[A\n",
      " 23%|██▎       | 7/31 [00:10<00:36,  1.52s/it]\u001b[A\n",
      " 26%|██▌       | 8/31 [00:11<00:34,  1.50s/it]\u001b[A\n",
      " 29%|██▉       | 9/31 [00:13<00:30,  1.40s/it]\u001b[A\n",
      " 32%|███▏      | 10/31 [00:14<00:29,  1.39s/it]\u001b[A\n",
      " 35%|███▌      | 11/31 [00:15<00:26,  1.32s/it]\u001b[A\n",
      " 39%|███▊      | 12/31 [00:16<00:24,  1.31s/it]\u001b[A\n",
      " 42%|████▏     | 13/31 [00:18<00:23,  1.30s/it]\u001b[A\n",
      " 45%|████▌     | 14/31 [00:19<00:22,  1.33s/it]\u001b[A\n",
      " 48%|████▊     | 15/31 [00:21<00:22,  1.41s/it]\u001b[A\n",
      " 52%|█████▏    | 16/31 [00:22<00:20,  1.38s/it]\u001b[A\n",
      " 55%|█████▍    | 17/31 [00:23<00:18,  1.33s/it]\u001b[A\n",
      " 58%|█████▊    | 18/31 [00:25<00:18,  1.39s/it]\u001b[A\n",
      " 61%|██████▏   | 19/31 [00:26<00:16,  1.39s/it]\u001b[A\n",
      " 65%|██████▍   | 20/31 [00:27<00:15,  1.39s/it]\u001b[A\n",
      " 68%|██████▊   | 21/31 [00:29<00:14,  1.46s/it]\u001b[A\n",
      " 71%|███████   | 22/31 [00:31<00:13,  1.54s/it]\u001b[A\n",
      " 74%|███████▍  | 23/31 [00:32<00:12,  1.53s/it]\u001b[A\n",
      " 77%|███████▋  | 24/31 [00:34<00:10,  1.51s/it]\u001b[A\n",
      " 81%|████████  | 25/31 [00:35<00:08,  1.48s/it]\u001b[A\n",
      " 84%|████████▍ | 26/31 [00:36<00:07,  1.41s/it]\u001b[A\n",
      " 87%|████████▋ | 27/31 [00:38<00:05,  1.46s/it]\u001b[A\n",
      " 90%|█████████ | 28/31 [00:39<00:04,  1.39s/it]\u001b[A\n",
      " 94%|█████████▎| 29/31 [00:41<00:02,  1.40s/it]\u001b[A\n",
      " 97%|█████████▋| 30/31 [00:43<00:01,  1.53s/it]\u001b[A\n",
      "100%|██████████| 31/31 [00:44<00:00,  1.49s/it]\u001b[A\n",
      "\u001b[A\n",
      "  0%|          | 0/31 [00:00<?, ?it/s]\u001b[A/usr/local/lib/python3.7/site-packages/ipykernel_launcher.py:80: SettingWithCopyWarning: \n",
      "A value is trying to be set on a copy of a slice from a DataFrame.\n",
      "Try using .loc[row_indexer,col_indexer] = value instead\n",
      "\n",
      "See the caveats in the documentation: http://pandas.pydata.org/pandas-docs/stable/indexing.html#indexing-view-versus-copy\n",
      "\n",
      "  3%|▎         | 1/31 [00:00<00:05,  5.96it/s]\u001b[A\n",
      " 10%|▉         | 3/31 [00:00<00:03,  7.13it/s]\u001b[A\n",
      " 16%|█▌        | 5/31 [00:00<00:03,  8.36it/s]\u001b[A\n",
      " 23%|██▎       | 7/31 [00:00<00:02,  9.54it/s]\u001b[A\n",
      " 26%|██▌       | 8/31 [00:00<00:02,  9.03it/s]\u001b[A\n",
      " 32%|███▏      | 10/31 [00:00<00:02,  9.26it/s]\u001b[A\n",
      " 35%|███▌      | 11/31 [00:01<00:02,  8.66it/s]\u001b[A\n",
      " 42%|████▏     | 13/31 [00:01<00:01,  9.40it/s]\u001b[A\n",
      " 48%|████▊     | 15/31 [00:01<00:01,  9.25it/s]\u001b[A\n",
      " 55%|█████▍    | 17/31 [00:01<00:01,  9.72it/s]\u001b[A\n",
      " 61%|██████▏   | 19/31 [00:01<00:01, 10.51it/s]\u001b[A\n",
      " 68%|██████▊   | 21/31 [00:01<00:00, 11.00it/s]\u001b[A\n",
      " 74%|███████▍  | 23/31 [00:02<00:00, 11.56it/s]\u001b[A\n",
      " 81%|████████  | 25/31 [00:02<00:00, 12.25it/s]\u001b[A\n",
      " 87%|████████▋ | 27/31 [00:02<00:00, 12.59it/s]\u001b[A\n",
      " 94%|█████████▎| 29/31 [00:02<00:00, 12.73it/s]\u001b[A\n",
      "100%|██████████| 31/31 [00:02<00:00, 12.51it/s]\u001b[A\n",
      "\u001b[A"
     ]
    },
    {
     "name": "stdout",
     "output_type": "stream",
     "text": [
      "CPU times: user 37.4 s, sys: 3.47 s, total: 40.9 s\n",
      "Wall time: 47.2 s\n"
     ]
    }
   ],
   "source": [
    "%%time\n",
    "from tqdm import tqdm\n",
    "def train_target_encoding(data,int_c):\n",
    "    new = pd.DataFrame()\n",
    "    \n",
    "    for i in tqdm(int_c):\n",
    "        targetc = KFoldTargetEncoderTrain(i,\"score_label\",n_fold=10,k= 100,verbosity=False)\n",
    "        new[i+'_Kfold_Target_Enc'] = targetc.fit_transform(data)\n",
    "    return new\n",
    "def test_target_encoding(tr,te,int_c):\n",
    "    new = pd.DataFrame()\n",
    "    for i in tqdm(int_c):\n",
    "        test_targetc = KFoldTargetEncoderTest(tr,i,i + '_Kfold_Target_Enc')\n",
    "        new[i + '_Kfold_Target_Enc'] = test_targetc.fit_transform(te)\n",
    "    return new\n",
    "int_c = train1.columns[train1.dtypes == int][:-1]\n",
    "tr_tgenc_f = train_target_encoding(train1,int_c)\n",
    "te_tgenc_f = test_target_encoding(train1,test1,int_c)"
   ]
  },
  {
   "cell_type": "code",
   "execution_count": 215,
   "metadata": {},
   "outputs": [
    {
     "name": "stderr",
     "output_type": "stream",
     "text": [
      "/usr/local/lib/python3.7/site-packages/ipykernel_launcher.py:4: SettingWithCopyWarning: \n",
      "A value is trying to be set on a copy of a slice from a DataFrame.\n",
      "Try using .loc[row_indexer,col_indexer] = value instead\n",
      "\n",
      "See the caveats in the documentation: http://pandas.pydata.org/pandas-docs/stable/indexing.html#indexing-view-versus-copy\n",
      "  after removing the cwd from sys.path.\n",
      "/usr/local/lib/python3.7/site-packages/ipykernel_launcher.py:5: SettingWithCopyWarning: \n",
      "A value is trying to be set on a copy of a slice from a DataFrame.\n",
      "Try using .loc[row_indexer,col_indexer] = value instead\n",
      "\n",
      "See the caveats in the documentation: http://pandas.pydata.org/pandas-docs/stable/indexing.html#indexing-view-versus-copy\n",
      "  \"\"\"\n"
     ]
    }
   ],
   "source": [
    "a = []\n",
    "for i in int_c:\n",
    "    if i in train1.columns:\n",
    "        train1[i] = train1[i].astype(int)\n",
    "        test1[i] = test1[i].astype(int)"
   ]
  },
  {
   "cell_type": "code",
   "execution_count": 285,
   "metadata": {},
   "outputs": [],
   "source": [
    "train1 = df_concat([train1,tr_tgenc_f])\n",
    "test1 = df_concat([test1,te_tgenc_f])"
   ]
  },
  {
   "cell_type": "code",
   "execution_count": 122,
   "metadata": {},
   "outputs": [],
   "source": [
    "\n",
    "train.to_csv(\"../data/input/train_enc.csv\")\n",
    "test.to_csv(\"../data/input/test_enc.csv\")"
   ]
  },
  {
   "cell_type": "code",
   "execution_count": 3,
   "metadata": {},
   "outputs": [],
   "source": [
    "train = pd.read_csv(\"../data/input/train_enc.csv\")\n",
    "test = pd.read_csv(\"../data/input/test_enc.csv\")"
   ]
  },
  {
   "cell_type": "code",
   "execution_count": 12,
   "metadata": {},
   "outputs": [],
   "source": [
    "score = train[\"Score\"]\n",
    "t_id = test.ID\n",
    "del train[\"Score\"],test[\"ID\"]"
   ]
  },
  {
   "cell_type": "code",
   "execution_count": 13,
   "metadata": {},
   "outputs": [
    {
     "name": "stderr",
     "output_type": "stream",
     "text": [
      "/usr/local/lib/python3.7/site-packages/pandas/core/frame.py:6211: FutureWarning: Sorting because non-concatenation axis is not aligned. A future version\n",
      "of pandas will change to not sort by default.\n",
      "\n",
      "To accept the future behavior, pass 'sort=False'.\n",
      "\n",
      "To retain the current behavior and silence the warning, pass 'sort=True'.\n",
      "\n",
      "  sort=sort)\n"
     ]
    }
   ],
   "source": [
    "data = train.append(test)"
   ]
  },
  {
   "cell_type": "code",
   "execution_count": 18,
   "metadata": {},
   "outputs": [
    {
     "name": "stdout",
     "output_type": "stream",
     "text": [
      "CPU times: user 30.3 s, sys: 315 ms, total: 30.6 s\n",
      "Wall time: 37.1 s\n"
     ]
    }
   ],
   "source": [
    "%%time\n",
    "int_c = train.columns[train.dtypes == int]\n",
    "\n",
    "for c in int_c:\n",
    "    a = target_encode(train[c],test[c],train[\"Score\"],0,10)"
   ]
  },
  {
   "cell_type": "code",
   "execution_count": 61,
   "metadata": {},
   "outputs": [],
   "source": [
    "from sklearn.model_selection import KFold\n",
    "kf = KFold(n_splits=5, random_state=1103)\n",
    "new = pd.DataFrame(np.zeros((len(train))), columns=[\"new\"])\n",
    "for tr_idx, val_idx in kf.split(train):\n",
    "    tr, val = train.iloc[tr_idx][\"col88\"], train.iloc[val_idx][\"col88\"]\n",
    "    val_score = train[\"Score\"].iloc[val_idx]\n",
    "    a = target_encode(tr,val,test[\"col88\"],val_score)"
   ]
  },
  {
   "cell_type": "code",
   "execution_count": 68,
   "metadata": {},
   "outputs": [],
   "source": [
    "s = train[\"Score\"]"
   ]
  },
  {
   "cell_type": "code",
   "execution_count": 24,
   "metadata": {},
   "outputs": [],
   "source": [
    "import feather\n",
    "train = feather.read_dataframe(\"../data/input/train.feather\")\n",
    "test = feather.read_dataframe(\"../data/input/test.feather\")\n",
    "del train[\"ID\"],test[\"ID\"],train[\"Score\"]"
   ]
  },
  {
   "cell_type": "code",
   "execution_count": 25,
   "metadata": {},
   "outputs": [],
   "source": [
    "del train[\"ID\"],test[\"ID\"],train[\"Score\"]"
   ]
  },
  {
   "cell_type": "code",
   "execution_count": 29,
   "metadata": {},
   "outputs": [
    {
     "name": "stderr",
     "output_type": "stream",
     "text": [
      "100%|██████████| 1188/1188 [00:00<00:00, 1829.24it/s]\n",
      "100%|██████████| 1137/1137 [00:02<00:00, 389.49it/s]\n",
      "100%|██████████| 438/438 [00:00<00:00, 16171.42it/s]\n"
     ]
    }
   ],
   "source": [
    "c = [i for i in train.columns.values if train[i].dtypes == int ]\n",
    "int_data = train[c].append(test[c])\n",
    "import numpy as np\n",
    "cate_c = []\n",
    "for i in int_data.columns:\n",
    "    a = int_data[i].value_counts().keys().values\n",
    "    aa = np.arange(min(a),max(a) + 1)\n",
    "    if len(set(a)) == len(aa):\n",
    "        cate_c.append(i)\n",
    "int_train,int_test = train[cate_c],test[cate_c]\n",
    "#int drop\n",
    "from tqdm import tqdm\n",
    "train,test = int_train,int_test\n",
    "#分散＝０\n",
    "constant = []\n",
    "for col in tqdm(train.columns):\n",
    "    if col != \"Score\" or col != \"ID\":\n",
    "        if train[col].std() == 0:\n",
    "            constant.append(col)\n",
    "train1 = train.drop(columns=constant,axis=1)\n",
    "test1 = test.drop(columns=constant,axis=1)\n",
    "\n",
    "\n",
    "# カテゴリ minが300以下なら排除\n",
    "col=[]\n",
    "for c in tqdm(train1.columns):\n",
    "    if len(np.unique(train1[c])) == 2:\n",
    "        if min(train1[c].value_counts()) <= 100:\n",
    "            col.append(c)\n",
    "    if train1[c].dtypes == float and len(np.unique(train1[c])) < 3:\n",
    "        col.append(c)\n",
    "        \n",
    "    if train1[c].value_counts().max()/len(train1) > 0.95:\n",
    "        col.append(c)\n",
    "train1.drop(col,axis = 1, inplace=True)\n",
    "test1.drop(col,axis = 1, inplace=True)\n",
    "            \n",
    "#ダブり\n",
    "aa = []\n",
    "for i in tqdm(train1.columns):\n",
    "    if train1[i].dtype != \"object\":\n",
    "        aa.append(i)\n",
    "duplicate_f = train1[aa].T[train1[aa].T.duplicated()].index.values\n",
    "train1.drop(duplicate_f,axis=1,inplace=True)\n",
    "test1.drop(duplicate_f,axis=1,inplace=True)\n",
    "int_train,int_test = train1,test1"
   ]
  },
  {
   "cell_type": "code",
   "execution_count": 19,
   "metadata": {},
   "outputs": [
    {
     "data": {
      "text/plain": [
       "(13731, 339)"
      ]
     },
     "execution_count": 19,
     "metadata": {},
     "output_type": "execute_result"
    }
   ],
   "source": [
    "int_train.shape"
   ]
  },
  {
   "cell_type": "code",
   "execution_count": null,
   "metadata": {},
   "outputs": [],
   "source": []
  }
 ],
 "metadata": {
  "kernelspec": {
   "display_name": "Python 3",
   "language": "python",
   "name": "python3"
  },
  "language_info": {
   "codemirror_mode": {
    "name": "ipython",
    "version": 3
   },
   "file_extension": ".py",
   "mimetype": "text/x-python",
   "name": "python",
   "nbconvert_exporter": "python",
   "pygments_lexer": "ipython3",
   "version": "3.7.0"
  }
 },
 "nbformat": 4,
 "nbformat_minor": 2
}
