{
 "cells": [
  {
   "cell_type": "code",
   "execution_count": 1,
   "metadata": {},
   "outputs": [],
   "source": [
    "import feather \n",
    "import pandas as pd\n",
    "import numpy as np\n"
   ]
  },
  {
   "cell_type": "code",
   "execution_count": 50,
   "metadata": {},
   "outputs": [],
   "source": [
    "train = feather.read_dataframe(\"../data/input/tr_best.feather\")\n",
    "test = feather.read_dataframe(\"../data/input/te_best.feather\")\n",
    "y = train[\"Score\"]\n",
    "del train[\"Score\"]\n",
    "del train[\"index\"],test[\"index\"],test[\"ID\"]"
   ]
  },
  {
   "cell_type": "code",
   "execution_count": 8,
   "metadata": {},
   "outputs": [],
   "source": [
    "\n",
    "import json\n",
    "import numpy as np\n",
    "with open('../configs/Kbest_FE.json') as f:\n",
    "    df = json.load(f)\n",
    "fl_score = np.array(df[\"kbest_feature\"][\"float\"])\n",
    "int_score = np.array(df[\"kbest_feature\"][\"int\"])\n",
    "cate_score = np.array(df[\"kbest_feature\"][\"cate\"])"
   ]
  },
  {
   "cell_type": "code",
   "execution_count": 51,
   "metadata": {},
   "outputs": [],
   "source": [
    "data = train.append(test)\n",
    "c = [i for i in data.columns if len(data[i].unique()) > 2]\n",
    "cc = [i for i in data.columns if len(data[i].unique()) == 2]\n",
    "num_data = data[c]\n",
    "cate_data = data[cc]"
   ]
  },
  {
   "cell_type": "code",
   "execution_count": 11,
   "metadata": {},
   "outputs": [
    {
     "ename": "NameError",
     "evalue": "name 'tr' is not defined",
     "output_type": "error",
     "traceback": [
      "\u001b[0;31m---------------------------------------------------------------------------\u001b[0m",
      "\u001b[0;31mNameError\u001b[0m                                 Traceback (most recent call last)",
      "\u001b[0;32m<ipython-input-11-f30c467335f0>\u001b[0m in \u001b[0;36m<module>\u001b[0;34m()\u001b[0m\n\u001b[1;32m     21\u001b[0m     \u001b[0mnew\u001b[0m \u001b[0;34m=\u001b[0m \u001b[0mpd\u001b[0m\u001b[0;34m.\u001b[0m\u001b[0mDataFrame\u001b[0m\u001b[0;34m(\u001b[0m\u001b[0mnp\u001b[0m\u001b[0;34m.\u001b[0m\u001b[0marray\u001b[0m\u001b[0;34m(\u001b[0m\u001b[0mresult\u001b[0m\u001b[0;34m)\u001b[0m\u001b[0;34m.\u001b[0m\u001b[0mT\u001b[0m\u001b[0;34m,\u001b[0m \u001b[0mcolumns\u001b[0m \u001b[0;34m=\u001b[0m \u001b[0;34m[\u001b[0m\u001b[0;34mf\"{c}_h\"\u001b[0m \u001b[0;32mfor\u001b[0m \u001b[0mc\u001b[0m \u001b[0;32min\u001b[0m \u001b[0mdata\u001b[0m\u001b[0;34m.\u001b[0m\u001b[0mcolumns\u001b[0m\u001b[0;34m]\u001b[0m\u001b[0;34m)\u001b[0m\u001b[0;34m\u001b[0m\u001b[0m\n\u001b[1;32m     22\u001b[0m     \u001b[0;32mreturn\u001b[0m \u001b[0mnew\u001b[0m\u001b[0;34m\u001b[0m\u001b[0m\n\u001b[0;32m---> 23\u001b[0;31m \u001b[0mh_t\u001b[0m \u001b[0;34m=\u001b[0m \u001b[0mhierarical_transform\u001b[0m\u001b[0;34m(\u001b[0m\u001b[0mpd\u001b[0m\u001b[0;34m.\u001b[0m\u001b[0mconcat\u001b[0m\u001b[0;34m(\u001b[0m\u001b[0;34m[\u001b[0m\u001b[0mtr\u001b[0m\u001b[0;34m,\u001b[0m\u001b[0mte\u001b[0m\u001b[0;34m]\u001b[0m\u001b[0;34m,\u001b[0m\u001b[0maxis\u001b[0m\u001b[0;34m=\u001b[0m\u001b[0;36m0\u001b[0m\u001b[0;34m)\u001b[0m\u001b[0;34m)\u001b[0m\u001b[0;34m\u001b[0m\u001b[0m\n\u001b[0m",
      "\u001b[0;31mNameError\u001b[0m: name 'tr' is not defined"
     ]
    }
   ],
   "source": [
    "import multiprocessing as mp\n",
    "from tqdm import tqdm\n",
    "def get_dict(data):\n",
    "    h_dict = {}\n",
    "    s = min(data)\n",
    "    #n_h = 5 if data.var() < 1 else 10\n",
    "    n_h = int(1+np.log2(27463)) - 5\n",
    "    rang = (max(data) - s)/n_h\n",
    "    for i in range(n_h+1):\n",
    "        h_dict[s] = i\n",
    "        s += rang\n",
    "    return h_dict\n",
    "def func(data):\n",
    "    a = get_dict(data)\n",
    "    return list(map(lambda i : a[list(a.keys())[np.argmin(abs(np.array(list(a.keys())) - i))]],data))\n",
    "def hierarical_transform(data):\n",
    "    new = pd.DataFrame()\n",
    "    with mp.Pool(4) as pool:\n",
    "        imap = pool.imap(func, data.values.T)\n",
    "        result = list(tqdm(imap, total = len(data.columns)))\n",
    "    new = pd.DataFrame(np.array(result).T, columns = [f\"{c}_h\" for c in data.columns])\n",
    "    return new\n",
    "h_t = hierarical_transform(pd.concat([tr,te],axis=0))\n"
   ]
  },
  {
   "cell_type": "code",
   "execution_count": 17,
   "metadata": {},
   "outputs": [],
   "source": [
    "\n",
    "def hierarical(data):\n",
    "    h_t = pd.DataFrame()\n",
    "    for i in data.columns:\n",
    "        h_t[f\"{i}_h\"] = pd.cut(data[i],bins=15,labels= False)\n",
    "    return h_t\n",
    "\n",
    "num_data = df_concat([fl_data,int_data])\n",
    "h_t = hierarical(num_data)"
   ]
  },
  {
   "cell_type": "code",
   "execution_count": 123,
   "metadata": {},
   "outputs": [],
   "source": [
    "from sklearn.decomposition import PCA\n",
    "from sklearn.preprocessing import normalize\n",
    "from sklearn.preprocessing import StandardScaler\n",
    "\n",
    "#num_data =  df_concat([hist_int,np.round(dens_int,4),hist_fl,np.round(dens_fl,4)])\n",
    "#num_data = df_concat([fl_data, FE_f,])\n",
    "#num_data = df_concat([int_data, FE_i,])\n",
    "#num_data = df_concat([cate_data, FE_c,FE10_c])\n",
    "\n",
    "stdsc = StandardScaler()\n",
    "#tr,te =num_data.iloc[:13731,:],num_data.iloc[13731:,:]\n",
    "#tr,te = tr_lda,te_lda\n",
    "#tr_std= stdsc.fit_transform(tr)\n",
    "# 訓練用データを基準にテストデータも標準化\n",
    "#te_std = stdsc.transform(te)\n",
    "\n",
    "def PCA_feature(data,typ):\n",
    "\n",
    "    n_components = 50\n",
    "    pca = PCA(n_components=n_components)\n",
    "    X_train,X_test = data.iloc[:13731,:],data.iloc[13731:,:]\n",
    "    x_train_projected = pca.fit_transform(X_train)\n",
    "    x_test_projected = pca.transform(X_test)\n",
    "    new1 = pd.DataFrame()\n",
    "    new2 = pd.DataFrame()\n",
    "    for npca in range(0, n_components):\n",
    "        new1[f'{typ}frq_PCA_'+str(npca+1)] = x_train_projected[:, npca]\n",
    "        new2[f'{typ}frq_PCA_'+str(npca+1)] = x_test_projected[:, npca]\n",
    "    new = new1.append(new2)\n",
    "    return new\n",
    "#tr_frq,te_frq =frq.iloc[:13731,:],frq.iloc[13731:,:]\n"
   ]
  },
  {
   "cell_type": "code",
   "execution_count": 124,
   "metadata": {},
   "outputs": [],
   "source": [
    "#fl_pca = PCA_feature(fl_frq,\"float\") # 14\n",
    "#int_pca = PCA_feature(int_frq,\"int\") # 30\n",
    "#cate_pca = PCA_feature(cate_frq,\"cate\") #10\n",
    "h_pca = PCA_feature(h_frq,\"hi\") "
   ]
  },
  {
   "cell_type": "code",
   "execution_count": 101,
   "metadata": {},
   "outputs": [
    {
     "data": {
      "text/plain": [
       "0.6875065796298425"
      ]
     },
     "execution_count": 101,
     "metadata": {},
     "output_type": "execute_result"
    },
    {
     "name": "stderr",
     "output_type": "stream",
     "text": [
      "/usr/local/lib/python3.7/site-packages/matplotlib/font_manager.py:1331: UserWarning: findfont: Font family ['IPAexGothic'] not found. Falling back to DejaVu Sans\n",
      "  (prop.get_family(), self.defaultFamily[fontext]))\n"
     ]
    },
    {
     "data": {
      "image/png": "[encoded data removed]",
      "text/plain": [
       "<Figure size 432x288 with 1 Axes>"
      ]
     },
     "metadata": {
      "needs_background": "light"
     },
     "output_type": "display_data"
    }
   ],
   "source": [
    "from sklearn.decomposition import PCA\n",
    "pca = PCA(n_components = 40)\n",
    "\n",
    "pca.fit(h_frq.iloc[:13731,:])\n",
    "import matplotlib.pyplot as plt\n",
    "plt.bar([n for n in range(1, len(pca.explained_variance_ratio_)+1)], pca.explained_variance_ratio_)\n",
    "pca.explained_variance_ratio_.sum()"
   ]
  },
  {
   "cell_type": "code",
   "execution_count": 16,
   "metadata": {},
   "outputs": [],
   "source": [
    "def df_concat(flist):\n",
    "    add_columns = flist[0].columns.values.tolist()\n",
    "    add_df = flist[0].values\n",
    "    for i in flist[1:]:\n",
    "        add_columns += i.columns.values.tolist()\n",
    "        add_df = np.c_[add_df,i.values]\n",
    "    return pd.DataFrame(add_df,columns=add_columns)\n",
    "\n"
   ]
  },
  {
   "cell_type": "code",
   "execution_count": 18,
   "metadata": {},
   "outputs": [],
   "source": [
    "def freq_encoing(data):\n",
    "    new = pd.DataFrame()\n",
    "    l = len(data)\n",
    "    for i in data.columns:\n",
    "        tmp = data.groupby(i).size()\n",
    "        tmp = tmp/l\n",
    "        new[f\"{i}_FreqEnc_\"] = data[i].map(tmp)\n",
    "        \n",
    "    return new\n",
    "fl_frq = freq_encoing(fl_data)\n",
    "int_frq = freq_encoing(int_data)\n",
    "cate_frq = freq_encoing(cate_data)\n",
    "#te_frq = freq_encoing(te_t)"
   ]
  },
  {
   "cell_type": "code",
   "execution_count": 23,
   "metadata": {},
   "outputs": [],
   "source": [
    "h_frq = freq_encoing(h_t)"
   ]
  },
  {
   "cell_type": "code",
   "execution_count": 31,
   "metadata": {},
   "outputs": [],
   "source": [
    "frq_data = df_concat([fl_frq,int_frq,cate_frq,h_frq])"
   ]
  },
  {
   "cell_type": "code",
   "execution_count": 141,
   "metadata": {},
   "outputs": [],
   "source": [
    "frq_pca_data = df_concat([h_t, h_frq])"
   ]
  },
  {
   "cell_type": "code",
   "execution_count": 60,
   "metadata": {},
   "outputs": [
    {
     "name": "stderr",
     "output_type": "stream",
     "text": [
      "100%|██████████| 27463/27463 [02:17<00:00, 199.24it/s]\n"
     ]
    }
   ],
   "source": [
    "#new = pd.DataFrame()\n",
    "from tqdm import tqdm\n",
    "\n",
    "    #new.loc[i,\"x>0.5\"] = np.where(frq_data.iloc[i,:] > 0.5,1,0).sum()\n",
    "    #new.loc[i,\"x>0.1\"] = np.where(frq_data.iloc[i,:] > 0.1,1,0).sum()\n",
    "for i in tqdm(range(len(frq_data[:]))):\n",
    "    new.loc[i,\"x>0.5\"] = np.where(frq_data.iloc[i,:] > 0.5,1,0).sum()\n",
    "    new.loc[i,\"x>0.1\"] = np.where(frq_data.iloc[i,:] > 0.1,1,0).sum()\n",
    "    new.loc[i,f\"prob_sum\"] = frq_data.iloc[i,:].sum()\n",
    "    new.loc[i,f\"prob_max\"] = frq_data.iloc[i,:].max()\n",
    "    new.loc[i,f\"prob_min\"] = frq_data.iloc[i,:].min()\n",
    "    new.loc[i,f\"prob_var\"] = frq_data.iloc[i,:].var()\n",
    "    new.loc[i,f\"prob_std\"] = frq_data.iloc[i,:].std()\n",
    "    new.loc[i,f\"prob_skew\"] = frq_data.iloc[i,:].skew()\n",
    "    new.loc[i,f\"prob_skew\"] = frq_data.iloc[i,:].kurtosis()"
   ]
  },
  {
   "cell_type": "code",
   "execution_count": 82,
   "metadata": {},
   "outputs": [
    {
     "name": "stderr",
     "output_type": "stream",
     "text": [
      "/usr/local/lib/python3.7/site-packages/pandas/core/frame.py:6211: FutureWarning: Sorting because non-concatenation axis is not aligned. A future version\n",
      "of pandas will change to not sort by default.\n",
      "\n",
      "To accept the future behavior, pass 'sort=False'.\n",
      "\n",
      "To retain the current behavior and silence the warning, pass 'sort=True'.\n",
      "\n",
      "  sort=sort)\n"
     ]
    }
   ],
   "source": [
    "frq_tr = feather.read_dataframe(\"../data/input/tr_best_prob.feather\")\n",
    "frq_te = feather.read_dataframe(\"../data/input/te_best_prob.feather\")\n",
    "frq = frq_tr.append(frq_te)\n",
    "fl_pca = frq.loc[:,\"fl_PCA_1\":\"fl_PCA_14\"]\n",
    "int_pca  =frq.loc[:,\"int_PCA_1\":\"int_PCA_11\"]\n",
    "cate_pca = frq.loc[:,\"cate_PCA_1\":\"cate_PCA_30\"]\n",
    "d = df_concat([fl_pca,int_pca,cate_pca])\n",
    "n = len(train)\n",
    "tr_pca,te_pca = d.iloc[:n,:],d.iloc[n:,:]"
   ]
  },
  {
   "cell_type": "code",
   "execution_count": 77,
   "metadata": {},
   "outputs": [],
   "source": [
    "tr_pca,te_pca = cate_pca.iloc[:n,:],cate_pca.iloc[n:,:]"
   ]
  },
  {
   "cell_type": "code",
   "execution_count": 88,
   "metadata": {},
   "outputs": [],
   "source": [
    "tr_t,te_t = h_t.iloc[:n,:],h_t.iloc[n:,:]"
   ]
  },
  {
   "cell_type": "code",
   "execution_count": 79,
   "metadata": {},
   "outputs": [],
   "source": [
    "tr_f,te_f = frq.iloc[:n,:],frq.iloc[n:,:]"
   ]
  },
  {
   "cell_type": "code",
   "execution_count": 142,
   "metadata": {},
   "outputs": [],
   "source": [
    "data = df_concat([train.append(test),frq_pca_data,new])\n",
    "#tr_submit = df_concat([tr,cate_tr,pca1])\n",
    "#te_submit = df_concat([te,cate_te,pca2])"
   ]
  },
  {
   "cell_type": "code",
   "execution_count": 135,
   "metadata": {},
   "outputs": [
    {
     "ename": "NameError",
     "evalue": "name 'tr' is not defined",
     "output_type": "error",
     "traceback": [
      "\u001b[0;31m---------------------------------------------------------------------------\u001b[0m",
      "\u001b[0;31mNameError\u001b[0m                                 Traceback (most recent call last)",
      "\u001b[0;32m<ipython-input-135-2e2d8a89fcb1>\u001b[0m in \u001b[0;36m<module>\u001b[0;34m()\u001b[0m\n\u001b[1;32m      1\u001b[0m \u001b[0;34m\u001b[0m\u001b[0m\n\u001b[0;32m----> 2\u001b[0;31m \u001b[0mtr_submit\u001b[0m \u001b[0;34m=\u001b[0m \u001b[0mdf_concat\u001b[0m\u001b[0;34m(\u001b[0m\u001b[0;34m[\u001b[0m\u001b[0mtr\u001b[0m\u001b[0;34m,\u001b[0m\u001b[0mcate_tr\u001b[0m\u001b[0;34m,\u001b[0m\u001b[0mpca1\u001b[0m\u001b[0;34m]\u001b[0m\u001b[0;34m)\u001b[0m\u001b[0;34m\u001b[0m\u001b[0m\n\u001b[0m\u001b[1;32m      3\u001b[0m \u001b[0mte_submit\u001b[0m \u001b[0;34m=\u001b[0m \u001b[0mdf_concat\u001b[0m\u001b[0;34m(\u001b[0m\u001b[0;34m[\u001b[0m\u001b[0mte\u001b[0m\u001b[0;34m,\u001b[0m\u001b[0mcate_te\u001b[0m\u001b[0;34m,\u001b[0m\u001b[0mpca2\u001b[0m\u001b[0;34m]\u001b[0m\u001b[0;34m)\u001b[0m\u001b[0;34m\u001b[0m\u001b[0m\n",
      "\u001b[0;31mNameError\u001b[0m: name 'tr' is not defined"
     ]
    }
   ],
   "source": [
    "\n",
    "tr_submit = df_concat([tr,cate_tr,pca1])\n",
    "te_submit = df_concat([te,cate_te,pca2])"
   ]
  },
  {
   "cell_type": "code",
   "execution_count": 143,
   "metadata": {},
   "outputs": [],
   "source": [
    "n = len(train)\n",
    "tr_submit ,te_submit = data.iloc[:n,:],data.iloc[n:,:]"
   ]
  },
  {
   "cell_type": "code",
   "execution_count": 144,
   "metadata": {},
   "outputs": [],
   "source": [
    "tr_submit.reset_index(inplace = True)\n",
    "te_submit.reset_index(inplace = True)"
   ]
  },
  {
   "cell_type": "code",
   "execution_count": 145,
   "metadata": {},
   "outputs": [],
   "source": [
    "del tr_submit[\"index\"],te_submit[\"index\"]"
   ]
  },
  {
   "cell_type": "code",
   "execution_count": 146,
   "metadata": {},
   "outputs": [],
   "source": [
    "tr_submit.to_feather(\"../data/input/tr_frq_h.feather\")\n",
    "te_submit.to_feather(\"../data/input/te_frq_h.feather\")"
   ]
  },
  {
   "cell_type": "code",
   "execution_count": 86,
   "metadata": {},
   "outputs": [],
   "source": [
    "new = pd.DataFrame()\n",
    "data = tr.append(te)\n",
    "for i in frq.columns:\n",
    "    new[f\"{i}_rank\"]=frq[i].rank()\n",
    "    "
   ]
  },
  {
   "cell_type": "code",
   "execution_count": 89,
   "metadata": {},
   "outputs": [],
   "source": [
    "n = len(train)\n",
    "tr_r,te_r = new.iloc[:n,:],new.iloc[n:,:]\n",
    "tr_f,te_f = frq.iloc[:n,:],frq.iloc[n:,:]\n",
    "tr_submit = df_concat([tr,cate_tr,tr_r,tr_f,tr_t])\n",
    "te_submit = df_concat([te,cate_te,te_r,te_f,te_t])"
   ]
  },
  {
   "cell_type": "code",
   "execution_count": 90,
   "metadata": {},
   "outputs": [],
   "source": [
    "tr_submit[\"Score\"] = y\n",
    "tr_submit.to_feather(\"../data/input/tr_r.feather\")\n",
    "te_submit.to_feather(\"../data/input/te_r.feather\")"
   ]
  },
  {
   "cell_type": "code",
   "execution_count": 3,
   "metadata": {},
   "outputs": [
    {
     "ename": "ModuleNotFoundError",
     "evalue": "No module named 'umap'",
     "output_type": "error",
     "traceback": [
      "\u001b[0;31m---------------------------------------------------------------------------\u001b[0m",
      "\u001b[0;31mModuleNotFoundError\u001b[0m                       Traceback (most recent call last)",
      "\u001b[0;32m<ipython-input-3-623e299b05c0>\u001b[0m in \u001b[0;36m<module>\u001b[0;34m()\u001b[0m\n\u001b[0;32m----> 1\u001b[0;31m \u001b[0;32mimport\u001b[0m \u001b[0mumap\u001b[0m\u001b[0;34m\u001b[0m\u001b[0m\n\u001b[0m",
      "\u001b[0;31mModuleNotFoundError\u001b[0m: No module named 'umap'"
     ]
    }
   ],
   "source": []
  },
  {
   "cell_type": "code",
   "execution_count": 106,
   "metadata": {},
   "outputs": [
    {
     "ename": "KeyboardInterrupt",
     "evalue": "",
     "output_type": "error",
     "traceback": [
      "\u001b[0;31m---------------------------------------------------------------------------\u001b[0m",
      "\u001b[0;31mKeyboardInterrupt\u001b[0m                         Traceback (most recent call last)",
      "\u001b[0;32m/usr/local/lib/python3.7/site-packages/IPython/core/interactiveshell.py\u001b[0m in \u001b[0;36mrun_code\u001b[0;34m(self, code_obj, result)\u001b[0m\n\u001b[1;32m   2960\u001b[0m                 \u001b[0;31m#rprint('Running code', repr(code_obj)) # dbg\u001b[0m\u001b[0;34m\u001b[0m\u001b[0;34m\u001b[0m\u001b[0m\n\u001b[0;32m-> 2961\u001b[0;31m                 \u001b[0mexec\u001b[0m\u001b[0;34m(\u001b[0m\u001b[0mcode_obj\u001b[0m\u001b[0;34m,\u001b[0m \u001b[0mself\u001b[0m\u001b[0;34m.\u001b[0m\u001b[0muser_global_ns\u001b[0m\u001b[0;34m,\u001b[0m \u001b[0mself\u001b[0m\u001b[0;34m.\u001b[0m\u001b[0muser_ns\u001b[0m\u001b[0;34m)\u001b[0m\u001b[0;34m\u001b[0m\u001b[0m\n\u001b[0m\u001b[1;32m   2962\u001b[0m             \u001b[0;32mfinally\u001b[0m\u001b[0;34m:\u001b[0m\u001b[0;34m\u001b[0m\u001b[0m\n",
      "\u001b[0;32m<ipython-input-106-e0684d984613>\u001b[0m in \u001b[0;36m<module>\u001b[0;34m()\u001b[0m\n\u001b[1;32m      4\u001b[0m     \u001b[0mpoly\u001b[0m\u001b[0;34m[\u001b[0m\u001b[0;34mf\"dot_{i}_col88\"\u001b[0m\u001b[0;34m]\u001b[0m \u001b[0;34m=\u001b[0m \u001b[0mdata\u001b[0m\u001b[0;34m[\u001b[0m\u001b[0;34m\"col88\"\u001b[0m\u001b[0;34m]\u001b[0m\u001b[0;34m*\u001b[0m\u001b[0mdata\u001b[0m\u001b[0;34m[\u001b[0m\u001b[0mi\u001b[0m\u001b[0;34m]\u001b[0m\u001b[0;34m\u001b[0m\u001b[0m\n\u001b[0;32m----> 5\u001b[0;31m     \u001b[0mpoly\u001b[0m\u001b[0;34m[\u001b[0m\u001b[0;34mf\"mod_{i}_col88\"\u001b[0m\u001b[0;34m]\u001b[0m \u001b[0;34m=\u001b[0m  \u001b[0mdata\u001b[0m\u001b[0;34m[\u001b[0m\u001b[0;34m\"col88\"\u001b[0m\u001b[0;34m]\u001b[0m\u001b[0;34m.\u001b[0m\u001b[0mmap\u001b[0m\u001b[0;34m(\u001b[0m\u001b[0;32mlambda\u001b[0m \u001b[0mx\u001b[0m \u001b[0;34m:\u001b[0m \u001b[0;36m0\u001b[0m \u001b[0;32mif\u001b[0m \u001b[0mint\u001b[0m\u001b[0;34m(\u001b[0m\u001b[0mx\u001b[0m\u001b[0;34m)\u001b[0m \u001b[0;34m==\u001b[0m \u001b[0;36m0\u001b[0m \u001b[0;32melse\u001b[0m \u001b[0mx\u001b[0m\u001b[0;34m/\u001b[0m\u001b[0mdata\u001b[0m\u001b[0;34m[\u001b[0m\u001b[0mi\u001b[0m\u001b[0;34m]\u001b[0m\u001b[0;34m)\u001b[0m\u001b[0;34m\u001b[0m\u001b[0m\n\u001b[0m",
      "\u001b[0;32m/usr/local/lib/python3.7/site-packages/pandas/core/series.py\u001b[0m in \u001b[0;36mmap\u001b[0;34m(self, arg, na_action)\u001b[0m\n\u001b[1;32m   2997\u001b[0m         new_values = super(Series, self)._map_values(\n\u001b[0;32m-> 2998\u001b[0;31m             arg, na_action=na_action)\n\u001b[0m\u001b[1;32m   2999\u001b[0m         return self._constructor(new_values,\n",
      "\u001b[0;32m/usr/local/lib/python3.7/site-packages/pandas/core/base.py\u001b[0m in \u001b[0;36m_map_values\u001b[0;34m(self, mapper, na_action)\u001b[0m\n\u001b[1;32m   1003\u001b[0m         \u001b[0;31m# mapper is a function\u001b[0m\u001b[0;34m\u001b[0m\u001b[0;34m\u001b[0m\u001b[0m\n\u001b[0;32m-> 1004\u001b[0;31m         \u001b[0mnew_values\u001b[0m \u001b[0;34m=\u001b[0m \u001b[0mmap_f\u001b[0m\u001b[0;34m(\u001b[0m\u001b[0mvalues\u001b[0m\u001b[0;34m,\u001b[0m \u001b[0mmapper\u001b[0m\u001b[0;34m)\u001b[0m\u001b[0;34m\u001b[0m\u001b[0m\n\u001b[0m\u001b[1;32m   1005\u001b[0m \u001b[0;34m\u001b[0m\u001b[0m\n",
      "\u001b[0;32mpandas/_libs/src/inference.pyx\u001b[0m in \u001b[0;36mpandas._libs.lib.map_infer\u001b[0;34m()\u001b[0m\n",
      "\u001b[0;32m<ipython-input-106-e0684d984613>\u001b[0m in \u001b[0;36m<lambda>\u001b[0;34m(x)\u001b[0m\n\u001b[1;32m      4\u001b[0m     \u001b[0mpoly\u001b[0m\u001b[0;34m[\u001b[0m\u001b[0;34mf\"dot_{i}_col88\"\u001b[0m\u001b[0;34m]\u001b[0m \u001b[0;34m=\u001b[0m \u001b[0mdata\u001b[0m\u001b[0;34m[\u001b[0m\u001b[0;34m\"col88\"\u001b[0m\u001b[0;34m]\u001b[0m\u001b[0;34m*\u001b[0m\u001b[0mdata\u001b[0m\u001b[0;34m[\u001b[0m\u001b[0mi\u001b[0m\u001b[0;34m]\u001b[0m\u001b[0;34m\u001b[0m\u001b[0m\n\u001b[0;32m----> 5\u001b[0;31m     \u001b[0mpoly\u001b[0m\u001b[0;34m[\u001b[0m\u001b[0;34mf\"mod_{i}_col88\"\u001b[0m\u001b[0;34m]\u001b[0m \u001b[0;34m=\u001b[0m  \u001b[0mdata\u001b[0m\u001b[0;34m[\u001b[0m\u001b[0;34m\"col88\"\u001b[0m\u001b[0;34m]\u001b[0m\u001b[0;34m.\u001b[0m\u001b[0mmap\u001b[0m\u001b[0;34m(\u001b[0m\u001b[0;32mlambda\u001b[0m \u001b[0mx\u001b[0m \u001b[0;34m:\u001b[0m \u001b[0;36m0\u001b[0m \u001b[0;32mif\u001b[0m \u001b[0mint\u001b[0m\u001b[0;34m(\u001b[0m\u001b[0mx\u001b[0m\u001b[0;34m)\u001b[0m \u001b[0;34m==\u001b[0m \u001b[0;36m0\u001b[0m \u001b[0;32melse\u001b[0m \u001b[0mx\u001b[0m\u001b[0;34m/\u001b[0m\u001b[0mdata\u001b[0m\u001b[0;34m[\u001b[0m\u001b[0mi\u001b[0m\u001b[0;34m]\u001b[0m\u001b[0;34m)\u001b[0m\u001b[0;34m\u001b[0m\u001b[0m\n\u001b[0m",
      "\u001b[0;32m/usr/local/lib/python3.7/site-packages/pandas/core/ops.py\u001b[0m in \u001b[0;36mwrapper\u001b[0;34m(left, right)\u001b[0m\n\u001b[1;32m   1070\u001b[0m         return construct_result(left, result,\n\u001b[0;32m-> 1071\u001b[0;31m                                 index=left.index, name=res_name, dtype=None)\n\u001b[0m\u001b[1;32m   1072\u001b[0m \u001b[0;34m\u001b[0m\u001b[0m\n",
      "\u001b[0;32m/usr/local/lib/python3.7/site-packages/pandas/core/ops.py\u001b[0m in \u001b[0;36m_construct_result\u001b[0;34m(left, result, index, name, dtype)\u001b[0m\n\u001b[1;32m    973\u001b[0m \u001b[0;34m\u001b[0m\u001b[0m\n\u001b[0;32m--> 974\u001b[0;31m \u001b[0;32mdef\u001b[0m \u001b[0m_construct_result\u001b[0m\u001b[0;34m(\u001b[0m\u001b[0mleft\u001b[0m\u001b[0;34m,\u001b[0m \u001b[0mresult\u001b[0m\u001b[0;34m,\u001b[0m \u001b[0mindex\u001b[0m\u001b[0;34m,\u001b[0m \u001b[0mname\u001b[0m\u001b[0;34m,\u001b[0m \u001b[0mdtype\u001b[0m\u001b[0;34m)\u001b[0m\u001b[0;34m:\u001b[0m\u001b[0;34m\u001b[0m\u001b[0m\n\u001b[0m\u001b[1;32m    975\u001b[0m     \"\"\"\n",
      "\u001b[0;31mKeyboardInterrupt\u001b[0m: ",
      "\nDuring handling of the above exception, another exception occurred:\n",
      "\u001b[0;31mKeyboardInterrupt\u001b[0m                         Traceback (most recent call last)",
      "\u001b[0;31mKeyboardInterrupt\u001b[0m: "
     ]
    }
   ],
   "source": [
    "poly = pd.DataFrame()\n",
    "data = tr.append(te)\n",
    "for i in tr.columns:\n",
    "    poly[f\"dot_{i}_col88\"] = data[\"col88\"]*data[i]\n",
    "    poly[f\"mod_{i}_col88\"] =  data[\"col88\"].map(lambda x : 0 if int(x) == 0 else x/data[i])\n"
   ]
  },
  {
   "cell_type": "code",
   "execution_count": 59,
   "metadata": {},
   "outputs": [],
   "source": [
    "from sklearn.preprocessing import StandardScaler\n",
    "std = StandardScaler()\n",
    "tr,te = new.iloc[:len(train),:],new.iloc[len(train):,:]\n",
    "std_tr = std.fit_transform(tr)\n",
    "std_te = std.transform(te)"
   ]
  },
  {
   "cell_type": "code",
   "execution_count": 57,
   "metadata": {},
   "outputs": [],
   "source": [
    "def yeo(data):\n",
    "    new = pd.DataFrame()\n",
    "    for i in data.columns:\n",
    "        new[i] = data[i].map(lambda x : np.log1p(x) if x > 0 else -np.log1p(-x))\n",
    "    return new\n",
    "a = num_data.copy()\n",
    "new = yeo(a)"
   ]
  },
  {
   "cell_type": "code",
   "execution_count": 13,
   "metadata": {},
   "outputs": [],
   "source": [
    "from scipy.special import erfinv\n",
    "from tqdm import tqdm\n",
    "def rank_gauss(df):\n",
    "    for c in tqdm(df.columns):\n",
    "        series = df[c].rank()\n",
    "        M = series.max()\n",
    "        m = series.min() \n",
    "        series = (series-m)/(M-m)\n",
    "        series = series - series.mean()\n",
    "        series = series.apply(erfinv) \n",
    "        df[c] = series\n",
    "    return df\n",
    "\n"
   ]
  },
  {
   "cell_type": "code",
   "execution_count": 53,
   "metadata": {},
   "outputs": [
    {
     "name": "stderr",
     "output_type": "stream",
     "text": [
      "  0%|          | 0/444 [00:00<?, ?it/s]/usr/local/lib/python3.7/site-packages/ipykernel_launcher.py:11: SettingWithCopyWarning: \n",
      "A value is trying to be set on a copy of a slice from a DataFrame.\n",
      "Try using .loc[row_indexer,col_indexer] = value instead\n",
      "\n",
      "See the caveats in the documentation: http://pandas.pydata.org/pandas-docs/stable/indexing.html#indexing-view-versus-copy\n",
      "  # This is added back by InteractiveShellApp.init_path()\n",
      "100%|██████████| 444/444 [00:42<00:00, 11.87it/s]\n",
      "100%|██████████| 444/444 [00:40<00:00, 10.75it/s]\n"
     ]
    }
   ],
   "source": [
    "num_train,num_test = num_data.iloc[:len(train),:],num_data.iloc[len(train):,:]\n",
    "rank_tr= rank_gauss(num_train)\n",
    "rank_te= rank_gauss(num_test)"
   ]
  },
  {
   "cell_type": "code",
   "execution_count": 62,
   "metadata": {},
   "outputs": [],
   "source": [
    "std_tr = pd.DataFrame(std_tr,columns=num_data.columns)\n",
    "std_te = pd.DataFrame(std_te,columns=num_data.columns)"
   ]
  },
  {
   "cell_type": "code",
   "execution_count": 63,
   "metadata": {},
   "outputs": [],
   "source": [
    "#cate_tr,cate_te = cate_data.iloc[:len(train),:],cate_data.iloc[len(train):,:]\n",
    "t = df_concat([std_tr,cate_tr])\n",
    "tt = df_concat([std_te,cate_te])\n"
   ]
  },
  {
   "cell_type": "code",
   "execution_count": 64,
   "metadata": {},
   "outputs": [],
   "source": [
    "t.to_feather(\"../data/input/stack/train_yeostd.feather\")\n",
    "tt.to_feather(\"../data/input/stack/test_yeostd.feather\")"
   ]
  },
  {
   "cell_type": "code",
   "execution_count": 23,
   "metadata": {},
   "outputs": [
    {
     "data": {
      "text/plain": [
       "13731"
      ]
     },
     "execution_count": 23,
     "metadata": {},
     "output_type": "execute_result"
    }
   ],
   "source": [
    "len(t)"
   ]
  },
  {
   "cell_type": "code",
   "execution_count": 31,
   "metadata": {},
   "outputs": [],
   "source": [
    "n = len(train)\n",
    "h_t = feather.read_dataframe(\"../features/cut.feather\")\n",
    "\n",
    "tr_t,te_t = h_t.iloc[:n,:],h_t.iloc[n:,:]"
   ]
  },
  {
   "cell_type": "code",
   "execution_count": 32,
   "metadata": {},
   "outputs": [],
   "source": [
    "import sklearn.base\n",
    "from  bhtsne import tsne\n",
    "import numpy as np\n",
    "\n",
    "\n",
    "\n",
    "# 訓練用データを基準にテストデータも標準化\n",
    "\n",
    "\n",
    "y = tsne(h_t.astype(\"float64\"),rand_seed=1103,dimensions=3,perplexity=30)"
   ]
  },
  {
   "cell_type": "code",
   "execution_count": 1,
   "metadata": {},
   "outputs": [
    {
     "ename": "NameError",
     "evalue": "name 'train' is not defined",
     "output_type": "error",
     "traceback": [
      "\u001b[0;31m---------------------------------------------------------------------------\u001b[0m",
      "\u001b[0;31mNameError\u001b[0m                                 Traceback (most recent call last)",
      "\u001b[0;32m<ipython-input-1-3536571a9bc3>\u001b[0m in \u001b[0;36m<module>\u001b[0;34m()\u001b[0m\n\u001b[0;32m----> 1\u001b[0;31m \u001b[0mtrain\u001b[0m\u001b[0;34m\u001b[0m\u001b[0m\n\u001b[0m",
      "\u001b[0;31mNameError\u001b[0m: name 'train' is not defined"
     ]
    }
   ],
   "source": [
    "train"
   ]
  },
  {
   "cell_type": "code",
   "execution_count": 42,
   "metadata": {},
   "outputs": [
    {
     "data": {
      "text/plain": [
       "<matplotlib.collections.PathCollection at 0x130e1f438>"
      ]
     },
     "execution_count": 42,
     "metadata": {},
     "output_type": "execute_result"
    },
    {
     "name": "stderr",
     "output_type": "stream",
     "text": [
      "/usr/local/lib/python3.7/site-packages/matplotlib/font_manager.py:1331: UserWarning: findfont: Font family ['IPAexGothic'] not found. Falling back to DejaVu Sans\n",
      "  (prop.get_family(), self.defaultFamily[fontext]))\n"
     ]
    },
    {
     "data": {
      "image/png": "[encoded data removed]",
      "text/plain": [
       "<Figure size 432x288 with 1 Axes>"
      ]
     },
     "metadata": {
      "needs_background": "light"
     },
     "output_type": "display_data"
    }
   ],
   "source": [
    "from sklearn.datasets import load_iris\n",
    "import matplotlib.pyplot as plt\n",
    "data = load_iris()\n",
    "x = data.data\n",
    "y = data.target\n",
    "plt.scatter(x[:,1],x[:,2],c = y)"
   ]
  },
  {
   "cell_type": "code",
   "execution_count": 147,
   "metadata": {},
   "outputs": [],
   "source": [
    "umap = feather.read_dataframe(\"../features/DAE_umap.feather\")"
   ]
  },
  {
   "cell_type": "code",
   "execution_count": 150,
   "metadata": {},
   "outputs": [],
   "source": [
    "tr,te = umap.iloc[:len(train),:],umap.iloc[len(train):,:]"
   ]
  },
  {
   "cell_type": "code",
   "execution_count": 155,
   "metadata": {},
   "outputs": [],
   "source": [
    "tt = df_concat([train,tr])\n",
    "t = df_concat([test,te])"
   ]
  },
  {
   "cell_type": "code",
   "execution_count": 156,
   "metadata": {},
   "outputs": [],
   "source": [
    "tt.to_feather(\"../data/input/train_umap.feather\")\n",
    "t.to_feather(\"../data/input/test_umap.feather\")"
   ]
  },
  {
   "cell_type": "code",
   "execution_count": null,
   "metadata": {},
   "outputs": [],
   "source": []
  }
 ],
 "metadata": {
  "kernelspec": {
   "display_name": "Python 3",
   "language": "python",
   "name": "python3"
  },
  "language_info": {
   "codemirror_mode": {
    "name": "ipython",
    "version": 3
   },
   "file_extension": ".py",
   "mimetype": "text/x-python",
   "name": "python",
   "nbconvert_exporter": "python",
   "pygments_lexer": "ipython3",
   "version": "3.7.0"
  }
 },
 "nbformat": 4,
 "nbformat_minor": 2
}
