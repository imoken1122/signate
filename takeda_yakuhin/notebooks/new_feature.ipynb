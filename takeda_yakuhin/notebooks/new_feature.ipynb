{
 "cells": [
  {
   "cell_type": "code",
   "execution_count": 1,
   "metadata": {},
   "outputs": [],
   "source": [
    "import feather\n",
    "train = feather.read_dataframe(\"../data/input/tr_best.feather\")\n",
    "test = feather.read_dataframe(\"../data/input/te_best.feather\")"
   ]
  },
  {
   "cell_type": "code",
   "execution_count": 2,
   "metadata": {},
   "outputs": [],
   "source": [
    "score = train[\"Score\"]\n",
    "del train[\"Score\"],train[\"index\"],test[\"index\"],test[\"ID\"]"
   ]
  },
  {
   "cell_type": "code",
   "execution_count": 9,
   "metadata": {},
   "outputs": [],
   "source": [
    "imp = ['col88', 'col2614', 'col525', 'col329', 'col3552', 'col1976', 'col2914', 'col226', 'col420', 'col2132',\n",
    "'col3433', 'col119', 'col1444', 'col2349', 'col3290', 'col2925','col168', 'col3058',\n",
    "'col2621', 'col176', 'col3642', 'col3051', 'col454', 'col3215', 'col142', 'col3653', 'col15', 'col2431'\n",
    ", 'col3466', 'col182',  'col3431', 'col381', 'col46', 'col113', 'col68', 'col1815', 'col654','col1174', \n",
    " 'col3114', 'col2475', 'col253','col286', 'col248', 'col1323', 'col441', 'col1780', 'col3194', 'col2937',\n",
    "    'col71','col1844', 'col744', 'col256', 'col2219', 'col766', 'col118', 'col3723', 'col2989',\n",
    "       'col1555', 'col255', 'col1413', 'col2537', 'col1337', 'col2365', 'col723', 'col3353', 'col1796', 'col3379', \n",
    "    'col124', 'col2410', 'col2699', 'col2744', 'col767', 'col537',  'col3590','col3472', 'col1279',\n",
    "    'col1193', 'col1050', 'col2888', 'col2964', 'col306', 'col2885', 'col2101', 'col232','col3075', 'col3139', \n",
    "    'col1315',  'col2399', 'col1032', 'col2077','col816', 'col413', 'col3275', 'col342', 'col48', 'col1038', 'col357',\n",
    "    'col218', 'col1540', 'col209', 'col1382', 'col514', 'col1006', 'col2180', 'col2867', 'col803', 'col340', 'col2834',\n",
    "    'col2560', 'col269', 'col3300', 'col3699', 'col99','col1535', 'col240', 'col395', 'col1139','col2921', 'col2617']"
   ]
  },
  {
   "cell_type": "code",
   "execution_count": 18,
   "metadata": {},
   "outputs": [],
   "source": [
    "tr = train[imp]\n",
    "te = test[imp]"
   ]
  },
  {
   "cell_type": "code",
   "execution_count": 13,
   "metadata": {},
   "outputs": [],
   "source": [
    "col = []\n",
    "for i in tr.columns:\n",
    "    if len(tr[i].unique()) != 2:\n",
    "        col.append(i)"
   ]
  },
  {
   "cell_type": "code",
   "execution_count": 17,
   "metadata": {},
   "outputs": [
    {
     "data": {
      "text/plain": [
       "0"
      ]
     },
     "execution_count": 17,
     "metadata": {},
     "output_type": "execute_result"
    }
   ],
   "source": [
    "len(col) - len(imp)"
   ]
  },
  {
   "cell_type": "code",
   "execution_count": 29,
   "metadata": {},
   "outputs": [
    {
     "name": "stderr",
     "output_type": "stream",
     "text": [
      "100%|██████████| 118/118 [00:02<00:00, 51.64it/s]\n"
     ]
    }
   ],
   "source": [
    "from tqdm import tqdm\n",
    "import pandas as pd\n",
    "def importance_intract(train,test, imp_c,):\n",
    "#Lihghtgbm importance feauter\n",
    "    new = pd.DataFrame()\n",
    "    data = train.append(test)\n",
    "    flist = data.columns\n",
    "    for c in tqdm(flist[1:]):\n",
    "        new[\"add_\" + imp_c +\"_\"+ c ] = data[imp_c]+ data[c]\n",
    "        new[\"minus_\" + imp_c +\"_\"+ c ] = data[imp_c]- data[c]\n",
    "        new[\"dot_\" + imp_c +\"_\"+ c ] = data[imp_c]*data[c]\n",
    "        \n",
    "    return new\n",
    "\n",
    "d = importance_intract(tr,te,\"col88\")"
   ]
  },
  {
   "cell_type": "code",
   "execution_count": 3,
   "metadata": {},
   "outputs": [],
   "source": [
    "import numpy as np\n",
    "def df_concat(flist):\n",
    "    add_columns = flist[0].columns.values.tolist()\n",
    "    add_df = flist[0].values\n",
    "    for i in flist[1:]:\n",
    "        add_columns += i.columns.values.tolist()\n",
    "        add_df = np.c_[add_df,i.values]\n",
    "\n",
    "    return pd.DataFrame(add_df,columns=add_columns)"
   ]
  },
  {
   "cell_type": "code",
   "execution_count": 36,
   "metadata": {},
   "outputs": [],
   "source": [
    "dd = tr.append(te)\n",
    "data = df_concat([dd,d])"
   ]
  },
  {
   "cell_type": "code",
   "execution_count": 38,
   "metadata": {},
   "outputs": [
    {
     "name": "stderr",
     "output_type": "stream",
     "text": [
      "/usr/local/lib/python3.7/site-packages/ipykernel_launcher.py:4: SettingWithCopyWarning: \n",
      "A value is trying to be set on a copy of a slice from a DataFrame.\n",
      "Try using .loc[row_indexer,col_indexer] = value instead\n",
      "\n",
      "See the caveats in the documentation: http://pandas.pydata.org/pandas-docs/stable/indexing.html#indexing-view-versus-copy\n",
      "  after removing the cwd from sys.path.\n"
     ]
    }
   ],
   "source": [
    "\n",
    "tr,te= data.iloc[:13731,:],data.iloc[13731:,:]\n",
    "\n",
    "tr[\"Score\"] = score\n",
    "\n",
    "\n",
    "tr = tr.reset_index()\n",
    "te = te.reset_index()\n",
    "del tr[\"index\"],te[\"index\"]\n",
    "tr.to_feather(\"../data/input/tr_best_imp.feather\")\n",
    "te.to_feather(\"../data/input/te_best_imp.feather\")\n",
    "import json\n",
    "del tr[\"Score\"]\n",
    "ff = tr.columns.values.tolist()\n",
    "features = {\"features\":ff, \"target_name\":\"Score\"}\n",
    "\n",
    "with open(\"../configs/config_kbest_imp.json\",\"w\") as f:\n",
    "    json.dump(features,f)"
   ]
  },
  {
   "cell_type": "code",
   "execution_count": 46,
   "metadata": {},
   "outputs": [],
   "source": [
    "\n",
    "import json\n",
    "import numpy as np\n",
    "with open('../configs/Kbest_FE.json') as f:\n",
    "    df = json.load(f)\n",
    "fl_score = np.array(df[\"kbest_feature\"][\"float\"])\n",
    "int_score = np.array(df[\"kbest_feature\"][\"int\"])\n",
    "cate_score = np.array(df[\"kbest_feature\"][\"cate\"])"
   ]
  },
  {
   "cell_type": "code",
   "execution_count": 4,
   "metadata": {},
   "outputs": [],
   "source": [
    "from scipy.special import erfinv\n",
    "import numpy as np\n",
    "import pandas as pd\n",
    "import random\n",
    "\n",
    "\n",
    "def rank_gauss(df):\n",
    "\n",
    "    ## to_rank\n",
    "    for c in df.columns:\n",
    "        series = df[c].rank()\n",
    "        M = series.max()\n",
    "        m = series.min() \n",
    "        print(c, m, len(series), len(set(df[c].tolist())))\n",
    "        series = (series-m)/(M-m)\n",
    "        series = series - series.mean()\n",
    "        series = series.apply(erfinv) \n",
    "        df[c] = series\n",
    "    return df\n",
    "def Swap_noise(array):\n",
    "    print('now noising') \n",
    "    height = len(array)\n",
    "    width = len(array[0])\n",
    "    print('start rand')  \n",
    "    rands = np.random.uniform(0, 1, (height, width) )\n",
    "    print('finish rand')  \n",
    "    copy  = np.copy(array)\n",
    "\n",
    "    for h in range(height):\n",
    "        for w in range(width):\n",
    "            if rands[h, w] <= 0.10:\n",
    "                swap_target_h = random.randint(0,height)\n",
    "                copy[h, w] = array[swap_target_h-1, w]\n",
    "    print('finish noising') \n",
    "    return copy"
   ]
  },
  {
   "cell_type": "code",
   "execution_count": 5,
   "metadata": {},
   "outputs": [
    {
     "name": "stdout",
     "output_type": "stream",
     "text": [
      "Transforming data\n",
      "col10 1.0 27463 13575\n",
      "col1006 1.0 27463 84\n",
      "col1008 1.0 27463 6764\n",
      "col1015 9779.0 27463 8\n",
      "col1027 2679.5 27463 12\n",
      "col1032 1.5 27463 1815\n",
      "col1038 1.0 27463 2668\n",
      "col1039 806.0 27463 37\n",
      "col104 1.0 27463 20545\n",
      "col1040 1.0 27463 335\n",
      "col1050 361.5 27463 142\n",
      "col1053 5139.5 27463 16\n",
      "col107 1.0 27463 13886\n",
      "col1071 1.0 27463 3480\n",
      "col1087 8567.0 27463 7\n",
      "col1095 1.5 27463 50\n",
      "col1096 12657.0 27463 38\n",
      "col1118 1235.5 27463 20564\n",
      "col113 1.0 27463 3901\n",
      "col1132 348.0 27463 30\n",
      "col1135 4105.0 27463 14\n",
      "col1138 880.0 27463 29\n",
      "col1139 1.0 27463 8125\n",
      "col1143 9884.5 27463 5\n",
      "col115 1.0 27463 3571\n",
      "col1160 9673.5 27463 8\n",
      "col1170 328.5 27463 43\n",
      "col1174 1.0 27463 1751\n",
      "col118 1.0 27463 2898\n",
      "col1185 9443.5 27463 13\n",
      "col119 1.0 27463 3599\n",
      "col1193 899.5 27463 25\n",
      "col1195 1.5 27463 56\n",
      "col121 11433.5 27463 3053\n",
      "col1223 249.0 27463 48\n",
      "col1229 1.0 27463 116\n",
      "col1231 191.5 27463 29\n",
      "col1232 821.5 27463 61\n",
      "col1235 1.0 27463 666\n",
      "col124 2.0 27463 3273\n",
      "col1242 8222.0 27463 494\n",
      "col1252 2.5 27463 11136\n",
      "col1254 4430.0 27463 7\n",
      "col1273 1.0 27463 14216\n",
      "col1278 9379.0 27463 7\n",
      "col1279 1.0 27463 8308\n",
      "col1287 1.0 27463 54\n",
      "col1288 11335.5 27463 4\n",
      "col1292 1.0 27463 1909\n",
      "col130 1.0 27463 7981\n",
      "col1315 2418.0 27463 12196\n",
      "col1317 1.0 27463 73\n",
      "col1318 1.0 27463 2789\n",
      "col1323 1.0 27463 3323\n",
      "col1329 8004.0 27463 356\n",
      "col1337 1.0 27463 6498\n",
      "col134 1.0 27463 4522\n",
      "col1359 12321.5 27463 7\n",
      "col1376 11497.0 27463 11\n",
      "col1382 1.0 27463 1913\n",
      "col1401 11743.0 27463 7\n",
      "col1413 12331.5 27463 9\n",
      "col1414 7287.0 27463 10\n",
      "col1417 11843.0 27463 4\n",
      "col142 9.0 27463 70\n",
      "col1424 12108.5 27463 8\n",
      "col1430 85.5 27463 34\n",
      "col1444 526.5 27463 62\n",
      "col1447 1235.5 27463 47\n",
      "col1450 11872.5 27463 10\n",
      "col1459 9310.5 27463 138\n",
      "col146 12589.0 27463 5\n",
      "col147 11676.0 27463 4\n",
      "col1489 1143.5 27463 6\n",
      "col1491 10118.0 27463 12\n",
      "col15 12194.5 27463 1338\n",
      "col1506 414.5 27463 25\n",
      "col1509 9992.0 27463 4\n",
      "col1517 10993.0 27463 11\n",
      "col1526 155.5 27463 24\n",
      "col153 578.5 27463 33\n",
      "col1532 2089.0 27463 877\n",
      "col1535 1.0 27463 3745\n",
      "col1540 1.0 27463 1496\n",
      "col1541 5106.0 27463 15\n",
      "col1545 1.0 27463 11861\n",
      "col1555 54.0 27463 15640\n",
      "col1557 2544.0 27463 1201\n",
      "col1563 9711.5 27463 44\n",
      "col1566 8096.0 27463 8\n",
      "col1575 11293.5 27463 8\n",
      "col1587 12033.5 27463 4\n",
      "col1601 1310.5 27463 13008\n",
      "col1605 12033.5 27463 4\n",
      "col161 8570.0 27463 26\n",
      "col1610 12269.5 27463 3\n",
      "col162 5274.0 27463 15\n",
      "col1621 10655.0 27463 4\n",
      "col1632 3.0 27463 5804\n",
      "col1633 11331.5 27463 4\n",
      "col1669 9186.0 27463 5407\n",
      "col168 1.0 27463 3034\n",
      "col1687 13352.5 27463 546\n",
      "col1693 6206.0 27463 5\n",
      "col1698 1.0 27463 12618\n",
      "col1704 1630.0 27463 45\n",
      "col1710 1.0 27463 9\n",
      "col1717 99.0 27463 17\n",
      "col1725 12181.0 27463 12\n",
      "col1731 1.0 27463 3398\n",
      "col1733 12343.0 27463 6\n",
      "col1738 7595.5 27463 6\n",
      "col1741 10751.5 27463 140\n",
      "col176 1.0 27463 7793\n",
      "col1767 9120.5 27463 7\n",
      "col1768 7426.0 27463 9513\n",
      "col1770 1.0 27463 9544\n",
      "col1780 12317.5 27463 4\n",
      "col1787 11176.5 27463 3\n",
      "col1796 11.0 27463 14500\n",
      "col1815 1.0 27463 4360\n",
      "col1816 12248.0 27463 5\n",
      "col182 1.0 27463 1749\n",
      "col1844 12747.0 27463 1015\n",
      "col1855 92.0 27463 2692\n",
      "col1857 12023.5 27463 21\n",
      "col1862 8290.5 27463 15\n",
      "col1864 12236.5 27463 8\n",
      "col1873 4194.0 27463 129\n",
      "col1894 1.0 27463 20\n",
      "col1918 8411.5 27463 25\n",
      "col193 12205.5 27463 4\n",
      "col1931 3401.5 27463 16\n",
      "col1938 201.5 27463 2396\n",
      "col195 3906.5 27463 11\n",
      "col1960 9802.0 27463 1749\n",
      "col1975 3.0 27463 36\n",
      "col1976 2489.0 27463 9\n",
      "col1991 983.5 27463 42\n",
      "col2003 11745.5 27463 4\n",
      "col2024 1.0 27463 22\n",
      "col2062 1.0 27463 40\n",
      "col2074 1.0 27463 1574\n",
      "col2077 1.0 27463 4243\n",
      "col208 1.0 27463 210\n",
      "col2081 10713.0 27463 12\n",
      "col209 1.0 27463 14767\n",
      "col2092 131.5 27463 22\n",
      "col2101 64.0 27463 4434\n",
      "col2111 98.5 27463 30\n",
      "col2116 10557.0 27463 9\n",
      "col2117 8072.0 27463 357\n",
      "col2120 9387.5 27463 5\n",
      "col2132 7577.0 27463 5\n",
      "col2135 85.5 27463 34\n",
      "col2138 11233.0 27463 7\n",
      "col2143 2136.0 27463 42\n",
      "col2147 1.0 27463 2338\n",
      "col2150 4430.0 27463 7\n",
      "col218 67.5 27463 2273\n",
      "col2180 1.5 27463 38\n",
      "col2185 1.0 27463 360\n",
      "col22 1.0 27463 4378\n",
      "col2204 7428.5 27463 5\n",
      "col2219 34.0 27463 2137\n",
      "col2228 11630.5 27463 5\n",
      "col2230 4481.5 27463 14\n",
      "col2236 3.5 27463 3150\n",
      "col2241 8028.5 27463 21\n",
      "col225 603.5 27463 15\n",
      "col2258 6085.0 27463 13\n",
      "col226 258.5 27463 3763\n",
      "col2261 7.5 27463 29\n",
      "col2275 10645.5 27463 9\n",
      "col2304 4078.0 27463 6\n",
      "col2306 11951.5 27463 2260\n",
      "col232 1.0 27463 9340\n",
      "col2335 12002.5 27463 5\n",
      "col2336 1.0 27463 8\n",
      "col2349 11159.0 27463 8\n",
      "col2360 10660.5 27463 124\n",
      "col2365 1.0 27463 6688\n",
      "col2369 590.5 27463 21\n",
      "col237 12473.0 27463 1050\n",
      "col2372 11748.5 27463 4\n",
      "col2387 12623.0 27463 40\n",
      "col2391 1.0 27463 3848\n",
      "col2393 10206.0 27463 11\n",
      "col2395 12178.5 27463 6\n",
      "col2399 268.5 27463 62\n",
      "col240 1.0 27463 2068\n",
      "col2402 12608.5 27463 12\n",
      "col2405 11957.5 27463 5\n",
      "col2410 73.5 27463 68\n",
      "col2413 1.0 27463 2221\n",
      "col2414 8279.5 27463 20\n",
      "col2431 3.5 27463 2044\n",
      "col2433 1311.0 27463 25\n",
      "col2439 1.0 27463 5094\n",
      "col244 11276.0 27463 23\n",
      "col2460 12500.5 27463 9\n",
      "col2463 9344.5 27463 4\n",
      "col2475 2487.5 27463 9\n",
      "col248 47.5 27463 2758\n",
      "col2486 11720.5 27463 12\n",
      "col2494 5552.0 27463 23\n",
      "col2514 903.5 27463 66\n",
      "col2518 12657.0 27463 363\n",
      "col253 177.0 27463 3667\n",
      "col2537 1.0 27463 2997\n",
      "col255 1.0 27463 11250\n",
      "col256 1.0 27463 10921\n",
      "col2560 1.0 27463 1972\n",
      "col2565 12639.5 27463 9\n",
      "col2579 4492.0 27463 14\n",
      "col2584 1.0 27463 422\n",
      "col2607 964.5 27463 10\n",
      "col2609 361.5 27463 12\n",
      "col2614 1.0 27463 298\n",
      "col2616 1.0 27463 11432\n",
      "col2617 12020.5 27463 5\n",
      "col2621 177.0 27463 18336\n",
      "col2630 10623.0 27463 5\n",
      "col2639 44.5 27463 14\n",
      "col2663 8.0 27463 15\n",
      "col2669 1.0 27463 3154\n",
      "col2677 1943.5 27463 61\n",
      "col269 1.0 27463 2325\n",
      "col2693 7995.0 27463 7\n",
      "col2699 38.0 27463 1069\n",
      "col2722 9310.5 27463 5621\n",
      "col2724 11644.0 27463 4\n",
      "col2744 1.0 27463 1835\n",
      "col2752 122.0 27463 24\n",
      "col2769 170.0 27463 22\n",
      "col2789 131.5 27463 176\n",
      "col281 5717.5 27463 167\n",
      "col2818 10407.5 27463 9\n",
      "col2834 1.0 27463 18489\n",
      "col2836 12042.0 27463 4\n",
      "col2845 1.0 27463 88\n",
      "col286 46.0 27463 58\n",
      "col2865 5361.5 27463 8\n",
      "col2867 1.0 27463 13599\n",
      "col2873 8739.5 27463 8\n",
      "col2885 1.0 27463 11042\n",
      "col2888 493.0 27463 18411\n",
      "col2894 9107.5 27463 5\n",
      "col2895 10865.5 27463 4\n",
      "col29 1.0 27463 126\n",
      "col2902 130.0 27463 1285\n",
      "col2914 3.0 27463 2710\n",
      "col2921 1.0 27463 2950\n",
      "col2925 1.0 27463 2284\n",
      "col2937 8801.0 27463 9\n",
      "col2939 11252.5 27463 10\n",
      "col2963 1.0 27463 6620\n",
      "col2964 7036.5 27463 9\n",
      "col2977 537.5 27463 27\n",
      "col2981 1874.5 27463 36\n",
      "col2989 1.0 27463 15953\n",
      "col2992 1.0 27463 84\n",
      "col2998 12394.0 27463 10\n",
      "col3023 131.5 27463 27\n",
      "col305 1.0 27463 5890\n",
      "col3051 4.0 27463 1698\n",
      "col3056 8244.5 27463 5\n",
      "col3058 1.0 27463 1797\n",
      "col306 1.0 27463 2179\n",
      "col3065 6800.5 27463 12\n",
      "col3075 1.0 27463 1688\n",
      "col3094 12165.0 27463 12\n",
      "col3097 8389.0 27463 22\n",
      "col3110 8483.5 27463 11\n",
      "col3114 2246.0 27463 9\n",
      "col3117 11909.0 27463 11\n",
      "col312 3.5 27463 15958\n",
      "col3139 1.0 27463 24663\n",
      "col3185 9877.0 27463 6\n",
      "col3194 345.0 27463 3005\n",
      "col3199 8003.0 27463 7\n",
      "col3203 631.5 27463 51\n",
      "col3213 886.5 27463 58\n",
      "col3215 589.0 27463 33\n",
      "col3268 131.5 27463 11\n",
      "col3275 1.0 27463 8406\n",
      "col3277 11644.0 27463 16\n",
      "col3289 1.0 27463 39\n",
      "col329 177.0 27463 6164\n",
      "col3290 6.5 27463 36\n",
      "col3300 1.0 27463 1775\n",
      "col3308 11843.5 27463 4\n",
      "col3310 5512.0 27463 6\n",
      "col3312 1.0 27463 15568\n",
      "col3330 154.0 27463 31\n",
      "col3331 9702.5 27463 6\n",
      "col3340 12313.0 27463 4\n",
      "col3349 9245.0 27463 13\n",
      "col3353 1.0 27463 2327\n",
      "col3364 11267.5 27463 12\n",
      "col3372 12087.0 27463 16\n",
      "col3379 1.0 27463 3024\n",
      "col340 1.0 27463 3809\n",
      "col3405 10886.0 27463 14\n",
      "col342 1.0 27463 2848\n",
      "col3423 4680.0 27463 17\n",
      "col3431 1.0 27463 1825\n",
      "col3433 4320.5 27463 8\n",
      "col3434 5820.0 27463 15\n",
      "col3466 7775.5 27463 10\n",
      "col3472 1.0 27463 11450\n",
      "col3477 9884.5 27463 2662\n",
      "col3498 6384.5 27463 11\n",
      "col3519 283.5 27463 34\n",
      "col352 10751.5 27463 4636\n",
      "col3521 1.0 27463 2101\n",
      "col3529 9382.5 27463 12\n",
      "col3531 12210.0 27463 2064\n",
      "col3535 1.0 27463 36\n",
      "col3540 406.0 27463 33\n",
      "col3543 3680.0 27463 12\n",
      "col3552 1664.5 27463 10698\n",
      "col357 1.0 27463 2046\n",
      "col359 11.5 27463 5609\n",
      "col3590 1.0 27463 6919\n",
      "col3591 46.0 27463 43\n",
      "col3607 765.0 27463 33\n",
      "col3619 11427.0 27463 4\n",
      "col3626 12010.5 27463 4\n",
      "col363 7582.0 27463 8\n",
      "col3639 6896.0 27463 7\n",
      "col3640 1.0 27463 267\n",
      "col3642 1.0 27463 1930\n",
      "col3653 1.0 27463 4752\n",
      "col3661 13085.5 27463 874\n",
      "col3683 9814.5 27463 17\n",
      "col3684 12097.0 27463 11\n",
      "col3689 12194.5 27463 4\n",
      "col3696 12369.5 27463 3\n",
      "col3698 7128.0 27463 8402\n",
      "col3699 4430.0 27463 5957\n",
      "col3711 12767.5 27463 1005\n",
      "col3716 10816.5 27463 6\n",
      "col3723 9120.0 27463 9\n",
      "col3725 1.0 27463 10313\n",
      "col3727 7.5 27463 29\n",
      "col3736 7852.0 27463 6\n",
      "col3741 11819.0 27463 12\n",
      "col3751 1.0 27463 83\n",
      "col3768 6074.0 27463 14\n",
      "col3769 1136.0 27463 33\n",
      "col3775 164.5 27463 30\n",
      "col3797 12339.5 27463 4\n",
      "col38 11.5 27463 1968\n",
      "col3805 9128.5 27463 13\n",
      "col381 5.5 27463 3788\n",
      "col395 2040.0 27463 11\n",
      "col413 1.0 27463 2177\n",
      "col420 1.0 27463 1971\n",
      "col438 12468.5 27463 9\n",
      "col441 1.0 27463 4588\n",
      "col453 160.5 27463 23570\n",
      "col454 1.0 27463 14792\n",
      "col458 12417.0 27463 14\n",
      "col459 12219.5 27463 9\n",
      "col46 1.0 27463 12397\n",
      "col463 8638.5 27463 23\n",
      "col473 10644.5 27463 11\n",
      "col48 47.5 27463 17230\n",
      "col485 7873.0 27463 6\n",
      "col486 12161.5 27463 4\n",
      "col498 2393.0 27463 10\n",
      "col5 879.0 27463 16899\n",
      "col510 5920.5 27463 6\n",
      "col514 1.0 27463 17317\n",
      "col524 1.0 27463 23704\n",
      "col525 1.0 27463 13019\n",
      "col533 1.0 27463 2181\n",
      "col537 1.0 27463 854\n",
      "col540 2026.5 27463 27\n",
      "col552 1.0 27463 1649\n",
      "col554 1.0 27463 7384\n",
      "col557 11333.0 27463 7\n",
      "col56 1.0 27463 24383\n",
      "col567 1.0 27463 4591\n",
      "col569 12263.0 27463 12\n",
      "col571 12768.5 27463 22\n",
      "col579 7963.5 27463 12\n",
      "col588 8278.0 27463 24\n",
      "col590 8247.5 27463 90\n",
      "col596 8156.5 27463 10\n",
      "col598 1.0 27463 843\n",
      "col609 1.5 27463 50\n",
      "col620 1.0 27463 1863\n",
      "col624 1.0 27463 2424\n",
      "col635 8492.0 27463 18\n",
      "col654 1.0 27463 2440\n",
      "col670 12128.0 27463 1536\n",
      "col679 1.0 27463 2570\n",
      "col68 2489.0 27463 157\n",
      "col680 129.0 27463 28\n",
      "col690 2085.0 27463 3\n",
      "col699 1.0 27463 20373\n",
      "col70 5547.0 27463 11\n",
      "col71 1.0 27463 13168\n",
      "col723 1.0 27463 2120\n",
      "col730 3.5 27463 24163\n",
      "col744 1.0 27463 1895\n",
      "col745 12015.5 27463 6\n",
      "col746 1387.5 27463 31\n",
      "col750 12048.5 27463 12\n",
      "col753 8731.5 27463 27\n",
      "col766 15.5 27463 5651\n",
      "col767 1.0 27463 6204\n",
      "col768 1.0 27463 2777\n",
      "col775 75.5 27463 13695\n",
      "col777 1310.5 27463 232\n",
      "col791 12623.0 27463 1182\n",
      "col793 7214.0 27463 13\n",
      "col801 12311.5 27463 4\n",
      "col803 1.0 27463 3212\n",
      "col805 2489.0 27463 8\n",
      "col816 1.0 27463 12386\n",
      "col820 1.0 27463 7532\n",
      "col821 2418.0 27463 274\n",
      "col826 6282.0 27463 10\n",
      "col850 7248.5 27463 9\n",
      "col87 1.0 27463 6612\n",
      "col879 8188.5 27463 22\n",
      "col88 1.0 27463 292\n",
      "col887 1.5 27463 59\n",
      "col9 3.5 27463 33\n",
      "col900 1.0 27463 9050\n",
      "col924 5219.5 27463 12\n",
      "col925 6591.5 27463 22\n",
      "col928 10883.0 27463 8\n",
      "col950 10953.5 27463 10\n",
      "col965 2106.0 27463 62\n",
      "col975 11219.5 27463 8\n",
      "col986 1.5 27463 65\n",
      "col99 177.0 27463 3813\n",
      "col990 5717.5 27463 12\n",
      "col1184 4179.5 27463 21\n",
      "col3754 8609.5 27463 8\n"
     ]
    }
   ],
   "source": [
    "print('Transforming data')\n",
    "data = train.append(test)\n",
    "num_c = [ i for i in train.columns if len(data[i].unique()) != 2]\n",
    "cate_c = [ i for i in train.columns if len(data[i].unique()) == 2]\n",
    "df_all = train[num_c].append(test[num_c])\n",
    "df_all_org = df_all.copy()\n",
    "\n",
    "\n",
    "rank_org = rank_gauss(df_all)\n",
    "        \n",
    "rank_all_org = df_concat([rank_org,train[cate_c].append(test[cate_c])]).values\n",
    "\n"
   ]
  },
  {
   "cell_type": "code",
   "execution_count": 6,
   "metadata": {},
   "outputs": [],
   "source": [
    "\n",
    "import torch as th\n",
    "from torch import nn,optim\n",
    "from torch.autograd import Variable as V\n",
    "from torch.functional import F"
   ]
  },
  {
   "cell_type": "code",
   "execution_count": 7,
   "metadata": {},
   "outputs": [],
   "source": [
    "import torch as th\n",
    "from torch import nn,optim\n",
    "from torch.autograd import Variable as V\n",
    "from torch.functional import F\n",
    "class DAE(nn.Module):\n",
    "    def __init__(self,input_dim,output_dim):\n",
    "        super().__init__()\n",
    "        self.layer1 = nn.Linear(input_dim,1500)\n",
    "        self.layer2 = nn.Linear(1500,1500)\n",
    "        self.layer3 = nn.Linear(1500,1500)\n",
    "        self.layer4 = nn.Linear(1500,output_dim)\n",
    "    def forward(self,x, predict):\n",
    "        h1 = F.relu(self.layer1(x))\n",
    "        h2 = F.relu(self.layer2(h1))\n",
    "        h3 = F.relu(self.layer3(h2))\n",
    "        if predict:\n",
    "            return np.c_[h1.detach().numpy(),h2.detach().numpy(),h3.detach().numpy()]\n",
    "        return self.layer4(h3)\n",
    "input_dim = rank_all_org.shape[1]\n",
    "output_dim = rank_all_org.shape[1]\n",
    "model_dae = DAE(input_dim,output_dim)\n",
    "    "
   ]
  },
  {
   "cell_type": "code",
   "execution_count": 77,
   "metadata": {},
   "outputs": [
    {
     "data": {
      "text/plain": [
       "1.4261659861160893e-22"
      ]
     },
     "execution_count": 77,
     "metadata": {},
     "output_type": "execute_result"
    }
   ],
   "source": [
    "opt.state_dict()[\"param_groups\"][0][\"lr\"]"
   ]
  },
  {
   "cell_type": "code",
   "execution_count": 168,
   "metadata": {},
   "outputs": [],
   "source": [
    "from torch.optim.lr_scheduler import  LambdaLR\n",
    "opt = optim.Adam(model_dae.parameters())\n",
    "loss_f = nn.MSELoss()\n",
    "scheduler = LambdaLR(opt, lr_lambda = lambda i : 0.95**i)"
   ]
  },
  {
   "cell_type": "code",
   "execution_count": 169,
   "metadata": {},
   "outputs": [
    {
     "name": "stdout",
     "output_type": "stream",
     "text": [
      "now noising\n",
      "start rand\n",
      "finish rand\n"
     ]
    },
    {
     "ename": "KeyboardInterrupt",
     "evalue": "",
     "output_type": "error",
     "traceback": [
      "\u001b[0;31m---------------------------------------------------------------------------\u001b[0m",
      "\u001b[0;31mKeyboardInterrupt\u001b[0m                         Traceback (most recent call last)",
      "\u001b[0;32m<ipython-input-169-e4e5456aed31>\u001b[0m in \u001b[0;36m<module>\u001b[0;34m()\u001b[0m\n\u001b[1;32m     49\u001b[0m \u001b[0mDECAY\u001b[0m \u001b[0;34m=\u001b[0m \u001b[0;36m0.95\u001b[0m\u001b[0;34m\u001b[0m\u001b[0m\n\u001b[1;32m     50\u001b[0m \u001b[0;32mfor\u001b[0m \u001b[0mi\u001b[0m \u001b[0;32min\u001b[0m \u001b[0mrange\u001b[0m\u001b[0;34m(\u001b[0m\u001b[0;36m200\u001b[0m\u001b[0;34m)\u001b[0m\u001b[0;34m:\u001b[0m\u001b[0;34m\u001b[0m\u001b[0m\n\u001b[0;32m---> 51\u001b[0;31m     \u001b[0mall_noise\u001b[0m \u001b[0;34m=\u001b[0m \u001b[0mSwap_noise\u001b[0m\u001b[0;34m(\u001b[0m\u001b[0mrank_all_org\u001b[0m\u001b[0;34m)\u001b[0m\u001b[0;34m\u001b[0m\u001b[0m\n\u001b[0m\u001b[1;32m     52\u001b[0m     \u001b[0mall_org\u001b[0m \u001b[0;34m=\u001b[0m \u001b[0mrank_all_org\u001b[0m\u001b[0;34m\u001b[0m\u001b[0m\n\u001b[1;32m     53\u001b[0m     \u001b[0mtest_data_noise\u001b[0m\u001b[0;34m,\u001b[0m\u001b[0mtest_data_org\u001b[0m \u001b[0;34m=\u001b[0m \u001b[0mall_noise\u001b[0m\u001b[0;34m[\u001b[0m\u001b[0mntrain\u001b[0m\u001b[0;34m:\u001b[0m\u001b[0;34m,\u001b[0m\u001b[0;34m:\u001b[0m\u001b[0;34m]\u001b[0m\u001b[0;34m,\u001b[0m \u001b[0mall_org\u001b[0m\u001b[0;34m[\u001b[0m\u001b[0mntrain\u001b[0m\u001b[0;34m:\u001b[0m\u001b[0;34m,\u001b[0m\u001b[0;34m:\u001b[0m\u001b[0;34m]\u001b[0m\u001b[0;34m\u001b[0m\u001b[0m\n",
      "\u001b[0;32m<ipython-input-165-3714fe0e144c>\u001b[0m in \u001b[0;36mSwap_noise\u001b[0;34m(array)\u001b[0m\n\u001b[1;32m     29\u001b[0m     \u001b[0;32mfor\u001b[0m \u001b[0mh\u001b[0m \u001b[0;32min\u001b[0m \u001b[0mrange\u001b[0m\u001b[0;34m(\u001b[0m\u001b[0mheight\u001b[0m\u001b[0;34m)\u001b[0m\u001b[0;34m:\u001b[0m\u001b[0;34m\u001b[0m\u001b[0m\n\u001b[1;32m     30\u001b[0m         \u001b[0;32mfor\u001b[0m \u001b[0mw\u001b[0m \u001b[0;32min\u001b[0m \u001b[0mrange\u001b[0m\u001b[0;34m(\u001b[0m\u001b[0mwidth\u001b[0m\u001b[0;34m)\u001b[0m\u001b[0;34m:\u001b[0m\u001b[0;34m\u001b[0m\u001b[0m\n\u001b[0;32m---> 31\u001b[0;31m             \u001b[0;32mif\u001b[0m \u001b[0mrands\u001b[0m\u001b[0;34m[\u001b[0m\u001b[0mh\u001b[0m\u001b[0;34m,\u001b[0m \u001b[0mw\u001b[0m\u001b[0;34m]\u001b[0m \u001b[0;34m<=\u001b[0m \u001b[0;36m0.20\u001b[0m\u001b[0;34m:\u001b[0m\u001b[0;34m\u001b[0m\u001b[0m\n\u001b[0m\u001b[1;32m     32\u001b[0m                 \u001b[0mswap_target_h\u001b[0m \u001b[0;34m=\u001b[0m \u001b[0mrandom\u001b[0m\u001b[0;34m.\u001b[0m\u001b[0mrandint\u001b[0m\u001b[0;34m(\u001b[0m\u001b[0;36m0\u001b[0m\u001b[0;34m,\u001b[0m\u001b[0mheight\u001b[0m\u001b[0;34m)\u001b[0m\u001b[0;34m\u001b[0m\u001b[0m\n\u001b[1;32m     33\u001b[0m                 \u001b[0mcopy\u001b[0m\u001b[0;34m[\u001b[0m\u001b[0mh\u001b[0m\u001b[0;34m,\u001b[0m \u001b[0mw\u001b[0m\u001b[0;34m]\u001b[0m \u001b[0;34m=\u001b[0m \u001b[0marray\u001b[0m\u001b[0;34m[\u001b[0m\u001b[0mswap_target_h\u001b[0m\u001b[0;34m-\u001b[0m\u001b[0;36m1\u001b[0m\u001b[0;34m,\u001b[0m \u001b[0mw\u001b[0m\u001b[0;34m]\u001b[0m\u001b[0;34m\u001b[0m\u001b[0m\n",
      "\u001b[0;31mKeyboardInterrupt\u001b[0m: "
     ]
    }
   ],
   "source": [
    "\n",
    "import multiprocessing\n",
    "def create_batch1(x,y,batch_size,shuffle):\n",
    "    if shuffle:\n",
    "        a = list(range(len(x)))\n",
    "        np.random.shuffle(a)\n",
    "        x = x[a]\n",
    "        y = y[a]\n",
    "\n",
    "    batch_x = [x[batch_size * i : (i+1)*batch_size,:].tolist() for i in range(len(x)//batch_size)]\n",
    "    batch_y = [y[batch_size * i : (i+1)*batch_size,:].tolist() for i in range(len(x)//batch_size)]\n",
    "    return np.array(batch_x), np.array(batch_y)\n",
    "\n",
    "batch_size = 128\n",
    "def train_(trainx,trainy):\n",
    "    model_dae.train()\n",
    "    batch_x,batch_y = create_batch1(trainx,trainy,batch_size,True)\n",
    "    run_loss,pred = 0.,0\n",
    "    for x,y in zip(batch_x,batch_y):\n",
    "        opt.zero_grad()\n",
    "        x,y = V(th.Tensor(x)),V(th.Tensor(y))\n",
    "        output = model_dae(x,False)\n",
    "        loss = loss_f(output,y)\n",
    "        loss.backward()\n",
    "        opt.step()\n",
    "        run_loss += loss.item()\n",
    "    \n",
    "    return run_loss/(len(trainx)//batch_size)\n",
    "\n",
    "def valid_(valx,valy):\n",
    "    model_dae.eval()\n",
    "\n",
    "    batch_x,batch_y = create_batch1(valx,valy, batch_size,False)\n",
    "    run_loss = 0.\n",
    "    for x,y in zip(batch_x,batch_y):\n",
    "\n",
    "        x,y = th.Tensor(x),th.Tensor(y)\n",
    "        output = model_dae(x,False)\n",
    "\n",
    "        loss = loss_f(output,y)\n",
    "        run_loss += loss.item()\n",
    "\n",
    "    return run_loss/(len(valx)//batch_size)\n",
    "\n",
    "\n",
    "tr_losses,val_losses = [],[]\n",
    "tr_r2,te_r2 = [],[]\n",
    "ntrain = len(train)\n",
    "DECAY = 0.95\n",
    "for i in range(200):\n",
    "    all_noise = Swap_noise(rank_all_org)\n",
    "    all_org = rank_all_org\n",
    "    test_data_noise,test_data_org = all_noise[ntrain:,:], all_org[ntrain:,:]\n",
    "\n",
    "    for e in range(2):\n",
    "        tr_loss = train_(all_noise,all_org)\n",
    "        val_loss = valid_(test_data_noise,test_data_org)\n",
    "        tr_losses.append(tr_loss)\n",
    "        val_losses.append(val_loss)\n",
    "        print(e,tr_loss,val_loss)\n",
    "    scheduler.step()\n",
    "    print( opt.state_dict()[\"param_groups\"][0])\n",
    "    th.save(model_dae.state_dict(), '/Users/kenji/Desktop/github/Signate_try/takeda_yakuhin/notebooks/a.pth')"
   ]
  },
  {
   "cell_type": "code",
   "execution_count": 47,
   "metadata": {},
   "outputs": [
    {
     "data": {
      "text/plain": [
       "<All keys matched successfully>"
      ]
     },
     "execution_count": 47,
     "metadata": {},
     "output_type": "execute_result"
    }
   ],
   "source": [
    "m = th.load(\"../models/pickle_file/dae_498_0.003075277452383225.pth\",map_location=lambda x,y:x)\n",
    "model_dae.load_state_dict(m)"
   ]
  },
  {
   "cell_type": "code",
   "execution_count": 48,
   "metadata": {},
   "outputs": [],
   "source": [
    "model_dae.eval()\n",
    "dae_data = model_dae(th.Tensor(rank_all_org),True)\n"
   ]
  },
  {
   "cell_type": "code",
   "execution_count": 57,
   "metadata": {},
   "outputs": [],
   "source": [
    "tsne = feather.read_dataframe(\"../features/dae_tsne.feather\")"
   ]
  },
  {
   "cell_type": "code",
   "execution_count": 58,
   "metadata": {},
   "outputs": [],
   "source": [
    "dae_data = np.c_[train.append(test),tsne]#,pca1.append(pca2).values]"
   ]
  },
  {
   "cell_type": "code",
   "execution_count": 59,
   "metadata": {},
   "outputs": [],
   "source": [
    "ntrain = len(train)\n",
    "train_dae,test_dae = dae_data[:ntrain,:],dae_data[ntrain:,:]"
   ]
  },
  {
   "cell_type": "code",
   "execution_count": 60,
   "metadata": {},
   "outputs": [],
   "source": [
    "c = [f\"col_{i}\" for i in range(train_dae.shape[1])]"
   ]
  },
  {
   "cell_type": "code",
   "execution_count": 61,
   "metadata": {},
   "outputs": [],
   "source": [
    "tr_daedf= pd.DataFrame(train_dae,columns=c)\n",
    "te_daedf= pd.DataFrame(test_dae,columns=c)"
   ]
  },
  {
   "cell_type": "code",
   "execution_count": 50,
   "metadata": {},
   "outputs": [],
   "source": [
    "c = [f\"dae_tsne{i}\" for i in range(y.shape[1])]\n",
    "dae_data =pca1.append(pca2)\n",
    "dae_data.reset_index(inplace=True)\n",
    "del dae_data[\"index\"]\n",
    "dae_data.to_feather(\"../features/DAE.feather\")"
   ]
  },
  {
   "cell_type": "code",
   "execution_count": 62,
   "metadata": {},
   "outputs": [],
   "source": [
    "tr_daedf[\"Score\"] = score\n",
    "tr_daedf.to_feather(\"../data/input/train_daetsne.feather\")\n",
    "te_daedf.to_feather(\"../data/input/test_daetsne.feather\")"
   ]
  },
  {
   "cell_type": "code",
   "execution_count": 156,
   "metadata": {},
   "outputs": [],
   "source": [
    "import json\n",
    "del tr_daedf[\"Score\"]\n",
    "ff = tr_daedf.columns.values.tolist()\n",
    "features = {\"features\":ff, \"target_name\":\"Score\"}\n",
    "\n",
    "with open(\"../configs/config_kbest.json\",\"w\") as f:\n",
    "    json.dump(features,f)"
   ]
  },
  {
   "cell_type": "code",
   "execution_count": 197,
   "metadata": {},
   "outputs": [],
   "source": [
    "d = train.append(test)"
   ]
  },
  {
   "cell_type": "code",
   "execution_count": 16,
   "metadata": {},
   "outputs": [],
   "source": [
    "from sklearn.decomposition import PCA\n",
    "from sklearn.preprocessing import normalize\n",
    "from sklearn.preprocessing import StandardScaler\n",
    "\n",
    "#num_data =  df_concat([hist_int,np.round(dens_int,4),hist_fl,np.round(dens_fl,4)])\n",
    "#num_data = df_concat([fl_data, FE_f,])\n",
    "#num_data = df_concat([int_data, FE_i,])\n",
    "#num_data = df_concat([cate_data, FE_c,FE10_c])\n",
    "\n",
    "#stdsc = StandardScaler()\n",
    "#tr,te= dae_data[:13731,:],dae_data[13731:,:]\n",
    "#tr_std= stdsc.fit_transform(tr)\n",
    "# 訓練用データを基準にテストデータも標準化\n",
    "#te_std = stdsc.transform(te)\n",
    "\n",
    "def PCA_feature(X_train,X_test):\n",
    "\n",
    "    n_components = 300\n",
    "    pca = PCA(n_components=n_components)\n",
    "    x_train_projected = pca.fit_transform(X_train)\n",
    "    x_test_projected = pca.transform(X_test)\n",
    "    new1 = pd.DataFrame()\n",
    "    new2 = pd.DataFrame()\n",
    "    for npca in range(0, n_components):\n",
    "        new1['PCA_'+str(npca+1)] = x_train_projected[:, npca]\n",
    "        new2['PCA_'+str(npca+1)] = x_test_projected[:, npca]\n",
    "    new = new1.append(new2)\n",
    "    return new1,new2\n",
    "tr,te= dae_data.values[:13731,:],dae_data.values[13731:,:]\n",
    "pca1,pca2 = PCA_feature(tr,te)"
   ]
  },
  {
   "cell_type": "code",
   "execution_count": 206,
   "metadata": {},
   "outputs": [
    {
     "data": {
      "text/plain": [
       "0.65684927"
      ]
     },
     "execution_count": 206,
     "metadata": {},
     "output_type": "execute_result"
    },
    {
     "name": "stderr",
     "output_type": "stream",
     "text": [
      "/usr/local/lib/python3.7/site-packages/matplotlib/font_manager.py:1331: UserWarning: findfont: Font family ['IPAexGothic'] not found. Falling back to DejaVu Sans\n",
      "  (prop.get_family(), self.defaultFamily[fontext]))\n"
     ]
    },
    {
     "data": {
      "image/png": "[encoded data removed]",
      "text/plain": [
       "<Figure size 432x288 with 1 Axes>"
      ]
     },
     "metadata": {
      "needs_background": "light"
     },
     "output_type": "display_data"
    }
   ],
   "source": [
    "from sklearn.decomposition import PCA\n",
    "pca = PCA(n_components = 200)\n",
    "tr,te= dae_data[:13731,:],dae_data[13731:,:]\n",
    "pca.fit(tr)\n",
    "import matplotlib.pyplot as plt\n",
    "plt.bar([n for n in range(1, len(pca.explained_variance_ratio_)+1)], pca.explained_variance_ratio_)\n",
    "pca.explained_variance_ratio_.sum()"
   ]
  },
  {
   "cell_type": "code",
   "execution_count": 137,
   "metadata": {},
   "outputs": [
    {
     "data": {
      "text/plain": [
       "<matplotlib.collections.PathCollection at 0x12ff94470>"
      ]
     },
     "execution_count": 137,
     "metadata": {},
     "output_type": "execute_result"
    },
    {
     "name": "stderr",
     "output_type": "stream",
     "text": [
      "/usr/local/lib/python3.7/site-packages/matplotlib/font_manager.py:1331: UserWarning: findfont: Font family ['IPAexGothic'] not found. Falling back to DejaVu Sans\n",
      "  (prop.get_family(), self.defaultFamily[fontext]))\n"
     ]
    },
    {
     "data": {
      "image/png": "[encoded data removed]",
      "text/plain": [
       "<Figure size 432x288 with 1 Axes>"
      ]
     },
     "metadata": {
      "needs_background": "light"
     },
     "output_type": "display_data"
    }
   ],
   "source": [
    "plt.scatter(pca1.iloc[:,0],pca1.iloc[:,1])"
   ]
  },
  {
   "cell_type": "code",
   "execution_count": null,
   "metadata": {},
   "outputs": [],
   "source": [
    "dae_tr = feather.read_dataframe(\"../data/input/train_DAE.feather\")\n",
    "dae_te = feather.read_dataframe(\"../data/input/test_DAE.feather\")"
   ]
  },
  {
   "cell_type": "code",
   "execution_count": 51,
   "metadata": {},
   "outputs": [],
   "source": [
    "import sklearn.base\n",
    "from  bhtsne import tsne\n",
    "import numpy as np\n",
    "\n",
    "\n",
    "\n",
    "# 訓練用データを基準にテストデータも標準化\n",
    "\n",
    "\n",
    "y = tsne(dae_data.astype(\"float64\"),rand_seed=1103,dimensions=3,perplexity=30)"
   ]
  },
  {
   "cell_type": "code",
   "execution_count": 39,
   "metadata": {},
   "outputs": [
    {
     "ename": "NameError",
     "evalue": "name 'plt' is not defined",
     "output_type": "error",
     "traceback": [
      "\u001b[0;31m---------------------------------------------------------------------------\u001b[0m",
      "\u001b[0;31mNameError\u001b[0m                                 Traceback (most recent call last)",
      "\u001b[0;32m<ipython-input-39-7cb232223d07>\u001b[0m in \u001b[0;36m<module>\u001b[0;34m()\u001b[0m\n\u001b[0;32m----> 1\u001b[0;31m \u001b[0mplt\u001b[0m\u001b[0;34m.\u001b[0m\u001b[0mscatter\u001b[0m\u001b[0;34m(\u001b[0m\u001b[0my\u001b[0m\u001b[0;34m[\u001b[0m\u001b[0;34m:\u001b[0m\u001b[0;34m,\u001b[0m\u001b[0;36m2\u001b[0m\u001b[0;34m]\u001b[0m\u001b[0;34m,\u001b[0m\u001b[0my\u001b[0m\u001b[0;34m[\u001b[0m\u001b[0;34m:\u001b[0m\u001b[0;34m,\u001b[0m\u001b[0;36m0\u001b[0m\u001b[0;34m]\u001b[0m\u001b[0;34m)\u001b[0m\u001b[0;34m\u001b[0m\u001b[0m\n\u001b[0m",
      "\u001b[0;31mNameError\u001b[0m: name 'plt' is not defined"
     ]
    }
   ],
   "source": [
    "plt.scatter(y[:,2],y[:,0])"
   ]
  },
  {
   "cell_type": "code",
   "execution_count": 55,
   "metadata": {},
   "outputs": [],
   "source": [
    "new = pd.DataFrame(y,columns=[f\"tsne_{i}\" for i in range(3)])"
   ]
  },
  {
   "cell_type": "code",
   "execution_count": 56,
   "metadata": {},
   "outputs": [],
   "source": [
    "new.to_feather(\"../features/dae_tsne.feather\")"
   ]
  },
  {
   "cell_type": "code",
   "execution_count": null,
   "metadata": {},
   "outputs": [],
   "source": [
    "def rank_gauss(df):\n",
    "    for c in df.columns:\n",
    "        series = df[c].rank()\n",
    "        M = series.max()\n",
    "        m = series.min() \n",
    "        series = (series-m)/(M-m)\n",
    "        series = series - series.mean()\n",
    "        series = series.apply(erfinv) \n",
    "        df[c] = series\n",
    "    return df\n",
    "\n"
   ]
  },
  {
   "cell_type": "code",
   "execution_count": null,
   "metadata": {},
   "outputs": [],
   "source": []
  }
 ],
 "metadata": {
  "kernelspec": {
   "display_name": "Python 3",
   "language": "python",
   "name": "python3"
  },
  "language_info": {
   "codemirror_mode": {
    "name": "ipython",
    "version": 3
   },
   "file_extension": ".py",
   "mimetype": "text/x-python",
   "name": "python",
   "nbconvert_exporter": "python",
   "pygments_lexer": "ipython3",
   "version": "3.7.0"
  }
 },
 "nbformat": 4,
 "nbformat_minor": 2
}
