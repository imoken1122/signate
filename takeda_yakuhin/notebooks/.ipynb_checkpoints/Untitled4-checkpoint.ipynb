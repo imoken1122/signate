{
 "cells": [
  {
   "cell_type": "code",
   "execution_count": 2,
   "metadata": {},
   "outputs": [],
   "source": [
    "import pandas as pd\n",
    "import numpy as np\n",
    "import feather\n"
   ]
  },
  {
   "cell_type": "code",
   "execution_count": 195,
   "metadata": {},
   "outputs": [],
   "source": [
    "tr_cate = train[cate_score]\n",
    "te_cate =test[cate_score]"
   ]
  },
  {
   "cell_type": "code",
   "execution_count": 352,
   "metadata": {},
   "outputs": [],
   "source": [
    "train = feather.read_dataframe(\"../data/input/tr_best.feather\")\n",
    "test = feather.read_dataframe(\"../data/input/te_best.feather\")"
   ]
  },
  {
   "cell_type": "code",
   "execution_count": 224,
   "metadata": {},
   "outputs": [],
   "source": [
    "\n",
    "import json\n",
    "import numpy as np\n",
    "with open('../configs/Kbest_FE.json') as f:\n",
    "    df = json.load(f)\n",
    "fl_score = np.array(df[\"kbest_feature\"][\"float\"])\n",
    "int_score = np.array(df[\"kbest_feature\"][\"int\"])\n",
    "cate_score = np.array(df[\"kbest_feature\"][\"cate\"])"
   ]
  },
  {
   "cell_type": "code",
   "execution_count": 353,
   "metadata": {},
   "outputs": [],
   "source": [
    "score = train[\"Score\"]\n",
    "del train[\"index\"],test[\"index\"],train[\"Score\"]"
   ]
  },
  {
   "cell_type": "code",
   "execution_count": 111,
   "metadata": {},
   "outputs": [],
   "source": [
    "data = train.append(test)"
   ]
  },
  {
   "cell_type": "code",
   "execution_count": 113,
   "metadata": {},
   "outputs": [],
   "source": [
    "tr_int = train[int_score]\n",
    "te_int = test[int_score]\n",
    "tr_fl = train[fl_score]\n",
    "te_fl = test[fl_score]"
   ]
  },
  {
   "cell_type": "code",
   "execution_count": 118,
   "metadata": {},
   "outputs": [],
   "source": [
    "from sklearn.preprocessing import StandardScaler,MinMaxScaler\n",
    "def standard(train,test):\n",
    "    #stdsc = StandardScaler()\n",
    "    stdsc = MinMaxScaler()\n",
    "    std_tr = stdsc.fit_transform(train)\n",
    "    std_te = stdsc.transform(test)\n",
    "    return np.r_[std_tr,std_te]\n",
    "fl_data = standard(tr_fl,te_fl)"
   ]
  },
  {
   "cell_type": "code",
   "execution_count": 119,
   "metadata": {},
   "outputs": [],
   "source": [
    "int_data = standard(tr_int,te_int)"
   ]
  },
  {
   "cell_type": "code",
   "execution_count": 294,
   "metadata": {},
   "outputs": [
    {
     "name": "stderr",
     "output_type": "stream",
     "text": [
      "100%|██████████| 27463/27463 [00:05<00:00, 4737.82it/s]\n"
     ]
    }
   ],
   "source": [
    "from tqdm import tqdm\n",
    "\n",
    "def histgram_FE(data,dtypes):\n",
    "    bins = 100\n",
    "    new_arr = np.zeros((data.shape[0],bins))\n",
    "\n",
    "    for i in tqdm(range(len(data))):\n",
    "        tmp = data[i,:]\n",
    "        tmp = np.histogram(tmp,bins=bins)[0]  \n",
    "        new_arr[i,:] = tmp\n",
    "    col = [f\"{dtypes}_histgram_{i}\" for i in range(bins)]\n",
    "    new = pd.DataFrame(new_arr,columns=col)\n",
    "\n",
    "    return new\n",
    "hist_fl = histgram_FE(fl_data,\"float\")"
   ]
  },
  {
   "cell_type": "code",
   "execution_count": 295,
   "metadata": {},
   "outputs": [
    {
     "name": "stderr",
     "output_type": "stream",
     "text": [
      "100%|██████████| 27463/27463 [00:05<00:00, 5161.75it/s]\n"
     ]
    }
   ],
   "source": [
    "hist_int = histgram_FE(int_data,\"int\")"
   ]
  },
  {
   "cell_type": "code",
   "execution_count": 245,
   "metadata": {},
   "outputs": [
    {
     "name": "stderr",
     "output_type": "stream",
     "text": [
      "100%|██████████| 27463/27463 [00:22<00:00, 1240.80it/s]\n"
     ]
    }
   ],
   "source": [
    "import statsmodels.api as sm\n",
    "import matplotlib.pyplot as plt\n",
    "import warnings\n",
    "warnings.filterwarnings('ignore')\n",
    "def density_FE(data,dtyps):\n",
    "    new_arr = np.zeros((data.shape[0],64))\n",
    "    for i in tqdm(range(len(data))):\n",
    "        tmp = data[i,:]\n",
    "        kde_model = sm.nonparametric.KDEUnivariate(tmp)\n",
    "        kde_model.fit(fft = True,adjust=0.2,gridsize=50)#,clip = [0,20])\n",
    "        new_arr[i,:] = kde_model.density\n",
    "    col = [f\"{dtyps}_density_{i}\" for i in range(64)]\n",
    "    new = pd.DataFrame(new_arr,columns=col)\n",
    "    return new\n",
    "dens_int = density_FE(int_data[:],\"int\")"
   ]
  },
  {
   "cell_type": "code",
   "execution_count": 246,
   "metadata": {},
   "outputs": [
    {
     "name": "stderr",
     "output_type": "stream",
     "text": [
      "100%|██████████| 27463/27463 [00:21<00:00, 1284.24it/s]\n"
     ]
    }
   ],
   "source": [
    "dens_fl = density_FE(fl_data,\"float\")"
   ]
  },
  {
   "cell_type": "code",
   "execution_count": 244,
   "metadata": {},
   "outputs": [
    {
     "data": {
      "image/png": "[encoded data removed]",
      "text/plain": [
       "<Figure size 432x288 with 1 Axes>"
      ]
     },
     "metadata": {
      "needs_background": "light"
     },
     "output_type": "display_data"
    }
   ],
   "source": [
    "for i in range(1):\n",
    "    plt.plot(dens_int.iloc[i])"
   ]
  },
  {
   "cell_type": "code",
   "execution_count": 126,
   "metadata": {},
   "outputs": [],
   "source": [
    "def df_concat(flist):\n",
    "    add_columns = flist[0].columns.values.tolist()\n",
    "    add_df = flist[0].values\n",
    "    for i in flist[1:]:\n",
    "        add_columns += i.columns.values.tolist()\n",
    "        add_df = np.c_[add_df,i.values]\n",
    "    return pd.DataFrame(add_df,columns=add_columns)"
   ]
  },
  {
   "cell_type": "code",
   "execution_count": 325,
   "metadata": {},
   "outputs": [],
   "source": [
    "data = df_concat([hist_int,np.round(dens_int,4),hist_fl,np.round(dens_fl,4)])"
   ]
  },
  {
   "cell_type": "code",
   "execution_count": 368,
   "metadata": {},
   "outputs": [],
   "source": [
    "i = 27463//2\n",
    "tr,te = data.iloc[:i,:],data.iloc[i:,:]"
   ]
  },
  {
   "cell_type": "code",
   "execution_count": 369,
   "metadata": {},
   "outputs": [],
   "source": [
    "tr[\"Score\"] = score\n"
   ]
  },
  {
   "cell_type": "code",
   "execution_count": 370,
   "metadata": {},
   "outputs": [],
   "source": [
    "tr.reset_index(inplace = True)\n",
    "te.reset_index(inplace = True)\n",
    "tr.to_feather(\"../data/input/tr_hist.feather\")\n",
    "te.to_feather(\"../data/input/te_hist.feather\")"
   ]
  },
  {
   "cell_type": "code",
   "execution_count": 371,
   "metadata": {},
   "outputs": [],
   "source": [
    "import json\n",
    "del tr[\"index\"],tr[\"Score\"]\n",
    "ff = tr.columns.values.tolist()\n",
    "\n",
    "features = {\"features\":ff, \"target_name\":\"Score\"}\n",
    "\n",
    "with open(\"../configs/config_kbest_hist.json\",\"w\") as f:\n",
    "    json.dump(features,f)"
   ]
  },
  {
   "cell_type": "code",
   "execution_count": 301,
   "metadata": {},
   "outputs": [],
   "source": [
    "tr_lda = feather.read_dataframe(\"../features/l_d_a_feature_train.feather\")\n",
    "te_lda = feather.read_dataframe(\"../features/l_d_a_feature_test.feather\")"
   ]
  },
  {
   "cell_type": "code",
   "execution_count": 179,
   "metadata": {},
   "outputs": [],
   "source": [
    "all_st = feather.read_dataframe(\"../features/add_Alltype.feather\")\n",
    "tr_pca = feather.read_dataframe(\"../data/input/tr_best_pca__.feather\")\n",
    "te_pca = feather.read_dataframe(\"../data/input/te_best_pca__.feather\")"
   ]
  },
  {
   "cell_type": "code",
   "execution_count": 272,
   "metadata": {},
   "outputs": [],
   "source": [
    "FE_f = feather.read_dataframe(\"../features/add_float.feather\")\n",
    "FE_i = feather.read_dataframe(\"../features/add_int.feather\")"
   ]
  },
  {
   "cell_type": "code",
   "execution_count": 183,
   "metadata": {},
   "outputs": [],
   "source": [
    "pca = ['n_PCA_1', 'n_PCA_2',\n",
    "       'n_PCA_3', 'n_PCA_4', 'n_PCA_5', 'n_PCA_6', 'n_PCA_7', 'n_PCA_8',\n",
    "       'n_PCA_9', 'n_PCA_10', 'n_PCA_11', 'n_PCA_12', 'n_PCA_13',\n",
    "       'n_PCA_14', 'n_PCA_15', 'n_PCA_16', 'n_PCA_17', 'n_PCA_18',\n",
    "       'n_PCA_19', 'n_PCA_20']"
   ]
  },
  {
   "cell_type": "code",
   "execution_count": 184,
   "metadata": {},
   "outputs": [],
   "source": [
    "tr_pca = tr_pca[pca]\n",
    "te_pca = te_pca[pca]"
   ]
  },
  {
   "cell_type": "code",
   "execution_count": 346,
   "metadata": {},
   "outputs": [],
   "source": [
    "data1 = df_concat([pca_f,tr_pca.append(te_pca),tr_cate.append(te_cate),fe_i,fe_f])"
   ]
  },
  {
   "cell_type": "code",
   "execution_count": 282,
   "metadata": {},
   "outputs": [],
   "source": [
    "fe_i = FE_i.iloc[:,:100]\n",
    "fe_f = FE_f.iloc[:,:100]"
   ]
  },
  {
   "cell_type": "code",
   "execution_count": 289,
   "metadata": {},
   "outputs": [],
   "source": [
    "FE_c= feather.read_dataframe(\"../features/add_cate.feather\")"
   ]
  },
  {
   "cell_type": "code",
   "execution_count": 300,
   "metadata": {},
   "outputs": [
    {
     "data": {
      "text/plain": [
       "array(['dot_col1287_col1232', 'add_col1287_col1235',\n",
       "       'minus_col1287_col1235', 'dot_col1287_col1235',\n",
       "       'add_col1329_col88', 'minus_col1329_col88', 'dot_col1329_col88',\n",
       "       'add_col1329_col142', 'minus_col1329_col142', 'dot_col1329_col142',\n",
       "       'add_col1329_col153', 'minus_col1329_col153', 'dot_col1329_col153',\n",
       "       'add_col1329_col161', 'minus_col1329_col161', 'dot_col1329_col161',\n",
       "       'add_col1329_col162', 'minus_col1329_col162', 'dot_col1329_col162',\n",
       "       'add_col1329_col286', 'minus_col1329_col286', 'dot_col1329_col286',\n",
       "       'add_col1329_col463', 'minus_col1329_col463', 'dot_col1329_col463',\n",
       "       'add_col1329_col537', 'minus_col1329_col537', 'dot_col1329_col537',\n",
       "       'add_col1329_col746', 'minus_col1329_col746', 'dot_col1329_col746',\n",
       "       'add_col1329_col777', 'minus_col1329_col777', 'dot_col1329_col777',\n",
       "       'add_col1329_col793', 'minus_col1329_col793', 'dot_col1329_col793',\n",
       "       'add_col1329_col986', 'minus_col1329_col986', 'dot_col1329_col986',\n",
       "       'add_col1329_col1039', 'minus_col1329_col1039',\n",
       "       'dot_col1329_col1039', 'add_col1329_col1053',\n",
       "       'minus_col1329_col1053', 'dot_col1329_col1053',\n",
       "       'add_col1329_col1170', 'minus_col1329_col1170',\n",
       "       'dot_col1329_col1170', 'add_col1329_col1195',\n",
       "       'minus_col1329_col1195', 'dot_col1329_col1195',\n",
       "       'add_col1329_col1232', 'minus_col1329_col1232',\n",
       "       'dot_col1329_col1232', 'add_col1329_col1235',\n",
       "       'minus_col1329_col1235', 'dot_col1329_col1235',\n",
       "       'add_col1329_col1287', 'minus_col1329_col1287',\n",
       "       'dot_col1329_col1287', 'add_col1447_col88', 'minus_col1447_col88',\n",
       "       'dot_col1447_col88', 'add_col1447_col142', 'minus_col1447_col142',\n",
       "       'dot_col1447_col142', 'add_col1447_col153', 'minus_col1447_col153',\n",
       "       'dot_col1447_col153', 'add_col1447_col161', 'minus_col1447_col161',\n",
       "       'dot_col1447_col161', 'add_col1447_col162', 'minus_col1447_col162',\n",
       "       'dot_col1447_col162', 'add_col1447_col286', 'minus_col1447_col286',\n",
       "       'dot_col1447_col286', 'add_col1447_col463', 'minus_col1447_col463',\n",
       "       'dot_col1447_col463', 'add_col1447_col537', 'minus_col1447_col537',\n",
       "       'dot_col1447_col537', 'add_col1447_col746', 'minus_col1447_col746',\n",
       "       'dot_col1447_col746', 'add_col1447_col777', 'minus_col1447_col777',\n",
       "       'dot_col1447_col777', 'add_col1447_col793', 'minus_col1447_col793',\n",
       "       'dot_col1447_col793', 'add_col1447_col986', 'minus_col1447_col986',\n",
       "       'dot_col1447_col986', 'add_col1447_col1039',\n",
       "       'minus_col1447_col1039', 'dot_col1447_col1039',\n",
       "       'add_col1447_col1053', 'minus_col1447_col1053',\n",
       "       'dot_col1447_col1053', 'add_col1447_col1170',\n",
       "       'minus_col1447_col1170', 'dot_col1447_col1170',\n",
       "       'add_col1447_col1195', 'minus_col1447_col1195',\n",
       "       'dot_col1447_col1195', 'add_col1447_col1232',\n",
       "       'minus_col1447_col1232', 'dot_col1447_col1232',\n",
       "       'add_col1447_col1235', 'minus_col1447_col1235',\n",
       "       'dot_col1447_col1235', 'add_col1447_col1287',\n",
       "       'minus_col1447_col1287', 'dot_col1447_col1287',\n",
       "       'add_col1447_col1329', 'minus_col1447_col1329',\n",
       "       'dot_col1447_col1329', 'add_col1704_col88', 'minus_col1704_col88',\n",
       "       'dot_col1704_col88', 'add_col1704_col142', 'minus_col1704_col142',\n",
       "       'dot_col1704_col142', 'add_col1704_col153', 'minus_col1704_col153',\n",
       "       'dot_col1704_col153', 'add_col1704_col161', 'minus_col1704_col161',\n",
       "       'dot_col1704_col161', 'add_col1704_col162', 'minus_col1704_col162',\n",
       "       'dot_col1704_col162', 'add_col1704_col286', 'minus_col1704_col286',\n",
       "       'dot_col1704_col286', 'add_col1704_col463', 'minus_col1704_col463',\n",
       "       'dot_col1704_col463', 'add_col1704_col537', 'minus_col1704_col537',\n",
       "       'dot_col1704_col537', 'add_col1704_col746', 'minus_col1704_col746',\n",
       "       'dot_col1704_col746', 'add_col1704_col777', 'minus_col1704_col777',\n",
       "       'dot_col1704_col777', 'add_col1704_col793', 'minus_col1704_col793',\n",
       "       'dot_col1704_col793', 'add_col1704_col986', 'minus_col1704_col986',\n",
       "       'dot_col1704_col986', 'add_col1704_col1039',\n",
       "       'minus_col1704_col1039', 'dot_col1704_col1039',\n",
       "       'add_col1704_col1053', 'minus_col1704_col1053',\n",
       "       'dot_col1704_col1053', 'add_col1704_col1170',\n",
       "       'minus_col1704_col1170', 'dot_col1704_col1170',\n",
       "       'add_col1704_col1195', 'minus_col1704_col1195',\n",
       "       'dot_col1704_col1195', 'add_col1704_col1232',\n",
       "       'minus_col1704_col1232', 'dot_col1704_col1232',\n",
       "       'add_col1704_col1235', 'minus_col1704_col1235',\n",
       "       'add_col1704_col1287', 'minus_col1704_col1287',\n",
       "       'dot_col1704_col1287', 'add_col1704_col1329',\n",
       "       'minus_col1704_col1329', 'dot_col1704_col1329',\n",
       "       'add_col1704_col1447', 'minus_col1704_col1447',\n",
       "       'dot_col1704_col1447', 'add_col1725_col88', 'minus_col1725_col88',\n",
       "       'dot_col1725_col88', 'add_col1725_col142', 'minus_col1725_col142',\n",
       "       'dot_col1725_col142', 'add_col1725_col153', 'minus_col1725_col153',\n",
       "       'dot_col1725_col153', 'add_col1725_col161', 'minus_col1725_col161',\n",
       "       'dot_col1725_col161', 'add_col1725_col162', 'minus_col1725_col162',\n",
       "       'dot_col1725_col162', 'add_col1725_col286', 'minus_col1725_col286',\n",
       "       'dot_col1725_col286', 'add_col1725_col463', 'minus_col1725_col463',\n",
       "       'dot_col1725_col463', 'add_col1725_col537', 'minus_col1725_col537',\n",
       "       'dot_col1725_col537', 'add_col1725_col746', 'minus_col1725_col746',\n",
       "       'dot_col1725_col746', 'add_col1725_col777', 'minus_col1725_col777',\n",
       "       'dot_col1725_col777', 'add_col1725_col793', 'minus_col1725_col793',\n",
       "       'dot_col1725_col793', 'add_col1725_col986', 'minus_col1725_col986',\n",
       "       'dot_col1725_col986', 'add_col1725_col1039',\n",
       "       'minus_col1725_col1039', 'dot_col1725_col1039',\n",
       "       'add_col1725_col1053', 'minus_col1725_col1053',\n",
       "       'dot_col1725_col1053', 'add_col1725_col1170',\n",
       "       'minus_col1725_col1170', 'dot_col1725_col1170',\n",
       "       'add_col1725_col1195', 'minus_col1725_col1195',\n",
       "       'dot_col1725_col1195', 'add_col1725_col1232',\n",
       "       'minus_col1725_col1232', 'dot_col1725_col1232',\n",
       "       'add_col1725_col1235', 'minus_col1725_col1235',\n",
       "       'dot_col1725_col1235', 'add_col1725_col1287',\n",
       "       'minus_col1725_col1287', 'dot_col1725_col1287',\n",
       "       'add_col1725_col1329', 'minus_col1725_col1329',\n",
       "       'dot_col1725_col1329', 'add_col1725_col1447',\n",
       "       'minus_col1725_col1447', 'dot_col1725_col1447',\n",
       "       'add_col1725_col1704', 'minus_col1725_col1704',\n",
       "       'dot_col1725_col1704', 'add_col1741_col88', 'minus_col1741_col88',\n",
       "       'dot_col1741_col88', 'add_col1741_col142', 'minus_col1741_col142',\n",
       "       'dot_col1741_col142', 'add_col1741_col153', 'minus_col1741_col153',\n",
       "       'dot_col1741_col153', 'add_col1741_col161', 'minus_col1741_col161',\n",
       "       'dot_col1741_col161', 'add_col1741_col162', 'minus_col1741_col162',\n",
       "       'dot_col1741_col162', 'add_col1741_col286', 'minus_col1741_col286',\n",
       "       'dot_col1741_col286', 'add_col1741_col463', 'minus_col1741_col463',\n",
       "       'dot_col1741_col463', 'add_col1741_col537', 'minus_col1741_col537',\n",
       "       'dot_col1741_col537', 'add_col1741_col746', 'minus_col1741_col746',\n",
       "       'dot_col1741_col746', 'add_col1741_col777', 'minus_col1741_col777',\n",
       "       'dot_col1741_col777', 'add_col1741_col793', 'minus_col1741_col793',\n",
       "       'dot_col1741_col793', 'add_col1741_col986', 'minus_col1741_col986',\n",
       "       'dot_col1741_col986', 'add_col1741_col1039',\n",
       "       'minus_col1741_col1039', 'dot_col1741_col1039',\n",
       "       'add_col1741_col1053', 'minus_col1741_col1053',\n",
       "       'dot_col1741_col1053', 'add_col1741_col1170',\n",
       "       'minus_col1741_col1170', 'dot_col1741_col1170',\n",
       "       'add_col1741_col1195', 'minus_col1741_col1195',\n",
       "       'dot_col1741_col1195', 'add_col1741_col1232',\n",
       "       'minus_col1741_col1232', 'dot_col1741_col1232',\n",
       "       'add_col1741_col1235', 'minus_col1741_col1235',\n",
       "       'dot_col1741_col1235', 'add_col1741_col1287',\n",
       "       'minus_col1741_col1287', 'dot_col1741_col1287',\n",
       "       'add_col1741_col1329', 'minus_col1741_col1329',\n",
       "       'dot_col1741_col1329', 'add_col1741_col1447',\n",
       "       'minus_col1741_col1447', 'dot_col1741_col1447',\n",
       "       'add_col1741_col1704', 'minus_col1741_col1704',\n",
       "       'dot_col1741_col1704', 'add_col1741_col1725',\n",
       "       'minus_col1741_col1725', 'dot_col1741_col1725',\n",
       "       'add_col1991_col88', 'minus_col1991_col88', 'dot_col1991_col88',\n",
       "       'add_col1991_col142', 'minus_col1991_col142', 'dot_col1991_col142',\n",
       "       'add_col1991_col153', 'minus_col1991_col153', 'dot_col1991_col153',\n",
       "       'add_col1991_col161', 'minus_col1991_col161', 'dot_col1991_col161',\n",
       "       'add_col1991_col162', 'minus_col1991_col162', 'dot_col1991_col162',\n",
       "       'add_col1991_col286', 'minus_col1991_col286', 'dot_col1991_col286',\n",
       "       'add_col1991_col463', 'minus_col1991_col463', 'dot_col1991_col463',\n",
       "       'add_col1991_col537', 'minus_col1991_col537', 'dot_col1991_col537',\n",
       "       'add_col1991_col746', 'minus_col1991_col746', 'dot_col1991_col746',\n",
       "       'add_col1991_col777', 'minus_col1991_col777', 'dot_col1991_col777',\n",
       "       'add_col1991_col793', 'minus_col1991_col793', 'dot_col1991_col793',\n",
       "       'add_col1991_col986', 'minus_col1991_col986', 'dot_col1991_col986',\n",
       "       'add_col1991_col1039', 'minus_col1991_col1039',\n",
       "       'dot_col1991_col1039', 'add_col1991_col1053',\n",
       "       'minus_col1991_col1053', 'dot_col1991_col1053',\n",
       "       'add_col1991_col1170', 'minus_col1991_col1170',\n",
       "       'dot_col1991_col1170', 'add_col1991_col1195',\n",
       "       'minus_col1991_col1195', 'dot_col1991_col1195',\n",
       "       'add_col1991_col1232', 'minus_col1991_col1232',\n",
       "       'dot_col1991_col1232', 'add_col1991_col1235',\n",
       "       'minus_col1991_col1235', 'dot_col1991_col1235',\n",
       "       'add_col1991_col1287', 'minus_col1991_col1287',\n",
       "       'dot_col1991_col1287', 'add_col1991_col1329',\n",
       "       'minus_col1991_col1329', 'dot_col1991_col1329',\n",
       "       'add_col1991_col1447', 'minus_col1991_col1447',\n",
       "       'dot_col1991_col1447', 'add_col1991_col1704',\n",
       "       'minus_col1991_col1704', 'dot_col1991_col1704',\n",
       "       'add_col1991_col1725', 'minus_col1991_col1725',\n",
       "       'dot_col1991_col1725', 'add_col1991_col1741',\n",
       "       'minus_col1991_col1741', 'dot_col1991_col1741',\n",
       "       'add_col2143_col88', 'minus_col2143_col88', 'dot_col2143_col88',\n",
       "       'add_col2143_col142', 'minus_col2143_col142', 'dot_col2143_col142',\n",
       "       'add_col2143_col153', 'minus_col2143_col153', 'dot_col2143_col153',\n",
       "       'add_col2143_col161', 'minus_col2143_col161', 'dot_col2143_col161',\n",
       "       'add_col2143_col162', 'minus_col2143_col162', 'dot_col2143_col162',\n",
       "       'add_col2143_col286', 'minus_col2143_col286', 'dot_col2143_col286',\n",
       "       'add_col2143_col463', 'minus_col2143_col463', 'dot_col2143_col463',\n",
       "       'add_col2143_col537', 'minus_col2143_col537', 'dot_col2143_col537',\n",
       "       'add_col2143_col746', 'minus_col2143_col746', 'dot_col2143_col746',\n",
       "       'add_col2143_col777', 'minus_col2143_col777', 'dot_col2143_col777',\n",
       "       'add_col2143_col793', 'minus_col2143_col793', 'dot_col2143_col793',\n",
       "       'add_col2143_col986', 'minus_col2143_col986', 'dot_col2143_col986',\n",
       "       'add_col2143_col1039', 'minus_col2143_col1039',\n",
       "       'dot_col2143_col1039', 'add_col2143_col1053',\n",
       "       'minus_col2143_col1053', 'dot_col2143_col1053',\n",
       "       'add_col2143_col1170', 'minus_col2143_col1170',\n",
       "       'dot_col2143_col1170', 'add_col2143_col1195',\n",
       "       'minus_col2143_col1195', 'dot_col2143_col1195',\n",
       "       'add_col2143_col1232', 'minus_col2143_col1232',\n",
       "       'dot_col2143_col1232', 'add_col2143_col1235',\n",
       "       'minus_col2143_col1235', 'dot_col2143_col1235',\n",
       "       'add_col2143_col1287', 'minus_col2143_col1287',\n",
       "       'dot_col2143_col1287', 'add_col2143_col1329',\n",
       "       'minus_col2143_col1329', 'dot_col2143_col1329',\n",
       "       'add_col2143_col1447', 'minus_col2143_col1447',\n",
       "       'dot_col2143_col1447', 'add_col2143_col1704',\n",
       "       'minus_col2143_col1704', 'dot_col2143_col1704',\n",
       "       'add_col2143_col1725', 'minus_col2143_col1725',\n",
       "       'dot_col2143_col1725', 'add_col2143_col1741',\n",
       "       'minus_col2143_col1741', 'dot_col2143_col1741',\n",
       "       'add_col2143_col1991', 'minus_col2143_col1991',\n",
       "       'dot_col2143_col1991', 'add_col2349_col88', 'minus_col2349_col88',\n",
       "       'dot_col2349_col88', 'add_col2349_col142', 'minus_col2349_col142',\n",
       "       'dot_col2349_col142', 'add_col2349_col153', 'minus_col2349_col153',\n",
       "       'dot_col2349_col153', 'add_col2349_col161', 'minus_col2349_col161',\n",
       "       'dot_col2349_col161', 'add_col2349_col162', 'minus_col2349_col162',\n",
       "       'dot_col2349_col162', 'add_col2349_col286', 'minus_col2349_col286',\n",
       "       'dot_col2349_col286', 'add_col2349_col463', 'minus_col2349_col463',\n",
       "       'dot_col2349_col463', 'add_col2349_col537', 'minus_col2349_col537',\n",
       "       'dot_col2349_col537', 'add_col2349_col746', 'minus_col2349_col746',\n",
       "       'dot_col2349_col746', 'add_col2349_col777', 'minus_col2349_col777',\n",
       "       'dot_col2349_col777', 'add_col2349_col793', 'minus_col2349_col793',\n",
       "       'dot_col2349_col793', 'add_col2349_col986', 'minus_col2349_col986'],\n",
       "      dtype=object)"
      ]
     },
     "execution_count": 300,
     "metadata": {},
     "output_type": "execute_result"
    }
   ],
   "source": [
    "FE_i.columns.values[500:1000]"
   ]
  },
  {
   "cell_type": "code",
   "execution_count": 345,
   "metadata": {},
   "outputs": [],
   "source": [
    "from sklearn.decomposition import PCA\n",
    "from sklearn.preprocessing import normalize\n",
    "from sklearn.preprocessing import StandardScaler\n",
    "\n",
    "#num_data =  df_concat([hist_int,np.round(dens_int,4),hist_fl,np.round(dens_fl,4)])\n",
    "#num_data = df_concat([fl_data, FE_f,])\n",
    "#num_data = df_concat([int_data, FE_i,])\n",
    "#num_data = df_concat([cate_data, FE_c,FE10_c])\n",
    "\n",
    "stdsc = StandardScaler()\n",
    "#tr,te =num_data.iloc[:13731,:],num_data.iloc[13731:,:]\n",
    "tr,te = tr_lda,te_lda\n",
    "tr_std= stdsc.fit_transform(tr)\n",
    "# 訓練用データを基準にテストデータも標準化\n",
    "te_std = stdsc.transform(te)\n",
    "\n",
    "def PCA_feature(X_train,X_test):\n",
    "\n",
    "    n_components = 100\n",
    "    pca = PCA(n_components=n_components)\n",
    "    x_train_projected = pca.fit_transform(X_train)\n",
    "    x_test_projected = pca.transform(X_test)\n",
    "    new1 = pd.DataFrame()\n",
    "    new2 = pd.DataFrame()\n",
    "    for npca in range(0, n_components):\n",
    "        new1['lda_PCA_'+str(npca+1)] = x_train_projected[:, npca]\n",
    "        new2['lda_PCA_'+str(npca+1)] = x_test_projected[:, npca]\n",
    "    new = new1.append(new2)\n",
    "    return new\n",
    "pca_f = PCA_feature(tr_std,te_std)"
   ]
  },
  {
   "cell_type": "code",
   "execution_count": 344,
   "metadata": {},
   "outputs": [
    {
     "data": {
      "text/plain": [
       "<matplotlib.collections.PathCollection at 0x1215fa2b0>"
      ]
     },
     "execution_count": 344,
     "metadata": {},
     "output_type": "execute_result"
    },
    {
     "data": {
      "image/png": "[encoded data removed]",
      "text/plain": [
       "<Figure size 432x288 with 1 Axes>"
      ]
     },
     "metadata": {
      "needs_background": "light"
     },
     "output_type": "display_data"
    }
   ],
   "source": [
    "plt.scatter(pca_f.iloc[:,0],pca_f.iloc[:,1])"
   ]
  },
  {
   "cell_type": "code",
   "execution_count": 340,
   "metadata": {},
   "outputs": [
    {
     "data": {
      "text/plain": [
       "0.7180246259767846"
      ]
     },
     "execution_count": 340,
     "metadata": {},
     "output_type": "execute_result"
    },
    {
     "data": {
      "image/png": "[encoded data removed]",
      "text/plain": [
       "<Figure size 432x288 with 1 Axes>"
      ]
     },
     "metadata": {
      "needs_background": "light"
     },
     "output_type": "display_data"
    }
   ],
   "source": [
    "pca = PCA(n_components=100)\n",
    "pca.fit(tr_std)\n",
    "import matplotlib.pyplot as plt\n",
    "plt.bar([n for n in range(1, len(pca.explained_variance_ratio_)+1)], pca.explained_variance_ratio_)\n",
    "pca.explained_variance_ratio_.sum()"
   ]
  },
  {
   "cell_type": "code",
   "execution_count": 358,
   "metadata": {},
   "outputs": [],
   "source": [
    "data = standard(train,test)"
   ]
  },
  {
   "cell_type": "code",
   "execution_count": 361,
   "metadata": {},
   "outputs": [],
   "source": [
    "data = np.log1p(data)"
   ]
  },
  {
   "cell_type": "code",
   "execution_count": 365,
   "metadata": {},
   "outputs": [],
   "source": [
    "data = pd.DataFrame(data,columns=train.columns)"
   ]
  },
  {
   "cell_type": "code",
   "execution_count": null,
   "metadata": {},
   "outputs": [],
   "source": []
  }
 ],
 "metadata": {
  "kernelspec": {
   "display_name": "Python 3",
   "language": "python",
   "name": "python3"
  },
  "language_info": {
   "codemirror_mode": {
    "name": "ipython",
    "version": 3
   },
   "file_extension": ".py",
   "mimetype": "text/x-python",
   "name": "python",
   "nbconvert_exporter": "python",
   "pygments_lexer": "ipython3",
   "version": "3.7.0"
  }
 },
 "nbformat": 4,
 "nbformat_minor": 2
}
