{
 "cells": [
  {
   "cell_type": "code",
   "execution_count": 1,
   "metadata": {},
   "outputs": [],
   "source": [
    "import numpy as np\n",
    "import pandas as pd\n",
    "import feather\n"
   ]
  },
  {
   "cell_type": "code",
   "execution_count": 2,
   "metadata": {},
   "outputs": [],
   "source": [
    "train = feather.read_dataframe(\"../data/input/tr_best.feather\")\n",
    "test = feather.read_dataframe(\"../data/input/te_best.feather\")\n",
    "score = train.Score\n",
    "del test[\"index\"], train[\"Score\"],train[\"index\"], test[\"ID\"]"
   ]
  },
  {
   "cell_type": "code",
   "execution_count": 4,
   "metadata": {},
   "outputs": [],
   "source": [
    "\n",
    "import json\n",
    "import numpy as np\n",
    "with open('../configs/Kbest_FE.json') as f:\n",
    "    df = json.load(f)\n",
    "fl_score = np.array(df[\"kbest_feature\"][\"float\"])\n",
    "int_score = np.array(df[\"kbest_feature\"][\"int\"])\n",
    "cate_score = np.array(df[\"kbest_feature\"][\"cate\"])"
   ]
  },
  {
   "cell_type": "code",
   "execution_count": 24,
   "metadata": {},
   "outputs": [],
   "source": [
    "data = train.append(test)"
   ]
  },
  {
   "cell_type": "code",
   "execution_count": 26,
   "metadata": {},
   "outputs": [],
   "source": [
    "c = [i for i in train.columns if len(data[i].unique()) != 2]"
   ]
  },
  {
   "cell_type": "code",
   "execution_count": 27,
   "metadata": {},
   "outputs": [],
   "source": [
    "num_tr = train[c]\n",
    "num_te = test[c]"
   ]
  },
  {
   "cell_type": "code",
   "execution_count": 28,
   "metadata": {},
   "outputs": [],
   "source": [
    "def yao_transform(data):\n",
    "    new_yao = pd.DataFrame()\n",
    "    for i in data.columns:\n",
    "        new_yao[f\"{i}_yao\"] = data[i].map(lambda x : -np.log1p(-x) if x < 0 else np.log1p(x))\n",
    "    return new_yao\n",
    "yao_tr = yao_transform(num_tr)\n",
    "yao_te = yao_transform(num_te)"
   ]
  },
  {
   "cell_type": "code",
   "execution_count": 38,
   "metadata": {},
   "outputs": [],
   "source": [
    "from sklearn.preprocessing import StandardScaler\n",
    "\n",
    "std = StandardScaler()\n",
    "\n",
    "yao_std_tr = std.fit_transform(num_tr)\n",
    "yao_std_te= std.transform(num_te)"
   ]
  },
  {
   "cell_type": "code",
   "execution_count": 30,
   "metadata": {},
   "outputs": [],
   "source": [
    "cate_c = []\n",
    "for i in train.columns:\n",
    "    if i not in num_tr.columns:\n",
    "        cate_c.append(i)\n",
    "cate_tr = train[cate_c]\n",
    "cate_te = test[cate_c]"
   ]
  },
  {
   "cell_type": "code",
   "execution_count": 39,
   "metadata": {},
   "outputs": [],
   "source": [
    "tr = pd.DataFrame(yao_std_tr,columns=c)\n",
    "te = pd.DataFrame(yao_std_te,columns=c)\n"
   ]
  },
  {
   "cell_type": "code",
   "execution_count": 40,
   "metadata": {},
   "outputs": [],
   "source": [
    "def df_concat(flist):\n",
    "    add_columns = flist[0].columns.values.tolist()\n",
    "    add_df = flist[0].values\n",
    "    for i in flist[1:]:\n",
    "        add_columns += i.columns.values.tolist()\n",
    "        add_df = np.c_[add_df,i.values]\n",
    "\n",
    "    return pd.DataFrame(add_df,columns=add_columns)\n",
    "    \n",
    "tr = df_concat([tr,cate_tr])\n",
    "te = df_concat([te,cate_te])"
   ]
  },
  {
   "cell_type": "code",
   "execution_count": 48,
   "metadata": {},
   "outputs": [],
   "source": [
    "train = feather.read_dataframe(\"../data/input/train_umap.feather\")\n",
    "test = feather.read_dataframe(\"../data/input/test_umap.feather\")"
   ]
  },
  {
   "cell_type": "code",
   "execution_count": 49,
   "metadata": {},
   "outputs": [],
   "source": [
    "del train[\"Score\"]"
   ]
  },
  {
   "cell_type": "code",
   "execution_count": 24,
   "metadata": {},
   "outputs": [
    {
     "data": {
      "text/plain": [
       "'2019/10/04/13:49'"
      ]
     },
     "execution_count": 24,
     "metadata": {},
     "output_type": "execute_result"
    }
   ],
   "source": [
    "a.strftime('%Y/%m/%d/%H:%M')"
   ]
  },
  {
   "cell_type": "code",
   "execution_count": 19,
   "metadata": {},
   "outputs": [
    {
     "data": {
      "text/plain": [
       "datetime.date(2019, 10, 4)"
      ]
     },
     "execution_count": 19,
     "metadata": {},
     "output_type": "execute_result"
    }
   ],
   "source": [
    "a.date()"
   ]
  },
  {
   "cell_type": "code",
   "execution_count": 51,
   "metadata": {},
   "outputs": [],
   "source": [
    "train.to_feather(\"../data/input/stack/train_umap.feather\")\n",
    "test.to_feather(\"../data/input/stack/test_umap.feather\")\n"
   ]
  },
  {
   "cell_type": "code",
   "execution_count": 64,
   "metadata": {},
   "outputs": [],
   "source": [
    "tr_pca = feather.read_dataframe(\"../data/input/tr_best_pca__.feather\")\n",
    "te_pca = feather.read_dataframe(\"../data/input/te_best_pca__.feather\")"
   ]
  },
  {
   "cell_type": "code",
   "execution_count": 66,
   "metadata": {},
   "outputs": [],
   "source": [
    "tr_pca = tr_pca.loc[:,'n_PCA_1':'n_PCA_18']"
   ]
  },
  {
   "cell_type": "code",
   "execution_count": 67,
   "metadata": {},
   "outputs": [],
   "source": [
    "tr_pca = df_concat([train,tr_pca])\n",
    "te_pca = df_concat([test,te_pca])"
   ]
  },
  {
   "cell_type": "code",
   "execution_count": 68,
   "metadata": {},
   "outputs": [],
   "source": [
    "tr_pca.to_feather(\"../data/input/stack/tr_pca.feather\")\n",
    "te_pca.to_feather(\"../data/input/stack/te_pca.feather\")"
   ]
  },
  {
   "cell_type": "code",
   "execution_count": 77,
   "metadata": {},
   "outputs": [
    {
     "ename": "ArrowIOError",
     "evalue": "Failed to open local file 'data/input/stack/te_pca.feather', error: No such file or directory",
     "output_type": "error",
     "traceback": [
      "\u001b[0;31m---------------------------------------------------------------------------\u001b[0m",
      "\u001b[0;31mArrowIOError\u001b[0m                              Traceback (most recent call last)",
      "\u001b[0;32m<ipython-input-77-b9b1a511c19c>\u001b[0m in \u001b[0;36m<module>\u001b[0;34m()\u001b[0m\n\u001b[1;32m      1\u001b[0m \u001b[0mpca_tr\u001b[0m \u001b[0;34m=\u001b[0m \u001b[0mfeather\u001b[0m\u001b[0;34m.\u001b[0m\u001b[0mread_dataframe\u001b[0m\u001b[0;34m(\u001b[0m\u001b[0;34m\"../data/input/stack/tr_pca.feather\"\u001b[0m\u001b[0;34m)\u001b[0m\u001b[0;34m\u001b[0m\u001b[0m\n\u001b[0;32m----> 2\u001b[0;31m \u001b[0mpca_te\u001b[0m \u001b[0;34m=\u001b[0m \u001b[0mfeather\u001b[0m\u001b[0;34m.\u001b[0m\u001b[0mread_dataframe\u001b[0m\u001b[0;34m(\u001b[0m\u001b[0;34m\"data/input/stack/te_pca.feather\"\u001b[0m\u001b[0;34m)\u001b[0m\u001b[0;34m\u001b[0m\u001b[0m\n\u001b[0m\u001b[1;32m      3\u001b[0m \u001b[0mtsne_tr\u001b[0m \u001b[0;34m=\u001b[0m \u001b[0mfeather\u001b[0m\u001b[0;34m.\u001b[0m\u001b[0mread_dataframe\u001b[0m\u001b[0;34m(\u001b[0m\u001b[0;34m\"data/input/stack/tr_tSNE.feather\"\u001b[0m\u001b[0;34m)\u001b[0m\u001b[0;34m\u001b[0m\u001b[0m\n\u001b[1;32m      4\u001b[0m \u001b[0mtsne_te\u001b[0m \u001b[0;34m=\u001b[0m \u001b[0mfeather\u001b[0m\u001b[0;34m.\u001b[0m\u001b[0mread_dataframe\u001b[0m\u001b[0;34m(\u001b[0m\u001b[0;34m\"data/input/stack/te_tSNE.feather\"\u001b[0m\u001b[0;34m)\u001b[0m\u001b[0;34m\u001b[0m\u001b[0m\n",
      "\u001b[0;32m/usr/local/lib/python3.7/site-packages/pyarrow/feather.py\u001b[0m in \u001b[0;36mread_feather\u001b[0;34m(source, columns, use_threads)\u001b[0m\n\u001b[1;32m    211\u001b[0m     \u001b[0mdf\u001b[0m \u001b[0;34m:\u001b[0m \u001b[0mpandas\u001b[0m\u001b[0;34m.\u001b[0m\u001b[0mDataFrame\u001b[0m\u001b[0;34m\u001b[0m\u001b[0m\n\u001b[1;32m    212\u001b[0m     \"\"\"\n\u001b[0;32m--> 213\u001b[0;31m     \u001b[0mreader\u001b[0m \u001b[0;34m=\u001b[0m \u001b[0mFeatherReader\u001b[0m\u001b[0;34m(\u001b[0m\u001b[0msource\u001b[0m\u001b[0;34m)\u001b[0m\u001b[0;34m\u001b[0m\u001b[0m\n\u001b[0m\u001b[1;32m    214\u001b[0m     \u001b[0;32mreturn\u001b[0m \u001b[0mreader\u001b[0m\u001b[0;34m.\u001b[0m\u001b[0mread_pandas\u001b[0m\u001b[0;34m(\u001b[0m\u001b[0mcolumns\u001b[0m\u001b[0;34m=\u001b[0m\u001b[0mcolumns\u001b[0m\u001b[0;34m,\u001b[0m \u001b[0muse_threads\u001b[0m\u001b[0;34m=\u001b[0m\u001b[0muse_threads\u001b[0m\u001b[0;34m)\u001b[0m\u001b[0;34m\u001b[0m\u001b[0m\n\u001b[1;32m    215\u001b[0m \u001b[0;34m\u001b[0m\u001b[0m\n",
      "\u001b[0;32m/usr/local/lib/python3.7/site-packages/pyarrow/feather.py\u001b[0m in \u001b[0;36m__init__\u001b[0;34m(self, source)\u001b[0m\n\u001b[1;32m     38\u001b[0m         \u001b[0m_check_pandas_version\u001b[0m\u001b[0;34m(\u001b[0m\u001b[0;34m)\u001b[0m\u001b[0;34m\u001b[0m\u001b[0m\n\u001b[1;32m     39\u001b[0m         \u001b[0mself\u001b[0m\u001b[0;34m.\u001b[0m\u001b[0msource\u001b[0m \u001b[0;34m=\u001b[0m \u001b[0msource\u001b[0m\u001b[0;34m\u001b[0m\u001b[0m\n\u001b[0;32m---> 40\u001b[0;31m         \u001b[0mself\u001b[0m\u001b[0;34m.\u001b[0m\u001b[0mopen\u001b[0m\u001b[0;34m(\u001b[0m\u001b[0msource\u001b[0m\u001b[0;34m)\u001b[0m\u001b[0;34m\u001b[0m\u001b[0m\n\u001b[0m\u001b[1;32m     41\u001b[0m \u001b[0;34m\u001b[0m\u001b[0m\n\u001b[1;32m     42\u001b[0m     \u001b[0;32mdef\u001b[0m \u001b[0mread_table\u001b[0m\u001b[0;34m(\u001b[0m\u001b[0mself\u001b[0m\u001b[0;34m,\u001b[0m \u001b[0mcolumns\u001b[0m\u001b[0;34m=\u001b[0m\u001b[0;32mNone\u001b[0m\u001b[0;34m)\u001b[0m\u001b[0;34m:\u001b[0m\u001b[0;34m\u001b[0m\u001b[0m\n",
      "\u001b[0;32m/usr/local/lib/python3.7/site-packages/pyarrow/feather.pxi\u001b[0m in \u001b[0;36mpyarrow.lib.FeatherReader.open\u001b[0;34m()\u001b[0m\n",
      "\u001b[0;32m/usr/local/lib/python3.7/site-packages/pyarrow/io.pxi\u001b[0m in \u001b[0;36mpyarrow.lib.get_reader\u001b[0;34m()\u001b[0m\n",
      "\u001b[0;32m/usr/local/lib/python3.7/site-packages/pyarrow/io.pxi\u001b[0m in \u001b[0;36mpyarrow.lib._get_native_file\u001b[0;34m()\u001b[0m\n",
      "\u001b[0;32m/usr/local/lib/python3.7/site-packages/pyarrow/io.pxi\u001b[0m in \u001b[0;36mpyarrow.lib.memory_map\u001b[0;34m()\u001b[0m\n",
      "\u001b[0;32m/usr/local/lib/python3.7/site-packages/pyarrow/io.pxi\u001b[0m in \u001b[0;36mpyarrow.lib.MemoryMappedFile._open\u001b[0;34m()\u001b[0m\n",
      "\u001b[0;32m/usr/local/lib/python3.7/site-packages/pyarrow/error.pxi\u001b[0m in \u001b[0;36mpyarrow.lib.check_status\u001b[0;34m()\u001b[0m\n",
      "\u001b[0;31mArrowIOError\u001b[0m: Failed to open local file 'data/input/stack/te_pca.feather', error: No such file or directory"
     ]
    }
   ],
   "source": [
    "pca_tr = feather.read_dataframe(\"../data/input/stack/tr_pca.feather\")\n",
    "pca_te = feather.read_dataframe(\"data/input/stack/te_pca.feather\")\n",
    "tsne_tr = feather.read_dataframe(\"data/input/stack/tr_tSNE.feather\")\n",
    "tsne_te = feather.read_dataframe(\"data/input/stack/te_tSNE.feather\")"
   ]
  },
  {
   "cell_type": "code",
   "execution_count": 108,
   "metadata": {},
   "outputs": [],
   "source": [
    "all_ = feather.read_dataframe(\"../features/add_Alltype.feather\")\n"
   ]
  },
  {
   "cell_type": "code",
   "execution_count": 553,
   "metadata": {},
   "outputs": [],
   "source": [
    "\n",
    "bins_stack = pd.DataFrame()\n",
    "for i in stack.columns:\n",
    "    bins_stack[f\"bins_{i}\"] = pd.cut(stack[i],bins=15,labels=False)"
   ]
  },
  {
   "cell_type": "code",
   "execution_count": 554,
   "metadata": {},
   "outputs": [],
   "source": [
    "def freq_encoing(data):\n",
    "    new = pd.DataFrame()\n",
    "    l = len(data)\n",
    "    for i in data.columns:\n",
    "        tmp = data.groupby(i).size()\n",
    "        tmp = tmp/l\n",
    "        new[f\"{i}_FreqEnc\"] = data[i].map(tmp)\n",
    "        \n",
    "    return new\n",
    "freq_stack= freq_encoing(bins_stack)"
   ]
  },
  {
   "cell_type": "code",
   "execution_count": 111,
   "metadata": {},
   "outputs": [],
   "source": [
    "i = 27463//2\n",
    "all_tr, all_te = all_.iloc[:i,],all_.iloc[i:,:]"
   ]
  },
  {
   "cell_type": "code",
   "execution_count": 118,
   "metadata": {},
   "outputs": [],
   "source": [
    "for i in all_tr.columns:\n",
    "    if len(all_tr[i].unique()) == 1:\n",
    "        del all_tr[i],all_te[i]"
   ]
  },
  {
   "cell_type": "code",
   "execution_count": 122,
   "metadata": {},
   "outputs": [],
   "source": [
    "tr = df_concat([train,all_tr,freq_all_tr])\n",
    "te = df_concat([test,all_te,freq_all_te])"
   ]
  },
  {
   "cell_type": "code",
   "execution_count": 123,
   "metadata": {},
   "outputs": [],
   "source": [
    "tr[\"Score\"] = score\n",
    "tr.to_feather(\"../data/input/tr_statsfreq.feather\")\n",
    "te.to_feather(\"../data/input/te_statsfreq.feather\")"
   ]
  },
  {
   "cell_type": "code",
   "execution_count": 125,
   "metadata": {},
   "outputs": [],
   "source": [
    "import json\n",
    "del tr[\"Score\"]\n",
    "ff = tr.columns.values.tolist()\n",
    "features = {\"features\":ff, \"target_name\":\"Score\"}\n",
    "\n",
    "with open(\"../configs/config_kbest_statsfreq.json\",\"w\") as f:\n",
    "    json.dump(features,f)\n"
   ]
  },
  {
   "cell_type": "code",
   "execution_count": 25,
   "metadata": {},
   "outputs": [],
   "source": [
    "import feather"
   ]
  },
  {
   "cell_type": "code",
   "execution_count": 26,
   "metadata": {},
   "outputs": [
    {
     "ename": "NameError",
     "evalue": "name 'tr' is not defined",
     "output_type": "error",
     "traceback": [
      "\u001b[0;31m---------------------------------------------------------------------------\u001b[0m",
      "\u001b[0;31mNameError\u001b[0m                                 Traceback (most recent call last)",
      "\u001b[0;32m<ipython-input-26-9b8eec1fd974>\u001b[0m in \u001b[0;36m<module>\u001b[0;34m()\u001b[0m\n\u001b[0;32m----> 1\u001b[0;31m \u001b[0mtr\u001b[0m\u001b[0;34m\u001b[0m\u001b[0m\n\u001b[0m",
      "\u001b[0;31mNameError\u001b[0m: name 'tr' is not defined"
     ]
    }
   ],
   "source": [
    "tr"
   ]
  },
  {
   "cell_type": "code",
   "execution_count": 34,
   "metadata": {},
   "outputs": [],
   "source": [
    "train.to_feather(\"../test.feather\")"
   ]
  },
  {
   "cell_type": "code",
   "execution_count": 35,
   "metadata": {},
   "outputs": [],
   "source": [
    "train = feather.read_dataframe(\"../data/input/tr_best_allst.feather\")\n",
    "test = feather.read_dataframe(\"../data/input/te_best_allst.feather\")"
   ]
  },
  {
   "cell_type": "code",
   "execution_count": 37,
   "metadata": {},
   "outputs": [],
   "source": [
    "s = train[\"Score\"]\n",
    "del train[\"index\"],test[\"index\"],train[\"Score\"]"
   ]
  },
  {
   "cell_type": "code",
   "execution_count": 39,
   "metadata": {},
   "outputs": [
    {
     "name": "stderr",
     "output_type": "stream",
     "text": [
      "100%|██████████| 527/527 [00:00<00:00, 17066.08it/s]\n"
     ]
    }
   ],
   "source": [
    "#int drop\n",
    "from tqdm import tqdm\n",
    "train,test = train,test\n",
    "#分散＝０\n",
    "constant = []\n",
    "for col in train.columns:\n",
    "    if col != \"Score\" or col != \"ID\":\n",
    "        if train[col].std() == 0:\n",
    "            constant.append(col)\n",
    "train1 = train.drop(columns=constant,axis=1)\n",
    "test1 = test.drop(columns=constant,axis=1)\n",
    "\n",
    "\n",
    "            \n",
    "#ダブり\n",
    "aa = []\n",
    "for i in tqdm(train1.columns):\n",
    "    if train1[i].dtype != \"object\":\n",
    "        aa.append(i)\n",
    "duplicate_f = train1[aa].T[train1[aa].T.duplicated()].index.values\n",
    "train1.drop(duplicate_f,axis=1,inplace=True)\n",
    "test1.drop(duplicate_f,axis=1,inplace=True)\n",
    "int_train,int_test = train1,test1"
   ]
  },
  {
   "cell_type": "code",
   "execution_count": 40,
   "metadata": {},
   "outputs": [
    {
     "data": {
      "text/plain": [
       "(13731, 536)"
      ]
     },
     "execution_count": 40,
     "metadata": {},
     "output_type": "execute_result"
    }
   ],
   "source": [
    "train.shape"
   ]
  },
  {
   "cell_type": "code",
   "execution_count": 45,
   "metadata": {},
   "outputs": [],
   "source": [
    "int_train.to_feather(\"../data/input/stack/tr_allst.feather\")\n",
    "int_test.to_feather(\"../data/input/stack/te_allst.feather\")"
   ]
  },
  {
   "cell_type": "code",
   "execution_count": 44,
   "metadata": {},
   "outputs": [],
   "source": [
    "del int_test[\"ID\"]"
   ]
  },
  {
   "cell_type": "code",
   "execution_count": 46,
   "metadata": {},
   "outputs": [],
   "source": [
    "train = feather.read_dataframe(\"../data/input/stack/tr_pca.feather\")\n",
    "test = feather.read_dataframe(\"../data/input/stack/te_pca.feather\")"
   ]
  },
  {
   "cell_type": "code",
   "execution_count": 68,
   "metadata": {},
   "outputs": [],
   "source": [
    "a = feather.read_dataframe(\"/Users/kenji/Desktop/stack_feature1/train/train_KNeighborsRegressor10-04-05:43.feather\")"
   ]
  },
  {
   "cell_type": "code",
   "execution_count": 259,
   "metadata": {},
   "outputs": [],
   "source": []
  },
  {
   "cell_type": "code",
   "execution_count": 291,
   "metadata": {},
   "outputs": [
    {
     "name": "stderr",
     "output_type": "stream",
     "text": [
      "100%|██████████| 29/29 [00:00<00:00, 2611.93it/s]\n"
     ]
    }
   ],
   "source": [
    "corr = set()\n",
    "corr_matrix =stack.corr()\n",
    "for i in tqdm(range(len(corr_matrix.columns))):\n",
    "    for j in range(i):\n",
    "        if abs(corr_matrix.iloc[i,j]) > 0.95:\n",
    "            corr.add(corr_matrix.columns[i])\n",
    "stack.drop(corr,axis=1,inplace=True)\n",
    "#test1.drop(corr,axis=1,inplace=True)"
   ]
  },
  {
   "cell_type": "code",
   "execution_count": 186,
   "metadata": {},
   "outputs": [
    {
     "name": "stderr",
     "output_type": "stream",
     "text": [
      "100%|██████████| 33/33 [00:00<00:00, 218.59it/s]\n"
     ]
    }
   ],
   "source": [
    "from scipy.stats import ks_2samp\n",
    "from tqdm import tqdm\n",
    "list_p_value =[]\n",
    "\n",
    "for i in tqdm(stack_tr.columns):\n",
    "    list_p_value.append(ks_2samp(stack_te[i] , stack_tr[i])[1])\n",
    "\n",
    "Se = pd.Series(list_p_value, index = stack_tr.columns).sort_values() \n",
    "list_discarded = list(Se[Se < .1].index)"
   ]
  },
  {
   "cell_type": "code",
   "execution_count": 385,
   "metadata": {},
   "outputs": [],
   "source": [
    "from sklearn.preprocessing import normalize\n",
    "from sklearn.preprocessing import StandardScaler\n",
    "\n",
    "def PCA_feature(data,typ):\n",
    "\n",
    "    n_components = 0\n",
    "    pca = PCA(n_components=n_components)\n",
    "    X_train,X_test = data.iloc[:13731,:],data.iloc[13731:,:]\n",
    "    x_train_projected = pca.fit_transform(X_train)\n",
    "    x_test_projected = pca.transform(X_test)\n",
    "    new1 = pd.DataFrame()\n",
    "    new2 = pd.DataFrame()\n",
    "    for npca in range(0, n_components):\n",
    "        new1[f'{typ}frq_PCA_'+str(npca+1)] = x_train_projected[:, npca]\n",
    "        new2[f'{typ}frq_PCA_'+str(npca+1)] = x_test_projected[:, npca]\n",
    "    new = new1.append(new2)\n",
    "    return new\n",
    "pca = PCA_feature(h_tr.append(h_te),\"hi\")"
   ]
  },
  {
   "cell_type": "code",
   "execution_count": 383,
   "metadata": {},
   "outputs": [
    {
     "data": {
      "text/plain": [
       "0.8820839250421293"
      ]
     },
     "execution_count": 383,
     "metadata": {},
     "output_type": "execute_result"
    },
    {
     "name": "stderr",
     "output_type": "stream",
     "text": [
      "/usr/local/lib/python3.7/site-packages/matplotlib/font_manager.py:1331: UserWarning: findfont: Font family ['IPAexGothic'] not found. Falling back to DejaVu Sans\n",
      "  (prop.get_family(), self.defaultFamily[fontext]))\n"
     ]
    },
    {
     "data": {
      "image/png": "[encoded data removed]",
      "text/plain": [
       "<Figure size 432x288 with 1 Axes>"
      ]
     },
     "metadata": {
      "needs_background": "light"
     },
     "output_type": "display_data"
    }
   ],
   "source": [
    "from sklearn.decomposition import PCA\n",
    "pca = PCA(n_components = 2)\n",
    "pca.fit(stack_tr)\n",
    "import matplotlib.pyplot as plt\n",
    "plt.bar([n for n in range(1, len(pca.explained_variance_ratio_)+1)], pca.explained_variance_ratio_)\n",
    "pca.explained_variance_ratio_.sum()"
   ]
  },
  {
   "cell_type": "code",
   "execution_count": 4,
   "metadata": {},
   "outputs": [],
   "source": [
    "#dae_data =  feather.read_dataframe(\"../features/DAE_p2.feather\")\n",
    "#dae_data =  feather.read_dataframe(\"../features/DAE_p2_pca.feather\")\n",
    "dae_data = feather.read_dataframe(\"../features/dae_tsne.feather\")\n",
    "daeumap_data = feather.read_dataframe(\"../features/DAE_umap.feather\")"
   ]
  },
  {
   "cell_type": "code",
   "execution_count": 123,
   "metadata": {},
   "outputs": [],
   "source": [
    "st_all = feather.read_dataframe(\"../features/add_Alltype.feather\")"
   ]
  },
  {
   "cell_type": "code",
   "execution_count": 124,
   "metadata": {},
   "outputs": [],
   "source": [
    "dae_tr = feather.read_dataframe(\"../data/input/train_daetsne.feather\")\n",
    "dae_te = feather.read_dataframe(\"../data/input/test_daetsne.feather\")"
   ]
  },
  {
   "cell_type": "code",
   "execution_count": 275,
   "metadata": {},
   "outputs": [],
   "source": [
    "h_tr = feather.read_dataframe(\"../data/input/stack/train_hierarchal.feather\")\n",
    "h_te = feather.read_dataframe(\"../data/input/stack/test_hierarchal.feather\")"
   ]
  },
  {
   "cell_type": "code",
   "execution_count": 276,
   "metadata": {},
   "outputs": [],
   "source": [
    "h_tr = h_tr.loc[:,\"col10_h_FreqEnc\":]\n",
    "h_te = h_te.loc[:,\"col10_h_FreqEnc\":]"
   ]
  },
  {
   "cell_type": "code",
   "execution_count": 36,
   "metadata": {},
   "outputs": [
    {
     "name": "stderr",
     "output_type": "stream",
     "text": [
      "/usr/local/lib/python3.7/site-packages/pandas/core/frame.py:6211: FutureWarning: Sorting because non-concatenation axis is not aligned. A future version\n",
      "of pandas will change to not sort by default.\n",
      "\n",
      "To accept the future behavior, pass 'sort=False'.\n",
      "\n",
      "To retain the current behavior and silence the warning, pass 'sort=True'.\n",
      "\n",
      "  sort=sort)\n"
     ]
    }
   ],
   "source": [
    "frq_tr = feather.read_dataframe(\"../data/input/tr_best_prob.feather\")\n",
    "frq_te = feather.read_dataframe(\"../data/input/te_best_prob.feather\")\n",
    "frq = frq_tr.append(frq_te)\n",
    "fl_pca = frq.loc[:,\"fl_PCA_1\":\"fl_PCA_14\"]\n",
    "int_pca  =frq.loc[:,\"int_PCA_1\":\"int_PCA_11\"]\n",
    "cate_pca = frq.loc[:,\"cate_PCA_1\":\"cate_PCA_30\"]\n"
   ]
  },
  {
   "cell_type": "code",
   "execution_count": 643,
   "metadata": {},
   "outputs": [],
   "source": [
    "raw_umap = feather.read_dataframe(\"../features/raw_umap15.feather\")"
   ]
  },
  {
   "cell_type": "code",
   "execution_count": 1,
   "metadata": {},
   "outputs": [
    {
     "name": "stdout",
     "output_type": "stream",
     "text": [
      "['train_MLPbags.feather', 'train_knn512.feather', '.DS_Store', 'train_ELbags.feather', 'train_knn128.feather', 'train_knn256.feather', 'train_knn64.feather', 'train_EXbags.feather', 'train_RFbags.feather', 'train_knn1024.feather', 'train_LightGBMmeta.feather']\n",
      "['test_knn1024.feather', '.DS_Store', 'test_LightGBMmeta.feather', 'test_knn512.feather', 'test_knn256.feather', 'test_knn128.feather', 'test_ELbags.feather', 'test_RFbags.feather', 'test_EXbags.feather', 'test_knn64.feather', 'test_MLPbags.feather']\n"
     ]
    },
    {
     "name": "stderr",
     "output_type": "stream",
     "text": [
      "/usr/local/lib/python3.7/site-packages/pandas/core/frame.py:6211: FutureWarning: Sorting because non-concatenation axis is not aligned. A future version\n",
      "of pandas will change to not sort by default.\n",
      "\n",
      "To accept the future behavior, pass 'sort=False'.\n",
      "\n",
      "To retain the current behavior and silence the warning, pass 'sort=True'.\n",
      "\n",
      "  sort=sort)\n"
     ]
    }
   ],
   "source": [
    "import pandas as pd\n",
    "import numpy as np\n",
    "import feather\n",
    "import os\n",
    "path1 = \"../features/stack_feature_layer2/train/\"\n",
    "path2 = \"../features/stack_feature_layer2/test/\"\n",
    "\n",
    "def df_concat(flist):\n",
    "    add_columns = flist[0].columns.values.tolist()\n",
    "    add_df = flist[0].values\n",
    "    for i in flist[1:]:\n",
    "        add_columns += i.columns.values.tolist()\n",
    "        add_df = np.c_[add_df,i.values]\n",
    "\n",
    "    return pd.DataFrame(add_df,columns=add_columns)\n",
    "def get_stack(path):\n",
    "    files = os.listdir(path)\n",
    "    print(files)\n",
    "    if '.DS_Store' in files:\n",
    "        del files[files.index('.DS_Store')]\n",
    "    stack = pd.DataFrame()\n",
    "    for i in files:\n",
    "        tmp = feather.read_dataframe(path + i)\n",
    "        stack[tmp.columns] = tmp\n",
    "    return stack\n",
    "stack_tr = get_stack(path1)\n",
    "stack_te = get_stack(path2)\n",
    "stack = stack_tr.append(stack_te)"
   ]
  },
  {
   "cell_type": "code",
   "execution_count": 542,
   "metadata": {},
   "outputs": [
    {
     "name": "stderr",
     "output_type": "stream",
     "text": [
      "100%|██████████| 26/26 [00:01<00:00, 11.21it/s]\n"
     ]
    }
   ],
   "source": [
    "from tqdm import tqdm\n",
    "def interact(data):\n",
    "    new = pd.DataFrame()\n",
    "    c = data.columns\n",
    "    for i in tqdm(range(len(data.columns))):\n",
    "        for j in range(i):\n",
    "            #new[f\"plus_{c[i]}_{c[j]}\"] = data[c[i]] + data[c[j]]\n",
    "            #new[f\"minus_{c[i]}_{c[j]}\"] = data[c[i]] - data[c[j]]\n",
    "            new[f\"dot{c[i]}_{c[j]}\"] = data[c[i]] * data[c[j]]\n",
    "            new[f\"mod{c[i]}_{c[j]}\"] = data[c[i]] / data[c[j]]\n",
    "\n",
    "    return new\n",
    "interact_feature = interact(stack)"
   ]
  },
  {
   "cell_type": "code",
   "execution_count": 517,
   "metadata": {},
   "outputs": [],
   "source": [
    "stats = pd.DataFrame()\n",
    "stats[\"mean\"] = stack.mean(axis =1 )\n",
    "stats[\"median\"] = stack.median(axis =1 )\n",
    "stats[\"max\"] = stack.max(axis =1 )\n",
    "stats[\"min\"] = stack.min(axis =1 )\n",
    "stats[\"std\"] = stack.std(axis =1 )\n",
    "\n"
   ]
  },
  {
   "cell_type": "code",
   "execution_count": 566,
   "metadata": {},
   "outputs": [],
   "source": [
    "new = pd.DataFrame()\n",
    "new[\"x<0.5\"] = np.where(freq_stack >= 0.5,1,0).sum(axis = 1)\n",
    "new[\"x>0.5\"] = np.where(freq_stack < 0.5,1,0).sum(axis = 1)"
   ]
  },
  {
   "cell_type": "code",
   "execution_count": 650,
   "metadata": {},
   "outputs": [],
   "source": [
    "#stack_pca = df_concat([dae_tr.append(dae_te),fl_pca,int_pca,cate_pca])a\n",
    "#stack_pca = df_concat([stack,interact_feature,dae_data,fl_pca,int_pca,cate_pca,new])\n",
    "stack_pca = df_concat([stack,raw_umap])\n",
    "#stack_pca = df_concat([stack,yy])"
   ]
  },
  {
   "cell_type": "code",
   "execution_count": 476,
   "metadata": {},
   "outputs": [
    {
     "name": "stderr",
     "output_type": "stream",
     "text": [
      "\n",
      "  0%|          | 0/294 [00:00<?, ?it/s]\u001b[A\n",
      "  1%|          | 3/294 [00:00<00:13, 21.66it/s]\u001b[A\n",
      "  2%|▏         | 5/294 [00:00<00:14, 20.50it/s]\u001b[A\n",
      "  2%|▏         | 7/294 [00:00<00:14, 20.23it/s]\u001b[A\n",
      "  3%|▎         | 10/294 [00:00<00:13, 21.09it/s]\u001b[A\n",
      "  4%|▍         | 13/294 [00:00<00:12, 21.77it/s]\u001b[A\n",
      "  5%|▌         | 16/294 [00:00<00:12, 22.75it/s]\u001b[A\n",
      "  6%|▋         | 19/294 [00:00<00:12, 22.23it/s]\u001b[A\n",
      "  7%|▋         | 22/294 [00:01<00:12, 22.07it/s]\u001b[A\n",
      "  9%|▊         | 25/294 [00:01<00:12, 21.79it/s]\u001b[A\n",
      " 10%|▉         | 28/294 [00:01<00:12, 20.60it/s]\u001b[A\n",
      " 11%|█         | 31/294 [00:01<00:12, 20.84it/s]\u001b[A\n",
      " 12%|█▏        | 34/294 [00:01<00:12, 21.23it/s]\u001b[A\n",
      " 13%|█▎        | 37/294 [00:01<00:11, 21.47it/s]\u001b[A\n",
      " 14%|█▎        | 40/294 [00:01<00:12, 20.88it/s]\u001b[A\n",
      " 15%|█▍        | 43/294 [00:02<00:12, 20.76it/s]\u001b[A\n",
      " 16%|█▌        | 46/294 [00:02<00:11, 20.83it/s]\u001b[A\n",
      " 17%|█▋        | 49/294 [00:02<00:11, 21.37it/s]\u001b[A\n",
      " 18%|█▊        | 52/294 [00:02<00:11, 21.38it/s]\u001b[A\n",
      " 19%|█▊        | 55/294 [00:02<00:10, 22.69it/s]\u001b[A\n",
      " 20%|█▉        | 58/294 [00:02<00:10, 23.59it/s]\u001b[A\n",
      " 21%|██        | 61/294 [00:02<00:09, 24.27it/s]\u001b[A\n",
      " 22%|██▏       | 64/294 [00:02<00:09, 24.78it/s]\u001b[A\n",
      " 23%|██▎       | 67/294 [00:03<00:08, 25.29it/s]\u001b[A\n",
      " 24%|██▍       | 70/294 [00:03<00:08, 25.01it/s]\u001b[A\n",
      " 25%|██▍       | 73/294 [00:03<00:08, 25.34it/s]\u001b[A\n",
      " 26%|██▌       | 76/294 [00:03<00:08, 25.51it/s]\u001b[A\n",
      " 27%|██▋       | 79/294 [00:03<00:08, 25.74it/s]\u001b[A\n",
      " 28%|██▊       | 82/294 [00:03<00:08, 25.85it/s]\u001b[A\n",
      " 29%|██▉       | 85/294 [00:03<00:08, 25.96it/s]\u001b[A\n",
      " 30%|██▉       | 88/294 [00:03<00:08, 25.68it/s]\u001b[A\n",
      " 31%|███       | 91/294 [00:03<00:07, 25.74it/s]\u001b[A\n",
      " 32%|███▏      | 94/294 [00:04<00:07, 25.82it/s]\u001b[A\n",
      " 33%|███▎      | 97/294 [00:04<00:07, 25.96it/s]\u001b[A\n",
      " 34%|███▍      | 100/294 [00:04<00:07, 26.05it/s]\u001b[A\n",
      " 35%|███▌      | 103/294 [00:04<00:08, 23.82it/s]\u001b[A\n",
      " 36%|███▌      | 106/294 [00:04<00:07, 24.46it/s]\u001b[A\n",
      " 37%|███▋      | 109/294 [00:04<00:07, 25.13it/s]\u001b[A\n",
      " 38%|███▊      | 112/294 [00:04<00:07, 25.31it/s]\u001b[A\n",
      " 39%|███▉      | 115/294 [00:04<00:06, 25.70it/s]\u001b[A\n",
      " 40%|████      | 118/294 [00:05<00:06, 25.82it/s]\u001b[A\n",
      " 41%|████      | 121/294 [00:05<00:06, 25.83it/s]\u001b[A\n",
      " 42%|████▏     | 124/294 [00:05<00:06, 25.98it/s]\u001b[A\n",
      " 43%|████▎     | 127/294 [00:05<00:06, 26.11it/s]\u001b[A\n",
      " 44%|████▍     | 130/294 [00:05<00:06, 25.83it/s]\u001b[A\n",
      " 45%|████▌     | 133/294 [00:05<00:06, 25.91it/s]\u001b[A\n",
      " 46%|████▋     | 136/294 [00:05<00:06, 26.09it/s]\u001b[A\n",
      " 47%|████▋     | 139/294 [00:05<00:05, 26.09it/s]\u001b[A\n",
      " 48%|████▊     | 142/294 [00:05<00:05, 26.14it/s]\u001b[A\n",
      " 49%|████▉     | 145/294 [00:06<00:05, 26.30it/s]\u001b[A\n",
      " 50%|█████     | 148/294 [00:06<00:05, 26.25it/s]\u001b[A\n",
      " 51%|█████▏    | 151/294 [00:06<00:05, 26.33it/s]\u001b[A\n",
      " 52%|█████▏    | 154/294 [00:06<00:05, 26.39it/s]\u001b[A\n",
      " 53%|█████▎    | 157/294 [00:06<00:05, 26.53it/s]\u001b[A\n",
      " 54%|█████▍    | 160/294 [00:06<00:05, 26.42it/s]\u001b[A\n",
      " 55%|█████▌    | 163/294 [00:06<00:04, 26.47it/s]\u001b[A\n",
      " 56%|█████▋    | 166/294 [00:06<00:04, 26.36it/s]\u001b[A\n",
      " 57%|█████▋    | 169/294 [00:06<00:04, 26.20it/s]\u001b[A\n",
      " 59%|█████▊    | 172/294 [00:07<00:04, 26.10it/s]\u001b[A\n",
      " 60%|█████▉    | 175/294 [00:07<00:04, 26.23it/s]\u001b[A\n",
      " 61%|██████    | 178/294 [00:07<00:04, 26.27it/s]\u001b[A\n",
      " 62%|██████▏   | 181/294 [00:07<00:04, 26.37it/s]\u001b[A\n",
      " 63%|██████▎   | 184/294 [00:07<00:04, 26.34it/s]\u001b[A\n",
      " 64%|██████▎   | 187/294 [00:07<00:04, 26.40it/s]\u001b[A\n",
      " 65%|██████▍   | 190/294 [00:07<00:03, 26.32it/s]\u001b[A\n",
      " 66%|██████▌   | 193/294 [00:07<00:03, 26.12it/s]\u001b[A\n",
      " 67%|██████▋   | 196/294 [00:07<00:03, 26.20it/s]\u001b[A\n",
      " 68%|██████▊   | 199/294 [00:08<00:03, 26.25it/s]\u001b[A\n",
      " 69%|██████▊   | 202/294 [00:08<00:04, 22.26it/s]\u001b[A\n",
      " 70%|██████▉   | 205/294 [00:08<00:03, 23.38it/s]\u001b[A\n",
      " 71%|███████   | 208/294 [00:08<00:03, 24.01it/s]\u001b[A\n",
      " 72%|███████▏  | 211/294 [00:08<00:03, 24.69it/s]\u001b[A\n",
      " 73%|███████▎  | 214/294 [00:08<00:03, 25.16it/s]\u001b[A\n",
      " 74%|███████▍  | 217/294 [00:08<00:03, 25.47it/s]\u001b[A\n",
      " 75%|███████▍  | 220/294 [00:08<00:02, 25.76it/s]\u001b[A\n",
      " 76%|███████▌  | 223/294 [00:09<00:02, 26.01it/s]\u001b[A\n",
      " 77%|███████▋  | 226/294 [00:09<00:02, 26.11it/s]\u001b[A\n",
      " 78%|███████▊  | 229/294 [00:09<00:02, 26.33it/s]\u001b[A\n",
      " 79%|███████▉  | 232/294 [00:09<00:02, 26.33it/s]\u001b[A\n",
      " 80%|███████▉  | 235/294 [00:09<00:02, 26.35it/s]\u001b[A\n",
      " 81%|████████  | 238/294 [00:09<00:02, 26.25it/s]\u001b[A\n",
      " 82%|████████▏ | 241/294 [00:09<00:02, 25.48it/s]\u001b[A\n",
      " 83%|████████▎ | 244/294 [00:09<00:01, 25.62it/s]\u001b[A\n",
      " 84%|████████▍ | 247/294 [00:09<00:01, 25.81it/s]\u001b[A\n",
      " 85%|████████▌ | 250/294 [00:10<00:01, 25.61it/s]\u001b[A\n",
      " 86%|████████▌ | 253/294 [00:10<00:01, 25.92it/s]\u001b[A\n",
      " 87%|████████▋ | 256/294 [00:10<00:01, 25.96it/s]\u001b[A\n",
      " 88%|████████▊ | 259/294 [00:10<00:01, 26.10it/s]\u001b[A\n",
      " 89%|████████▉ | 262/294 [00:10<00:01, 26.06it/s]\u001b[A\n",
      " 90%|█████████ | 265/294 [00:10<00:01, 26.12it/s]\u001b[A\n",
      " 91%|█████████ | 268/294 [00:10<00:01, 25.96it/s]\u001b[A\n",
      " 92%|█████████▏| 271/294 [00:10<00:00, 25.15it/s]\u001b[A\n",
      " 93%|█████████▎| 274/294 [00:11<00:00, 25.24it/s]\u001b[A\n",
      " 94%|█████████▍| 277/294 [00:11<00:00, 25.52it/s]\u001b[A\n",
      " 95%|█████████▌| 280/294 [00:11<00:00, 25.36it/s]\u001b[A\n",
      " 96%|█████████▋| 283/294 [00:11<00:00, 25.58it/s]\u001b[A\n",
      " 97%|█████████▋| 286/294 [00:11<00:00, 25.75it/s]\u001b[A\n",
      " 98%|█████████▊| 289/294 [00:11<00:00, 25.65it/s]\u001b[A\n",
      " 99%|█████████▉| 292/294 [00:11<00:00, 25.95it/s]\u001b[A\n",
      "100%|██████████| 294/294 [00:11<00:00, 24.87it/s]\u001b[A"
     ]
    }
   ],
   "source": [
    "from tqdm import tqdm\n",
    "new = pd.DataFrame()\n",
    "for i in tqdm(stack_pca.columns):\n",
    "    new[i] = stack_pca[i].map(lambda x : np.log1p(x) if x > 0 else -np.log1p(-x))"
   ]
  },
  {
   "cell_type": "code",
   "execution_count": 3,
   "metadata": {},
   "outputs": [],
   "source": [
    "stack_pca = stack\n",
    "i = 27463//2\n",
    "tr,te = stack_pca.iloc[:i,:],stack_pca.iloc[i:,:]"
   ]
  },
  {
   "cell_type": "code",
   "execution_count": 374,
   "metadata": {},
   "outputs": [],
   "source": [
    "from sklearn.preprocessing import StandardScaler\n",
    "std = StandardScaler()\n",
    "tr = std.fit_transform(tr.values)\n",
    "te = std.transform(te.values)"
   ]
  },
  {
   "cell_type": "code",
   "execution_count": 139,
   "metadata": {},
   "outputs": [],
   "source": [
    "tr = pd.DataFrame(tr,columns=stack_pca.columns)\n",
    "te = pd.DataFrame(te,columns=stack_pca.columns)"
   ]
  },
  {
   "cell_type": "code",
   "execution_count": 4,
   "metadata": {},
   "outputs": [],
   "source": [
    "tr.reset_index(inplace=True)\n",
    "te.reset_index(inplace=True)"
   ]
  },
  {
   "cell_type": "code",
   "execution_count": 5,
   "metadata": {},
   "outputs": [],
   "source": [
    "del tr[\"index\"],te[\"index\"]"
   ]
  },
  {
   "cell_type": "code",
   "execution_count": 6,
   "metadata": {},
   "outputs": [],
   "source": [
    "tr.to_feather(\"../data/input/layer3//train_stack3_raw.feather\")\n",
    "te.to_feather(\"../data/input/layer3/test_stack3_raw.feather\")"
   ]
  },
  {
   "cell_type": "code",
   "execution_count": 88,
   "metadata": {},
   "outputs": [],
   "source": [
    "#st = pd.read_csv(\"../data/output/submit_0.3409.csv\",header = None)\n",
    "el = pd.read_csv(\"../data/output/stackElasticNet.csv\",header = None)\n",
    "mlp1 = pd.read_csv(\"../data/output/stackMLP1_submit.csv\",header = None)\n",
    "mlp2 = pd.read_csv(\"../data/output/stackMLP2_submit.csv\",header = None)\n",
    "br = pd.read_csv(\"../data/output/stackBayesianRigde_submit.csv\",header = None)\n",
    "#lgb1 = pd.read_csv(\"../data/output/stackLGBMr2_submit.csv\",header = None)\n",
    "#lgb2 = pd.read_csv(\"../data/output/stackLGBM6SELoss_submit.csv\",header = None)"
   ]
  },
  {
   "cell_type": "code",
   "execution_count": 57,
   "metadata": {},
   "outputs": [],
   "source": [
    "import pandas as pd\n",
    "#lgb4 = pd.read_csv(\"../data/output/stackLGBM4_submit.csv\",header = None)\n",
    "lgb6 = pd.read_csv(\"../data/output/stackLGBM_submit.csv\",header = None)"
   ]
  },
  {
   "cell_type": "code",
   "execution_count": 12,
   "metadata": {},
   "outputs": [],
   "source": [
    "br = pd.read_csv(\"../data/output/stackBayesianRigde_submit.csv\",header = None)"
   ]
  },
  {
   "cell_type": "code",
   "execution_count": 2,
   "metadata": {},
   "outputs": [],
   "source": [
    "import pandas as pd\n",
    "mlp1 = pd.read_csv(\"../data/output/stackMLP_k10_submit.csv\",header = None)\n",
    "mlp2 = pd.read_csv(\"../data/output/stackMLP_4_submit.csv\",header = None)\n",
    "mlp3 = pd.read_csv(\"../data/output/stackMLP_5_submit.csv\",header = None)\n",
    "mlp4 = pd.read_csv(\"../data/output/stackMLP_6_submit.csv\",header = None)\n",
    "\n",
    "lgb5 = pd.read_csv(\"../data/output/stackLGBM_r2_submit.csv\",header = None)\n",
    "el = pd.read_csv(\"../data/output/stackEL_submit.csv\",header = None)\n",
    "\n",
    "lgb1 = pd.read_csv(\"../data/output/submit_0.454.csv\",header = None)\n",
    "lgb2 = pd.read_csv(\"../data/output/stackLGBM_r2_k10_submit.csv\",header = None)\n",
    "lgb3 = pd.read_csv(\"../data/output/stackLGBM_SELoss_k10_submit.csv\",header = None)\n",
    "lgb4 = pd.read_csv(\"../data/output/submit_0.3409.csv\",header = None) "
   ]
  },
  {
   "cell_type": "code",
   "execution_count": 498,
   "metadata": {},
   "outputs": [],
   "source": [
    "el = pd.read_csv(\"../data/output/stack_output/EL_stack_raw_submit.csv\",header = None) \n",
    "lgb1 = pd.read_csv(\"../data/output/stack_output_layer3/LGB_stack_raw+.csv\",header = None) \n",
    "lgb2 = pd.read_csv(\"../data/output/stack_output_layer3/LGB_stack_raw.csv\",header = None) \n",
    "mlp1= pd.read_csv(\"../data/output/stack_output/MLP4_stack_raw_submit.csv\",header = None) \n",
    "mlp2= pd.read_csv(\"../data/output/stack_output/MLP3_stack_raw_submit.csv\",header = None) "
   ]
  },
  {
   "cell_type": "code",
   "execution_count": 29,
   "metadata": {},
   "outputs": [],
   "source": [
    "lgb = pd.read_csv(\"../data/output/stack_output_layer3/LGBbags_stack_raw.csv\",header = None) \n",
    "el = pd.read_csv(\"../data/output/stack_output/ELbags_stack_raw_submit.csv\",header = None) \n",
    "mlp= pd.read_csv(\"../data/output/stack_output/MLPbags_stack_raw_submit.csv\",header = None) \n",
    "xgb= pd.read_csv(\"../data/output/XGBbags_stack_submit.csv\",header = None) "
   ]
  },
  {
   "cell_type": "code",
   "execution_count": 16,
   "metadata": {},
   "outputs": [],
   "source": [
    "mlp =feather.read_dataframe(\"../features/stack_feature_layer2/test/test_MLPbags.feather\") \n",
    "lgb = feather.read_dataframe(\"../features/stack_feature_layer2/test/test_LightGBMmeta.feather\") \n",
    "rf = feather.read_dataframe(\"../features/stack_feature_layer2/test/test_RFbags.feather\") \n",
    "el = feather.read_dataframe(\"../features/stack_feature_layer2/test/test_ELbags.feather\") \n",
    "ex = feather.read_dataframe(\"../features/stack_feature_layer2/test/test_EXbags.feather\")\n",
    "knn = feather.read_dataframe(\"../features/stack_feature_layer2/test/test_knn512.feather\")"
   ]
  },
  {
   "cell_type": "code",
   "execution_count": 43,
   "metadata": {},
   "outputs": [
    {
     "data": {
      "text/plain": [
       "<matplotlib.axes._subplots.AxesSubplot at 0x11f230cf8>"
      ]
     },
     "execution_count": 43,
     "metadata": {},
     "output_type": "execute_result"
    },
    {
     "name": "stderr",
     "output_type": "stream",
     "text": [
      "/usr/local/lib/python3.7/site-packages/matplotlib/font_manager.py:1331: UserWarning: findfont: Font family ['IPAexGothic'] not found. Falling back to DejaVu Sans\n",
      "  (prop.get_family(), self.defaultFamily[fontext]))\n"
     ]
    },
    {
     "data": {
      "image/png": "[encoded data removed]",
      "text/plain": [
       "<Figure size 432x288 with 1 Axes>"
      ]
     },
     "metadata": {
      "needs_background": "light"
     },
     "output_type": "display_data"
    }
   ],
   "source": [
    "#mlp1.iloc[:,1].hist(bins = 100,alpha = 0.5)\n",
    "#mlp2.iloc[:,1].hist(bins = 100,alpha = 0.5)\n",
    "#mlp2.iloc[:,1].hist(bins = 100,alpha = 0.5)\n",
    "#mlp3.iloc[:,1].hist(bins = 100,alpha = 0.5)\n",
    "#mlp4.iloc[:,1].hist(bins = 100,alpha = 0.5)\n",
    "#lgb1.iloc[:,1].hist(bins = 100,alpha = 0.5)\n",
    "import matplotlib.pyplot as plt\n",
    "#mlpbag.iloc[:,1].hist(bins = 100,alpha = 0.5)\n",
    "#lgb.iloc[:,1].hist(bins = 100,alpha = 0.5)\n",
    "#xgb.iloc[:,1].hist(bins = 100,alpha = 0.5)\n",
    "#a.iloc[:,1].hist(bins = 100,alpha = 0.5)\n",
    "#el.iloc[:,1].hist(bins = 100,alpha = 0.5)\n",
    "#mlp2.iloc[:,1].hist(bins = 100,alpha = 0.5)\n",
    "mlp.iloc[:,1].hist(bins = 100,alpha = 0.5)\n",
    "#mlp2.iloc[:,1].hist(bins = 100,alpha = 0.5)\n",
    "#st.iloc[:,1].hist(bins = 100,alpha = 0.5)\n",
    "t.hist(bins = 100,alpha = 0.5)\n"
   ]
  },
  {
   "cell_type": "code",
   "execution_count": 44,
   "metadata": {},
   "outputs": [],
   "source": [
    "t = ((lgb.iloc[:,1]**0.75 * xgb.iloc[:,1]**0.25)*0.4 + el.iloc[:,1]*0.6)*0.4 + mlp.iloc[:,1] * 0.6"
   ]
  },
  {
   "cell_type": "code",
   "execution_count": 746,
   "metadata": {},
   "outputs": [],
   "source": [
    "t = (lgb1.iloc[:,1]*0.2+lgb2.iloc[:,1]*0.8)*0.38 + el.iloc[:,1] * 0.62\n",
    "tt = (mlp1.iloc[:,1]*0.2+mlp2.iloc[:,1]*0.8)*0.65 + t *0.35\n",
    "\n",
    "\n"
   ]
  },
  {
   "cell_type": "code",
   "execution_count": 66,
   "metadata": {},
   "outputs": [],
   "source": [
    "mlp = mlp1.iloc[:,1]*0.5+mlp2.iloc[:,1]*0.5\n",
    "lgb = lgb1.iloc[:,1]*0.75 + lgb2.iloc[:,1]*0.25\n",
    "a = el.iloc[:,1]*0.75 + (lgb*0.35 + mlp*0.65)*0.25\n",
    "\n",
    "\n"
   ]
  },
  {
   "cell_type": "code",
   "execution_count": 252,
   "metadata": {},
   "outputs": [],
   "source": [
    "a = (mlp1.iloc[:,1]*0.2+el.iloc[:,1]*0.8)*0.35 + (mlp2.iloc[:,1]*0.65 +  br.iloc[:,1]*0.35)*0.65"
   ]
  },
  {
   "cell_type": "code",
   "execution_count": 277,
   "metadata": {},
   "outputs": [],
   "source": [
    "aa =ss.iloc[:,1] * 0.75 + (s.iloc[:,1]*0.55 + a * 0.45)*0.25"
   ]
  },
  {
   "cell_type": "code",
   "execution_count": 55,
   "metadata": {},
   "outputs": [],
   "source": [
    "a = 0.25*(lgb2.iloc[:,1] * 0.25 + lgb3.iloc[:,1]*0.75 )+lgb4.iloc[:,1]*0.75"
   ]
  },
  {
   "cell_type": "code",
   "execution_count": 739,
   "metadata": {},
   "outputs": [],
   "source": [
    "st= pd.read_csv(\"../data/output/stack_output/submit_22.csv\",header = None)"
   ]
  },
  {
   "cell_type": "code",
   "execution_count": 266,
   "metadata": {},
   "outputs": [],
   "source": [
    "a = (lgb2.iloc[:,1]**0.75 * mlp2.iloc[:,1]**0.25)*0.75 +(mlp3.iloc[:,1]**0.85 * lgb1.iloc[:,1]**0.15) * 0.25\n",
    "\n",
    "\n",
    "\n"
   ]
  },
  {
   "cell_type": "code",
   "execution_count": 45,
   "metadata": {},
   "outputs": [],
   "source": [
    "sub = pd.read_csv(\"../data/input/sample_submit.csv\",header = None)"
   ]
  },
  {
   "cell_type": "code",
   "execution_count": 46,
   "metadata": {},
   "outputs": [],
   "source": [
    "sub.iloc[:,1] = t"
   ]
  },
  {
   "cell_type": "code",
   "execution_count": 47,
   "metadata": {},
   "outputs": [],
   "source": [
    "sub.to_csv(\"../data/output/stack_output/submit_26.csv\",index = None,header = None)"
   ]
  },
  {
   "cell_type": "code",
   "execution_count": 65,
   "metadata": {},
   "outputs": [],
   "source": [
    "ens = pd.read_csv(\"../data/output/ensmble/submit_ensmble4.csv\",header = None)\n",
    "e = pd.read_csv(\"../data/output/stack_output/submit_6.csv\",header = None)"
   ]
  },
  {
   "cell_type": "code",
   "execution_count": 66,
   "metadata": {},
   "outputs": [],
   "source": [
    "a = ens.iloc[:,1] * 0.8 + e.iloc[:,1] * 0.2"
   ]
  },
  {
   "cell_type": "code",
   "execution_count": 59,
   "metadata": {},
   "outputs": [
    {
     "data": {
      "text/plain": [
       "<matplotlib.axes._subplots.AxesSubplot at 0x12b4f8668>"
      ]
     },
     "execution_count": 59,
     "metadata": {},
     "output_type": "execute_result"
    },
    {
     "name": "stderr",
     "output_type": "stream",
     "text": [
      "/usr/local/lib/python3.7/site-packages/matplotlib/font_manager.py:1331: UserWarning: findfont: Font family ['IPAexGothic'] not found. Falling back to DejaVu Sans\n",
      "  (prop.get_family(), self.defaultFamily[fontext]))\n"
     ]
    },
    {
     "data": {
      "image/png": "[encoded data removed]",
      "text/plain": [
       "<Figure size 432x288 with 1 Axes>"
      ]
     },
     "metadata": {
      "needs_background": "light"
     },
     "output_type": "display_data"
    }
   ],
   "source": [
    "ens.iloc[:,1].hist(bins = 100,alpha = 0.5)\n",
    "\n",
    "e.iloc[:,1].hist(bins = 100,alpha = 0.5)\n",
    "#aa.hist(bins = 100,alpha = 0.5)\n",
    "a.hist(bins = 100,alpha = 0.5)\n",
    "\n",
    "#a.hist(bins = 100,alpha = 0.5)\n",
    "#np.sum(ens.iloc[:,1] - a)\n"
   ]
  },
  {
   "cell_type": "code",
   "execution_count": 45,
   "metadata": {},
   "outputs": [
    {
     "data": {
      "text/plain": [
       "1"
      ]
     },
     "execution_count": 45,
     "metadata": {},
     "output_type": "execute_result"
    }
   ],
   "source": [
    "sum(a<0)"
   ]
  },
  {
   "cell_type": "code",
   "execution_count": 13,
   "metadata": {},
   "outputs": [
    {
     "ename": "NameError",
     "evalue": "name 'scipy' is not defined",
     "output_type": "error",
     "traceback": [
      "\u001b[0;31m---------------------------------------------------------------------------\u001b[0m",
      "\u001b[0;31mNameError\u001b[0m                                 Traceback (most recent call last)",
      "\u001b[0;32m<ipython-input-13-a92a7bd7d59f>\u001b[0m in \u001b[0;36m<module>\u001b[0;34m()\u001b[0m\n\u001b[1;32m      1\u001b[0m \u001b[0;32mfrom\u001b[0m \u001b[0mscipy\u001b[0m \u001b[0;32mimport\u001b[0m \u001b[0mstats\u001b[0m\u001b[0;34m\u001b[0m\u001b[0m\n\u001b[0;32m----> 2\u001b[0;31m \u001b[0mscipy\u001b[0m\u001b[0;34m.\u001b[0m\u001b[0mstats\u001b[0m\u001b[0;34m.\u001b[0m\u001b[0mkurtosis\u001b[0m\u001b[0;34m(\u001b[0m\u001b[0mx\u001b[0m\u001b[0;34m(\u001b[0m\u001b[0mscore\u001b[0m\u001b[0;34m)\u001b[0m\u001b[0;34m)\u001b[0m\u001b[0;34m,\u001b[0m\u001b[0mens\u001b[0m\u001b[0;34m.\u001b[0m\u001b[0miloc\u001b[0m\u001b[0;34m[\u001b[0m\u001b[0;34m:\u001b[0m\u001b[0;34m,\u001b[0m\u001b[0;36m1\u001b[0m\u001b[0;34m]\u001b[0m\u001b[0;34m.\u001b[0m\u001b[0mkurtosis\u001b[0m\u001b[0;34m(\u001b[0m\u001b[0;34m)\u001b[0m\u001b[0;34m\u001b[0m\u001b[0m\n\u001b[0m",
      "\u001b[0;31mNameError\u001b[0m: name 'scipy' is not defined"
     ]
    }
   ],
   "source": [
    "from scipy import stats\n",
    "scipy.stats.kurtosis(x(score)),ens.iloc[:,1].kurtosis()"
   ]
  },
  {
   "cell_type": "code",
   "execution_count": 42,
   "metadata": {},
   "outputs": [
    {
     "data": {
      "text/plain": [
       "0.9995585257158449"
      ]
     },
     "execution_count": 42,
     "metadata": {},
     "output_type": "execute_result"
    }
   ],
   "source": [
    "from sklearn.metrics import r2_score\n",
    "r2_score(ens.iloc[:,1].values,a.values)"
   ]
  },
  {
   "cell_type": "code",
   "execution_count": 189,
   "metadata": {},
   "outputs": [],
   "source": [
    "st = pd.read_csv(\"../data/output/submit_0.3409.csv\")"
   ]
  },
  {
   "cell_type": "code",
   "execution_count": 7,
   "metadata": {},
   "outputs": [
    {
     "data": {
      "text/plain": [
       "<matplotlib.axes._subplots.AxesSubplot at 0x11a3fd588>"
      ]
     },
     "execution_count": 7,
     "metadata": {},
     "output_type": "execute_result"
    },
    {
     "name": "stderr",
     "output_type": "stream",
     "text": [
      "/usr/local/lib/python3.7/site-packages/matplotlib/font_manager.py:1331: UserWarning: findfont: Font family ['IPAexGothic'] not found. Falling back to DejaVu Sans\n",
      "  (prop.get_family(), self.defaultFamily[fontext]))\n"
     ]
    },
    {
     "data": {
      "image/png": "[encoded data removed]",
      "text/plain": [
       "<Figure size 432x288 with 1 Axes>"
      ]
     },
     "metadata": {
      "needs_background": "light"
     },
     "output_type": "display_data"
    }
   ],
   "source": [
    "st.iloc[:,1].hist(bins = 100)"
   ]
  },
  {
   "cell_type": "code",
   "execution_count": 158,
   "metadata": {},
   "outputs": [
    {
     "data": {
      "text/plain": [
       "1"
      ]
     },
     "execution_count": 158,
     "metadata": {},
     "output_type": "execute_result"
    }
   ],
   "source": [
    "sum(aa<0)"
   ]
  },
  {
   "cell_type": "code",
   "execution_count": 160,
   "metadata": {},
   "outputs": [],
   "source": [
    "ss = pd.read_csv(\"../data/output/submit_0.6194.csv\",header = None)\n",
    "s = pd.read_csv(\"../data/output/submit_0.3409.csv\",header = None)\n",
    "ssss = pd.read_csv(\"../data/output/submit_0.3247.csv\",header = None)\n",
    "lgbbag = pd.read_csv(\"../data/output/stackLGBMbag_r2_submit.csv\",header = None) \n",
    "mlpbag= pd.read_csv(\"../data/output/stackGP_submit.csv\",header = None) "
   ]
  },
  {
   "cell_type": "code",
   "execution_count": 229,
   "metadata": {},
   "outputs": [],
   "source": [
    "lgbbag = pd.read_csv(\"../data/output/stackLGBMbag_r2_submit.csv\",header = None) \n",
    "mlpbag= feather.read_dataframe(\"../features/stack_feature3/test/test_LightGBMRMSLEpca.feather\")\n",
    "mlpbag1 = feather.read_dataframe(\"../features/stack_feature3/train/train_LightGBMRMSLEpca.feather\")"
   ]
  },
  {
   "cell_type": "code",
   "execution_count": 234,
   "metadata": {},
   "outputs": [
    {
     "data": {
      "text/plain": [
       "<matplotlib.axes._subplots.AxesSubplot at 0x1343b8588>"
      ]
     },
     "execution_count": 234,
     "metadata": {},
     "output_type": "execute_result"
    },
    {
     "name": "stderr",
     "output_type": "stream",
     "text": [
      "/usr/local/lib/python3.7/site-packages/matplotlib/font_manager.py:1331: UserWarning: findfont: Font family ['IPAexGothic'] not found. Falling back to DejaVu Sans\n",
      "  (prop.get_family(), self.defaultFamily[fontext]))\n"
     ]
    },
    {
     "data": {
      "image/png": "[encoded data removed]",
      "text/plain": [
       "<Figure size 432x288 with 1 Axes>"
      ]
     },
     "metadata": {
      "needs_background": "light"
     },
     "output_type": "display_data"
    }
   ],
   "source": [
    "mlpbag.iloc[:,0].hist(bins = 100,alpha = 0.5)\n",
    "(mlpbag1.iloc[:,0]-1).hist(bins = 100,alpha = 0.5)\n",
    "#lgbbag.iloc[:,1].hist(bins = 100,alpha = 0.5)\n",
    "#score.hist(bins = 100,alpha = 0.5)\n",
    "#ssss.iloc[:,1].hist(bins = 100,alpha = 0.5)"
   ]
  },
  {
   "cell_type": "code",
   "execution_count": 220,
   "metadata": {},
   "outputs": [],
   "source": [
    "a = (s.iloc[:,1]*0.8 +lgbbag.iloc[:,1]* 0.2)*0.55+( ss.iloc[:,1]*0.45+mlpbag.iloc[:,1]*0.55)*0.45"
   ]
  },
  {
   "cell_type": "code",
   "execution_count": 9,
   "metadata": {},
   "outputs": [],
   "source": [
    "ss = pd.read_csv(\"../data/output/submit_0.0597.csv\",header = None)\n",
    "s = pd.read_csv(\"../data/output/stackLGBMKL_submit.csv\",header = None)"
   ]
  },
  {
   "cell_type": "code",
   "execution_count": 97,
   "metadata": {},
   "outputs": [
    {
     "data": {
      "text/plain": [
       "<matplotlib.axes._subplots.AxesSubplot at 0x126cca5f8>"
      ]
     },
     "execution_count": 97,
     "metadata": {},
     "output_type": "execute_result"
    },
    {
     "name": "stderr",
     "output_type": "stream",
     "text": [
      "/usr/local/lib/python3.7/site-packages/matplotlib/font_manager.py:1331: UserWarning: findfont: Font family ['IPAexGothic'] not found. Falling back to DejaVu Sans\n",
      "  (prop.get_family(), self.defaultFamily[fontext]))\n"
     ]
    },
    {
     "data": {
      "image/png": "[encoded data removed]",
      "text/plain": [
       "<Figure size 432x288 with 1 Axes>"
      ]
     },
     "metadata": {
      "needs_background": "light"
     },
     "output_type": "display_data"
    }
   ],
   "source": [
    "#sss.iloc[:,0].hist(bins = 100,alpha = 0.5\n",
    "\n",
    "#mlp.iloc[:,1].hist(bins = 100,alpha = 0.5)\n",
    "score.hist(bins = 100,alpha = 0.5)"
   ]
  },
  {
   "cell_type": "code",
   "execution_count": 14,
   "metadata": {},
   "outputs": [],
   "source": [
    "sss = pd.read_csv(\"../tr_pred.csv\",header = None)"
   ]
  },
  {
   "cell_type": "code",
   "execution_count": 366,
   "metadata": {},
   "outputs": [
    {
     "data": {
      "text/plain": [
       "61.9"
      ]
     },
     "execution_count": 366,
     "metadata": {},
     "output_type": "execute_result"
    }
   ],
   "source": [
    "(65*2 +63*6 + 53 + 58)/10"
   ]
  },
  {
   "cell_type": "code",
   "execution_count": 536,
   "metadata": {},
   "outputs": [],
   "source": [
    "a = [0.621552744401713,\n",
    "0.6591999807864688,\n",
    "0.6435474802782722,\n",
    "0.6389080029607141,\n",
    "0.6518114420727786,\n",
    "0.6038402617736054,\n",
    "0.6321062441808667,\n",
    "0.6536861885032905,\n",
    "0.6222967061412867,\n",
    "0.6277232749002624]"
   ]
  },
  {
   "cell_type": "code",
   "execution_count": 790,
   "metadata": {},
   "outputs": [],
   "source": [
    "aa = [0.619190798770052,\n",
    "0.6426195379628682,\n",
    "0.637611291631494,\n",
    "0.6570766145820095,\n",
    "0.6504309223119322,\n",
    "0.6013443873788056,\n",
    "0.6313598715106278,\n",
    "0.6442152142551774,\n",
    "0.6174490888945198,\n",
    "0.6236648246794458]"
   ]
  },
  {
   "cell_type": "code",
   "execution_count": 791,
   "metadata": {},
   "outputs": [],
   "source": [
    "aaa = [0.6462995519404978,\n",
    "0.645756356541765,\n",
    "0.6283996038183188,\n",
    "0.6646703118631541,\n",
    "0.6569596023910025,\n",
    "0.6072360269007067,\n",
    "0.6387670486843752,\n",
    "0.6530108528791281,\n",
    "0.623402743929826,\n",
    "0.6316650976999492]"
   ]
  },
  {
   "cell_type": "code",
   "execution_count": 792,
   "metadata": {},
   "outputs": [
    {
     "data": {
      "text/plain": [
       "(0    13748.110399\n",
       " 1        2.021957\n",
       " dtype: float64, 0.6324962551976933, 0.6396167196648723)"
      ]
     },
     "execution_count": 792,
     "metadata": {},
     "output_type": "execute_result"
    }
   ],
   "source": [
    "np.mean(a),np.mean(aa),np.mean(aaa)"
   ]
  },
  {
   "cell_type": "code",
   "execution_count": null,
   "metadata": {},
   "outputs": [],
   "source": [
    "import sklearn.base\n",
    "from  bhtsne import tsne\n",
    "import numpy as np\n",
    "\n",
    "y = tsne(stack.astype(\"float64\"),rand_seed=1103,dimensions=3,perplexity=30)"
   ]
  },
  {
   "cell_type": "code",
   "execution_count": 392,
   "metadata": {},
   "outputs": [],
   "source": [
    "yy = pd.DataFrame(y, columns=[f\"{i}_tsne\" for i in range(3)])"
   ]
  },
  {
   "cell_type": "code",
   "execution_count": 394,
   "metadata": {},
   "outputs": [
    {
     "data": {
      "text/plain": [
       "<matplotlib.collections.PathCollection at 0x137101ef0>"
      ]
     },
     "execution_count": 394,
     "metadata": {},
     "output_type": "execute_result"
    },
    {
     "name": "stderr",
     "output_type": "stream",
     "text": [
      "/usr/local/lib/python3.7/site-packages/matplotlib/font_manager.py:1331: UserWarning: findfont: Font family ['IPAexGothic'] not found. Falling back to DejaVu Sans\n",
      "  (prop.get_family(), self.defaultFamily[fontext]))\n"
     ]
    },
    {
     "data": {
      "image/png": "[encoded data removed]",
      "text/plain": [
       "<Figure size 432x288 with 1 Axes>"
      ]
     },
     "metadata": {
      "needs_background": "light"
     },
     "output_type": "display_data"
    }
   ],
   "source": [
    "plt.scatter(y[:,0],y[:,1])"
   ]
  },
  {
   "cell_type": "code",
   "execution_count": 21,
   "metadata": {},
   "outputs": [],
   "source": [
    "a=feather.read_dataframe(\"../features/stack_feature4/test/test_ElasticNet10-10-16:28.feather\")\n",
    "aa=feather.read_dataframe(\"../features/stack_feature4/test/test_LightGBMRMSLEumap.feather\")"
   ]
  }
 ],
 "metadata": {
  "kernelspec": {
   "display_name": "Python 3",
   "language": "python",
   "name": "python3"
  },
  "language_info": {
   "codemirror_mode": {
    "name": "ipython",
    "version": 3
   },
   "file_extension": ".py",
   "mimetype": "text/x-python",
   "name": "python",
   "nbconvert_exporter": "python",
   "pygments_lexer": "ipython3",
   "version": "3.7.0"
  }
 },
 "nbformat": 4,
 "nbformat_minor": 2
}
